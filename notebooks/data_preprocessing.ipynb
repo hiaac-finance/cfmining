{
 "cells": [
  {
   "cell_type": "code",
   "execution_count": 13,
   "metadata": {},
   "outputs": [],
   "source": [
    "import pandas as pd"
   ]
  },
  {
   "cell_type": "code",
   "execution_count": 15,
   "metadata": {},
   "outputs": [],
   "source": [
    "# german\n",
    "df = pd.read_csv(\"../examples/data/german/german_raw.csv\")\n",
    "df[\"is_male\"] = df.Gender == \"Male\"\n",
    "df[\"is_male\"] = df.is_male.astype(int)\n",
    "df = df.drop(columns = [\"Gender\", \"PurposeOfLoan\"])\n",
    "# remove OtherLoansAtStore because only has one value\n",
    "df = df.drop(columns = [\"OtherLoansAtStore\"])\n",
    "df[\"GoodCustomer\"] = df[\"GoodCustomer\"].map({1: 1, -1: 0})\n",
    "df.to_csv(\"../data/german.csv\", index = False)"
   ]
  }
 ],
 "metadata": {
  "kernelspec": {
   "display_name": "cfmining",
   "language": "python",
   "name": "python3"
  },
  "language_info": {
   "name": "python",
   "version": "3.10.13"
  }
 },
 "nbformat": 4,
 "nbformat_minor": 2
}
