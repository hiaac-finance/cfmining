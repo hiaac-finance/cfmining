{
 "cells": [
  {
   "cell_type": "code",
   "execution_count": 204,
   "metadata": {},
   "outputs": [
    {
     "name": "stdout",
     "output_type": "stream",
     "text": [
      "The autoreload extension is already loaded. To reload it, use:\n",
      "  %reload_ext autoreload\n"
     ]
    }
   ],
   "source": [
    "import pandas as pd\n",
    "import sys\n",
    "sys.path.append(\"../\")\n",
    "\n",
    "from cfmining.algorithms import MAPOFCEM\n",
    "from cfmining.predictors import GeneralClassifier_Shap\n",
    "from cfmining.action_set import ActionSet\n",
    "from cfmining.utils import get_data_model\n",
    "\n",
    "from experiments_helper import run_experiments, summarize_results, format_df_table\n",
    "\n",
    "\n",
    "%load_ext autoreload\n",
    "%autoreload 2"
   ]
  },
  {
   "cell_type": "code",
   "execution_count": 205,
   "metadata": {},
   "outputs": [],
   "source": [
    "SEED = 0"
   ]
  },
  {
   "cell_type": "markdown",
   "metadata": {},
   "source": [
    "## German"
   ]
  },
  {
   "cell_type": "code",
   "execution_count": 201,
   "metadata": {},
   "outputs": [],
   "source": [
    "X_train, Y_train, model, outlier_detection, individuals = get_data_model(\"german\", \"LGBMClassifier\")\n",
    "individuals = individuals.sample(n = 50, random_state=SEED)\n",
    "not_mutable_features = ['Age', 'OwnsHouse', 'isMale', 'JobClassIsSkilled', 'Single', 'ForeignWorker', 'RentsHouse']\n",
    "mutable_features = [feat for feat in X_train.columns if feat not in not_mutable_features]\n",
    "model_shap = GeneralClassifier_Shap(model, outlier_detection, X_train, shap_explainer=\"tree\", threshold = 0.5)"
   ]
  },
  {
   "cell_type": "code",
   "execution_count": 202,
   "metadata": {},
   "outputs": [
    {
     "name": "stderr",
     "output_type": "stream",
     "text": [
      "100%|███████████████████████████████████████████████████████████████████████████████████████████████████████████████████████████████████████████████████████████████████████████████████████████████████████████████| 50/50 [02:01<00:00,  2.43s/it]\n",
      "100%|███████████████████████████████████████████████████████████████████████████████████████████████████████████████████████████████████████████████████████████████████████████████████████████████████████████████| 50/50 [00:16<00:00,  3.02it/s]\n",
      "100%|███████████████████████████████████████████████████████████████████████████████████████████████████████████████████████████████████████████████████████████████████████████████████████████████████████████████| 50/50 [00:09<00:00,  5.52it/s]\n",
      "100%|███████████████████████████████████████████████████████████████████████████████████████████████████████████████████████████████████████████████████████████████████████████████████████████████████████████████| 50/50 [00:06<00:00,  7.82it/s]\n",
      "100%|███████████████████████████████████████████████████████████████████████████████████████████████████████████████████████████████████████████████████████████████████████████████████████████████████████████████| 50/50 [00:07<00:00,  6.62it/s]\n"
     ]
    }
   ],
   "source": [
    "step_size_list = [0.01, 0.05, 0.1, 0.15, 0.2]\n",
    "for step_size in step_size_list:\n",
    "    perc = int(step_size * 1000)\n",
    "    action_set = ActionSet(X = X_train, default_step_size = step_size, mutable_features = mutable_features)\n",
    "    method = MAPOFCEM(\n",
    "        action_set,\n",
    "        model_shap,\n",
    "        compare = \"percentile\",\n",
    "        estimate_prob_max = False,\n",
    "        estimate_outlier=True,\n",
    "        max_changes = 3,\n",
    "        outlier_percentile=0.05\n",
    "    )\n",
    "    run_experiments(\n",
    "        method,\n",
    "        individuals,\n",
    "        model_shap,\n",
    "        f\"../results/step_size/german/mapofcem_v2_{perc}.csv\"\n",
    "    )\n"
   ]
  },
  {
   "cell_type": "markdown",
   "metadata": {},
   "source": [
    "### Results"
   ]
  },
  {
   "cell_type": "code",
   "execution_count": 203,
   "metadata": {},
   "outputs": [
    {
     "data": {
      "text/html": [
       "<div>\n",
       "<style scoped>\n",
       "    .dataframe tbody tr th:only-of-type {\n",
       "        vertical-align: middle;\n",
       "    }\n",
       "\n",
       "    .dataframe tbody tr th {\n",
       "        vertical-align: top;\n",
       "    }\n",
       "\n",
       "    .dataframe thead th {\n",
       "        text-align: right;\n",
       "    }\n",
       "</style>\n",
       "<table border=\"1\" class=\"dataframe\">\n",
       "  <thead>\n",
       "    <tr style=\"text-align: right;\">\n",
       "      <th></th>\n",
       "      <th>method</th>\n",
       "      <th>costs</th>\n",
       "      <th>n_changes</th>\n",
       "      <th>outlier</th>\n",
       "      <th>outliers_score</th>\n",
       "      <th>diversity</th>\n",
       "      <th>n_solutions</th>\n",
       "      <th>time</th>\n",
       "      <th>step_size</th>\n",
       "    </tr>\n",
       "  </thead>\n",
       "  <tbody>\n",
       "    <tr>\n",
       "      <th>0</th>\n",
       "      <td>MAPOFCEM_v2_0</td>\n",
       "      <td>0.096 (+-0.144) | 0.287</td>\n",
       "      <td>2.021 (+-0.863) | 3.0</td>\n",
       "      <td>0.062 (+-0.245) | 0.65</td>\n",
       "      <td>0.504 (+-0.036) | 0.558</td>\n",
       "      <td>0.0 (+-0.0) | 0.0</td>\n",
       "      <td>0.96 (+-0.198) | 1.0</td>\n",
       "      <td>2.427 (+-5.33) | 10.264</td>\n",
       "      <td>0.01 (+-0.0) | 0.01</td>\n",
       "    </tr>\n",
       "    <tr>\n",
       "      <th>1</th>\n",
       "      <td>MAPOFCEM_v2_1</td>\n",
       "      <td>0.114 (+-0.156) | 0.396</td>\n",
       "      <td>1.833 (+-0.808) | 3.0</td>\n",
       "      <td>0.062 (+-0.245) | 0.65</td>\n",
       "      <td>0.505 (+-0.034) | 0.558</td>\n",
       "      <td>0.0 (+-0.0) | 0.0</td>\n",
       "      <td>0.96 (+-0.198) | 1.0</td>\n",
       "      <td>0.329 (+-0.635) | 1.207</td>\n",
       "      <td>0.05 (+-0.0) | 0.05</td>\n",
       "    </tr>\n",
       "    <tr>\n",
       "      <th>2</th>\n",
       "      <td>MAPOFCEM_v2_2</td>\n",
       "      <td>0.137 (+-0.174) | 0.5</td>\n",
       "      <td>1.729 (+-0.765) | 3.0</td>\n",
       "      <td>0.042 (+-0.202) | 0.0</td>\n",
       "      <td>0.506 (+-0.034) | 0.558</td>\n",
       "      <td>0.0 (+-0.0) | 0.0</td>\n",
       "      <td>0.96 (+-0.198) | 1.0</td>\n",
       "      <td>0.179 (+-0.33) | 0.923</td>\n",
       "      <td>0.1 (+-0.0) | 0.1</td>\n",
       "    </tr>\n",
       "    <tr>\n",
       "      <th>3</th>\n",
       "      <td>MAPOFCEM_v2_3</td>\n",
       "      <td>0.137 (+-0.164) | 0.452</td>\n",
       "      <td>1.771 (+-0.751) | 3.0</td>\n",
       "      <td>0.021 (+-0.144) | 0.0</td>\n",
       "      <td>0.509 (+-0.031) | 0.551</td>\n",
       "      <td>0.0 (+-0.0) | 0.0</td>\n",
       "      <td>0.96 (+-0.198) | 1.0</td>\n",
       "      <td>0.126 (+-0.232) | 0.419</td>\n",
       "      <td>0.15 (+-0.0) | 0.15</td>\n",
       "    </tr>\n",
       "    <tr>\n",
       "      <th>4</th>\n",
       "      <td>MAPOFCEM_v2_4</td>\n",
       "      <td>0.178 (+-0.204) | 0.532</td>\n",
       "      <td>1.915 (+-0.686) | 3.0</td>\n",
       "      <td>0.064 (+-0.247) | 0.7</td>\n",
       "      <td>0.505 (+-0.033) | 0.557</td>\n",
       "      <td>0.0 (+-0.0) | 0.0</td>\n",
       "      <td>0.94 (+-0.24) | 1.0</td>\n",
       "      <td>0.149 (+-0.273) | 0.543</td>\n",
       "      <td>0.2 (+-0.0) | 0.2</td>\n",
       "    </tr>\n",
       "  </tbody>\n",
       "</table>\n",
       "</div>"
      ],
      "text/plain": [
       "          method                    costs              n_changes  \\\n",
       "0  MAPOFCEM_v2_0  0.096 (+-0.144) | 0.287  2.021 (+-0.863) | 3.0   \n",
       "1  MAPOFCEM_v2_1  0.114 (+-0.156) | 0.396  1.833 (+-0.808) | 3.0   \n",
       "2  MAPOFCEM_v2_2    0.137 (+-0.174) | 0.5  1.729 (+-0.765) | 3.0   \n",
       "3  MAPOFCEM_v2_3  0.137 (+-0.164) | 0.452  1.771 (+-0.751) | 3.0   \n",
       "4  MAPOFCEM_v2_4  0.178 (+-0.204) | 0.532  1.915 (+-0.686) | 3.0   \n",
       "\n",
       "                  outlier           outliers_score          diversity  \\\n",
       "0  0.062 (+-0.245) | 0.65  0.504 (+-0.036) | 0.558  0.0 (+-0.0) | 0.0   \n",
       "1  0.062 (+-0.245) | 0.65  0.505 (+-0.034) | 0.558  0.0 (+-0.0) | 0.0   \n",
       "2   0.042 (+-0.202) | 0.0  0.506 (+-0.034) | 0.558  0.0 (+-0.0) | 0.0   \n",
       "3   0.021 (+-0.144) | 0.0  0.509 (+-0.031) | 0.551  0.0 (+-0.0) | 0.0   \n",
       "4   0.064 (+-0.247) | 0.7  0.505 (+-0.033) | 0.557  0.0 (+-0.0) | 0.0   \n",
       "\n",
       "            n_solutions                     time            step_size  \n",
       "0  0.96 (+-0.198) | 1.0  2.427 (+-5.33) | 10.264  0.01 (+-0.0) | 0.01  \n",
       "1  0.96 (+-0.198) | 1.0  0.329 (+-0.635) | 1.207  0.05 (+-0.0) | 0.05  \n",
       "2  0.96 (+-0.198) | 1.0   0.179 (+-0.33) | 0.923    0.1 (+-0.0) | 0.1  \n",
       "3  0.96 (+-0.198) | 1.0  0.126 (+-0.232) | 0.419  0.15 (+-0.0) | 0.15  \n",
       "4   0.94 (+-0.24) | 1.0  0.149 (+-0.273) | 0.543    0.2 (+-0.0) | 0.2  "
      ]
     },
     "execution_count": 203,
     "metadata": {},
     "output_type": "execute_result"
    }
   ],
   "source": [
    "step_size_list = [0.01, 0.05, 0.1, 0.15, 0.2]\n",
    "all_results = []\n",
    "for i, step_size in enumerate(step_size_list):\n",
    "    perc = int(step_size * 1000)\n",
    "\n",
    "    results = pd.read_csv(f\"../results/step_size/german/mapofcem_v2_{perc}.csv\")\n",
    "    results = summarize_results(results, dataset = \"german\", outlier_percentile=0.05)\n",
    "    results[\"step_size\"] = step_size\n",
    "    results[\"method\"] = f\"MAPOFCEM_v2_{i}\"\n",
    "    all_results.append(results)\n",
    "\n",
    "results = pd.concat(all_results)\n",
    "format_df_table(results, \"method\", results.columns[:-1])"
   ]
  },
  {
   "cell_type": "markdown",
   "metadata": {},
   "source": [
    "## Taiwan"
   ]
  },
  {
   "cell_type": "code",
   "execution_count": 206,
   "metadata": {},
   "outputs": [],
   "source": [
    "X_train, Y_train, model, outlier_detection, individuals = get_data_model(\"taiwan\", \"LGBMClassifier\")\n",
    "individuals = individuals.sample(n = 50, random_state=SEED)\n",
    "not_mutable_features = ['Single', 'Age_in_25_to_40', 'Married', 'Age_lt_25', 'Age_in_40_to_59', 'Age_geq_60', 'EducationLevel']\n",
    "mutable_features = [feat for feat in X_train.columns if feat not in not_mutable_features]\n",
    "model_shap = GeneralClassifier_Shap(model, outlier_detection, X_train, shap_explainer=\"tree\", threshold = 0.5)"
   ]
  },
  {
   "cell_type": "code",
   "execution_count": 207,
   "metadata": {},
   "outputs": [
    {
     "name": "stderr",
     "output_type": "stream",
     "text": [
      "100%|███████████████████████████████████████████████████████████████████████████████████████████████████████████████████████████████████████████████████████████████████████████████████████████████████████████████| 50/50 [08:45<00:00, 10.51s/it]\n",
      "100%|███████████████████████████████████████████████████████████████████████████████████████████████████████████████████████████████████████████████████████████████████████████████████████████████████████████████| 50/50 [03:37<00:00,  4.36s/it]\n",
      "100%|███████████████████████████████████████████████████████████████████████████████████████████████████████████████████████████████████████████████████████████████████████████████████████████████████████████████| 50/50 [03:21<00:00,  4.03s/it]\n",
      "100%|███████████████████████████████████████████████████████████████████████████████████████████████████████████████████████████████████████████████████████████████████████████████████████████████████████████████| 50/50 [01:44<00:00,  2.10s/it]\n",
      "100%|███████████████████████████████████████████████████████████████████████████████████████████████████████████████████████████████████████████████████████████████████████████████████████████████████████████████| 50/50 [00:52<00:00,  1.05s/it]\n"
     ]
    }
   ],
   "source": [
    "step_size_list = [0.01, 0.05, 0.1, 0.15, 0.2]\n",
    "for step_size in step_size_list:\n",
    "    perc = int(step_size * 1000)\n",
    "    action_set = ActionSet(X = X_train, default_step_size = step_size, mutable_features = mutable_features)\n",
    "    method = MAPOFCEM(\n",
    "        action_set,\n",
    "        model_shap,\n",
    "        compare = \"percentile\",\n",
    "        estimate_prob_max = False,\n",
    "        estimate_outlier=True,\n",
    "        max_changes = 3,\n",
    "        outlier_percentile=0.01,\n",
    "        time_limit=180\n",
    "    )\n",
    "    run_experiments(\n",
    "        method,\n",
    "        individuals,\n",
    "        model_shap,\n",
    "        f\"../results/step_size/taiwan/mapofcem_v2_{perc}.csv\"\n",
    "    )\n",
    "\n"
   ]
  },
  {
   "cell_type": "markdown",
   "metadata": {},
   "source": [
    "### Results"
   ]
  },
  {
   "cell_type": "code",
   "execution_count": 208,
   "metadata": {},
   "outputs": [
    {
     "data": {
      "text/html": [
       "<div>\n",
       "<style scoped>\n",
       "    .dataframe tbody tr th:only-of-type {\n",
       "        vertical-align: middle;\n",
       "    }\n",
       "\n",
       "    .dataframe tbody tr th {\n",
       "        vertical-align: top;\n",
       "    }\n",
       "\n",
       "    .dataframe thead th {\n",
       "        text-align: right;\n",
       "    }\n",
       "</style>\n",
       "<table border=\"1\" class=\"dataframe\">\n",
       "  <thead>\n",
       "    <tr style=\"text-align: right;\">\n",
       "      <th></th>\n",
       "      <th>method</th>\n",
       "      <th>costs</th>\n",
       "      <th>n_changes</th>\n",
       "      <th>outlier</th>\n",
       "      <th>outliers_score</th>\n",
       "      <th>diversity</th>\n",
       "      <th>n_solutions</th>\n",
       "      <th>time</th>\n",
       "      <th>step_size</th>\n",
       "    </tr>\n",
       "  </thead>\n",
       "  <tbody>\n",
       "    <tr>\n",
       "      <th>0</th>\n",
       "      <td>MAPOFCEM_v2_0</td>\n",
       "      <td>0.042 (+-0.06) | 0.099</td>\n",
       "      <td>2.592 (+-0.705) | 3.0</td>\n",
       "      <td>0.041 (+-0.2) | 0.0</td>\n",
       "      <td>0.449 (+-0.043) | 0.529</td>\n",
       "      <td>0.0 (+-0.0) | 0.0</td>\n",
       "      <td>0.98 (+-0.141) | 1.0</td>\n",
       "      <td>10.499 (+-28.277) | 49.493</td>\n",
       "      <td>0.01 (+-0.0) | 0.01</td>\n",
       "    </tr>\n",
       "    <tr>\n",
       "      <th>1</th>\n",
       "      <td>MAPOFCEM_v2_1</td>\n",
       "      <td>0.065 (+-0.078) | 0.142</td>\n",
       "      <td>2.388 (+-0.837) | 3.0</td>\n",
       "      <td>0.041 (+-0.2) | 0.0</td>\n",
       "      <td>0.449 (+-0.043) | 0.534</td>\n",
       "      <td>0.0 (+-0.0) | 0.0</td>\n",
       "      <td>0.98 (+-0.141) | 1.0</td>\n",
       "      <td>4.356 (+-25.366) | 3.622</td>\n",
       "      <td>0.05 (+-0.0) | 0.05</td>\n",
       "    </tr>\n",
       "    <tr>\n",
       "      <th>2</th>\n",
       "      <td>MAPOFCEM_v2_2</td>\n",
       "      <td>0.131 (+-0.18) | 0.531</td>\n",
       "      <td>2.08 (+-0.877) | 3.0</td>\n",
       "      <td>0.06 (+-0.24) | 0.55</td>\n",
       "      <td>0.453 (+-0.05) | 0.549</td>\n",
       "      <td>0.0 (+-0.0) | 0.0</td>\n",
       "      <td>1.0 (+-0.0) | 1.0</td>\n",
       "      <td>4.029 (+-25.402) | 1.794</td>\n",
       "      <td>0.1 (+-0.0) | 0.1</td>\n",
       "    </tr>\n",
       "    <tr>\n",
       "      <th>3</th>\n",
       "      <td>MAPOFCEM_v2_3</td>\n",
       "      <td>0.194 (+-0.193) | 0.543</td>\n",
       "      <td>1.98 (+-0.892) | 3.0</td>\n",
       "      <td>0.06 (+-0.24) | 0.55</td>\n",
       "      <td>0.455 (+-0.049) | 0.548</td>\n",
       "      <td>0.0 (+-0.0) | 0.0</td>\n",
       "      <td>1.0 (+-0.0) | 1.0</td>\n",
       "      <td>2.094 (+-12.891) | 1.186</td>\n",
       "      <td>0.15 (+-0.0) | 0.15</td>\n",
       "    </tr>\n",
       "    <tr>\n",
       "      <th>4</th>\n",
       "      <td>MAPOFCEM_v2_4</td>\n",
       "      <td>0.292 (+-0.234) | 0.799</td>\n",
       "      <td>1.96 (+-0.832) | 3.0</td>\n",
       "      <td>0.06 (+-0.24) | 0.55</td>\n",
       "      <td>0.458 (+-0.049) | 0.546</td>\n",
       "      <td>0.0 (+-0.0) | 0.0</td>\n",
       "      <td>1.0 (+-0.0) | 1.0</td>\n",
       "      <td>1.043 (+-5.959) | 0.588</td>\n",
       "      <td>0.2 (+-0.0) | 0.2</td>\n",
       "    </tr>\n",
       "  </tbody>\n",
       "</table>\n",
       "</div>"
      ],
      "text/plain": [
       "          method                    costs              n_changes  \\\n",
       "0  MAPOFCEM_v2_0   0.042 (+-0.06) | 0.099  2.592 (+-0.705) | 3.0   \n",
       "1  MAPOFCEM_v2_1  0.065 (+-0.078) | 0.142  2.388 (+-0.837) | 3.0   \n",
       "2  MAPOFCEM_v2_2   0.131 (+-0.18) | 0.531   2.08 (+-0.877) | 3.0   \n",
       "3  MAPOFCEM_v2_3  0.194 (+-0.193) | 0.543   1.98 (+-0.892) | 3.0   \n",
       "4  MAPOFCEM_v2_4  0.292 (+-0.234) | 0.799   1.96 (+-0.832) | 3.0   \n",
       "\n",
       "                outlier           outliers_score          diversity  \\\n",
       "0   0.041 (+-0.2) | 0.0  0.449 (+-0.043) | 0.529  0.0 (+-0.0) | 0.0   \n",
       "1   0.041 (+-0.2) | 0.0  0.449 (+-0.043) | 0.534  0.0 (+-0.0) | 0.0   \n",
       "2  0.06 (+-0.24) | 0.55   0.453 (+-0.05) | 0.549  0.0 (+-0.0) | 0.0   \n",
       "3  0.06 (+-0.24) | 0.55  0.455 (+-0.049) | 0.548  0.0 (+-0.0) | 0.0   \n",
       "4  0.06 (+-0.24) | 0.55  0.458 (+-0.049) | 0.546  0.0 (+-0.0) | 0.0   \n",
       "\n",
       "            n_solutions                        time            step_size  \n",
       "0  0.98 (+-0.141) | 1.0  10.499 (+-28.277) | 49.493  0.01 (+-0.0) | 0.01  \n",
       "1  0.98 (+-0.141) | 1.0    4.356 (+-25.366) | 3.622  0.05 (+-0.0) | 0.05  \n",
       "2     1.0 (+-0.0) | 1.0    4.029 (+-25.402) | 1.794    0.1 (+-0.0) | 0.1  \n",
       "3     1.0 (+-0.0) | 1.0    2.094 (+-12.891) | 1.186  0.15 (+-0.0) | 0.15  \n",
       "4     1.0 (+-0.0) | 1.0     1.043 (+-5.959) | 0.588    0.2 (+-0.0) | 0.2  "
      ]
     },
     "execution_count": 208,
     "metadata": {},
     "output_type": "execute_result"
    }
   ],
   "source": [
    "step_size_list = [0.01, 0.05, 0.1, 0.15, 0.2]\n",
    "all_results = []\n",
    "for i, step_size in enumerate(step_size_list):\n",
    "    perc = int(step_size * 1000)\n",
    "\n",
    "    results = pd.read_csv(f\"../results/step_size/taiwan/mapofcem_v2_{perc}.csv\")\n",
    "    results = summarize_results(results, dataset = \"taiwan\", outlier_percentile=0.05)\n",
    "    results[\"step_size\"] = step_size\n",
    "    results[\"method\"] = f\"MAPOFCEM_v2_{i}\"\n",
    "    all_results.append(results)\n",
    "\n",
    "results = pd.concat(all_results)\n",
    "format_df_table(results, \"method\", results.columns[:-1])"
   ]
  }
 ],
 "metadata": {
  "kernelspec": {
   "display_name": "Python 3 (ipykernel)",
   "language": "python",
   "name": "python3"
  }
 },
 "nbformat": 4,
 "nbformat_minor": 2
}
