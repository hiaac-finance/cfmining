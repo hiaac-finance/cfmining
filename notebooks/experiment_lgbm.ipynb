{
 "cells": [
  {
   "cell_type": "code",
   "execution_count": 1,
   "metadata": {},
   "outputs": [],
   "source": [
    "import json\n",
    "import os\n",
    "import copy\n",
    "import numpy as np\n",
    "import pandas as pd\n",
    "from tqdm import tqdm\n",
    "import time\n",
    "import sys\n",
    "sys.path.append(\"../\")\n",
    "\n",
    "from cfmining.algorithms import MAPOFCEM\n",
    "from cfmining.predictors import GeneralClassifier_Shap\n",
    "from cfmining.action_set import ActionSet\n",
    "from cfmining.utils import get_data_model\n",
    "from cfmining.baselines import Bruteforce, MAPOCAM, Nice, Dice\n",
    "\n",
    "\n",
    "%load_ext autoreload\n",
    "%autoreload 2"
   ]
  },
  {
   "cell_type": "code",
   "execution_count": 2,
   "metadata": {},
   "outputs": [],
   "source": [
    "SEED = 0"
   ]
  },
  {
   "cell_type": "markdown",
   "metadata": {},
   "source": [
    "## Helper"
   ]
  },
  {
   "cell_type": "code",
   "execution_count": 3,
   "metadata": {},
   "outputs": [],
   "source": [
    "def run_experiments(\n",
    "        method,\n",
    "        individuals, \n",
    "        model, \n",
    "        output_file = None,\n",
    "    ):\n",
    "    results = []\n",
    "\n",
    "    if not output_file is None:\n",
    "        folder = \"/\".join(output_file.split(\"/\")[:-1])\n",
    "        if not os.path.exists(folder):\n",
    "            os.makedirs(folder, exist_ok = True)\n",
    "\n",
    "    for i in tqdm(range(len(individuals))):\n",
    "        individual = individuals.iloc[i]\n",
    "        try:\n",
    "            model.clear_cache()\n",
    "        except:\n",
    "            pass\n",
    "        start = time.time()\n",
    "        method.fit(individual.values)\n",
    "        end = time.time()\n",
    "\n",
    "        solutions = method.solutions\n",
    "        \n",
    "        results.append({\n",
    "            \"individual\" : individual.values.tolist(),\n",
    "            \"prob\" : model.predict_proba(individual.values),\n",
    "            \"time\" : end - start,\n",
    "            \"n_solutions\" : len(method.solutions),\n",
    "            \"solutions\" : solutions,\n",
    "        })\n",
    "\n",
    "        #print(f\"Prob. max counter: {method.prob_max_counter} | Prob: {results[-1]['prob']:.2f}\")\n",
    "        if output_file is not None:\n",
    "            pd.DataFrame(results).to_csv(output_file, index=False)\n",
    "\n",
    "        \n",
    "\n",
    "    results = pd.DataFrame(results)\n",
    "    if output_file is not None:\n",
    "        results.to_csv(output_file, index=False)\n",
    "    else:\n",
    "        return results"
   ]
  },
  {
   "cell_type": "markdown",
   "metadata": {},
   "source": [
    "## German"
   ]
  },
  {
   "cell_type": "code",
   "execution_count": 4,
   "metadata": {},
   "outputs": [],
   "source": [
    "X_train, Y_train, model, outlier_detection, individuals = get_data_model(\"german\", \"LGBMClassifier\")\n",
    "individuals = individuals.sample(n = 50, random_state=SEED)"
   ]
  },
  {
   "cell_type": "code",
   "execution_count": 5,
   "metadata": {},
   "outputs": [],
   "source": [
    "not_mutable_features = ['Age', 'OwnsHouse', 'isMale', 'JobClassIsSkilled', 'Single', 'ForeignWorker', 'RentsHouse']\n",
    "mutable_features = [feat for feat in X_train.columns if feat not in not_mutable_features]\n",
    "continuous_features = ['Age', 'LoanDuration', 'LoanAmount', 'LoanRateAsPercentOfIncome','YearsAtCurrentHome']\n",
    "categoric_features = [col for col in X_train.columns if col not in continuous_features]\n",
    "\n",
    "action_set = ActionSet(X = X_train, default_step_size = 0.05, mutable_features = mutable_features)\n",
    "model_shap = GeneralClassifier_Shap(model, outlier_detection, X_train, shap_explainer=\"tree\", threshold = 0.5)\n",
    "class FakeOutlierDetection():\n",
    "    def predict(self, X):\n",
    "        return [1]\n",
    "model_shap_no_outlier = GeneralClassifier_Shap(model, FakeOutlierDetection(), X_train, shap_explainer=\"tree\", threshold = 0.5)"
   ]
  },
  {
   "cell_type": "markdown",
   "metadata": {},
   "source": [
    "### MAPOFCEM"
   ]
  },
  {
   "cell_type": "code",
   "execution_count": null,
   "metadata": {},
   "outputs": [],
   "source": [
    "method = MAPOFCEM(\n",
    "    action_set = action_set,\n",
    "    classifier = model_shap,\n",
    "    compare = \"percentile\",\n",
    "    max_changes = 3\n",
    ")\n",
    "\n",
    "run_experiments(\n",
    "    method,\n",
    "    individuals=individuals,\n",
    "    model=model_shap,\n",
    "    output_file=f\"../results/lgbm/german/mapofcem_percentile.csv\"\n",
    ")"
   ]
  },
  {
   "cell_type": "code",
   "execution_count": null,
   "metadata": {},
   "outputs": [],
   "source": [
    "method = MAPOFCEM(\n",
    "    action_set = action_set,\n",
    "    classifier = model_shap,\n",
    "    compare = \"percentile\",\n",
    "    estimate_outlier=True,\n",
    "    max_changes = 3\n",
    ")\n",
    "\n",
    "run_experiments(\n",
    "    method,\n",
    "    individuals=individuals,\n",
    "    model=model_shap,\n",
    "    output_file=f\"../results/lgbm/german/mapofcem_v2_percentile.csv\"\n",
    ")"
   ]
  },
  {
   "cell_type": "code",
   "execution_count": null,
   "metadata": {},
   "outputs": [],
   "source": [
    "method = MAPOFCEM(\n",
    "    action_set = action_set,\n",
    "    classifier = model_shap_no_outlier,\n",
    "    compare = \"percentile\",\n",
    "    estimate_outlier=False,\n",
    "    max_changes = 3,\n",
    "    outlier_percentile=0.0\n",
    ")\n",
    "\n",
    "run_experiments(\n",
    "    method,\n",
    "    individuals=individuals,\n",
    "    model=model_shap,\n",
    "    output_file=f\"../results/lgbm/german/mapofcem_no_outlier_percentile.csv\"\n",
    ")"
   ]
  },
  {
   "cell_type": "markdown",
   "metadata": {},
   "source": [
    "### MAPOCAM"
   ]
  },
  {
   "cell_type": "code",
   "execution_count": 9,
   "metadata": {},
   "outputs": [
    {
     "name": "stderr",
     "output_type": "stream",
     "text": [
      "100%|█████████████████████████████████████████████████████████████████████████████████████████████████████████| 50/50 [00:22<00:00,  2.17it/s]\n"
     ]
    }
   ],
   "source": [
    "model_shap.use_predict_max = False # to not use max prediction\n",
    "# little fix to action set\n",
    "action_set_ = copy.deepcopy(action_set)\n",
    "for feat in action_set_:\n",
    "    feat.flip_direction = 1\n",
    "    feat.update_grid()\n",
    "\n",
    "method = MAPOCAM(\n",
    "    action_set_,\n",
    "    model_shap,\n",
    "    criteria = \"percentile\",\n",
    "    max_changes=3\n",
    ")\n",
    "\n",
    "run_experiments(\n",
    "    method,\n",
    "    individuals=individuals,\n",
    "    model=model_shap,\n",
    "    output_file=f\"../results/lgbm/german/mapocam_percentile.csv\"\n",
    ")"
   ]
  },
  {
   "cell_type": "markdown",
   "metadata": {},
   "source": [
    "### Bruteforce"
   ]
  },
  {
   "cell_type": "code",
   "execution_count": null,
   "metadata": {},
   "outputs": [],
   "source": [
    "model_shap.use_predict_max = False # to not use prediction max\n",
    "# little fix to action set\n",
    "action_set_ = copy.deepcopy(action_set)\n",
    "for feat in action_set_:\n",
    "    feat.flip_direction = 1\n",
    "    feat.update_grid()\n",
    "\n",
    "\n",
    "method = Bruteforce(\n",
    "    action_set_,\n",
    "    model_shap,\n",
    "    criteria = \"percentile\",\n",
    "    max_changes=3\n",
    ")\n",
    "\n",
    "run_experiments(\n",
    "    method,\n",
    "    individuals=individuals,\n",
    "    model=model_shap,\n",
    "    output_file=f\"../results/lgbm/german/bruteforce_percentile.csv\"\n",
    ")"
   ]
  },
  {
   "cell_type": "markdown",
   "metadata": {},
   "source": [
    "### DICE"
   ]
  },
  {
   "cell_type": "code",
   "execution_count": null,
   "metadata": {},
   "outputs": [],
   "source": [
    "method = Dice(\n",
    "    X_train,\n",
    "    Y_train,\n",
    "    model_shap.clf,\n",
    "    n_cfs = 1,\n",
    "    mutable_features = mutable_features,\n",
    ")\n",
    "\n",
    "run_experiments(\n",
    "    method,\n",
    "    individuals = individuals,\n",
    "    model = model_shap,\n",
    "    output_file=f\"../results/lgbm/german/dice_1sol.csv\"\n",
    ")"
   ]
  },
  {
   "cell_type": "markdown",
   "metadata": {},
   "source": [
    "### NICE"
   ]
  },
  {
   "cell_type": "code",
   "execution_count": 12,
   "metadata": {},
   "outputs": [
    {
     "name": "stderr",
     "output_type": "stream",
     "text": [
      "  0%|                                                                                                                  | 0/50 [00:00<?, ?it/s]"
     ]
    },
    {
     "name": "stderr",
     "output_type": "stream",
     "text": [
      "100%|████████████████████████████████████████████████████████████████████████████████████████████████████████| 50/50 [00:00<00:00, 115.67it/s]\n"
     ]
    }
   ],
   "source": [
    "method = Nice(\n",
    "    X_train,\n",
    "    Y_train,\n",
    "    model = model,\n",
    "    cat_features = categoric_features,\n",
    ")\n",
    "\n",
    "run_experiments(\n",
    "    method,\n",
    "    individuals = individuals,\n",
    "    model = model_shap,\n",
    "    output_file=f\"../results/lgbm/german/nice.csv\"\n",
    ")"
   ]
  },
  {
   "cell_type": "markdown",
   "metadata": {},
   "source": [
    "## Taiwan"
   ]
  },
  {
   "cell_type": "code",
   "execution_count": 10,
   "metadata": {},
   "outputs": [],
   "source": [
    "X_train, Y_train, model, outlier_detection, individuals = get_data_model(\"taiwan\")\n",
    "#convert bools to int\n",
    "X_train = X_train.astype(int)\n",
    "individuals = individuals.astype(int)\n",
    "individuals = individuals.sample(n = 50, random_state=SEED)"
   ]
  },
  {
   "cell_type": "code",
   "execution_count": 11,
   "metadata": {},
   "outputs": [],
   "source": [
    "not_mutable_features = ['Single', 'Age_in_25_to_40', 'Married', 'Age_lt_25', 'Age_in_40_to_59', 'Age_geq_60', 'EducationLevel']\n",
    "mutable_features = [feat for feat in X_train.columns if feat not in not_mutable_features]\n",
    "continuous_features = [\"LIMIT_BAL\", \"BILL_AMT1\", \"BILL_AMT2\", \"BILL_AMT3\",\n",
    "                       \"BILL_AMT4\", \"BILL_AMT5\", \"BILL_AMT6\", \"PAY_AMT1\",\n",
    "                       \"PAY_AMT2\", \"PAY_AMT3\", \"PAY_AMT4\", \"PAY_AMT5\",\n",
    "                       \"PAY_AMT6\", \"MaxBillAmountOverLast6Months\", \"MaxPaymentAmountOverLast6Months\",\n",
    "                       \"MostRecentBillAmount\", \"MostRecentPaymentAmount\", \"MostRecentPaymentAmount\", \"TotalMonthsOverdue\"]\n",
    "categoric_features = [col for col in X_train.columns if col not in continuous_features]\n",
    "action_set = ActionSet(X = X_train, default_step_size = 0.1, mutable_features = mutable_features)\n",
    "model_shap = GeneralClassifier_Shap(model, outlier_detection, X_train, shap_explainer=\"tree\", threshold = 0.5)\n",
    "class FakeOutlierDetection():\n",
    "    def predict(self, X):\n",
    "        return [1]\n",
    "model_shap_no_outlier = GeneralClassifier_Shap(model, FakeOutlierDetection(), X_train, shap_explainer=\"tree\", threshold = 0.5)"
   ]
  },
  {
   "cell_type": "markdown",
   "metadata": {},
   "source": [
    "### MAPOFCEM"
   ]
  },
  {
   "cell_type": "code",
   "execution_count": null,
   "metadata": {},
   "outputs": [],
   "source": [
    "method = MAPOFCEM(\n",
    "    action_set = action_set,\n",
    "    classifier = model_shap,\n",
    "    compare = \"percentile\",\n",
    "    max_changes = 3,\n",
    "    outlier_percentile = 0.01,\n",
    "    estimate_prob_max=False,\n",
    ")\n",
    "\n",
    "run_experiments(\n",
    "    method,\n",
    "    individuals=individuals,\n",
    "    model=model_shap,\n",
    "    output_file=f\"../results/lgbm/taiwan/mapofcem_percentile.csv\"\n",
    ")"
   ]
  },
  {
   "cell_type": "code",
   "execution_count": null,
   "metadata": {},
   "outputs": [],
   "source": [
    "method = MAPOFCEM(\n",
    "    action_set = action_set,\n",
    "    classifier = model_shap,\n",
    "    compare = \"percentile\",\n",
    "    max_changes = 3,\n",
    "    outlier_percentile = 0.01,\n",
    "    estimate_outlier = True,\n",
    ")\n",
    "\n",
    "run_experiments(\n",
    "    method,\n",
    "    individuals=individuals,\n",
    "    model=model_shap,\n",
    "    output_file=f\"../results/lgbm/taiwan/mapofcem_v2_percentile.csv\"\n",
    ")"
   ]
  },
  {
   "cell_type": "code",
   "execution_count": null,
   "metadata": {},
   "outputs": [],
   "source": [
    "method = MAPOFCEM(\n",
    "    action_set = action_set,\n",
    "    classifier = model_shap_no_outlier,\n",
    "    compare = \"percentile\",\n",
    "    estimate_outlier=False,\n",
    "    max_changes = 3,\n",
    "    outlier_percentile=0.0,\n",
    "    estimate_prob_max=False\n",
    ")\n",
    "\n",
    "run_experiments(\n",
    "    method,\n",
    "    individuals=individuals,\n",
    "    model=model_shap,\n",
    "    output_file=f\"../results/lgbm/taiwan/mapofcem_no_outlier_percentile.csv\"\n",
    ")"
   ]
  },
  {
   "cell_type": "markdown",
   "metadata": {},
   "source": [
    "### MAPOCAM"
   ]
  },
  {
   "cell_type": "code",
   "execution_count": 17,
   "metadata": {},
   "outputs": [
    {
     "name": "stderr",
     "output_type": "stream",
     "text": [
      "100%|█████████████████████████████████████████████████████████████████████████████████████████████████████████| 50/50 [01:40<00:00,  2.01s/it]\n"
     ]
    }
   ],
   "source": [
    "model_shap.use_predict_max = False # to not use max prediction\n",
    "# little fix to action set\n",
    "action_set_ = copy.deepcopy(action_set)\n",
    "for feat in action_set_:\n",
    "    feat.flip_direction = 1\n",
    "    feat.update_grid()\n",
    "\n",
    "method = MAPOCAM(\n",
    "    action_set_,\n",
    "    model_shap,\n",
    "    criteria = \"percentile\",\n",
    "    max_changes=3\n",
    ")\n",
    "\n",
    "run_experiments(\n",
    "    method,\n",
    "    individuals=individuals,\n",
    "    model=model_shap,\n",
    "    output_file=f\"../results/lgbm/taiwan/mapocam_percentile.csv\"\n",
    ")"
   ]
  },
  {
   "cell_type": "markdown",
   "metadata": {},
   "source": [
    "### DICE"
   ]
  },
  {
   "cell_type": "code",
   "execution_count": null,
   "metadata": {},
   "outputs": [],
   "source": [
    "method = Dice(\n",
    "    X_train,\n",
    "    Y_train,\n",
    "    model_shap.clf,\n",
    "    n_cfs = 1,\n",
    "    mutable_features = mutable_features,\n",
    ")\n",
    "\n",
    "run_experiments(\n",
    "    method,\n",
    "    individuals = individuals,\n",
    "    model = model_shap,\n",
    "    output_file=f\"../results/lgbm/taiwan/dice_1sol.csv\"\n",
    ")"
   ]
  },
  {
   "cell_type": "markdown",
   "metadata": {},
   "source": [
    "### NICE"
   ]
  },
  {
   "cell_type": "code",
   "execution_count": 19,
   "metadata": {},
   "outputs": [
    {
     "name": "stderr",
     "output_type": "stream",
     "text": [
      "  0%|                                                                                                                  | 0/50 [00:00<?, ?it/s]"
     ]
    },
    {
     "name": "stderr",
     "output_type": "stream",
     "text": [
      "100%|█████████████████████████████████████████████████████████████████████████████████████████████████████████| 50/50 [00:01<00:00, 45.45it/s]\n"
     ]
    }
   ],
   "source": [
    "method = Nice(\n",
    "    X_train,\n",
    "    Y_train,\n",
    "    model = model,\n",
    "    cat_features = categoric_features,\n",
    ")\n",
    "\n",
    "run_experiments(\n",
    "    method,\n",
    "    individuals = individuals,\n",
    "    model = model_shap,\n",
    "    output_file=f\"../results/lgbm/taiwan/nice.csv\"\n",
    ")"
   ]
  }
 ],
 "metadata": {
  "kernelspec": {
   "display_name": "Python 3 (ipykernel)",
   "language": "python",
   "name": "python3"
  }
 },
 "nbformat": 4,
 "nbformat_minor": 2
}
