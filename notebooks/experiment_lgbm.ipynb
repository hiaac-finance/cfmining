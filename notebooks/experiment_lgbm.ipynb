{
 "cells": [
  {
   "cell_type": "code",
   "execution_count": 44,
   "metadata": {},
   "outputs": [
    {
     "name": "stdout",
     "output_type": "stream",
     "text": [
      "The autoreload extension is already loaded. To reload it, use:\n",
      "  %reload_ext autoreload\n"
     ]
    }
   ],
   "source": [
    "import copy\n",
    "import pandas as pd\n",
    "import sys\n",
    "sys.path.append(\"../\")\n",
    "\n",
    "from cfmining.algorithms import MAPOFCEM\n",
    "from cfmining.predictors import GeneralClassifier_Shap\n",
    "from cfmining.action_set import ActionSet\n",
    "from cfmining.utils import get_data_model\n",
    "from cfmining.baselines import Bruteforce, MAPOCAM, Nice, Dice\n",
    "\n",
    "from experiments_helper import run_experiments, format_df_table, summarize_results\n",
    "\n",
    "\n",
    "%load_ext autoreload\n",
    "%autoreload 2"
   ]
  },
  {
   "cell_type": "code",
   "execution_count": 2,
   "metadata": {},
   "outputs": [],
   "source": [
    "SEED = 0"
   ]
  },
  {
   "cell_type": "markdown",
   "metadata": {},
   "source": [
    "## German"
   ]
  },
  {
   "cell_type": "code",
   "execution_count": 4,
   "metadata": {},
   "outputs": [],
   "source": [
    "X_train, Y_train, model, outlier_detection, individuals = get_data_model(\"german\", \"LGBMClassifier\")\n",
    "individuals = individuals.sample(n = 50, random_state=SEED)"
   ]
  },
  {
   "cell_type": "code",
   "execution_count": 21,
   "metadata": {},
   "outputs": [],
   "source": [
    "not_mutable_features = ['Age', 'OwnsHouse', 'isMale', 'JobClassIsSkilled', 'Single', 'ForeignWorker', 'RentsHouse']\n",
    "mutable_features = [feat for feat in X_train.columns if feat not in not_mutable_features]\n",
    "continuous_features = ['Age', 'LoanDuration', 'LoanAmount', 'LoanRateAsPercentOfIncome','YearsAtCurrentHome', \"NumberOfLiableIndividuals\", \"NumberOfOtherLoansAtBank\"]\n",
    "categoric_features = [col for col in X_train.columns if col not in continuous_features]\n",
    "\n",
    "action_set = ActionSet(X = X_train, default_step_size = 0.05, mutable_features = mutable_features)\n",
    "model_shap = GeneralClassifier_Shap(model, outlier_detection, X_train, shap_explainer=\"tree\", threshold = 0.5)"
   ]
  },
  {
   "cell_type": "markdown",
   "metadata": {},
   "source": [
    "### MAPOFCEM"
   ]
  },
  {
   "cell_type": "code",
   "execution_count": 9,
   "metadata": {},
   "outputs": [
    {
     "name": "stderr",
     "output_type": "stream",
     "text": [
      "100%|███████████████████████████████████████████████████████████████████████████████████████████████████████████████████████████████████████████████████████████████████████████████████████████████████████████████| 50/50 [00:17<00:00,  2.79it/s]\n"
     ]
    }
   ],
   "source": [
    "method = MAPOFCEM(\n",
    "    action_set = action_set,\n",
    "    classifier = model_shap,\n",
    "    compare = \"percentile\",\n",
    "    max_changes = 3\n",
    ")\n",
    "\n",
    "run_experiments(\n",
    "    method,\n",
    "    individuals=individuals,\n",
    "    model=model_shap,\n",
    "    output_file=f\"../results/lgbm/german/mapofcem_percentile.csv\"\n",
    ");"
   ]
  },
  {
   "cell_type": "markdown",
   "metadata": {},
   "source": [
    "### MAPOCAM"
   ]
  },
  {
   "cell_type": "code",
   "execution_count": 10,
   "metadata": {},
   "outputs": [
    {
     "name": "stderr",
     "output_type": "stream",
     "text": [
      "  0%|                                                                                                                                                                                                                        | 0/50 [00:00<?, ?it/s]"
     ]
    },
    {
     "name": "stderr",
     "output_type": "stream",
     "text": [
      "100%|███████████████████████████████████████████████████████████████████████████████████████████████████████████████████████████████████████████████████████████████████████████████████████████████████████████████| 50/50 [00:23<00:00,  2.17it/s]\n"
     ]
    }
   ],
   "source": [
    "model_shap.use_predict_max = False # to not use max prediction\n",
    "# little fix to action set\n",
    "action_set_ = copy.deepcopy(action_set)\n",
    "for feat in action_set_:\n",
    "    feat.flip_direction = 1\n",
    "    feat.update_grid()\n",
    "\n",
    "method = MAPOCAM(\n",
    "    action_set_,\n",
    "    model_shap,\n",
    "    criteria = \"percentile\",\n",
    "    max_changes=3\n",
    ")\n",
    "\n",
    "run_experiments(\n",
    "    method,\n",
    "    individuals=individuals,\n",
    "    model=model_shap,\n",
    "    output_file=f\"../results/lgbm/german/mapocam_percentile.csv\"\n",
    ");"
   ]
  },
  {
   "cell_type": "markdown",
   "metadata": {},
   "source": [
    "### Bruteforce"
   ]
  },
  {
   "cell_type": "code",
   "execution_count": null,
   "metadata": {},
   "outputs": [],
   "source": [
    "model_shap.use_predict_max = False # to not use prediction max\n",
    "# little fix to action set\n",
    "action_set_ = copy.deepcopy(action_set)\n",
    "for feat in action_set_:\n",
    "    feat.flip_direction = 1\n",
    "    feat.update_grid()\n",
    "\n",
    "\n",
    "method = Bruteforce(\n",
    "    action_set_,\n",
    "    model_shap,\n",
    "    criteria = \"percentile\",\n",
    "    max_changes=3\n",
    ")\n",
    "\n",
    "run_experiments(\n",
    "    method,\n",
    "    individuals=individuals,\n",
    "    model=model_shap,\n",
    "    output_file=f\"../results/lgbm/german/bruteforce_percentile.csv\"\n",
    ")"
   ]
  },
  {
   "cell_type": "markdown",
   "metadata": {},
   "source": [
    "### DICE"
   ]
  },
  {
   "cell_type": "code",
   "execution_count": null,
   "metadata": {},
   "outputs": [],
   "source": [
    "method = Dice(\n",
    "    X_train,\n",
    "    Y_train,\n",
    "    model_shap.clf,\n",
    "    n_cfs = 1,\n",
    "    mutable_features = mutable_features,\n",
    "    continuous_features = continuous_features,\n",
    ")\n",
    "\n",
    "run_experiments(\n",
    "    method,\n",
    "    individuals = individuals,\n",
    "    model = model_shap,\n",
    "    output_file=f\"../results/lgbm/german/dice.csv\"\n",
    ")"
   ]
  },
  {
   "cell_type": "markdown",
   "metadata": {},
   "source": [
    "### NICE"
   ]
  },
  {
   "cell_type": "code",
   "execution_count": 35,
   "metadata": {},
   "outputs": [
    {
     "name": "stderr",
     "output_type": "stream",
     "text": [
      "  0%|                                                                                                                                                                                                                        | 0/50 [00:00<?, ?it/s]"
     ]
    },
    {
     "name": "stderr",
     "output_type": "stream",
     "text": [
      "100%|██████████████████████████████████████████████████████████████████████████████████████████████████████████████████████████████████████████████████████████████████████████████████████████████████████████████| 50/50 [00:00<00:00, 110.87it/s]\n"
     ]
    }
   ],
   "source": [
    "method = Nice(\n",
    "    X_train,\n",
    "    Y_train,\n",
    "    model = model,\n",
    "    cat_features = categoric_features,\n",
    ")\n",
    "\n",
    "run_experiments(\n",
    "    method,\n",
    "    individuals = individuals,\n",
    "    model = model_shap,\n",
    "    output_file=f\"../results/lgbm/german/nice.csv\"\n",
    ");"
   ]
  },
  {
   "cell_type": "markdown",
   "metadata": {},
   "source": [
    "### Results"
   ]
  },
  {
   "cell_type": "code",
   "execution_count": 45,
   "metadata": {},
   "outputs": [
    {
     "data": {
      "text/html": [
       "<div>\n",
       "<style scoped>\n",
       "    .dataframe tbody tr th:only-of-type {\n",
       "        vertical-align: middle;\n",
       "    }\n",
       "\n",
       "    .dataframe tbody tr th {\n",
       "        vertical-align: top;\n",
       "    }\n",
       "\n",
       "    .dataframe thead th {\n",
       "        text-align: right;\n",
       "    }\n",
       "</style>\n",
       "<table border=\"1\" class=\"dataframe\">\n",
       "  <thead>\n",
       "    <tr style=\"text-align: right;\">\n",
       "      <th></th>\n",
       "      <th>method</th>\n",
       "      <th>costs</th>\n",
       "      <th>n_changes</th>\n",
       "      <th>outlier</th>\n",
       "      <th>outliers_score</th>\n",
       "      <th>diversity</th>\n",
       "      <th>n_solutions</th>\n",
       "      <th>time</th>\n",
       "    </tr>\n",
       "  </thead>\n",
       "  <tbody>\n",
       "    <tr>\n",
       "      <th>0</th>\n",
       "      <td>dice</td>\n",
       "      <td>0.52 (+-0.27) | 0.91</td>\n",
       "      <td>1.72 (+-0.497) | 2.0</td>\n",
       "      <td>0.14 (+-0.351) | 1.0</td>\n",
       "      <td>0.502 (+-0.054) | 0.6</td>\n",
       "      <td>0.0 (+-0.0) | 0.0</td>\n",
       "      <td>1.0 (+-0.0) | 1.0</td>\n",
       "      <td>0.198 (+-0.038) | 0.21</td>\n",
       "    </tr>\n",
       "    <tr>\n",
       "      <th>1</th>\n",
       "      <td>mapocam_percentile</td>\n",
       "      <td>0.065 (+-0.041) | 0.114</td>\n",
       "      <td>2.14 (+-0.881) | 3.0</td>\n",
       "      <td>0.22 (+-0.418) | 1.0</td>\n",
       "      <td>0.521 (+-0.05) | 0.608</td>\n",
       "      <td>0.0 (+-0.0) | 0.0</td>\n",
       "      <td>1.0 (+-0.0) | 1.0</td>\n",
       "      <td>0.458 (+-1.258) | 1.462</td>\n",
       "    </tr>\n",
       "    <tr>\n",
       "      <th>2</th>\n",
       "      <td>mapofcem_percentile</td>\n",
       "      <td>0.099 (+-0.101) | 0.321</td>\n",
       "      <td>2.08 (+-0.877) | 3.0</td>\n",
       "      <td>0.06 (+-0.24) | 0.55</td>\n",
       "      <td>0.509 (+-0.035) | 0.557</td>\n",
       "      <td>0.0 (+-0.0) | 0.0</td>\n",
       "      <td>1.0 (+-0.0) | 1.0</td>\n",
       "      <td>0.355 (+-0.599) | 1.276</td>\n",
       "    </tr>\n",
       "    <tr>\n",
       "      <th>3</th>\n",
       "      <td>nice</td>\n",
       "      <td>0.385 (+-0.265) | 0.782</td>\n",
       "      <td>1.42 (+-0.673) | 2.55</td>\n",
       "      <td>0.12 (+-0.328) | 1.0</td>\n",
       "      <td>0.481 (+-0.05) | 0.57</td>\n",
       "      <td>0.0 (+-0.0) | 0.0</td>\n",
       "      <td>1.0 (+-0.0) | 1.0</td>\n",
       "      <td>0.005 (+-0.002) | 0.009</td>\n",
       "    </tr>\n",
       "  </tbody>\n",
       "</table>\n",
       "</div>"
      ],
      "text/plain": [
       "                method                    costs              n_changes  \\\n",
       "0                 dice     0.52 (+-0.27) | 0.91   1.72 (+-0.497) | 2.0   \n",
       "1   mapocam_percentile  0.065 (+-0.041) | 0.114   2.14 (+-0.881) | 3.0   \n",
       "2  mapofcem_percentile  0.099 (+-0.101) | 0.321   2.08 (+-0.877) | 3.0   \n",
       "3                 nice  0.385 (+-0.265) | 0.782  1.42 (+-0.673) | 2.55   \n",
       "\n",
       "                outlier           outliers_score          diversity  \\\n",
       "0  0.14 (+-0.351) | 1.0    0.502 (+-0.054) | 0.6  0.0 (+-0.0) | 0.0   \n",
       "1  0.22 (+-0.418) | 1.0   0.521 (+-0.05) | 0.608  0.0 (+-0.0) | 0.0   \n",
       "2  0.06 (+-0.24) | 0.55  0.509 (+-0.035) | 0.557  0.0 (+-0.0) | 0.0   \n",
       "3  0.12 (+-0.328) | 1.0    0.481 (+-0.05) | 0.57  0.0 (+-0.0) | 0.0   \n",
       "\n",
       "         n_solutions                     time  \n",
       "0  1.0 (+-0.0) | 1.0   0.198 (+-0.038) | 0.21  \n",
       "1  1.0 (+-0.0) | 1.0  0.458 (+-1.258) | 1.462  \n",
       "2  1.0 (+-0.0) | 1.0  0.355 (+-0.599) | 1.276  \n",
       "3  1.0 (+-0.0) | 1.0  0.005 (+-0.002) | 0.009  "
      ]
     },
     "execution_count": 45,
     "metadata": {},
     "output_type": "execute_result"
    }
   ],
   "source": [
    "dataset = \"german\"\n",
    "results = []\n",
    "for method in [\"mapofcem_percentile\", \"mapocam_percentile\", \"dice\", \"nice\"]:\n",
    "    results_cur = pd.read_csv(f\"../results/lgbm/{dataset}/{method}.csv\")\n",
    "    results_cur = summarize_results(results_cur, dataset, 0.05)\n",
    "    results_cur[\"method\"] = method\n",
    "    results.append(results_cur)\n",
    "results = pd.concat(results)\n",
    "format_df_table(results, \"method\", results.columns.tolist()[:-1])"
   ]
  },
  {
   "cell_type": "markdown",
   "metadata": {},
   "source": [
    "## Taiwan"
   ]
  },
  {
   "cell_type": "code",
   "execution_count": 46,
   "metadata": {},
   "outputs": [],
   "source": [
    "X_train, Y_train, model, outlier_detection, individuals = get_data_model(\"taiwan\")\n",
    "individuals = individuals.sample(n = 50, random_state=SEED)"
   ]
  },
  {
   "cell_type": "code",
   "execution_count": 58,
   "metadata": {},
   "outputs": [],
   "source": [
    "not_mutable_features = ['Single', 'Age_in_25_to_40', 'Married', 'Age_lt_25', 'Age_in_40_to_59', 'Age_geq_60', 'EducationLevel']\n",
    "mutable_features = [feat for feat in X_train.columns if feat not in not_mutable_features]\n",
    "continuous_features = [\"LIMIT_BAL\", \"BILL_AMT1\", \"BILL_AMT2\", \"BILL_AMT3\",\n",
    "                       \"BILL_AMT4\", \"BILL_AMT5\", \"BILL_AMT6\", \"PAY_AMT1\",\n",
    "                       \"PAY_AMT2\", \"PAY_AMT3\", \"PAY_AMT4\", \"PAY_AMT5\",\n",
    "                       \"PAY_AMT6\", \"MaxBillAmountOverLast6Months\", \"MaxPaymentAmountOverLast6Months\",\n",
    "                       \"MostRecentBillAmount\", \"MostRecentPaymentAmount\", \"MostRecentPaymentAmount\", \"TotalMonthsOverdue\",\n",
    "                       \"MonthsWithZeroBalanceOverLast6Months\", \"MonthsWithLowSpendingOverLast6Months\", \"MonthsWithHighSpendingOverLast6Months\", \"TotalOverdueCounts\"]\n",
    "categoric_features = [col for col in X_train.columns if col not in continuous_features]\n",
    "action_set = ActionSet(X = X_train, default_step_size = 0.05, mutable_features = mutable_features)\n",
    "model_shap = GeneralClassifier_Shap(model, outlier_detection, X_train, shap_explainer=\"tree\", threshold = 0.5)"
   ]
  },
  {
   "cell_type": "markdown",
   "metadata": {},
   "source": [
    "### MAPOFCEM"
   ]
  },
  {
   "cell_type": "code",
   "execution_count": 63,
   "metadata": {},
   "outputs": [
    {
     "name": "stderr",
     "output_type": "stream",
     "text": [
      "100%|███████████████████████████████████████████████████████████████████████████████████████████████████████████████████████████████████████████████████████████████████████████████████████████████████████████████| 50/50 [03:38<00:00,  4.38s/it]\n"
     ]
    }
   ],
   "source": [
    "method = MAPOFCEM(\n",
    "    action_set = action_set,\n",
    "    classifier = model_shap,\n",
    "    compare = \"percentile\",\n",
    "    max_changes = 3,\n",
    "    outlier_percentile=0.01\n",
    ")\n",
    "\n",
    "run_experiments(\n",
    "    method,\n",
    "    individuals=individuals,\n",
    "    model=model_shap,\n",
    "    output_file=f\"../results/lgbm/taiwan/mapofcem_percentile.csv\"\n",
    ");"
   ]
  },
  {
   "cell_type": "markdown",
   "metadata": {},
   "source": [
    "### MAPOCAM"
   ]
  },
  {
   "cell_type": "code",
   "execution_count": null,
   "metadata": {},
   "outputs": [],
   "source": [
    "model_shap.use_predict_max = False # to not use max prediction\n",
    "# little fix to action set\n",
    "action_set_ = copy.deepcopy(action_set)\n",
    "for feat in action_set_:\n",
    "    feat.flip_direction = 1\n",
    "    feat.update_grid()\n",
    "\n",
    "method = MAPOCAM(\n",
    "    action_set_,\n",
    "    model_shap,\n",
    "    criteria = \"percentile\",\n",
    "    max_changes=3\n",
    ")\n",
    "\n",
    "run_experiments(\n",
    "    method,\n",
    "    individuals=individuals,\n",
    "    model=model_shap,\n",
    "    output_file=f\"../results/lgbm/taiwan/mapocam_percentile.csv\"\n",
    ");"
   ]
  },
  {
   "cell_type": "markdown",
   "metadata": {},
   "source": [
    "### DICE"
   ]
  },
  {
   "cell_type": "code",
   "execution_count": null,
   "metadata": {},
   "outputs": [],
   "source": [
    "method = Dice(\n",
    "    X_train,\n",
    "    Y_train,\n",
    "    model_shap.clf,\n",
    "    n_cfs = 1,\n",
    "    mutable_features = mutable_features,\n",
    "    continuous_features = continuous_features,\n",
    ")\n",
    "\n",
    "run_experiments(\n",
    "    method,\n",
    "    individuals = individuals,\n",
    "    model = model_shap,\n",
    "    output_file=f\"../results/lgbm/taiwan/dice.csv\"\n",
    ")"
   ]
  },
  {
   "cell_type": "markdown",
   "metadata": {},
   "source": [
    "### NICE"
   ]
  },
  {
   "cell_type": "code",
   "execution_count": null,
   "metadata": {},
   "outputs": [],
   "source": [
    "method = Nice(\n",
    "    X_train,\n",
    "    Y_train,\n",
    "    model = model,\n",
    "    cat_features = categoric_features,\n",
    ")\n",
    "\n",
    "run_experiments(\n",
    "    method,\n",
    "    individuals = individuals,\n",
    "    model = model_shap,\n",
    "    output_file=f\"../results/lgbm/taiwan/nice.csv\"\n",
    ")"
   ]
  },
  {
   "cell_type": "markdown",
   "metadata": {},
   "source": [
    "### Results"
   ]
  },
  {
   "cell_type": "code",
   "execution_count": 64,
   "metadata": {},
   "outputs": [
    {
     "data": {
      "text/html": [
       "<div>\n",
       "<style scoped>\n",
       "    .dataframe tbody tr th:only-of-type {\n",
       "        vertical-align: middle;\n",
       "    }\n",
       "\n",
       "    .dataframe tbody tr th {\n",
       "        vertical-align: top;\n",
       "    }\n",
       "\n",
       "    .dataframe thead th {\n",
       "        text-align: right;\n",
       "    }\n",
       "</style>\n",
       "<table border=\"1\" class=\"dataframe\">\n",
       "  <thead>\n",
       "    <tr style=\"text-align: right;\">\n",
       "      <th></th>\n",
       "      <th>method</th>\n",
       "      <th>costs</th>\n",
       "      <th>n_changes</th>\n",
       "      <th>outlier</th>\n",
       "      <th>outliers_score</th>\n",
       "      <th>diversity</th>\n",
       "      <th>n_solutions</th>\n",
       "      <th>time</th>\n",
       "    </tr>\n",
       "  </thead>\n",
       "  <tbody>\n",
       "    <tr>\n",
       "      <th>0</th>\n",
       "      <td>dice</td>\n",
       "      <td>0.608 (+-0.294) | 0.926</td>\n",
       "      <td>1.64 (+-0.485) | 2.0</td>\n",
       "      <td>0.2 (+-0.404) | 1.0</td>\n",
       "      <td>0.504 (+-0.054) | 0.602</td>\n",
       "      <td>0.0 (+-0.0) | 0.0</td>\n",
       "      <td>1.0 (+-0.0) | 1.0</td>\n",
       "      <td>0.239 (+-0.009) | 0.252</td>\n",
       "    </tr>\n",
       "    <tr>\n",
       "      <th>1</th>\n",
       "      <td>mapocam_percentile</td>\n",
       "      <td>0.054 (+-0.05) | 0.141</td>\n",
       "      <td>2.56 (+-0.76) | 3.0</td>\n",
       "      <td>0.06 (+-0.24) | 0.55</td>\n",
       "      <td>0.454 (+-0.053) | 0.548</td>\n",
       "      <td>0.0 (+-0.0) | 0.0</td>\n",
       "      <td>1.0 (+-0.0) | 1.0</td>\n",
       "      <td>7.664 (+-21.23) | 49.131</td>\n",
       "    </tr>\n",
       "    <tr>\n",
       "      <th>2</th>\n",
       "      <td>mapofcem_percentile</td>\n",
       "      <td>0.065 (+-0.079) | 0.147</td>\n",
       "      <td>2.49 (+-0.794) | 3.0</td>\n",
       "      <td>0.041 (+-0.2) | 0.0</td>\n",
       "      <td>0.45 (+-0.043) | 0.534</td>\n",
       "      <td>0.0 (+-0.0) | 0.0</td>\n",
       "      <td>0.98 (+-0.141) | 1.0</td>\n",
       "      <td>4.374 (+-25.374) | 4.45</td>\n",
       "    </tr>\n",
       "    <tr>\n",
       "      <th>3</th>\n",
       "      <td>nice</td>\n",
       "      <td>0.238 (+-0.203) | 0.671</td>\n",
       "      <td>2.22 (+-1.582) | 5.55</td>\n",
       "      <td>0.06 (+-0.24) | 0.55</td>\n",
       "      <td>0.457 (+-0.055) | 0.55</td>\n",
       "      <td>0.0 (+-0.0) | 0.0</td>\n",
       "      <td>1.0 (+-0.0) | 1.0</td>\n",
       "      <td>0.018 (+-0.004) | 0.026</td>\n",
       "    </tr>\n",
       "  </tbody>\n",
       "</table>\n",
       "</div>"
      ],
      "text/plain": [
       "                method                    costs              n_changes  \\\n",
       "0                 dice  0.608 (+-0.294) | 0.926   1.64 (+-0.485) | 2.0   \n",
       "1   mapocam_percentile   0.054 (+-0.05) | 0.141    2.56 (+-0.76) | 3.0   \n",
       "2  mapofcem_percentile  0.065 (+-0.079) | 0.147   2.49 (+-0.794) | 3.0   \n",
       "3                 nice  0.238 (+-0.203) | 0.671  2.22 (+-1.582) | 5.55   \n",
       "\n",
       "                outlier           outliers_score          diversity  \\\n",
       "0   0.2 (+-0.404) | 1.0  0.504 (+-0.054) | 0.602  0.0 (+-0.0) | 0.0   \n",
       "1  0.06 (+-0.24) | 0.55  0.454 (+-0.053) | 0.548  0.0 (+-0.0) | 0.0   \n",
       "2   0.041 (+-0.2) | 0.0   0.45 (+-0.043) | 0.534  0.0 (+-0.0) | 0.0   \n",
       "3  0.06 (+-0.24) | 0.55   0.457 (+-0.055) | 0.55  0.0 (+-0.0) | 0.0   \n",
       "\n",
       "            n_solutions                      time  \n",
       "0     1.0 (+-0.0) | 1.0   0.239 (+-0.009) | 0.252  \n",
       "1     1.0 (+-0.0) | 1.0  7.664 (+-21.23) | 49.131  \n",
       "2  0.98 (+-0.141) | 1.0   4.374 (+-25.374) | 4.45  \n",
       "3     1.0 (+-0.0) | 1.0   0.018 (+-0.004) | 0.026  "
      ]
     },
     "execution_count": 64,
     "metadata": {},
     "output_type": "execute_result"
    }
   ],
   "source": [
    "dataset = \"taiwan\"\n",
    "results = []\n",
    "for method in [\"mapofcem_percentile\", \"mapocam_percentile\", \"dice\", \"nice\"]:\n",
    "    results_cur = pd.read_csv(f\"../results/lgbm/{dataset}/{method}.csv\")\n",
    "    results_cur = summarize_results(results_cur, dataset, 0.05)\n",
    "    results_cur[\"method\"] = method\n",
    "    results.append(results_cur)\n",
    "results = pd.concat(results)\n",
    "format_df_table(results, \"method\", results.columns.tolist()[:-1])"
   ]
  }
 ],
 "metadata": {
  "kernelspec": {
   "display_name": "Python 3 (ipykernel)",
   "language": "python",
   "name": "python3"
  }
 },
 "nbformat": 4,
 "nbformat_minor": 2
}
