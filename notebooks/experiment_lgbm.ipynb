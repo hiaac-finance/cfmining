{
 "cells": [
  {
   "cell_type": "code",
   "execution_count": 1,
   "metadata": {},
   "outputs": [],
   "source": [
    "import json\n",
    "import os\n",
    "import copy\n",
    "import numpy as np\n",
    "import pandas as pd\n",
    "from tqdm import tqdm\n",
    "import time\n",
    "import sys\n",
    "sys.path.append(\"../\")\n",
    "\n",
    "from cfmining.algorithms import MAPOFCEM, BruteForce, MAPOCAM\n",
    "from cfmining.criteria import PercentileCalculator, PercentileCriterion, PercentileChangesCriterion, NonDomCriterion\n",
    "from cfmining.predictors import GeneralClassifier_Shap, GeneralClassifier\n",
    "from cfmining.action_set import ActionSet\n",
    "from cfmining.utils import get_data_model\n",
    "\n",
    "import dice_ml\n",
    "from nice import NICE\n",
    "\n",
    "\n",
    "%load_ext autoreload\n",
    "%autoreload 2"
   ]
  },
  {
   "cell_type": "code",
   "execution_count": 2,
   "metadata": {},
   "outputs": [],
   "source": [
    "SEED = 0"
   ]
  },
  {
   "cell_type": "markdown",
   "metadata": {},
   "source": [
    "## Helper"
   ]
  },
  {
   "cell_type": "code",
   "execution_count": 3,
   "metadata": {},
   "outputs": [],
   "source": [
    "class DiCE_wrapper:\n",
    "    def __init__(self, dice_data, dice_model, total_CFs, mutable_features, sparsity_weight = 0.2):\n",
    "        self.total_CFs = total_CFs\n",
    "        self.sparsity_weight = sparsity_weight\n",
    "        self.mutable_features = mutable_features\n",
    "        self.exp = dice_ml.Dice(dice_data, dice_model)\n",
    "\n",
    "\n",
    "    def fit(self, individual):\n",
    "        dice_exp = self.exp.generate_counterfactuals(\n",
    "            individual,\n",
    "            total_CFs = self.total_CFs,\n",
    "            desired_class = \"opposite\",\n",
    "            sparsity_weight = self.sparsity_weight,\n",
    "            features_to_vary= self.mutable_features,\n",
    "        )\n",
    "        solutions  = json.loads(dice_exp.to_json())[\"cfs_list\"][0]\n",
    "        self.solutions = [solution[:-1] for solution in solutions]\n",
    "        return self\n",
    "\n",
    "\n",
    "def get_dice_results(\n",
    "    method,\n",
    "    model,\n",
    "    individuals,\n",
    "    output_file = None,\n",
    "):\n",
    "    results = []\n",
    "    \n",
    "    for i in tqdm(range(len(individuals))):\n",
    "        individual = individuals.iloc[[i]]\n",
    "        model.clear_cache()\n",
    "        start = time.time()\n",
    "        method.fit(individual)\n",
    "        end = time.time()\n",
    "\n",
    "        results.append({\n",
    "            \"individual\" : individual.values.tolist()[0],\n",
    "            \"prob\" : model.predict_proba(individual.values[0]),\n",
    "            \"time\" : end - start,\n",
    "            \"n_solutions\" : len(method.solutions),\n",
    "            \"solutions\" : method.solutions,\n",
    "        })\n",
    "    results = pd.DataFrame(results)\n",
    "    if output_file is not None:\n",
    "        results.to_csv(output_file, index=False)\n",
    "    else:\n",
    "        return results"
   ]
  },
  {
   "cell_type": "code",
   "execution_count": 4,
   "metadata": {},
   "outputs": [],
   "source": [
    "def get_nice_results(\n",
    "    method,\n",
    "    model,\n",
    "    individuals,\n",
    "    output_file=None,\n",
    "   \n",
    "):\n",
    "    \n",
    "\n",
    "    results = []\n",
    "\n",
    "    for i in tqdm(range(len(individuals))):\n",
    "        individual = individuals.iloc[[i]]\n",
    "        start = time.time()\n",
    "\n",
    "        # Generate counterfactuals using NICE\n",
    "        cf = method.explain(individual.values).tolist()\n",
    "\n",
    "        end = time.time()\n",
    "\n",
    "        results.append({\n",
    "            \"individual\": individual.values.tolist()[0],\n",
    "            \"prob\": model.predict_proba(individual.values[0]),\n",
    "            \"time\": end - start,\n",
    "            \"n_solutions\": len(cf),\n",
    "            \"solutions\": cf,\n",
    "        })\n",
    "\n",
    "    results = pd.DataFrame(results)\n",
    "    if output_file is not None:\n",
    "        results.to_csv(output_file, index=False)\n",
    "    else:\n",
    "        return results\n"
   ]
  },
  {
   "cell_type": "code",
   "execution_count": 5,
   "metadata": {},
   "outputs": [],
   "source": [
    "class MAPOCAM_wrapper:\n",
    "    def __init__(self, action_set, model, criteria, max_changes):\n",
    "        self.action_set = action_set\n",
    "        self.model = model\n",
    "        if criteria == \"percentile\":\n",
    "            perc_calc = PercentileCalculator(action_set = action_set)\n",
    "            self.compare = lambda ind : PercentileCriterion(ind, perc_calc)\n",
    "        elif criteria == \"percentile_changes\":\n",
    "            perc_calc = PercentileCalculator(action_set = action_set)\n",
    "            self.compare = lambda ind : PercentileChangesCriterion(ind, perc_calc)\n",
    "        elif criteria == \"nom_dom\":\n",
    "            self.compare = lambda ind : NonDomCriterion(ind)\n",
    "            \n",
    "        self.max_changes = max_changes\n",
    "\n",
    "    def fit(self, individual):\n",
    "        m = MAPOCAM(\n",
    "            self.action_set,\n",
    "            individual,\n",
    "            self.model, \n",
    "            max_changes = self.max_changes,\n",
    "            compare = self.compare(individual)\n",
    "        )\n",
    "        m.fit()\n",
    "        self.solutions = m.solutions\n",
    "        return self\n"
   ]
  },
  {
   "cell_type": "code",
   "execution_count": 6,
   "metadata": {},
   "outputs": [],
   "source": [
    "class BruteForce_wrapper:\n",
    "    def __init__(self, action_set, model, criteria, max_changes):\n",
    "        self.action_set = action_set\n",
    "        self.model = model\n",
    "        if criteria == \"percentile\":\n",
    "            perc_calc = PercentileCalculator(action_set = action_set)\n",
    "            self.compare = lambda ind : PercentileCriterion(ind, perc_calc)\n",
    "        elif criteria == \"percentile_changes\":\n",
    "            perc_calc = PercentileCalculator(action_set = action_set)\n",
    "            self.compare = lambda ind : PercentileChangesCriterion(ind, perc_calc)\n",
    "        elif criteria == \"nom_dom\":\n",
    "            self.compare = lambda ind : NonDomCriterion(ind)\n",
    "            \n",
    "        self.max_changes = max_changes\n",
    "\n",
    "    def fit(self, individual):\n",
    "        m = BruteForce(\n",
    "            self.action_set,\n",
    "            individual,\n",
    "            self.model, \n",
    "            max_changes = self.max_changes,\n",
    "            compare = self.compare(individual)\n",
    "        )\n",
    "        m.fit()\n",
    "        self.solutions = m.solutions\n",
    "        return self"
   ]
  },
  {
   "cell_type": "code",
   "execution_count": 7,
   "metadata": {},
   "outputs": [],
   "source": [
    "def get_mapofcem_results(\n",
    "        method,\n",
    "        individuals, \n",
    "        model, \n",
    "        output_file = None,\n",
    "    ):\n",
    "    results = []\n",
    "\n",
    "    for i in tqdm(range(len(individuals))):\n",
    "        individual = individuals.iloc[i]\n",
    "        model.clear_cache()\n",
    "        start = time.time()\n",
    "        method.fit(individual.values)\n",
    "        end = time.time()\n",
    "\n",
    "        solutions = method.solutions\n",
    "        solutions = [s.tolist() for s in solutions]\n",
    "        \n",
    "        results.append({\n",
    "            \"individual\" : individual.values.tolist(),\n",
    "            \"prob\" : model.predict_proba(individual.values),\n",
    "            \"time\" : end - start,\n",
    "            \"n_solutions\" : len(method.solutions),\n",
    "            \"solutions\" : solutions,\n",
    "        })\n",
    "\n",
    "        if output_file is not None:\n",
    "            pd.DataFrame(results).to_csv(output_file, index=False)\n",
    "\n",
    "        \n",
    "\n",
    "    results = pd.DataFrame(results)\n",
    "    if output_file is not None:\n",
    "        results.to_csv(output_file, index=False)\n",
    "    else:\n",
    "        return results\n",
    "    \n",
    "    \n",
    "def run_all_mapofcem_variations(\n",
    "    dataset_name,\n",
    "    action_set,\n",
    "    individuals,\n",
    "    model_shap,\n",
    "):\n",
    "    # MAPOFCEM\n",
    "\n",
    "    ## MPC\n",
    "\n",
    "    method = MAPOFCEM(\n",
    "        action_set,\n",
    "        model_shap,\n",
    "        compare = \"percentile\",\n",
    "        estimate_prob_max=True,\n",
    "        estimate_outlier=False,\n",
    "        max_changes = 3\n",
    "    )\n",
    "    \n",
    "\n",
    "    get_mapofcem_results(\n",
    "        method=method,\n",
    "        individuals=individuals,\n",
    "        model=model_shap,\n",
    "        output_file=f\"../results/{dataset_name}/mapofcem_percentile.csv\"\n",
    "    )\n",
    "\n",
    "\n",
    "    method = MAPOFCEM(\n",
    "        action_set,\n",
    "        model_shap,\n",
    "        compare = \"percentile\",\n",
    "        estimate_prob_max=True,\n",
    "        estimate_outlier=True,\n",
    "        max_changes = 3\n",
    "    )\n",
    "\n",
    "    get_mapofcem_results(\n",
    "        method=method,\n",
    "        individuals=individuals,\n",
    "        model=model_shap,\n",
    "        output_file=f\"../results/{dataset_name}/mapofcem_v2_percentile.csv\"\n",
    "    )\n",
    "\n",
    "\n",
    "    return"
   ]
  },
  {
   "cell_type": "markdown",
   "metadata": {},
   "source": [
    "## German"
   ]
  },
  {
   "cell_type": "code",
   "execution_count": 8,
   "metadata": {},
   "outputs": [],
   "source": [
    "X_train, Y_train, model, outlier_detection, individuals = get_data_model(\"german\", \"LGBMClassifier\")\n",
    "individuals = individuals.sample(n = 50, random_state=SEED)"
   ]
  },
  {
   "cell_type": "code",
   "execution_count": 10,
   "metadata": {},
   "outputs": [],
   "source": [
    "not_mutable_features = ['Age', 'OwnsHouse', 'isMale', 'JobClassIsSkilled', 'Single', 'ForeignWorker', 'RentsHouse']\n",
    "mutable_features = [feat for feat in X_train.columns if feat not in not_mutable_features]\n",
    "continuous_features = ['Age', 'LoanDuration', 'LoanAmount', 'LoanRateAsPercentOfIncome','YearsAtCurrentHome']\n",
    "categoric_features = [col for col in X_train.columns if col not in continuous_features]\n",
    "\n",
    "action_set = ActionSet(X = X_train, default_step_size = 0.05, mutable_features = mutable_features)"
   ]
  },
  {
   "cell_type": "code",
   "execution_count": 11,
   "metadata": {},
   "outputs": [],
   "source": [
    "model_shap = GeneralClassifier_Shap(model, outlier_detection, X_train, shap_explainer=\"tree\", threshold = 0.5)"
   ]
  },
  {
   "cell_type": "markdown",
   "metadata": {},
   "source": [
    "### MAPOFCEM"
   ]
  },
  {
   "cell_type": "code",
   "execution_count": 93,
   "metadata": {},
   "outputs": [
    {
     "name": "stderr",
     "output_type": "stream",
     "text": [
      "  0%|                                                                                                           | 0/50 [00:00<?, ?it/s]"
     ]
    },
    {
     "name": "stderr",
     "output_type": "stream",
     "text": [
      "100%|██████████████████████████████████████████████████████████████████████████████████████████████████| 50/50 [00:25<00:00,  1.96it/s]\n",
      "100%|██████████████████████████████████████████████████████████████████████████████████████████████████| 50/50 [00:36<00:00,  1.38it/s]\n"
     ]
    }
   ],
   "source": [
    "run_all_mapofcem_variations(\n",
    "    dataset_name=\"german\",\n",
    "    action_set=action_set,\n",
    "    individuals=individuals,\n",
    "    model_shap=model_shap,\n",
    ")"
   ]
  },
  {
   "cell_type": "markdown",
   "metadata": {},
   "source": [
    "### MAPOCAM"
   ]
  },
  {
   "cell_type": "code",
   "execution_count": 96,
   "metadata": {},
   "outputs": [],
   "source": [
    "model_shap.use_predict_max = False"
   ]
  },
  {
   "cell_type": "code",
   "execution_count": 102,
   "metadata": {},
   "outputs": [
    {
     "name": "stderr",
     "output_type": "stream",
     "text": [
      "100%|██████████████████████████████████████████████████████████████████████████████████████████████████| 50/50 [00:19<00:00,  2.60it/s]\n"
     ]
    }
   ],
   "source": [
    "# little fix to action set\n",
    "action_set_ = copy.deepcopy(action_set)\n",
    "for feat in action_set_:\n",
    "    feat.flip_direction = 1\n",
    "    feat.update_grid()\n",
    "\n",
    "\n",
    "mapocam = MAPOCAM_wrapper(\n",
    "    action_set = action_set_,\n",
    "    model = model_shap,\n",
    "    criteria = \"percentile\",\n",
    "    max_changes = 3\n",
    ")\n",
    "\n",
    "get_mapofcem_results(\n",
    "    mapocam,\n",
    "    individuals=individuals,\n",
    "    model=model_shap,\n",
    "    output_file=f\"../results/german/mapocam_percentile.csv\"\n",
    ")"
   ]
  },
  {
   "cell_type": "markdown",
   "metadata": {},
   "source": [
    "### Bruteforce"
   ]
  },
  {
   "cell_type": "code",
   "execution_count": 106,
   "metadata": {},
   "outputs": [
    {
     "name": "stderr",
     "output_type": "stream",
     "text": [
      "100%|██████████████████████████████████████████████████████████████████████████████████████████████████| 50/50 [13:46<00:00, 16.54s/it]\n"
     ]
    }
   ],
   "source": [
    "# little fix to action set\n",
    "action_set_ = copy.deepcopy(action_set)\n",
    "for feat in action_set_:\n",
    "    feat.flip_direction = 1\n",
    "    feat.update_grid()\n",
    "\n",
    "bruteforce = BruteForce_wrapper(\n",
    "    action_set=action_set_,\n",
    "    model = model_shap,\n",
    "    criteria=\"percentile\",\n",
    "    max_changes=3\n",
    ")\n",
    "\n",
    "get_mapofcem_results(\n",
    "    bruteforce,\n",
    "    individuals=individuals,\n",
    "    model=model_shap,\n",
    "    output_file=f\"../results/german/bruteforce_percentiles.csv\"\n",
    ")"
   ]
  },
  {
   "cell_type": "markdown",
   "metadata": {},
   "source": [
    "### DICE"
   ]
  },
  {
   "cell_type": "code",
   "execution_count": 12,
   "metadata": {},
   "outputs": [],
   "source": [
    "dice_model = dice_ml.Model(\n",
    "    model = model,\n",
    "    backend = \"sklearn\",\n",
    "    model_type = \"classifier\"\n",
    ")\n",
    "X_train_extended = X_train.copy()\n",
    "X_train_extended[\"target\"] = Y_train\n",
    "dice_data = dice_ml.Data(\n",
    "    dataframe = X_train_extended,\n",
    "    continuous_features = X_train.columns.tolist(),\n",
    "    outcome_name = \"target\",\n",
    ")\n",
    "method = DiCE_wrapper(\n",
    "    dice_data = dice_data,\n",
    "    dice_model = dice_model,\n",
    "    total_CFs= 1,\n",
    "    mutable_features= mutable_features\n",
    ")"
   ]
  },
  {
   "cell_type": "code",
   "execution_count": 13,
   "metadata": {},
   "outputs": [
    {
     "name": "stderr",
     "output_type": "stream",
     "text": [
      "100%|████████████████████████████████████████████████████████████████████████████████████████████████████████████████████| 1/1 [00:00<00:00,  5.51it/s]\n",
      "100%|████████████████████████████████████████████████████████████████████████████████████████████████████████████████████| 1/1 [00:00<00:00,  6.37it/s]\n",
      "100%|████████████████████████████████████████████████████████████████████████████████████████████████████████████████████| 1/1 [00:00<00:00,  6.86it/s]\n",
      "100%|████████████████████████████████████████████████████████████████████████████████████████████████████████████████████| 1/1 [00:00<00:00,  7.04it/s]\n",
      "100%|████████████████████████████████████████████████████████████████████████████████████████████████████████████████████| 1/1 [00:00<00:00,  6.99it/s]\n",
      "100%|████████████████████████████████████████████████████████████████████████████████████████████████████████████████████| 1/1 [00:00<00:00,  7.00it/s]\n",
      "100%|████████████████████████████████████████████████████████████████████████████████████████████████████████████████████| 1/1 [00:00<00:00,  7.03it/s]\n",
      "100%|████████████████████████████████████████████████████████████████████████████████████████████████████████████████████| 1/1 [00:00<00:00,  6.30it/s]\n",
      "100%|████████████████████████████████████████████████████████████████████████████████████████████████████████████████████| 1/1 [00:00<00:00,  7.01it/s]\n",
      "100%|████████████████████████████████████████████████████████████████████████████████████████████████████████████████████| 1/1 [00:00<00:00,  6.53it/s]\n",
      "100%|████████████████████████████████████████████████████████████████████████████████████████████████████████████████████| 1/1 [00:00<00:00,  6.98it/s]\n",
      "100%|████████████████████████████████████████████████████████████████████████████████████████████████████████████████████| 1/1 [00:00<00:00,  7.06it/s]\n",
      "100%|████████████████████████████████████████████████████████████████████████████████████████████████████████████████████| 1/1 [00:00<00:00,  7.04it/s]\n",
      "100%|████████████████████████████████████████████████████████████████████████████████████████████████████████████████████| 1/1 [00:00<00:00,  6.94it/s]\n",
      "100%|████████████████████████████████████████████████████████████████████████████████████████████████████████████████████| 1/1 [00:00<00:00,  7.13it/s]\n",
      "100%|████████████████████████████████████████████████████████████████████████████████████████████████████████████████████| 1/1 [00:00<00:00,  6.46it/s]\n",
      "100%|████████████████████████████████████████████████████████████████████████████████████████████████████████████████████| 1/1 [00:00<00:00,  6.78it/s]\n",
      "100%|████████████████████████████████████████████████████████████████████████████████████████████████████████████████████| 1/1 [00:00<00:00,  6.91it/s]\n",
      "100%|████████████████████████████████████████████████████████████████████████████████████████████████████████████████████| 1/1 [00:00<00:00,  6.42it/s]\n",
      "100%|████████████████████████████████████████████████████████████████████████████████████████████████████████████████████| 1/1 [00:00<00:00,  6.53it/s]\n",
      "100%|████████████████████████████████████████████████████████████████████████████████████████████████████████████████████| 1/1 [00:00<00:00,  6.16it/s]\n",
      "100%|████████████████████████████████████████████████████████████████████████████████████████████████████████████████████| 1/1 [00:00<00:00,  6.99it/s]\n",
      "100%|████████████████████████████████████████████████████████████████████████████████████████████████████████████████████| 1/1 [00:00<00:00,  6.58it/s]\n",
      "100%|████████████████████████████████████████████████████████████████████████████████████████████████████████████████████| 1/1 [00:00<00:00,  6.34it/s]\n",
      "100%|████████████████████████████████████████████████████████████████████████████████████████████████████████████████████| 1/1 [00:00<00:00,  6.51it/s]\n",
      "100%|████████████████████████████████████████████████████████████████████████████████████████████████████████████████████| 1/1 [00:00<00:00,  7.09it/s]\n",
      "100%|████████████████████████████████████████████████████████████████████████████████████████████████████████████████████| 1/1 [00:00<00:00,  6.63it/s]\n",
      "100%|████████████████████████████████████████████████████████████████████████████████████████████████████████████████████| 1/1 [00:00<00:00,  7.14it/s]\n",
      "100%|████████████████████████████████████████████████████████████████████████████████████████████████████████████████████| 1/1 [00:00<00:00,  6.74it/s]\n",
      "100%|████████████████████████████████████████████████████████████████████████████████████████████████████████████████████| 1/1 [00:00<00:00,  7.09it/s]\n",
      "100%|████████████████████████████████████████████████████████████████████████████████████████████████████████████████████| 1/1 [00:00<00:00,  6.84it/s]\n",
      "100%|████████████████████████████████████████████████████████████████████████████████████████████████████████████████████| 1/1 [00:00<00:00,  7.00it/s]\n",
      "100%|████████████████████████████████████████████████████████████████████████████████████████████████████████████████████| 1/1 [00:00<00:00,  6.45it/s]\n",
      "100%|████████████████████████████████████████████████████████████████████████████████████████████████████████████████████| 1/1 [00:00<00:00,  6.41it/s]\n",
      "100%|████████████████████████████████████████████████████████████████████████████████████████████████████████████████████| 1/1 [00:00<00:00,  6.72it/s]\n",
      "100%|████████████████████████████████████████████████████████████████████████████████████████████████████████████████████| 1/1 [00:00<00:00,  7.11it/s]\n",
      "100%|████████████████████████████████████████████████████████████████████████████████████████████████████████████████████| 1/1 [00:00<00:00,  7.04it/s]\n",
      "100%|████████████████████████████████████████████████████████████████████████████████████████████████████████████████████| 1/1 [00:00<00:00,  7.07it/s]\n",
      "100%|████████████████████████████████████████████████████████████████████████████████████████████████████████████████████| 1/1 [00:00<00:00,  7.04it/s]\n",
      "100%|████████████████████████████████████████████████████████████████████████████████████████████████████████████████████| 1/1 [00:00<00:00,  6.91it/s]\n",
      "100%|████████████████████████████████████████████████████████████████████████████████████████████████████████████████████| 1/1 [00:00<00:00,  7.12it/s]\n",
      "100%|████████████████████████████████████████████████████████████████████████████████████████████████████████████████████| 1/1 [00:00<00:00,  6.36it/s]\n",
      "100%|████████████████████████████████████████████████████████████████████████████████████████████████████████████████████| 1/1 [00:00<00:00,  6.09it/s]\n",
      "100%|████████████████████████████████████████████████████████████████████████████████████████████████████████████████████| 1/1 [00:00<00:00,  7.09it/s]\n",
      "100%|████████████████████████████████████████████████████████████████████████████████████████████████████████████████████| 1/1 [00:00<00:00,  7.08it/s]\n",
      "100%|████████████████████████████████████████████████████████████████████████████████████████████████████████████████████| 1/1 [00:00<00:00,  7.13it/s]\n",
      "100%|████████████████████████████████████████████████████████████████████████████████████████████████████████████████████| 1/1 [00:00<00:00,  7.04it/s]\n",
      "100%|████████████████████████████████████████████████████████████████████████████████████████████████████████████████████| 1/1 [00:00<00:00,  6.24it/s]\n",
      "100%|████████████████████████████████████████████████████████████████████████████████████████████████████████████████████| 1/1 [00:00<00:00,  7.08it/s]\n",
      "100%|████████████████████████████████████████████████████████████████████████████████████████████████████████████████████| 1/1 [00:00<00:00,  6.89it/s]\n",
      "100%|██████████████████████████████████████████████████████████████████████████████████████████████████████████████████| 50/50 [00:08<00:00,  6.24it/s]\n"
     ]
    }
   ],
   "source": [
    "get_dice_results(\n",
    "    method,\n",
    "    model_shap,\n",
    "    individuals = individuals,\n",
    "    output_file=f\"../results/german/dice_1sol.csv\"\n",
    ")"
   ]
  },
  {
   "cell_type": "markdown",
   "metadata": {},
   "source": [
    "### NICE"
   ]
  },
  {
   "cell_type": "code",
   "execution_count": 14,
   "metadata": {},
   "outputs": [
    {
     "name": "stderr",
     "output_type": "stream",
     "text": [
      "  0%|                                                                                                                                                                             | 0/50 [00:00<?, ?it/s]"
     ]
    },
    {
     "name": "stderr",
     "output_type": "stream",
     "text": [
      "100%|███████████████████████████████████████████████████████████████████████████████████████████████████████████████████████████████████████████████████████████████████| 50/50 [00:00<00:00, 183.07it/s]\n"
     ]
    }
   ],
   "source": [
    "predict_fn = lambda x: model.predict_proba(x)\n",
    "\n",
    "columns_list = X_train.columns.tolist()\n",
    "cat_feat = [columns_list.index(feat) for feat in categoric_features]\n",
    "num_feat = [columns_list.index(feat) for feat in continuous_features]\n",
    "\n",
    "method = NICE(\n",
    "    X_train=X_train.values,\n",
    "    predict_fn=predict_fn,\n",
    "    y_train=Y_train,\n",
    "    cat_feat=cat_feat,\n",
    "    num_feat=num_feat,\n",
    "    distance_metric='HEOM',\n",
    "    num_normalization='minmax',\n",
    "    optimization='proximity',\n",
    "    justified_cf=True\n",
    ")\n",
    "\n",
    "\n",
    "get_nice_results(\n",
    "    method, \n",
    "    model_shap,\n",
    "    individuals=individuals,\n",
    "    output_file=\"../results/german/nice_sol.csv\"\n",
    ")\n"
   ]
  },
  {
   "cell_type": "markdown",
   "metadata": {},
   "source": [
    "## Taiwan"
   ]
  },
  {
   "cell_type": "code",
   "execution_count": 30,
   "metadata": {},
   "outputs": [],
   "source": [
    "X_train, Y_train, model, outlier_detection, individuals = get_data_model(\"taiwan\")\n",
    "#convert bools to int\n",
    "X_train = X_train.astype(int)\n",
    "individuals = individuals.astype(int)\n",
    "individuals = individuals.sample(n = 50, random_state=SEED)"
   ]
  },
  {
   "cell_type": "code",
   "execution_count": 31,
   "metadata": {},
   "outputs": [],
   "source": [
    "not_mutable_features = ['Single', 'Age_in_25_to_40', 'Married', 'Age_lt_25', 'Age_in_40_to_59', 'Age_geq_60', 'EducationLevel']\n",
    "mutable_features = [feat for feat in X_train.columns if feat not in not_mutable_features]\n",
    "continuous_features = [\"LIMIT_BAL\", \"BILL_AMT1\", \"BILL_AMT2\", \"BILL_AMT3\",\n",
    "                       \"BILL_AMT4\", \"BILL_AMT5\", \"BILL_AMT6\", \"PAY_AMT1\",\n",
    "                       \"PAY_AMT2\", \"PAY_AMT3\", \"PAY_AMT4\", \"PAY_AMT5\",\n",
    "                       \"PAY_AMT6\", \"MaxBillAmountOverLast6Months\", \"MaxPaymentAmountOverLast6Months\",\n",
    "                       \"MostRecentBillAmount\", \"MostRecentPaymentAmount\", \"MostRecentPaymentAmount\", \"TotalMonthsOverdue\"]\n",
    "categoric_features = [col for col in X_train.columns if col not in continuous_features]\n",
    "action_set = ActionSet(X = X_train, default_step_size = 0.1, mutable_features = mutable_features)"
   ]
  },
  {
   "cell_type": "markdown",
   "metadata": {},
   "source": [
    "### MAPOFCEM"
   ]
  },
  {
   "cell_type": "code",
   "execution_count": 37,
   "metadata": {},
   "outputs": [],
   "source": [
    "model_shap = GeneralClassifier_Shap(model, outlier_detection, X_train, shap_explainer=\"tree\", threshold = 0.5)"
   ]
  },
  {
   "cell_type": "code",
   "execution_count": 38,
   "metadata": {},
   "outputs": [
    {
     "name": "stderr",
     "output_type": "stream",
     "text": [
      "100%|████████████████████████████████████████████████████████████████████████████████████████████████████████████████████████████████████████████████████████████████████| 50/50 [00:49<00:00,  1.00it/s]\n",
      "100%|████████████████████████████████████████████████████████████████████████████████████████████████████████████████████████████████████████████████████████████████████| 50/50 [00:55<00:00,  1.11s/it]\n"
     ]
    }
   ],
   "source": [
    "run_all_mapofcem_variations(\n",
    "    dataset_name=\"taiwan\",\n",
    "    action_set=action_set,\n",
    "    individuals=individuals,\n",
    "    model_shap=model_shap,\n",
    ")"
   ]
  },
  {
   "cell_type": "markdown",
   "metadata": {},
   "source": [
    "### MAPOCAM"
   ]
  },
  {
   "cell_type": "code",
   "execution_count": 32,
   "metadata": {},
   "outputs": [],
   "source": [
    "model_shap.use_predict_max = False"
   ]
  },
  {
   "cell_type": "code",
   "execution_count": 33,
   "metadata": {},
   "outputs": [
    {
     "name": "stderr",
     "output_type": "stream",
     "text": [
      "100%|████████████████████████████████████████████████████████████████████████████████████████████████████████████████████████████████████████████████████████████████████| 50/50 [01:48<00:00,  2.17s/it]\n"
     ]
    }
   ],
   "source": [
    "# little fix to action set\n",
    "action_set_ = copy.deepcopy(action_set)\n",
    "for feat in action_set_:\n",
    "    feat.flip_direction = 1\n",
    "    feat.update_grid()\n",
    "\n",
    "mapocam = MAPOCAM_wrapper(\n",
    "    action_set = action_set_,\n",
    "    model = model_shap,\n",
    "    criteria=\"percentile\",\n",
    "    max_changes=3\n",
    ")\n",
    "\n",
    "\n",
    "get_mapofcem_results(\n",
    "    mapocam,\n",
    "    individuals=individuals,\n",
    "    model=model_shap,\n",
    "    output_file=f\"../results/taiwan/mapocam_percentile.csv\"\n",
    ")"
   ]
  },
  {
   "cell_type": "markdown",
   "metadata": {},
   "source": [
    "### Bruteforce"
   ]
  },
  {
   "cell_type": "code",
   "execution_count": null,
   "metadata": {},
   "outputs": [],
   "source": [
    "# little fix to action set\n",
    "action_set_ = copy.deepcopy(action_set)\n",
    "for feat in action_set_:\n",
    "    feat.flip_direction = 1\n",
    "    feat.update_grid()\n",
    "\n",
    "bruteforce = BruteForce_wrapper(\n",
    "    action_set=action_set_,\n",
    "    model = model_shap,\n",
    "    criteria=\"percentile\",\n",
    "    max_changes=3\n",
    ")\n",
    "\n",
    "# get_mapofcem_results(\n",
    "#     bruteforce,\n",
    "#     individuals=individuals,\n",
    "#     model=model_shap,\n",
    "#     output_file=f\"../results/taiwan/bruteforce_percentile.csv\"\n",
    "# )"
   ]
  },
  {
   "cell_type": "markdown",
   "metadata": {},
   "source": [
    "### DICE"
   ]
  },
  {
   "cell_type": "code",
   "execution_count": 34,
   "metadata": {},
   "outputs": [],
   "source": [
    "dice_model = dice_ml.Model(\n",
    "    model = model,\n",
    "    backend = \"sklearn\",\n",
    "    model_type = \"classifier\"\n",
    ")\n",
    "X_train_extended = X_train.copy()\n",
    "X_train_extended[\"target\"] = Y_train\n",
    "dice_data = dice_ml.Data(\n",
    "    dataframe = X_train_extended,\n",
    "    continuous_features = X_train.columns.tolist(),#continuous_features,\n",
    "    outcome_name = \"target\",\n",
    ")\n",
    "\n",
    "method = DiCE_wrapper(\n",
    "    dice_data = dice_data,\n",
    "    dice_model = dice_model,\n",
    "    total_CFs= 1,\n",
    "    mutable_features= mutable_features\n",
    ")\n",
    "\n",
    "\n"
   ]
  },
  {
   "cell_type": "code",
   "execution_count": 35,
   "metadata": {},
   "outputs": [
    {
     "name": "stderr",
     "output_type": "stream",
     "text": [
      "100%|██████████████████████████████████████████████████████████████████████████████████████████████████████████████████████████████████████████████████████████████████████| 1/1 [00:00<00:00,  3.89it/s]\n",
      "100%|██████████████████████████████████████████████████████████████████████████████████████████████████████████████████████████████████████████████████████████████████████| 1/1 [00:00<00:00,  4.18it/s]\n",
      "100%|██████████████████████████████████████████████████████████████████████████████████████████████████████████████████████████████████████████████████████████████████████| 1/1 [00:00<00:00,  4.26it/s]\n",
      "100%|██████████████████████████████████████████████████████████████████████████████████████████████████████████████████████████████████████████████████████████████████████| 1/1 [00:00<00:00,  4.49it/s]\n",
      "100%|██████████████████████████████████████████████████████████████████████████████████████████████████████████████████████████████████████████████████████████████████████| 1/1 [00:00<00:00,  4.58it/s]\n",
      "100%|██████████████████████████████████████████████████████████████████████████████████████████████████████████████████████████████████████████████████████████████████████| 1/1 [00:00<00:00,  4.41it/s]\n",
      "100%|██████████████████████████████████████████████████████████████████████████████████████████████████████████████████████████████████████████████████████████████████████| 1/1 [00:00<00:00,  4.34it/s]\n",
      "100%|██████████████████████████████████████████████████████████████████████████████████████████████████████████████████████████████████████████████████████████████████████| 1/1 [00:00<00:00,  4.27it/s]\n",
      "100%|██████████████████████████████████████████████████████████████████████████████████████████████████████████████████████████████████████████████████████████████████████| 1/1 [00:00<00:00,  4.22it/s]\n",
      "100%|██████████████████████████████████████████████████████████████████████████████████████████████████████████████████████████████████████████████████████████████████████| 1/1 [00:00<00:00,  4.35it/s]\n",
      "100%|██████████████████████████████████████████████████████████████████████████████████████████████████████████████████████████████████████████████████████████████████████| 1/1 [00:00<00:00,  4.57it/s]\n",
      "100%|██████████████████████████████████████████████████████████████████████████████████████████████████████████████████████████████████████████████████████████████████████| 1/1 [00:00<00:00,  4.57it/s]\n",
      "100%|██████████████████████████████████████████████████████████████████████████████████████████████████████████████████████████████████████████████████████████████████████| 1/1 [00:00<00:00,  4.14it/s]\n",
      "100%|██████████████████████████████████████████████████████████████████████████████████████████████████████████████████████████████████████████████████████████████████████| 1/1 [00:00<00:00,  4.27it/s]\n",
      "100%|██████████████████████████████████████████████████████████████████████████████████████████████████████████████████████████████████████████████████████████████████████| 1/1 [00:00<00:00,  4.56it/s]\n",
      "100%|██████████████████████████████████████████████████████████████████████████████████████████████████████████████████████████████████████████████████████████████████████| 1/1 [00:00<00:00,  4.52it/s]\n",
      "100%|██████████████████████████████████████████████████████████████████████████████████████████████████████████████████████████████████████████████████████████████████████| 1/1 [00:00<00:00,  4.58it/s]\n",
      "100%|██████████████████████████████████████████████████████████████████████████████████████████████████████████████████████████████████████████████████████████████████████| 1/1 [00:00<00:00,  4.58it/s]\n",
      "100%|██████████████████████████████████████████████████████████████████████████████████████████████████████████████████████████████████████████████████████████████████████| 1/1 [00:00<00:00,  4.37it/s]\n",
      "100%|██████████████████████████████████████████████████████████████████████████████████████████████████████████████████████████████████████████████████████████████████████| 1/1 [00:00<00:00,  4.52it/s]\n",
      "100%|██████████████████████████████████████████████████████████████████████████████████████████████████████████████████████████████████████████████████████████████████████| 1/1 [00:00<00:00,  4.62it/s]\n",
      "100%|██████████████████████████████████████████████████████████████████████████████████████████████████████████████████████████████████████████████████████████████████████| 1/1 [00:00<00:00,  4.30it/s]\n",
      "100%|██████████████████████████████████████████████████████████████████████████████████████████████████████████████████████████████████████████████████████████████████████| 1/1 [00:00<00:00,  4.55it/s]\n",
      "100%|██████████████████████████████████████████████████████████████████████████████████████████████████████████████████████████████████████████████████████████████████████| 1/1 [00:00<00:00,  4.59it/s]\n",
      "100%|██████████████████████████████████████████████████████████████████████████████████████████████████████████████████████████████████████████████████████████████████████| 1/1 [00:00<00:00,  4.29it/s]\n",
      "100%|██████████████████████████████████████████████████████████████████████████████████████████████████████████████████████████████████████████████████████████████████████| 1/1 [00:00<00:00,  4.17it/s]\n",
      "100%|██████████████████████████████████████████████████████████████████████████████████████████████████████████████████████████████████████████████████████████████████████| 1/1 [00:00<00:00,  4.21it/s]\n",
      "100%|██████████████████████████████████████████████████████████████████████████████████████████████████████████████████████████████████████████████████████████████████████| 1/1 [00:00<00:00,  4.50it/s]\n",
      "100%|██████████████████████████████████████████████████████████████████████████████████████████████████████████████████████████████████████████████████████████████████████| 1/1 [00:00<00:00,  4.57it/s]\n",
      "100%|██████████████████████████████████████████████████████████████████████████████████████████████████████████████████████████████████████████████████████████████████████| 1/1 [00:00<00:00,  4.56it/s]\n",
      "100%|██████████████████████████████████████████████████████████████████████████████████████████████████████████████████████████████████████████████████████████████████████| 1/1 [00:00<00:00,  4.25it/s]\n",
      "100%|██████████████████████████████████████████████████████████████████████████████████████████████████████████████████████████████████████████████████████████████████████| 1/1 [00:00<00:00,  4.24it/s]\n",
      "100%|██████████████████████████████████████████████████████████████████████████████████████████████████████████████████████████████████████████████████████████████████████| 1/1 [00:00<00:00,  4.26it/s]\n",
      "100%|██████████████████████████████████████████████████████████████████████████████████████████████████████████████████████████████████████████████████████████████████████| 1/1 [00:00<00:00,  4.47it/s]\n",
      "100%|██████████████████████████████████████████████████████████████████████████████████████████████████████████████████████████████████████████████████████████████████████| 1/1 [00:00<00:00,  4.32it/s]\n",
      "100%|██████████████████████████████████████████████████████████████████████████████████████████████████████████████████████████████████████████████████████████████████████| 1/1 [00:00<00:00,  4.50it/s]\n",
      "100%|██████████████████████████████████████████████████████████████████████████████████████████████████████████████████████████████████████████████████████████████████████| 1/1 [00:00<00:00,  4.50it/s]\n",
      "100%|██████████████████████████████████████████████████████████████████████████████████████████████████████████████████████████████████████████████████████████████████████| 1/1 [00:00<00:00,  4.25it/s]\n",
      "100%|██████████████████████████████████████████████████████████████████████████████████████████████████████████████████████████████████████████████████████████████████████| 1/1 [00:00<00:00,  4.24it/s]\n",
      "100%|██████████████████████████████████████████████████████████████████████████████████████████████████████████████████████████████████████████████████████████████████████| 1/1 [00:00<00:00,  4.35it/s]\n",
      "100%|██████████████████████████████████████████████████████████████████████████████████████████████████████████████████████████████████████████████████████████████████████| 1/1 [00:00<00:00,  4.23it/s]\n",
      "100%|██████████████████████████████████████████████████████████████████████████████████████████████████████████████████████████████████████████████████████████████████████| 1/1 [00:00<00:00,  4.24it/s]\n",
      "100%|██████████████████████████████████████████████████████████████████████████████████████████████████████████████████████████████████████████████████████████████████████| 1/1 [00:00<00:00,  4.53it/s]\n",
      "100%|██████████████████████████████████████████████████████████████████████████████████████████████████████████████████████████████████████████████████████████████████████| 1/1 [00:00<00:00,  4.55it/s]\n",
      "100%|██████████████████████████████████████████████████████████████████████████████████████████████████████████████████████████████████████████████████████████████████████| 1/1 [00:00<00:00,  4.60it/s]\n",
      "100%|██████████████████████████████████████████████████████████████████████████████████████████████████████████████████████████████████████████████████████████████████████| 1/1 [00:00<00:00,  4.51it/s]\n",
      "100%|██████████████████████████████████████████████████████████████████████████████████████████████████████████████████████████████████████████████████████████████████████| 1/1 [00:00<00:00,  4.60it/s]\n",
      "100%|██████████████████████████████████████████████████████████████████████████████████████████████████████████████████████████████████████████████████████████████████████| 1/1 [00:00<00:00,  4.58it/s]\n",
      "100%|██████████████████████████████████████████████████████████████████████████████████████████████████████████████████████████████████████████████████████████████████████| 1/1 [00:00<00:00,  4.63it/s]\n",
      "100%|██████████████████████████████████████████████████████████████████████████████████████████████████████████████████████████████████████████████████████████████████████| 1/1 [00:00<00:00,  4.44it/s]\n",
      "100%|████████████████████████████████████████████████████████████████████████████████████████████████████████████████████████████████████████████████████████████████████| 50/50 [00:12<00:00,  4.17it/s]\n"
     ]
    }
   ],
   "source": [
    "get_dice_results(\n",
    "    method,\n",
    "    model_shap,\n",
    "    individuals = individuals,\n",
    "    output_file=f\"../results/taiwan/dice_1sol.csv\"\n",
    ")"
   ]
  },
  {
   "cell_type": "markdown",
   "metadata": {},
   "source": [
    "### NICE"
   ]
  },
  {
   "cell_type": "code",
   "execution_count": 36,
   "metadata": {},
   "outputs": [
    {
     "name": "stderr",
     "output_type": "stream",
     "text": [
      "100%|████████████████████████████████████████████████████████████████████████████████████████████████████████████████████████████████████████████████████████████████████| 50/50 [00:01<00:00, 42.37it/s]\n"
     ]
    }
   ],
   "source": [
    "predict_fn = lambda x: model.predict_proba(x)\n",
    "\n",
    "columns_list = X_train.columns.tolist()\n",
    "cat_feat = [columns_list.index(feat) for feat in categoric_features]\n",
    "num_feat = [columns_list.index(feat) for feat in continuous_features]\n",
    "\n",
    "method = NICE(\n",
    "    X_train=X_train.values,\n",
    "    predict_fn=predict_fn,\n",
    "    y_train=Y_train,\n",
    "    cat_feat=cat_feat,\n",
    "    num_feat=num_feat,\n",
    "    distance_metric='HEOM',\n",
    "    num_normalization='minmax',\n",
    "    optimization='proximity',\n",
    "    justified_cf=True\n",
    ")\n",
    "\n",
    "\n",
    "get_nice_results(\n",
    "    method, \n",
    "    model_shap,\n",
    "    individuals=individuals,\n",
    "    output_file=\"../results/taiwan/nice_sol.csv\"\n",
    ")\n"
   ]
  }
 ],
 "metadata": {
  "kernelspec": {
   "display_name": "Python 3 (ipykernel)",
   "language": "python",
   "name": "python3"
  },
  "language_info": {
   "codemirror_mode": {
    "name": "ipython",
    "version": 3
   },
   "file_extension": ".py",
   "mimetype": "text/x-python",
   "name": "python",
   "nbconvert_exporter": "python",
   "pygments_lexer": "ipython3",
   "version": "3.10.12"
  }
 },
 "nbformat": 4,
 "nbformat_minor": 2
}
