{
 "cells": [
  {
   "cell_type": "code",
   "execution_count": 38,
   "metadata": {},
   "outputs": [
    {
     "name": "stdout",
     "output_type": "stream",
     "text": [
      "The autoreload extension is already loaded. To reload it, use:\n",
      "  %reload_ext autoreload\n"
     ]
    }
   ],
   "source": [
    "import json\n",
    "import os\n",
    "import numpy as np\n",
    "import pandas as pd\n",
    "from tqdm import tqdm\n",
    "import copy\n",
    "import time\n",
    "import sys\n",
    "sys.path.append(\"../\")\n",
    "\n",
    "from cfmining.algorithms import MAPOFCEM\n",
    "from cfmining.criteria import PercentileCalculator, PercentileCriterion, PercentileChangesCriterion, NonDomCriterion\n",
    "from cfmining.predictors import GeneralClassifier_Shap\n",
    "from cfmining.action_set import ActionSet\n",
    "from cfmining.utils import get_data_model\n",
    "\n",
    "\n",
    "%load_ext autoreload\n",
    "%autoreload 2"
   ]
  },
  {
   "cell_type": "code",
   "execution_count": 39,
   "metadata": {},
   "outputs": [],
   "source": [
    "def get_mapofcem_results(\n",
    "        mapofcem_setter,\n",
    "        individuals, \n",
    "        model, \n",
    "        output_file = None,\n",
    "    ):\n",
    "    results = []\n",
    "\n",
    "    for i in tqdm(range(len(individuals))):\n",
    "        individual = individuals.iloc[i]\n",
    "        model.clear_cache()\n",
    "        mapofcem = mapofcem_setter(individual.values, model)\n",
    "        start = time.time()\n",
    "        mapofcem.fit()\n",
    "        end = time.time()\n",
    "\n",
    "        solutions = mapofcem.solutions\n",
    "        solutions = [s.tolist() for s in solutions]\n",
    "        \n",
    "        results.append({\n",
    "            \"individual\" : individual.values.tolist(),\n",
    "            \"prob\" : model.predict_proba(individual.values),\n",
    "            \"time\" : end - start,\n",
    "            \"n_solutions\" : len(mapofcem.solutions),\n",
    "            \"solutions\" : solutions,\n",
    "        })\n",
    "\n",
    "        if output_file is not None:\n",
    "            pd.DataFrame(results).to_csv(output_file, index=False)\n",
    "\n",
    "        \n",
    "\n",
    "    results = pd.DataFrame(results)\n",
    "    if output_file is not None:\n",
    "        results.to_csv(output_file, index=False)\n",
    "    else:\n",
    "        return results"
   ]
  },
  {
   "cell_type": "code",
   "execution_count": 40,
   "metadata": {},
   "outputs": [],
   "source": [
    "def mapofcem_wrapper(\n",
    "        action_set,\n",
    "        criteria,\n",
    "        estimate_outlier,\n",
    "        max_changes\n",
    "):  \n",
    "    def f_(ind, model):\n",
    "        if criteria == \"Percentile\":\n",
    "            percCalc = PercentileCalculator(action_set = action_set)\n",
    "            compare = PercentileCriterion(ind, percCalc)\n",
    "\n",
    "        return MAPOFCEM(\n",
    "            action_set,\n",
    "            ind,\n",
    "            model,\n",
    "            estimate_outlier=estimate_outlier,\n",
    "            max_changes=max_changes,\n",
    "            compare = compare\n",
    "        )\n",
    "    return f_"
   ]
  },
  {
   "cell_type": "code",
   "execution_count": 41,
   "metadata": {},
   "outputs": [],
   "source": [
    "def experiment_step_size(\n",
    "    dataset_name,\n",
    "    step_sizes,\n",
    "    action_sets,\n",
    "    individuals,\n",
    "    model_shap\n",
    "):\n",
    "    \n",
    "\n",
    "    for i, step_size in enumerate(step_sizes):\n",
    "        # MAPOFCEM\n",
    "\n",
    "        mapofcem_setter = mapofcem_wrapper(\n",
    "            action_set=action_sets[i],\n",
    "            criteria=\"Percentile\",\n",
    "            estimate_outlier=True,\n",
    "            max_changes=3\n",
    "        )\n",
    "\n",
    "        get_mapofcem_results(\n",
    "            mapofcem_setter=mapofcem_setter,\n",
    "            individuals=individuals,\n",
    "            model=model_shap,\n",
    "            output_file=f\"../results/{dataset_name}_step_size/mapofcem_{int(100*step_size)}.csv\"\n",
    "        )\n",
    "\n",
    "\n",
    "        # MAPOFCEM v2\n",
    "\n",
    "        # mapofcem_setter = mapofcem_wrapper(\n",
    "        #     action_set=action_sets[i],\n",
    "        #     criteria=\"Percentile\",\n",
    "        #     estimate_outlier=True,\n",
    "        #     max_changes=3\n",
    "        # )\n",
    "\n",
    "        # get_mapofcem_results(\n",
    "        #     mapofcem_setter=mapofcem_setter,\n",
    "        #     individuals=individuals,\n",
    "        #     model=model_shap,\n",
    "        #     output_file=f\"../results/{dataset_name}_step_size/mapofcem_v2_{int(100*step_size)}.csv\"\n",
    "        # )\n",
    "\n",
    "   "
   ]
  },
  {
   "cell_type": "code",
   "execution_count": 42,
   "metadata": {},
   "outputs": [],
   "source": [
    "step_sizes = [0.01, 0.05, 0.1, 0.2, 0.25]"
   ]
  },
  {
   "cell_type": "markdown",
   "metadata": {},
   "source": [
    "## German"
   ]
  },
  {
   "cell_type": "code",
   "execution_count": 30,
   "metadata": {},
   "outputs": [],
   "source": [
    "X_train, Y_train, model, outlier_detection, individuals = get_data_model(\"german\")\n",
    "individuals = individuals.sample(50)"
   ]
  },
  {
   "cell_type": "code",
   "execution_count": 31,
   "metadata": {},
   "outputs": [],
   "source": [
    "not_mutable_features = ['Age', 'OwnsHouse', 'isMale', 'JobClassIsSkilled', 'Single', 'ForeignWorker', 'RentsHouse']\n",
    "mutable_features = [feat for feat in X_train.columns if feat not in not_mutable_features]\n",
    "action_set_list = []\n",
    "\n",
    "for step_size in step_sizes:\n",
    "    action_set = ActionSet(X = X_train, default_step_size = step_size)\n",
    "\n",
    "    for feat in action_set:\n",
    "        if feat.name in not_mutable_features:\n",
    "            feat.mutable = False\n",
    "        if not feat.name in not_mutable_features:\n",
    "            feat.mutable = True\n",
    "\n",
    "        feat.step_direction = 0\n",
    "        feat.update_grid()\n",
    "    \n",
    "    action_set_list.append(action_set)"
   ]
  },
  {
   "cell_type": "code",
   "execution_count": 32,
   "metadata": {},
   "outputs": [],
   "source": [
    "model_shap = GeneralClassifier_Shap(model, outlier_detection, X_train, tree = True, threshold = 0.5)"
   ]
  },
  {
   "cell_type": "markdown",
   "metadata": {},
   "source": [
    "### MAPOFCEM"
   ]
  },
  {
   "cell_type": "code",
   "execution_count": 33,
   "metadata": {},
   "outputs": [
    {
     "name": "stderr",
     "output_type": "stream",
     "text": [
      "100%|██████████████████████████████████████████████████████████████████████████████████████████████████████████████████████████████| 50/50 [04:33<00:00,  5.47s/it]\n",
      "100%|██████████████████████████████████████████████████████████████████████████████████████████████████████████████████████████████| 50/50 [00:35<00:00,  1.40it/s]\n",
      "100%|██████████████████████████████████████████████████████████████████████████████████████████████████████████████████████████████| 50/50 [00:19<00:00,  2.55it/s]\n",
      "100%|██████████████████████████████████████████████████████████████████████████████████████████████████████████████████████████████| 50/50 [00:18<00:00,  2.77it/s]\n",
      "100%|██████████████████████████████████████████████████████████████████████████████████████████████████████████████████████████████| 50/50 [00:15<00:00,  3.19it/s]\n"
     ]
    }
   ],
   "source": [
    "experiment_step_size(\n",
    "    dataset_name=\"german\",\n",
    "    step_sizes=step_sizes,\n",
    "    action_sets=action_set_list,\n",
    "    individuals=individuals,\n",
    "    model_shap=model_shap,\n",
    ")"
   ]
  },
  {
   "cell_type": "markdown",
   "metadata": {},
   "source": [
    "## Taiwan"
   ]
  },
  {
   "cell_type": "code",
   "execution_count": 43,
   "metadata": {},
   "outputs": [],
   "source": [
    "X_train, Y_train, model, outlier_detection, individuals = get_data_model(\"taiwan\")\n",
    "#convert bools to int\n",
    "X_train = X_train.astype(int)\n",
    "individuals = individuals.astype(int)\n",
    "individuals = individuals.sample(50, random_state=0)"
   ]
  },
  {
   "cell_type": "code",
   "execution_count": 44,
   "metadata": {},
   "outputs": [],
   "source": [
    "not_mutable_features = ['Single', 'Age_in_25_to_40', 'Married', 'Age_lt_25', 'Age_in_40_to_59', 'Age_geq_60', 'EducationLevel']\n",
    "mutable_features = [feat for feat in X_train.columns if feat not in not_mutable_features]\n",
    "action_set_list = []\n",
    "\n",
    "for step_size in step_sizes:\n",
    "    action_set = ActionSet(X = X_train, default_step_size = step_size)\n",
    "\n",
    "    for feat in action_set:\n",
    "        if feat.name in not_mutable_features:\n",
    "            feat.mutable = False\n",
    "        if feat.name in mutable_features:\n",
    "            feat.mutable = True\n",
    "\n",
    "        feat.step_direction = 0\n",
    "        feat.update_grid()\n",
    "\n",
    "    action_set_list.append(action_set)"
   ]
  },
  {
   "cell_type": "code",
   "execution_count": 45,
   "metadata": {},
   "outputs": [],
   "source": [
    "model_shap = GeneralClassifier_Shap(model, outlier_detection, X_train, tree = True, threshold = 0.5)"
   ]
  },
  {
   "cell_type": "markdown",
   "metadata": {},
   "source": [
    "### MAPOFCEM"
   ]
  },
  {
   "cell_type": "code",
   "execution_count": null,
   "metadata": {},
   "outputs": [],
   "source": [
    "experiment_step_size(\n",
    "    dataset_name=\"taiwan\",\n",
    "    step_sizes=step_sizes,\n",
    "    action_sets=action_set_list,\n",
    "    individuals=individuals,\n",
    "    model_shap=model_shap,\n",
    ")"
   ]
  }
 ],
 "metadata": {
  "kernelspec": {
   "display_name": "Python 3 (ipykernel)",
   "language": "python",
   "name": "python3"
  },
  "language_info": {
   "codemirror_mode": {
    "name": "ipython",
    "version": 3
   },
   "file_extension": ".py",
   "mimetype": "text/x-python",
   "name": "python",
   "nbconvert_exporter": "python",
   "pygments_lexer": "ipython3",
   "version": "3.10.12"
  }
 },
 "nbformat": 4,
 "nbformat_minor": 2
}
