{
 "cells": [
  {
   "cell_type": "code",
   "execution_count": 53,
   "metadata": {},
   "outputs": [
    {
     "name": "stdout",
     "output_type": "stream",
     "text": [
      "The autoreload extension is already loaded. To reload it, use:\n",
      "  %reload_ext autoreload\n"
     ]
    }
   ],
   "source": [
    "import sys\n",
    "sys.path.append(\"../\")\n",
    "from cfmining.action_set import ActionSet\n",
    "from cfmining.predictors import GeneralClassifier_Shap\n",
    "from cfmining.algorithms import MAPOFCEM\n",
    "from cfmining.utils import get_data_model, DeepPipeExplainer\n",
    "\n",
    "%load_ext autoreload\n",
    "%autoreload 2"
   ]
  },
  {
   "cell_type": "code",
   "execution_count": 9,
   "metadata": {},
   "outputs": [],
   "source": [
    "X_train, Y_train, model, outlier_detection, individuals = get_data_model(\"german\", \"LGBMClassifier\")"
   ]
  },
  {
   "cell_type": "code",
   "execution_count": 15,
   "metadata": {},
   "outputs": [],
   "source": [
    "_, _, model_MLP, _, individuals_mlp = get_data_model(\"german\", \"MLPClassifier\")"
   ]
  },
  {
   "cell_type": "code",
   "execution_count": 54,
   "metadata": {},
   "outputs": [],
   "source": [
    "deep_pipe_explainer = DeepPipeExplainer(model_MLP, X_train.sample(100))"
   ]
  },
  {
   "cell_type": "markdown",
   "metadata": {},
   "source": [
    "## ActionSet"
   ]
  },
  {
   "cell_type": "code",
   "execution_count": 10,
   "metadata": {},
   "outputs": [],
   "source": [
    "not_mutable_features = ['Age', 'OwnsHouse', 'isMale', 'JobClassIsSkilled', 'Single', 'ForeignWorker', 'RentsHouse']\n",
    "mutable_features = [feat for feat in X_train.columns if feat not in not_mutable_features]\n",
    "action_set = ActionSet(X = X_train, default_step_size = 0.01, mutable_features = mutable_features)"
   ]
  },
  {
   "cell_type": "code",
   "execution_count": 11,
   "metadata": {},
   "outputs": [
    {
     "data": {
      "text/plain": [
       "[['ForeignWorker', 0],\n",
       " ['Single', 0],\n",
       " ['Age', 0],\n",
       " ['LoanDuration', 55],\n",
       " ['LoanAmount', 101],\n",
       " ['LoanRateAsPercentOfIncome', 4],\n",
       " ['YearsAtCurrentHome', 4],\n",
       " ['NumberOfOtherLoansAtBank', 3],\n",
       " ['NumberOfLiableIndividuals', 2],\n",
       " ['HasTelephone', 2],\n",
       " ['CheckingAccountBalance_geq_0', 2],\n",
       " ['CheckingAccountBalance_geq_200', 2],\n",
       " ['SavingsAccountBalance_geq_100', 2],\n",
       " ['SavingsAccountBalance_geq_500', 2],\n",
       " ['MissedPayments', 2],\n",
       " ['NoCurrentLoan', 2],\n",
       " ['CriticalAccountOrLoansElsewhere', 2],\n",
       " ['OtherLoansAtBank', 2],\n",
       " ['HasCoapplicant', 2],\n",
       " ['HasGuarantor', 2],\n",
       " ['OwnsHouse', 0],\n",
       " ['RentsHouse', 0],\n",
       " ['Unemployed', 2],\n",
       " ['YearsAtCurrentJob_lt_1', 2],\n",
       " ['YearsAtCurrentJob_geq_4', 2],\n",
       " ['JobClassIsSkilled', 0],\n",
       " ['is_male', 2]]"
      ]
     },
     "execution_count": 11,
     "metadata": {},
     "output_type": "execute_result"
    }
   ],
   "source": [
    "grid_size = [[feat.name, len(feat.grid) if feat.mutable else 0] for feat in action_set]\n",
    "grid_size"
   ]
  },
  {
   "cell_type": "code",
   "execution_count": 12,
   "metadata": {},
   "outputs": [],
   "source": [
    "not_mutable_features = ['Age', 'OwnsHouse', 'isMale', 'JobClassIsSkilled', 'Single', 'ForeignWorker', 'RentsHouse']\n",
    "mutable_features = [feat for feat in X_train.columns if feat not in not_mutable_features]\n",
    "action_set = ActionSet(X = X_train, default_step_size = 0.1, mutable_features = mutable_features)"
   ]
  },
  {
   "cell_type": "code",
   "execution_count": 13,
   "metadata": {},
   "outputs": [
    {
     "data": {
      "text/plain": [
       "[['ForeignWorker', 0],\n",
       " ['Single', 0],\n",
       " ['Age', 0],\n",
       " ['LoanDuration', 10],\n",
       " ['LoanAmount', 11],\n",
       " ['LoanRateAsPercentOfIncome', 4],\n",
       " ['YearsAtCurrentHome', 4],\n",
       " ['NumberOfOtherLoansAtBank', 3],\n",
       " ['NumberOfLiableIndividuals', 2],\n",
       " ['HasTelephone', 2],\n",
       " ['CheckingAccountBalance_geq_0', 2],\n",
       " ['CheckingAccountBalance_geq_200', 2],\n",
       " ['SavingsAccountBalance_geq_100', 2],\n",
       " ['SavingsAccountBalance_geq_500', 2],\n",
       " ['MissedPayments', 2],\n",
       " ['NoCurrentLoan', 2],\n",
       " ['CriticalAccountOrLoansElsewhere', 2],\n",
       " ['OtherLoansAtBank', 2],\n",
       " ['HasCoapplicant', 2],\n",
       " ['HasGuarantor', 2],\n",
       " ['OwnsHouse', 0],\n",
       " ['RentsHouse', 0],\n",
       " ['Unemployed', 2],\n",
       " ['YearsAtCurrentJob_lt_1', 2],\n",
       " ['YearsAtCurrentJob_geq_4', 2],\n",
       " ['JobClassIsSkilled', 0],\n",
       " ['is_male', 2]]"
      ]
     },
     "execution_count": 13,
     "metadata": {},
     "output_type": "execute_result"
    }
   ],
   "source": [
    "grid_size = [[feat.name, len(feat.grid) if feat.mutable else 0] for feat in action_set]\n",
    "grid_size"
   ]
  },
  {
   "cell_type": "markdown",
   "metadata": {},
   "source": [
    "## Predictor"
   ]
  },
  {
   "cell_type": "code",
   "execution_count": 14,
   "metadata": {},
   "outputs": [
    {
     "name": "stdout",
     "output_type": "stream",
     "text": [
      "True\n",
      "0.6144198772264504\n",
      "True\n",
      "0.936764776301494\n",
      "1.146659026566456\n",
      "1.0121137989938012\n"
     ]
    }
   ],
   "source": [
    "clf_shap = GeneralClassifier_Shap(\n",
    "    model,\n",
    "    outlier_detection,\n",
    "    X_train\n",
    ")\n",
    "\n",
    "print(clf_shap.predict(X_train.iloc[0].values))\n",
    "print(clf_shap.predict_proba(X_train.iloc[0].values))\n",
    "\n",
    "open_vars = [5, 6, 7]\n",
    "cfe = X_train.iloc[0].values.copy()\n",
    "cfe[4] = X_train.iloc[:, 4].sample().values[0]\n",
    "cfe[9] = X_train.iloc[:, 9].sample().values[0]\n",
    "\n",
    "print(clf_shap.predict(cfe))\n",
    "print(clf_shap.predict_proba(cfe))\n",
    "print(clf_shap.predict_max(cfe, open_vars))\n",
    "print(clf_shap.predict_max(cfe, open_vars, n_changes = 1))"
   ]
  },
  {
   "cell_type": "code",
   "execution_count": 24,
   "metadata": {},
   "outputs": [
    {
     "name": "stdout",
     "output_type": "stream",
     "text": [
      "True\n",
      "0.6144198772264504\n",
      "True\n",
      "0.9117424463154873\n",
      "1.1327963560310752\n",
      "0.9869582996364833\n"
     ]
    }
   ],
   "source": [
    "clf_shap = GeneralClassifier_Shap(\n",
    "    model,\n",
    "    outlier_detection,\n",
    "    X_train,\n",
    "    shap_explainer = \"tree\"\n",
    ")\n",
    "\n",
    "print(clf_shap.predict(X_train.iloc[0].values))\n",
    "print(clf_shap.predict_proba(X_train.iloc[0].values))\n",
    "\n",
    "open_vars = [5, 6, 7]\n",
    "cfe = X_train.iloc[0].values.copy()\n",
    "cfe[4] = X_train.iloc[:, 4].sample().values[0]\n",
    "cfe[9] = X_train.iloc[:, 9].sample().values[0]\n",
    "\n",
    "print(clf_shap.predict(cfe))\n",
    "print(clf_shap.predict_proba(cfe))\n",
    "print(clf_shap.predict_max(cfe, open_vars))\n",
    "print(clf_shap.predict_max(cfe, open_vars, n_changes = 1))"
   ]
  },
  {
   "cell_type": "code",
   "execution_count": 25,
   "metadata": {},
   "outputs": [
    {
     "name": "stdout",
     "output_type": "stream",
     "text": [
      "True\n",
      "0.6144198772264504\n",
      "True\n",
      "0.8441658076445185\n",
      "1.074862352044524\n",
      "0.9357814732820714\n"
     ]
    }
   ],
   "source": [
    "clf_shap = GeneralClassifier_Shap(\n",
    "    model,\n",
    "    outlier_detection,\n",
    "    X_train,\n",
    "    shap_explainer = \"permutation\"\n",
    ")\n",
    "\n",
    "print(clf_shap.predict(X_train.iloc[0].values))\n",
    "print(clf_shap.predict_proba(X_train.iloc[0].values))\n",
    "\n",
    "open_vars = [5, 6, 7]\n",
    "cfe = X_train.iloc[0].values.copy()\n",
    "cfe[4] = X_train.iloc[:, 4].sample().values[0]\n",
    "cfe[9] = X_train.iloc[:, 9].sample().values[0]\n",
    "\n",
    "print(clf_shap.predict(cfe))\n",
    "print(clf_shap.predict_proba(cfe))\n",
    "print(clf_shap.predict_max(cfe, open_vars))\n",
    "print(clf_shap.predict_max(cfe, open_vars, n_changes = 1))"
   ]
  },
  {
   "cell_type": "markdown",
   "metadata": {},
   "source": [
    "### Predictor with MLP"
   ]
  },
  {
   "cell_type": "code",
   "execution_count": 52,
   "metadata": {},
   "outputs": [
    {
     "name": "stdout",
     "output_type": "stream",
     "text": [
      "True\n",
      "0.6144198772264504\n",
      "True\n",
      "0.8776223649352376\n",
      "0.9343401694519032\n",
      "0.8776223649352376\n"
     ]
    },
    {
     "name": "stderr",
     "output_type": "stream",
     "text": [
      "/usr/local/lib/python3.10/dist-packages/sklearn/base.py:439: UserWarning: X does not have valid feature names, but StandardScaler was fitted with feature names\n",
      "  warnings.warn(\n"
     ]
    }
   ],
   "source": [
    "clf_shap = GeneralClassifier_Shap(\n",
    "    model,\n",
    "    outlier_detection,\n",
    "    X_train,\n",
    "    shap_explainer = \"custom\",\n",
    "    explainer = deep_pipe_explainer\n",
    ")\n",
    "\n",
    "print(clf_shap.predict(X_train.iloc[0].values))\n",
    "print(clf_shap.predict_proba(X_train.iloc[0].values))\n",
    "\n",
    "open_vars = [5, 6, 7]\n",
    "cfe = X_train.iloc[0].values.copy()\n",
    "cfe[4] = X_train.iloc[:, 4].sample().values[0]\n",
    "cfe[9] = X_train.iloc[:, 9].sample().values[0]\n",
    "\n",
    "print(clf_shap.predict(cfe))\n",
    "print(clf_shap.predict_proba(cfe))\n",
    "print(clf_shap.predict_max(cfe, open_vars))\n",
    "print(clf_shap.predict_max(cfe, open_vars, n_changes = 1))"
   ]
  },
  {
   "cell_type": "markdown",
   "metadata": {},
   "source": [
    "## MAPOFCEM"
   ]
  },
  {
   "cell_type": "code",
   "execution_count": 67,
   "metadata": {},
   "outputs": [
    {
     "data": {
      "text/plain": [
       "[3, 4, 5, 6, 7, 8, 9, 10, 11, 12, 13, 14, 15, 16, 17, 18, 19, 22, 23, 24, 26]"
      ]
     },
     "execution_count": 67,
     "metadata": {},
     "output_type": "execute_result"
    }
   ],
   "source": [
    "m = MAPOFCEM(\n",
    "    action_set,\n",
    "    clf_shap\n",
    ")\n",
    "\n",
    "m.mutable_features"
   ]
  },
  {
   "cell_type": "code",
   "execution_count": 71,
   "metadata": {},
   "outputs": [
    {
     "name": "stdout",
     "output_type": "stream",
     "text": [
      "Line 6 found 1 solutions\n",
      "Line 10 found 1 solutions\n",
      "Line 11 found 1 solutions\n",
      "Line 24 found 1 solutions\n",
      "Line 29 found 1 solutions\n",
      "Line 31 found 1 solutions\n",
      "Line 36 found 1 solutions\n",
      "Line 37 found 1 solutions\n",
      "Line 44 found 1 solutions\n",
      "Line 46 found 1 solutions\n",
      "Line 52 found 1 solutions\n",
      "Line 61 found 1 solutions\n",
      "Line 69 found 1 solutions\n",
      "Line 71 found 1 solutions\n",
      "Line 72 found 1 solutions\n",
      "Line 74 found 1 solutions\n",
      "Line 76 found 1 solutions\n",
      "Line 78 found 1 solutions\n",
      "Line 85 found 1 solutions\n",
      "Line 86 found 1 solutions\n",
      "Line 89 found 1 solutions\n",
      "Line 94 found 1 solutions\n",
      "Line 97 found 1 solutions\n",
      "Line 106 found 1 solutions\n",
      "Line 110 found 1 solutions\n",
      "Line 120 found 1 solutions\n",
      "Line 130 found 1 solutions\n",
      "Line 133 found 1 solutions\n",
      "Line 137 found 1 solutions\n",
      "Line 141 found 1 solutions\n",
      "Line 147 found 1 solutions\n",
      "Line 152 found 1 solutions\n",
      "Line 157 found 1 solutions\n",
      "Line 159 found 1 solutions\n",
      "Line 161 found 1 solutions\n",
      "Line 176 found 1 solutions\n",
      "Line 184 found 1 solutions\n",
      "Line 192 found 1 solutions\n",
      "Line 196 found 1 solutions\n",
      "Line 200 found 1 solutions\n",
      "Line 204 found 1 solutions\n",
      "Line 208 found 1 solutions\n",
      "Line 215 found 1 solutions\n",
      "Line 231 found 1 solutions\n",
      "Line 236 found 1 solutions\n",
      "Line 247 found 1 solutions\n",
      "Line 253 found 1 solutions\n",
      "Line 257 found 1 solutions\n",
      "Line 264 found 1 solutions\n",
      "Line 268 found 1 solutions\n",
      "Line 269 found 1 solutions\n",
      "Line 271 found 1 solutions\n",
      "Line 273 found 1 solutions\n",
      "Line 275 found 1 solutions\n",
      "Line 278 found 1 solutions\n",
      "Line 279 found 1 solutions\n",
      "Line 282 found 1 solutions\n",
      "Line 287 found 1 solutions\n",
      "Line 292 found 1 solutions\n",
      "Line 295 found 1 solutions\n",
      "Line 302 found 1 solutions\n",
      "Line 304 found 1 solutions\n",
      "Line 307 found 1 solutions\n",
      "Line 309 found 1 solutions\n",
      "Line 312 found 1 solutions\n",
      "Line 320 found 1 solutions\n",
      "Line 321 found 1 solutions\n",
      "Line 324 found 1 solutions\n",
      "Line 329 found 1 solutions\n",
      "Line 335 found 1 solutions\n",
      "Line 339 found 1 solutions\n",
      "Line 343 found 1 solutions\n",
      "Line 347 found 1 solutions\n",
      "Line 348 found 1 solutions\n",
      "Line 356 found 1 solutions\n",
      "Line 360 found 1 solutions\n",
      "Line 365 found 1 solutions\n",
      "Line 368 found 1 solutions\n",
      "Line 370 found 1 solutions\n",
      "Line 375 found 1 solutions\n",
      "Line 381 found 1 solutions\n",
      "Line 383 found 1 solutions\n",
      "Line 385 found 1 solutions\n",
      "Line 386 found 1 solutions\n",
      "Line 387 found 1 solutions\n",
      "Line 388 found 1 solutions\n",
      "Line 392 found 1 solutions\n",
      "Line 400 found 1 solutions\n",
      "Line 401 found 1 solutions\n",
      "Line 405 found 0 solutions\n",
      "Line 416 found 1 solutions\n",
      "Line 424 found 1 solutions\n",
      "Line 427 found 1 solutions\n",
      "Line 430 found 1 solutions\n",
      "Line 432 found 1 solutions\n",
      "Line 440 found 1 solutions\n",
      "Line 444 found 1 solutions\n",
      "Line 448 found 1 solutions\n",
      "Line 449 found 1 solutions\n",
      "Line 455 found 1 solutions\n",
      "Line 457 found 1 solutions\n",
      "Line 460 found 1 solutions\n",
      "Line 462 found 1 solutions\n",
      "Line 464 found 1 solutions\n",
      "Line 469 found 1 solutions\n",
      "Line 473 found 1 solutions\n",
      "Line 475 found 1 solutions\n",
      "Line 479 found 1 solutions\n",
      "Line 500 found 1 solutions\n",
      "Line 501 found 1 solutions\n",
      "Line 503 found 1 solutions\n",
      "Line 513 found 1 solutions\n",
      "Line 520 found 1 solutions\n",
      "Line 526 found 1 solutions\n",
      "Line 528 found 1 solutions\n",
      "Line 530 found 1 solutions\n",
      "Line 536 found 1 solutions\n",
      "Line 537 found 1 solutions\n",
      "Line 539 found 1 solutions\n",
      "Line 540 found 1 solutions\n",
      "Line 542 found 1 solutions\n",
      "Line 555 found 1 solutions\n",
      "Line 571 found 1 solutions\n",
      "Line 575 found 1 solutions\n",
      "Line 581 found 1 solutions\n",
      "Line 582 found 1 solutions\n",
      "Line 589 found 1 solutions\n",
      "Line 590 found 1 solutions\n",
      "Line 593 found 1 solutions\n",
      "Line 596 found 1 solutions\n",
      "Line 597 found 1 solutions\n",
      "Line 603 found 1 solutions\n",
      "Line 606 found 1 solutions\n",
      "Line 609 found 1 solutions\n",
      "Line 617 found 1 solutions\n",
      "Line 619 found 1 solutions\n",
      "Line 620 found 1 solutions\n",
      "Line 646 found 1 solutions\n",
      "Line 649 found 1 solutions\n",
      "Line 651 found 1 solutions\n",
      "Line 658 found 1 solutions\n",
      "Line 661 found 1 solutions\n",
      "Line 663 found 1 solutions\n",
      "Line 666 found 1 solutions\n",
      "Line 673 found 1 solutions\n",
      "Line 676 found 1 solutions\n",
      "Line 677 found 1 solutions\n",
      "Line 684 found 1 solutions\n",
      "Line 688 found 1 solutions\n",
      "Line 691 found 1 solutions\n",
      "Line 692 found 1 solutions\n",
      "Line 693 found 1 solutions\n",
      "Line 694 found 1 solutions\n",
      "Line 698 found 1 solutions\n"
     ]
    }
   ],
   "source": [
    "for i in range(X_train.shape[0]):\n",
    "    if not clf_shap.predict(X_train.iloc[i].values):\n",
    "        m.fit(X_train.iloc[i].values)\n",
    "        print(f\"Line {i} found {len(m.solutions)} solutions\")"
   ]
  },
  {
   "cell_type": "code",
   "execution_count": 72,
   "metadata": {},
   "outputs": [
    {
     "data": {
      "text/plain": [
       "[3, 4, 5, 6, 7, 8, 9, 10, 11, 12, 13, 14, 15, 16, 17, 18, 19, 22, 23, 24, 26]"
      ]
     },
     "execution_count": 72,
     "metadata": {},
     "output_type": "execute_result"
    }
   ],
   "source": [
    "m = MAPOFCEM(\n",
    "    action_set,\n",
    "    clf_shap,\n",
    "    compare = \"percentile_change\"\n",
    ")\n",
    "\n",
    "m.mutable_features"
   ]
  },
  {
   "cell_type": "code",
   "execution_count": 73,
   "metadata": {},
   "outputs": [
    {
     "name": "stdout",
     "output_type": "stream",
     "text": [
      "Line 6 found 2 solutions\n",
      "Line 10 found 3 solutions\n",
      "Line 11 found 1 solutions\n",
      "Line 24 found 1 solutions\n",
      "Line 29 found 2 solutions\n",
      "Line 31 found 1 solutions\n",
      "Line 36 found 3 solutions\n",
      "Line 37 found 2 solutions\n",
      "Line 44 found 1 solutions\n",
      "Line 46 found 1 solutions\n",
      "Line 52 found 1 solutions\n",
      "Line 61 found 2 solutions\n",
      "Line 69 found 2 solutions\n",
      "Line 71 found 2 solutions\n",
      "Line 72 found 1 solutions\n",
      "Line 74 found 3 solutions\n",
      "Line 76 found 2 solutions\n",
      "Line 78 found 1 solutions\n",
      "Line 85 found 1 solutions\n",
      "Line 86 found 1 solutions\n",
      "Line 89 found 1 solutions\n",
      "Line 94 found 3 solutions\n",
      "Line 97 found 2 solutions\n",
      "Line 106 found 1 solutions\n",
      "Line 110 found 1 solutions\n",
      "Line 120 found 2 solutions\n",
      "Line 130 found 1 solutions\n",
      "Line 133 found 1 solutions\n",
      "Line 137 found 1 solutions\n",
      "Line 141 found 2 solutions\n",
      "Line 147 found 2 solutions\n",
      "Line 152 found 2 solutions\n",
      "Line 157 found 1 solutions\n",
      "Line 159 found 2 solutions\n",
      "Line 161 found 2 solutions\n",
      "Line 176 found 1 solutions\n",
      "Line 184 found 1 solutions\n",
      "Line 192 found 2 solutions\n",
      "Line 196 found 2 solutions\n",
      "Line 200 found 2 solutions\n",
      "Line 204 found 2 solutions\n",
      "Line 208 found 3 solutions\n",
      "Line 215 found 2 solutions\n",
      "Line 231 found 2 solutions\n",
      "Line 236 found 1 solutions\n",
      "Line 247 found 1 solutions\n",
      "Line 253 found 1 solutions\n",
      "Line 257 found 2 solutions\n",
      "Line 264 found 1 solutions\n",
      "Line 268 found 1 solutions\n",
      "Line 269 found 1 solutions\n",
      "Line 271 found 2 solutions\n",
      "Line 273 found 1 solutions\n",
      "Line 275 found 2 solutions\n",
      "Line 278 found 2 solutions\n",
      "Line 279 found 1 solutions\n",
      "Line 282 found 3 solutions\n",
      "Line 287 found 2 solutions\n",
      "Line 292 found 1 solutions\n",
      "Line 295 found 2 solutions\n",
      "Line 302 found 2 solutions\n",
      "Line 304 found 1 solutions\n",
      "Line 307 found 1 solutions\n",
      "Line 309 found 3 solutions\n",
      "Line 312 found 2 solutions\n",
      "Line 320 found 1 solutions\n",
      "Line 321 found 1 solutions\n",
      "Line 324 found 2 solutions\n",
      "Line 329 found 2 solutions\n",
      "Line 335 found 2 solutions\n",
      "Line 339 found 1 solutions\n",
      "Line 343 found 2 solutions\n",
      "Line 347 found 2 solutions\n",
      "Line 348 found 2 solutions\n",
      "Line 356 found 1 solutions\n",
      "Line 360 found 3 solutions\n",
      "Line 365 found 1 solutions\n",
      "Line 368 found 1 solutions\n",
      "Line 370 found 1 solutions\n",
      "Line 375 found 1 solutions\n",
      "Line 381 found 1 solutions\n",
      "Line 383 found 1 solutions\n",
      "Line 385 found 1 solutions\n",
      "Line 386 found 1 solutions\n",
      "Line 387 found 3 solutions\n",
      "Line 388 found 1 solutions\n",
      "Line 392 found 2 solutions\n",
      "Line 400 found 2 solutions\n",
      "Line 401 found 2 solutions\n",
      "Line 405 found 0 solutions\n",
      "Line 416 found 2 solutions\n",
      "Line 424 found 2 solutions\n",
      "Line 427 found 2 solutions\n",
      "Line 430 found 2 solutions\n",
      "Line 432 found 1 solutions\n",
      "Line 440 found 2 solutions\n",
      "Line 444 found 1 solutions\n",
      "Line 448 found 2 solutions\n",
      "Line 449 found 2 solutions\n",
      "Line 455 found 2 solutions\n",
      "Line 457 found 2 solutions\n",
      "Line 460 found 1 solutions\n",
      "Line 462 found 2 solutions\n",
      "Line 464 found 1 solutions\n",
      "Line 469 found 1 solutions\n",
      "Line 473 found 2 solutions\n",
      "Line 475 found 1 solutions\n",
      "Line 479 found 1 solutions\n",
      "Line 500 found 1 solutions\n",
      "Line 501 found 3 solutions\n",
      "Line 503 found 2 solutions\n",
      "Line 513 found 1 solutions\n",
      "Line 520 found 1 solutions\n",
      "Line 526 found 1 solutions\n",
      "Line 528 found 1 solutions\n",
      "Line 530 found 1 solutions\n",
      "Line 536 found 2 solutions\n",
      "Line 537 found 2 solutions\n",
      "Line 539 found 2 solutions\n",
      "Line 540 found 2 solutions\n",
      "Line 542 found 3 solutions\n",
      "Line 555 found 2 solutions\n",
      "Line 571 found 1 solutions\n",
      "Line 575 found 1 solutions\n",
      "Line 581 found 2 solutions\n",
      "Line 582 found 2 solutions\n",
      "Line 589 found 3 solutions\n",
      "Line 590 found 1 solutions\n",
      "Line 593 found 1 solutions\n",
      "Line 596 found 2 solutions\n",
      "Line 597 found 1 solutions\n",
      "Line 603 found 1 solutions\n",
      "Line 606 found 2 solutions\n",
      "Line 609 found 1 solutions\n",
      "Line 617 found 2 solutions\n",
      "Line 619 found 2 solutions\n",
      "Line 620 found 1 solutions\n",
      "Line 646 found 1 solutions\n",
      "Line 649 found 2 solutions\n",
      "Line 651 found 1 solutions\n",
      "Line 658 found 3 solutions\n",
      "Line 661 found 1 solutions\n",
      "Line 663 found 1 solutions\n",
      "Line 666 found 1 solutions\n",
      "Line 673 found 1 solutions\n",
      "Line 676 found 2 solutions\n",
      "Line 677 found 3 solutions\n",
      "Line 684 found 1 solutions\n",
      "Line 688 found 2 solutions\n",
      "Line 691 found 1 solutions\n",
      "Line 692 found 2 solutions\n",
      "Line 693 found 2 solutions\n",
      "Line 694 found 1 solutions\n",
      "Line 698 found 2 solutions\n"
     ]
    }
   ],
   "source": [
    "for i in range(X_train.shape[0]):\n",
    "    if not clf_shap.predict(X_train.iloc[i].values):\n",
    "        m.fit(X_train.iloc[i].values)\n",
    "        print(f\"Line {i} found {len(m.solutions)} solutions\")"
   ]
  }
 ],
 "metadata": {
  "kernelspec": {
   "display_name": "Python 3 (ipykernel)",
   "language": "python",
   "name": "python3"
  },
  "language_info": {
   "codemirror_mode": {
    "name": "ipython",
    "version": 3
   },
   "file_extension": ".py",
   "mimetype": "text/x-python",
   "name": "python",
   "nbconvert_exporter": "python",
   "pygments_lexer": "ipython3",
   "version": "3.10.12"
  }
 },
 "nbformat": 4,
 "nbformat_minor": 2
}
