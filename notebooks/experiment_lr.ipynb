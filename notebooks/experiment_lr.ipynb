{
 "cells": [
  {
   "cell_type": "code",
   "execution_count": 94,
   "metadata": {},
   "outputs": [
    {
     "name": "stdout",
     "output_type": "stream",
     "text": [
      "The autoreload extension is already loaded. To reload it, use:\n",
      "  %reload_ext autoreload\n"
     ]
    }
   ],
   "source": [
    "import pandas as pd\n",
    "import numpy as np\n",
    "import sys\n",
    "sys.path.append(\"../\")\n",
    "\n",
    "from cfmining.algorithms import P2CE\n",
    "from cfmining.predictors import MonotoneClassifier\n",
    "from cfmining.baselines import MAPOCAM\n",
    "\n",
    "from experiments_helper import get_data_model, run_experiments, format_df_table, summarize_results, get_action_set\n",
    "\n",
    "\n",
    "%load_ext autoreload\n",
    "%autoreload 2\n",
    "\n",
    "SEED = 0"
   ]
  },
  {
   "cell_type": "code",
   "execution_count": null,
   "metadata": {},
   "outputs": [
    {
     "name": "stderr",
     "output_type": "stream",
     "text": [
      "PermutationExplainer explainer: 101it [00:12,  1.42it/s]                                                                                                                                                 \n",
      " 42%|████████████████████████████████████████████████████████████████████▉                                                                                               | 21/50 [06:06<10:39, 22.05s/it]"
     ]
    }
   ],
   "source": [
    "max_changes = 3\n",
    "objective = \"abs_diff\"\n",
    "for dataset_name in [\n",
    "    \"german\", \n",
    "    \"taiwan\",\n",
    "    \"adult\"\n",
    "    ]:\n",
    "    dataset, X_train, Y_train, model, outlier_detection, individuals = get_data_model(dataset_name, \"LogisticRegression\")\n",
    "    individuals = individuals.sample(n = 50, random_state=SEED)\n",
    "    outlier_detection.contamination = dataset.outlier_contamination\n",
    "    action_set = get_action_set(dataset, X_train, default_step_size=0.05)\n",
    "\n",
    "    model = MonotoneClassifier(model, outlier_detection, X = X_train)\n",
    "\n",
    "    method = P2CE(\n",
    "        action_set = action_set,\n",
    "        classifier = model,\n",
    "        compare = objective,\n",
    "        max_changes = max_changes,\n",
    "        outlier_contamination= dataset.outlier_contamination,\n",
    "        estimate_outlier=True,\n",
    "        time_limit=np.inf,\n",
    "    )\n",
    "\n",
    "    run_experiments(\n",
    "        method,\n",
    "        individuals=individuals,\n",
    "        model=model,\n",
    "        output_file=f\"../results/lr/{dataset}/p2ce_{objective}.csv\"\n",
    "    );\n",
    "\n",
    "    # ablation without outlier estimation\n",
    "\n",
    "    method = P2CE(\n",
    "        action_set = action_set,\n",
    "        classifier = model,\n",
    "        compare = objective,\n",
    "        max_changes = max_changes,\n",
    "        outlier_contamination= dataset.outlier_contamination,\n",
    "        estimate_outlier=False,\n",
    "        time_limit=np.inf,\n",
    "    )\n",
    "\n",
    "    run_experiments(\n",
    "        method,\n",
    "        individuals=individuals,\n",
    "        model=model,\n",
    "        output_file=f\"../results/lr/{dataset}/p2ce_ablation_{objective}.csv\"\n",
    "    );\n",
    "\n",
    "\n",
    "\n",
    "    for feat in action_set:\n",
    "        feat.flip_direction = 1\n",
    "        feat.update_grid()\n",
    "    \n",
    "    method = MAPOCAM(\n",
    "        action_set,\n",
    "        model,\n",
    "        criteria = objective,\n",
    "        max_changes=max_changes\n",
    "    )\n",
    "\n",
    "    run_experiments(\n",
    "        method,\n",
    "        individuals=individuals,\n",
    "        model=model,\n",
    "        output_file=f\"../results/lr/{dataset}/mapocam_{objective}.csv\"\n",
    "    );"
   ]
  },
  {
   "cell_type": "code",
   "execution_count": 127,
   "metadata": {},
   "outputs": [],
   "source": [
    "method_list = [\"p2ce_abs_diff\", \"p2ce_ablation_abs_diff\", \"mapocam_abs_diff\"]"
   ]
  },
  {
   "cell_type": "code",
   "execution_count": 128,
   "metadata": {},
   "outputs": [],
   "source": [
    "def show_results(dataset_name, method_list):\n",
    "    results = []\n",
    "    for method in method_list:\n",
    "        results_cur = pd.read_csv(f\"../results/lr/{dataset_name}/{method}.csv\")\n",
    "        results_cur = summarize_results(results_cur, dataset_name)\n",
    "        results_cur[\"method\"] = method\n",
    "        results.append(results_cur)\n",
    "    results = pd.concat(results)\n",
    "    return format_df_table(results, \"method\", results.columns.tolist()[:-1])"
   ]
  },
  {
   "cell_type": "code",
   "execution_count": 129,
   "metadata": {},
   "outputs": [],
   "source": [
    "show_results(\"german\", method_list)"
   ]
  },
  {
   "cell_type": "code",
   "execution_count": 130,
   "metadata": {},
   "outputs": [],
   "source": [
    "show_results(\"taiwan\", method_list)"
   ]
  },
  {
   "cell_type": "code",
   "execution_count": 131,
   "metadata": {},
   "outputs": [],
   "source": [
    "show_results(\"adult\", method_list)"
   ]
  }
 ],
 "metadata": {
  "kernelspec": {
   "display_name": "Python 3 (ipykernel)",
   "language": "python",
   "name": "python3"
  }
 },
 "nbformat": 4,
 "nbformat_minor": 2
}
