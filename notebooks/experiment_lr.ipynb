{
 "cells": [
  {
   "cell_type": "code",
   "execution_count": 86,
   "metadata": {},
   "outputs": [
    {
     "name": "stdout",
     "output_type": "stream",
     "text": [
      "The autoreload extension is already loaded. To reload it, use:\n",
      "  %reload_ext autoreload\n"
     ]
    }
   ],
   "source": [
    "import pandas as pd\n",
    "import numpy as np\n",
    "import sys\n",
    "sys.path.append(\"../\")\n",
    "\n",
    "from cfmining.algorithms import MAPOFCEM\n",
    "from cfmining.predictors import MonotoneClassifier\n",
    "from cfmining.baselines import MAPOCAM\n",
    "\n",
    "from experiments_helper import get_data_model, run_experiments, format_df_table, summarize_results, get_action_set\n",
    "\n",
    "\n",
    "%load_ext autoreload\n",
    "%autoreload 2\n",
    "\n",
    "SEED = 0"
   ]
  },
  {
   "cell_type": "markdown",
   "metadata": {},
   "source": [
    "Experiment to evaluate the occurence of outliers in counterfactual explanations. \n",
    "\n",
    "We compare MAPOFCEM and MAPOCAM using a MonotoneClassifier that does not need the use of SHAP to estimate the maximum probability."
   ]
  },
  {
   "cell_type": "code",
   "execution_count": null,
   "metadata": {},
   "outputs": [
    {
     "name": "stderr",
     "output_type": "stream",
     "text": [
      " 12%|█████████████████▉                                                                                                                                   | 6/50 [05:31<39:58, 54.51s/it]"
     ]
    }
   ],
   "source": [
    "max_changes = 3\n",
    "for dataset_name in [\n",
    "    \"german\", \n",
    "    \"taiwan\",\n",
    "    \"adult\"\n",
    "    ]:\n",
    "    dataset, X_train, Y_train, model, outlier_detection, individuals = get_data_model(dataset_name, \"LogisticRegression\")\n",
    "    individuals = individuals.sample(n = 50, random_state=SEED)\n",
    "    outlier_detection.contamination = dataset.outlier_contamination\n",
    "    action_set = get_action_set(dataset, X_train, default_step_size=0.05)\n",
    "\n",
    "    model = MonotoneClassifier(model, outlier_detection, X = X_train)\n",
    "\n",
    "    method = MAPOFCEM(\n",
    "        action_set = action_set,\n",
    "        classifier = model,\n",
    "        compare = \"non_dom\",\n",
    "        max_changes = max_changes,\n",
    "        outlier_contamination= dataset.outlier_contamination,\n",
    "        estimate_outlier=True,\n",
    "        time_limit=np.inf,\n",
    "    )\n",
    "\n",
    "    run_experiments(\n",
    "        method,\n",
    "        individuals=individuals,\n",
    "        model=model,\n",
    "        output_file=f\"../results/lr/{dataset}/mapofcem_no_shap.csv\"\n",
    "    );\n",
    "\n",
    "    for feat in action_set:\n",
    "        feat.flip_direction = 1\n",
    "        feat.update_grid()\n",
    "\n",
    "    method = MAPOCAM(\n",
    "        action_set,\n",
    "        model,\n",
    "        criteria = \"non_dom\",\n",
    "        max_changes=max_changes\n",
    "    )\n",
    "\n",
    "    run_experiments(\n",
    "        method,\n",
    "        individuals=individuals,\n",
    "        model=model,\n",
    "        output_file=f\"../results/lr/{dataset}/mapocam.csv\"\n",
    "    );"
   ]
  },
  {
   "cell_type": "code",
   "execution_count": 33,
   "metadata": {},
   "outputs": [
    {
     "name": "stdout",
     "output_type": "stream",
     "text": [
      "(50, 5)\n",
      "(50, 5)\n"
     ]
    },
    {
     "data": {
      "text/html": [
       "<div>\n",
       "<style scoped>\n",
       "    .dataframe tbody tr th:only-of-type {\n",
       "        vertical-align: middle;\n",
       "    }\n",
       "\n",
       "    .dataframe tbody tr th {\n",
       "        vertical-align: top;\n",
       "    }\n",
       "\n",
       "    .dataframe thead th {\n",
       "        text-align: right;\n",
       "    }\n",
       "</style>\n",
       "<table border=\"1\" class=\"dataframe\">\n",
       "  <thead>\n",
       "    <tr style=\"text-align: right;\">\n",
       "      <th></th>\n",
       "      <th>method</th>\n",
       "      <th>costs</th>\n",
       "      <th>n_changes</th>\n",
       "      <th>diversity</th>\n",
       "      <th>outlier</th>\n",
       "      <th>n_solutions</th>\n",
       "      <th>time</th>\n",
       "    </tr>\n",
       "  </thead>\n",
       "  <tbody>\n",
       "    <tr>\n",
       "      <th>0</th>\n",
       "      <td>mapocam</td>\n",
       "      <td>0.492 (+-0.123) | 0.633</td>\n",
       "      <td>2.282 (+-0.632) | 2.906</td>\n",
       "      <td>0.058 (+-0.085) | 0.227</td>\n",
       "      <td>0.084 (+-0.142) | 0.375</td>\n",
       "      <td>67.36 (+-67.571) | 193.35</td>\n",
       "      <td>38.489 (+-21.449) | 72.263</td>\n",
       "    </tr>\n",
       "    <tr>\n",
       "      <th>1</th>\n",
       "      <td>mapofcem_no_shap</td>\n",
       "      <td>0.487 (+-0.132) | 0.633</td>\n",
       "      <td>2.291 (+-0.628) | 2.889</td>\n",
       "      <td>0.076 (+-0.106) | 0.283</td>\n",
       "      <td>0.043 (+-0.083) | 0.263</td>\n",
       "      <td>62.68 (+-65.862) | 193.35</td>\n",
       "      <td>40.887 (+-23.253) | 70.634</td>\n",
       "    </tr>\n",
       "  </tbody>\n",
       "</table>\n",
       "</div>"
      ],
      "text/plain": [
       "             method                    costs                n_changes  \\\n",
       "0           mapocam  0.492 (+-0.123) | 0.633  2.282 (+-0.632) | 2.906   \n",
       "1  mapofcem_no_shap  0.487 (+-0.132) | 0.633  2.291 (+-0.628) | 2.889   \n",
       "\n",
       "                 diversity                  outlier  \\\n",
       "0  0.058 (+-0.085) | 0.227  0.084 (+-0.142) | 0.375   \n",
       "1  0.076 (+-0.106) | 0.283  0.043 (+-0.083) | 0.263   \n",
       "\n",
       "                 n_solutions                        time  \n",
       "0  67.36 (+-67.571) | 193.35  38.489 (+-21.449) | 72.263  \n",
       "1  62.68 (+-65.862) | 193.35  40.887 (+-23.253) | 70.634  "
      ]
     },
     "execution_count": 33,
     "metadata": {},
     "output_type": "execute_result"
    }
   ],
   "source": [
    "dataset_name = \"german\"\n",
    "results = []\n",
    "for method in [\"mapofcem_no_shap\", \"mapocam\"]:\n",
    "    results_cur = pd.read_csv(f\"../results/lr/{dataset_name}/{method}.csv\")\n",
    "    print(results_cur.shape)\n",
    "    results_cur = summarize_results(results_cur, dataset_name)\n",
    "    results_cur[\"method\"] = method\n",
    "    results.append(results_cur)\n",
    "results = pd.concat(results)\n",
    "format_df_table(results, \"method\", results.columns.tolist()[:-1])"
   ]
  },
  {
   "cell_type": "code",
   "execution_count": 34,
   "metadata": {},
   "outputs": [
    {
     "name": "stdout",
     "output_type": "stream",
     "text": [
      "(50, 5)\n",
      "(50, 5)\n"
     ]
    },
    {
     "data": {
      "text/html": [
       "<div>\n",
       "<style scoped>\n",
       "    .dataframe tbody tr th:only-of-type {\n",
       "        vertical-align: middle;\n",
       "    }\n",
       "\n",
       "    .dataframe tbody tr th {\n",
       "        vertical-align: top;\n",
       "    }\n",
       "\n",
       "    .dataframe thead th {\n",
       "        text-align: right;\n",
       "    }\n",
       "</style>\n",
       "<table border=\"1\" class=\"dataframe\">\n",
       "  <thead>\n",
       "    <tr style=\"text-align: right;\">\n",
       "      <th></th>\n",
       "      <th>method</th>\n",
       "      <th>costs</th>\n",
       "      <th>n_changes</th>\n",
       "      <th>outlier</th>\n",
       "      <th>diversity</th>\n",
       "      <th>n_solutions</th>\n",
       "      <th>time</th>\n",
       "    </tr>\n",
       "  </thead>\n",
       "  <tbody>\n",
       "    <tr>\n",
       "      <th>0</th>\n",
       "      <td>mapocam</td>\n",
       "      <td>0.711 (+-0.14) | 0.894</td>\n",
       "      <td>2.941 (+-0.061) | 2.99</td>\n",
       "      <td>0.169 (+-0.153) | 0.473</td>\n",
       "      <td>0.288 (+-0.319) | 0.849</td>\n",
       "      <td>414.78 (+-189.785) | 658.4</td>\n",
       "      <td>206.358 (+-51.951) | 264.383</td>\n",
       "    </tr>\n",
       "    <tr>\n",
       "      <th>1</th>\n",
       "      <td>mapofcem_no_shap</td>\n",
       "      <td>0.695 (+-0.141) | 0.89</td>\n",
       "      <td>2.93 (+-0.079) | 2.988</td>\n",
       "      <td>0.019 (+-0.051) | 0.067</td>\n",
       "      <td>0.307 (+-0.313) | 0.859</td>\n",
       "      <td>320.94 (+-165.554) | 570.65</td>\n",
       "      <td>185.058 (+-47.722) | 233.4</td>\n",
       "    </tr>\n",
       "  </tbody>\n",
       "</table>\n",
       "</div>"
      ],
      "text/plain": [
       "             method                   costs               n_changes  \\\n",
       "0           mapocam  0.711 (+-0.14) | 0.894  2.941 (+-0.061) | 2.99   \n",
       "1  mapofcem_no_shap  0.695 (+-0.141) | 0.89  2.93 (+-0.079) | 2.988   \n",
       "\n",
       "                   outlier                diversity  \\\n",
       "0  0.169 (+-0.153) | 0.473  0.288 (+-0.319) | 0.849   \n",
       "1  0.019 (+-0.051) | 0.067  0.307 (+-0.313) | 0.859   \n",
       "\n",
       "                   n_solutions                          time  \n",
       "0   414.78 (+-189.785) | 658.4  206.358 (+-51.951) | 264.383  \n",
       "1  320.94 (+-165.554) | 570.65    185.058 (+-47.722) | 233.4  "
      ]
     },
     "execution_count": 34,
     "metadata": {},
     "output_type": "execute_result"
    }
   ],
   "source": [
    "dataset_name = \"taiwan\"\n",
    "results = []\n",
    "for method in [\"mapofcem_no_shap\", \"mapocam\"]:\n",
    "    results_cur = pd.read_csv(f\"../results/lr/{dataset_name}/{method}.csv\")\n",
    "    print(results_cur.shape)\n",
    "    results_cur = summarize_results(results_cur, dataset_name)\n",
    "    results_cur[\"method\"] = method\n",
    "    results.append(results_cur)\n",
    "results = pd.concat(results)\n",
    "format_df_table(results, \"method\", results.columns.tolist()[:-1])"
   ]
  },
  {
   "cell_type": "code",
   "execution_count": 35,
   "metadata": {},
   "outputs": [
    {
     "name": "stdout",
     "output_type": "stream",
     "text": [
      "(50, 5)\n",
      "(50, 5)\n"
     ]
    },
    {
     "data": {
      "text/html": [
       "<div>\n",
       "<style scoped>\n",
       "    .dataframe tbody tr th:only-of-type {\n",
       "        vertical-align: middle;\n",
       "    }\n",
       "\n",
       "    .dataframe tbody tr th {\n",
       "        vertical-align: top;\n",
       "    }\n",
       "\n",
       "    .dataframe thead th {\n",
       "        text-align: right;\n",
       "    }\n",
       "</style>\n",
       "<table border=\"1\" class=\"dataframe\">\n",
       "  <thead>\n",
       "    <tr style=\"text-align: right;\">\n",
       "      <th></th>\n",
       "      <th>method</th>\n",
       "      <th>costs</th>\n",
       "      <th>n_changes</th>\n",
       "      <th>outlier</th>\n",
       "      <th>diversity</th>\n",
       "      <th>n_solutions</th>\n",
       "      <th>time</th>\n",
       "    </tr>\n",
       "  </thead>\n",
       "  <tbody>\n",
       "    <tr>\n",
       "      <th>0</th>\n",
       "      <td>mapocam</td>\n",
       "      <td>0.655 (+-0.121) | 0.82</td>\n",
       "      <td>1.976 (+-0.506) | 2.653</td>\n",
       "      <td>0.025 (+-0.081) | 0.175</td>\n",
       "      <td>0.997 (+-0.004) | 1.0</td>\n",
       "      <td>26.9 (+-27.245) | 93.65</td>\n",
       "      <td>0.85 (+-1.295) | 4.05</td>\n",
       "    </tr>\n",
       "    <tr>\n",
       "      <th>1</th>\n",
       "      <td>mapofcem_no_shap</td>\n",
       "      <td>0.655 (+-0.12) | 0.814</td>\n",
       "      <td>1.974 (+-0.503) | 2.646</td>\n",
       "      <td>0.004 (+-0.018) | 0.016</td>\n",
       "      <td>0.997 (+-0.002) | 1.0</td>\n",
       "      <td>23.24 (+-17.843) | 62.0</td>\n",
       "      <td>0.882 (+-1.309) | 4.389</td>\n",
       "    </tr>\n",
       "  </tbody>\n",
       "</table>\n",
       "</div>"
      ],
      "text/plain": [
       "             method                   costs                n_changes  \\\n",
       "0           mapocam  0.655 (+-0.121) | 0.82  1.976 (+-0.506) | 2.653   \n",
       "1  mapofcem_no_shap  0.655 (+-0.12) | 0.814  1.974 (+-0.503) | 2.646   \n",
       "\n",
       "                   outlier              diversity              n_solutions  \\\n",
       "0  0.025 (+-0.081) | 0.175  0.997 (+-0.004) | 1.0  26.9 (+-27.245) | 93.65   \n",
       "1  0.004 (+-0.018) | 0.016  0.997 (+-0.002) | 1.0  23.24 (+-17.843) | 62.0   \n",
       "\n",
       "                      time  \n",
       "0    0.85 (+-1.295) | 4.05  \n",
       "1  0.882 (+-1.309) | 4.389  "
      ]
     },
     "execution_count": 35,
     "metadata": {},
     "output_type": "execute_result"
    }
   ],
   "source": [
    "dataset_name = \"adult\"\n",
    "results = []\n",
    "for method in [\"mapofcem_no_shap\", \"mapocam\"]:\n",
    "    results_cur = pd.read_csv(f\"../results/lr/{dataset_name}/{method}.csv\")\n",
    "    print(results_cur.shape)\n",
    "    results_cur = summarize_results(results_cur, dataset_name)\n",
    "    results_cur[\"method\"] = method\n",
    "    results.append(results_cur)\n",
    "results = pd.concat(results)\n",
    "format_df_table(results, \"method\", results.columns.tolist()[:-1])"
   ]
  }
 ],
 "metadata": {
  "kernelspec": {
   "display_name": "Python 3 (ipykernel)",
   "language": "python",
   "name": "python3"
  }
 },
 "nbformat": 4,
 "nbformat_minor": 2
}
