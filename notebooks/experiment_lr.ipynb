{
 "cells": [
  {
   "cell_type": "code",
   "execution_count": 107,
   "metadata": {},
   "outputs": [
    {
     "name": "stdout",
     "output_type": "stream",
     "text": [
      "The autoreload extension is already loaded. To reload it, use:\n",
      "  %reload_ext autoreload\n"
     ]
    }
   ],
   "source": [
    "import copy\n",
    "import pandas as pd\n",
    "import numpy as np\n",
    "import sys\n",
    "sys.path.append(\"../\")\n",
    "\n",
    "from cfmining.algorithms import MAPOFCEM\n",
    "from cfmining.predictors import GeneralClassifier, MonotoneClassifier\n",
    "from cfmining.utils import get_data_model\n",
    "from cfmining.baselines import MAPOCAM\n",
    "\n",
    "from experiments_helper import run_experiments, format_df_table, summarize_results, get_action_set\n",
    "\n",
    "\n",
    "%load_ext autoreload\n",
    "%autoreload 2\n",
    "\n",
    "SEED = 0"
   ]
  },
  {
   "cell_type": "code",
   "execution_count": 108,
   "metadata": {},
   "outputs": [
    {
     "name": "stderr",
     "output_type": "stream",
     "text": [
      "100%|█████████████████████████████████████████████████████████████████████████████████| 50/50 [04:15<00:00,  5.11s/it]\n",
      "100%|█████████████████████████████████████████████████████████████████████████████████| 50/50 [04:13<00:00,  5.07s/it]\n",
      "PermutationExplainer explainer: 1001it [01:02, 13.42it/s]                                                             \n",
      "100%|██████████████████████████████████████████████████████████████████████████████| 50/50 [1:50:12<00:00, 132.24s/it]\n",
      " 56%|███████████████████████████████████████████▋                                  | 28/50 [1:00:52<40:53, 111.51s/it]"
     ]
    }
   ],
   "source": [
    "for dataset in [\"german\", \"taiwan\"]:\n",
    "    X_train, Y_train, model, outlier_detection, individuals = get_data_model(dataset, \"LogisticRegression\")\n",
    "    individuals = individuals.sample(n = 50, random_state=SEED)\n",
    "    outlier_detection.percentile = 0.01 if dataset == \"taiwan\" else 0.05\n",
    "    action_set = get_action_set(dataset, X_train)\n",
    "\n",
    "    model = MonotoneClassifier(model, outlier_detection, X = X_train)\n",
    "\n",
    "    method = MAPOFCEM(\n",
    "        action_set = action_set,\n",
    "        classifier = model,\n",
    "        compare = \"non_dom\",\n",
    "        max_changes = 2,\n",
    "        outlier_percentile=0.01 if dataset == \"taiwan\" else 0.05,\n",
    "        time_limit=np.inf,\n",
    "    )\n",
    "\n",
    "    run_experiments(\n",
    "        method,\n",
    "        individuals=individuals,\n",
    "        model=model,\n",
    "        output_file=f\"../results/lr/{dataset}/mapofcem_no_shap.csv\"\n",
    "    );\n",
    "\n",
    "    for feat in action_set:\n",
    "        feat.flip_direction = 1\n",
    "        feat.update_grid()\n",
    "\n",
    "    method = MAPOCAM(\n",
    "        action_set,\n",
    "        model,\n",
    "        criteria = \"non_dom\",\n",
    "        max_changes=2\n",
    "    )\n",
    "\n",
    "    run_experiments(\n",
    "        method,\n",
    "        individuals=individuals,\n",
    "        model=model,\n",
    "        output_file=f\"../results/lr/{dataset}/mapocam.csv\"\n",
    "    );"
   ]
  },
  {
   "cell_type": "code",
   "execution_count": 112,
   "metadata": {},
   "outputs": [
    {
     "name": "stdout",
     "output_type": "stream",
     "text": [
      "(50, 5)\n",
      "(50, 5)\n"
     ]
    },
    {
     "data": {
      "text/html": [
       "<div>\n",
       "<style scoped>\n",
       "    .dataframe tbody tr th:only-of-type {\n",
       "        vertical-align: middle;\n",
       "    }\n",
       "\n",
       "    .dataframe tbody tr th {\n",
       "        vertical-align: top;\n",
       "    }\n",
       "\n",
       "    .dataframe thead th {\n",
       "        text-align: right;\n",
       "    }\n",
       "</style>\n",
       "<table border=\"1\" class=\"dataframe\">\n",
       "  <thead>\n",
       "    <tr style=\"text-align: right;\">\n",
       "      <th></th>\n",
       "      <th>method</th>\n",
       "      <th>costs</th>\n",
       "      <th>n_changes</th>\n",
       "      <th>diversity</th>\n",
       "      <th>outlier</th>\n",
       "      <th>outliers_score</th>\n",
       "      <th>n_solutions</th>\n",
       "      <th>time</th>\n",
       "    </tr>\n",
       "  </thead>\n",
       "  <tbody>\n",
       "    <tr>\n",
       "      <th>0</th>\n",
       "      <td>mapocam</td>\n",
       "      <td>0.389 (+-0.12) | 0.548</td>\n",
       "      <td>1.74 (+-0.314) | 2.0</td>\n",
       "      <td>0.142 (+-0.166) | 0.413</td>\n",
       "      <td>0.109 (+-0.205) | 0.486</td>\n",
       "      <td>0.498 (+-0.04) | 0.565</td>\n",
       "      <td>19.68 (+-13.736) | 45.65</td>\n",
       "      <td>5.062 (+-1.485) | 6.737</td>\n",
       "    </tr>\n",
       "    <tr>\n",
       "      <th>1</th>\n",
       "      <td>mapofcem_no_shap</td>\n",
       "      <td>0.399 (+-0.127) | 0.558</td>\n",
       "      <td>1.74 (+-0.308) | 2.0</td>\n",
       "      <td>0.207 (+-0.213) | 0.628</td>\n",
       "      <td>0.03 (+-0.083) | 0.159</td>\n",
       "      <td>0.492 (+-0.033) | 0.539</td>\n",
       "      <td>17.88 (+-12.458) | 42.1</td>\n",
       "      <td>5.107 (+-1.504) | 6.725</td>\n",
       "    </tr>\n",
       "  </tbody>\n",
       "</table>\n",
       "</div>"
      ],
      "text/plain": [
       "             method                    costs             n_changes  \\\n",
       "0           mapocam   0.389 (+-0.12) | 0.548  1.74 (+-0.314) | 2.0   \n",
       "1  mapofcem_no_shap  0.399 (+-0.127) | 0.558  1.74 (+-0.308) | 2.0   \n",
       "\n",
       "                 diversity                  outlier           outliers_score  \\\n",
       "0  0.142 (+-0.166) | 0.413  0.109 (+-0.205) | 0.486   0.498 (+-0.04) | 0.565   \n",
       "1  0.207 (+-0.213) | 0.628   0.03 (+-0.083) | 0.159  0.492 (+-0.033) | 0.539   \n",
       "\n",
       "                n_solutions                     time  \n",
       "0  19.68 (+-13.736) | 45.65  5.062 (+-1.485) | 6.737  \n",
       "1   17.88 (+-12.458) | 42.1  5.107 (+-1.504) | 6.725  "
      ]
     },
     "execution_count": 112,
     "metadata": {},
     "output_type": "execute_result"
    }
   ],
   "source": [
    "dataset = \"german\"\n",
    "results = []\n",
    "for method in [\"mapofcem_no_shap\", \"mapocam\"]:\n",
    "    results_cur = pd.read_csv(f\"../results/lr/{dataset}/{method}.csv\")\n",
    "    print(results_cur.shape)\n",
    "    results_cur = summarize_results(results_cur, dataset, 0.05)\n",
    "    results_cur[\"method\"] = method\n",
    "    results.append(results_cur)\n",
    "results = pd.concat(results)\n",
    "format_df_table(results, \"method\", results.columns.tolist()[:-1])"
   ]
  },
  {
   "cell_type": "code",
   "execution_count": 114,
   "metadata": {},
   "outputs": [
    {
     "name": "stdout",
     "output_type": "stream",
     "text": [
      "(50, 5)\n",
      "(50, 5)\n"
     ]
    },
    {
     "data": {
      "text/html": [
       "<div>\n",
       "<style scoped>\n",
       "    .dataframe tbody tr th:only-of-type {\n",
       "        vertical-align: middle;\n",
       "    }\n",
       "\n",
       "    .dataframe tbody tr th {\n",
       "        vertical-align: top;\n",
       "    }\n",
       "\n",
       "    .dataframe thead th {\n",
       "        text-align: right;\n",
       "    }\n",
       "</style>\n",
       "<table border=\"1\" class=\"dataframe\">\n",
       "  <thead>\n",
       "    <tr style=\"text-align: right;\">\n",
       "      <th></th>\n",
       "      <th>method</th>\n",
       "      <th>costs</th>\n",
       "      <th>n_changes</th>\n",
       "      <th>outlier</th>\n",
       "      <th>outliers_score</th>\n",
       "      <th>diversity</th>\n",
       "      <th>n_solutions</th>\n",
       "      <th>time</th>\n",
       "    </tr>\n",
       "  </thead>\n",
       "  <tbody>\n",
       "    <tr>\n",
       "      <th>0</th>\n",
       "      <td>mapocam</td>\n",
       "      <td>0.629 (+-0.152) | 0.866</td>\n",
       "      <td>1.973 (+-0.018) | 1.991</td>\n",
       "      <td>0.0 (+-0.003) | 0.0</td>\n",
       "      <td>0.477 (+-0.035) | 0.527</td>\n",
       "      <td>0.3 (+-0.246) | 0.747</td>\n",
       "      <td>242.34 (+-167.414) | 493.5</td>\n",
       "      <td>132.648 (+-26.083) | 162.431</td>\n",
       "    </tr>\n",
       "    <tr>\n",
       "      <th>1</th>\n",
       "      <td>mapofcem_no_shap</td>\n",
       "      <td>0.63 (+-0.151) | 0.866</td>\n",
       "      <td>1.973 (+-0.018) | 1.991</td>\n",
       "      <td>0.0 (+-0.002) | 0.0</td>\n",
       "      <td>0.477 (+-0.035) | 0.527</td>\n",
       "      <td>0.301 (+-0.245) | 0.747</td>\n",
       "      <td>240.84 (+-166.379) | 493.5</td>\n",
       "      <td>132.215 (+-25.909) | 161.787</td>\n",
       "    </tr>\n",
       "  </tbody>\n",
       "</table>\n",
       "</div>"
      ],
      "text/plain": [
       "             method                    costs                n_changes  \\\n",
       "0           mapocam  0.629 (+-0.152) | 0.866  1.973 (+-0.018) | 1.991   \n",
       "1  mapofcem_no_shap   0.63 (+-0.151) | 0.866  1.973 (+-0.018) | 1.991   \n",
       "\n",
       "               outlier           outliers_score                diversity  \\\n",
       "0  0.0 (+-0.003) | 0.0  0.477 (+-0.035) | 0.527    0.3 (+-0.246) | 0.747   \n",
       "1  0.0 (+-0.002) | 0.0  0.477 (+-0.035) | 0.527  0.301 (+-0.245) | 0.747   \n",
       "\n",
       "                  n_solutions                          time  \n",
       "0  242.34 (+-167.414) | 493.5  132.648 (+-26.083) | 162.431  \n",
       "1  240.84 (+-166.379) | 493.5  132.215 (+-25.909) | 161.787  "
      ]
     },
     "execution_count": 114,
     "metadata": {},
     "output_type": "execute_result"
    }
   ],
   "source": [
    "dataset = \"taiwan\"\n",
    "results = []\n",
    "for method in [\"mapofcem_no_shap\", \"mapocam\"]:\n",
    "    results_cur = pd.read_csv(f\"../results/lr/{dataset}/{method}.csv\")\n",
    "    print(results_cur.shape)\n",
    "    results_cur = summarize_results(results_cur, dataset, 0.01)\n",
    "    results_cur[\"method\"] = method\n",
    "    results.append(results_cur)\n",
    "results = pd.concat(results)\n",
    "format_df_table(results, \"method\", results.columns.tolist()[:-1])"
   ]
  }
 ],
 "metadata": {
  "kernelspec": {
   "display_name": "Python 3 (ipykernel)",
   "language": "python",
   "name": "python3"
  },
  "language_info": {
   "codemirror_mode": {
    "name": "ipython",
    "version": 3
   },
   "file_extension": ".py",
   "mimetype": "text/x-python",
   "name": "python",
   "nbconvert_exporter": "python",
   "pygments_lexer": "ipython3",
   "version": "3.10.12"
  }
 },
 "nbformat": 4,
 "nbformat_minor": 2
}
