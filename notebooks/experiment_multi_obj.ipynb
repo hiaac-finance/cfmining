{
 "cells": [
  {
   "cell_type": "code",
   "execution_count": 15,
   "metadata": {},
   "outputs": [
    {
     "name": "stdout",
     "output_type": "stream",
     "text": [
      "The autoreload extension is already loaded. To reload it, use:\n",
      "  %reload_ext autoreload\n"
     ]
    }
   ],
   "source": [
    "import copy\n",
    "import numpy as np\n",
    "import pandas as pd\n",
    "from tqdm import tqdm\n",
    "import time\n",
    "import sys\n",
    "sys.path.append(\"../\")\n",
    "\n",
    "from cfmining.algorithms import MAPOFCEM\n",
    "from cfmining.predictors import GeneralClassifier_Shap\n",
    "from cfmining.action_set import ActionSet\n",
    "from cfmining.utils import get_data_model\n",
    "from cfmining.baselines import Bruteforce, MAPOCAM, Nice, Dice\n",
    "\n",
    "from experiments_helper import summarize_results, format_df_table, run_experiments\n",
    "\n",
    "%load_ext autoreload\n",
    "%autoreload 2"
   ]
  },
  {
   "cell_type": "code",
   "execution_count": 16,
   "metadata": {},
   "outputs": [],
   "source": [
    "SEED = 0"
   ]
  },
  {
   "cell_type": "markdown",
   "metadata": {},
   "source": [
    "## LGBM"
   ]
  },
  {
   "cell_type": "markdown",
   "metadata": {},
   "source": [
    "### German"
   ]
  },
  {
   "cell_type": "code",
   "execution_count": 17,
   "metadata": {},
   "outputs": [],
   "source": [
    "X_train, Y_train, model, outlier_detection, individuals = get_data_model(\"german\", \"LGBMClassifier\")\n",
    "individuals = individuals.sample(n = 50, random_state=SEED)"
   ]
  },
  {
   "cell_type": "code",
   "execution_count": 18,
   "metadata": {},
   "outputs": [],
   "source": [
    "not_mutable_features = ['Age', 'OwnsHouse', 'isMale', 'JobClassIsSkilled', 'Single', 'ForeignWorker', 'RentsHouse']\n",
    "mutable_features = [feat for feat in X_train.columns if feat not in not_mutable_features]\n",
    "continuous_features = ['Age', 'LoanDuration', 'LoanAmount', 'LoanRateAsPercentOfIncome','YearsAtCurrentHome', \"NumberOfLiableIndividuals\", \"NumberOfOtherLoansAtBank\"]\n",
    "categoric_features = [col for col in X_train.columns if col not in continuous_features]\n",
    "\n",
    "action_set = ActionSet(X = X_train, default_step_size = 0.05, mutable_features = mutable_features)\n",
    "model_shap = GeneralClassifier_Shap(model, outlier_detection, X_train, shap_explainer=\"tree\", threshold = 0.5)"
   ]
  },
  {
   "cell_type": "markdown",
   "metadata": {},
   "source": [
    "#### MAPOFCEM"
   ]
  },
  {
   "cell_type": "code",
   "execution_count": 21,
   "metadata": {},
   "outputs": [
    {
     "name": "stderr",
     "output_type": "stream",
     "text": [
      "100%|███████████████████████████████████████████████████████████████████████████████████████████████████████████████████████████████████████████████████████████████████████████████████████████████████████████████| 50/50 [01:46<00:00,  2.13s/it]\n"
     ]
    }
   ],
   "source": [
    "method = MAPOFCEM(\n",
    "    action_set = action_set,\n",
    "    classifier = model_shap,\n",
    "    compare = \"non_dom\",\n",
    "    max_changes = 3\n",
    ")\n",
    "\n",
    "run_experiments(\n",
    "    method,\n",
    "    individuals=individuals,\n",
    "    model=model_shap,\n",
    "    output_file=f\"../results/multi_obj/lgbm/german/mapofcem_non_dom.csv\"\n",
    ");"
   ]
  },
  {
   "cell_type": "code",
   "execution_count": 5,
   "metadata": {},
   "outputs": [
    {
     "name": "stderr",
     "output_type": "stream",
     "text": [
      "100%|███████████████████████████████████████████████████████████████████████████████████████████████████████████████████████████████████████████████████████████████████████████████████████████████████████████████| 50/50 [00:25<00:00,  1.95it/s]\n"
     ]
    }
   ],
   "source": [
    "method = MAPOFCEM(\n",
    "    action_set = action_set,\n",
    "    classifier = model_shap,\n",
    "    compare = \"percentile_change\",\n",
    "    max_changes = 3\n",
    ")\n",
    "\n",
    "run_experiments(\n",
    "    method,\n",
    "    individuals=individuals,\n",
    "    model=model_shap,\n",
    "    output_file=f\"../results/multi_obj/lgbm/german/mapofcem_percentile_change.csv\"\n",
    ");"
   ]
  },
  {
   "cell_type": "markdown",
   "metadata": {},
   "source": [
    "#### MAPOCAM"
   ]
  },
  {
   "cell_type": "code",
   "execution_count": 25,
   "metadata": {},
   "outputs": [
    {
     "name": "stderr",
     "output_type": "stream",
     "text": [
      "  0%|                                                                                                                                                                                                                        | 0/50 [00:00<?, ?it/s]"
     ]
    },
    {
     "name": "stderr",
     "output_type": "stream",
     "text": [
      "100%|███████████████████████████████████████████████████████████████████████████████████████████████████████████████████████████████████████████████████████████████████████████████████████████████████████████████| 50/50 [12:37<00:00, 15.15s/it]\n"
     ]
    }
   ],
   "source": [
    "model_shap.use_predict_max = False # to not use max prediction\n",
    "# little fix to action set\n",
    "action_set_ = copy.deepcopy(action_set)\n",
    "for feat in action_set_:\n",
    "    feat.flip_direction = 1\n",
    "    feat.update_grid()\n",
    "\n",
    "method = MAPOCAM(\n",
    "    action_set_,\n",
    "    model_shap,\n",
    "    criteria = \"non_dom\",\n",
    "    max_changes=3\n",
    ")\n",
    "\n",
    "run_experiments(\n",
    "    method,\n",
    "    individuals=individuals,\n",
    "    model=model_shap,\n",
    "    output_file=f\"../results/multi_obj/lgbm/german/mapocam_non_dom.csv\"\n",
    ");"
   ]
  },
  {
   "cell_type": "code",
   "execution_count": 6,
   "metadata": {},
   "outputs": [
    {
     "name": "stderr",
     "output_type": "stream",
     "text": [
      "100%|███████████████████████████████████████████████████████████████████████████████████████████████████████████████████████████████████████████████████████████████████████████████████████████████████████████████| 50/50 [00:46<00:00,  1.07it/s]\n"
     ]
    }
   ],
   "source": [
    "model_shap.use_predict_max = False # to not use max prediction\n",
    "# little fix to action set\n",
    "action_set_ = copy.deepcopy(action_set)\n",
    "for feat in action_set_:\n",
    "    feat.flip_direction = 1\n",
    "    feat.update_grid()\n",
    "\n",
    "method = MAPOCAM(\n",
    "    action_set_,\n",
    "    model_shap,\n",
    "    criteria = \"percentile_change\",\n",
    "    max_changes=3\n",
    ")\n",
    "\n",
    "run_experiments(\n",
    "    method,\n",
    "    individuals=individuals,\n",
    "    model=model_shap,\n",
    "    output_file=f\"../results/multi_obj/lgbm/german/mapocam_percentile_change.csv\"\n",
    ");"
   ]
  },
  {
   "cell_type": "markdown",
   "metadata": {},
   "source": [
    "#### DICE"
   ]
  },
  {
   "cell_type": "code",
   "execution_count": null,
   "metadata": {},
   "outputs": [],
   "source": [
    "# get mapofcem mean number of solutions\n",
    "results = pd.read_csv(\"../results/multi_obj/lgbm/german/mapofcem_non_dom.csv\")\n",
    "n_cfs = int(results[\"n_solutions\"].mean())\n",
    "\n",
    "method = Dice(\n",
    "    X_train,\n",
    "    Y_train,\n",
    "    model_shap.clf,\n",
    "    n_cfs = n_cfs,\n",
    "    mutable_features = mutable_features,\n",
    "    continuous_features = continuous_features,\n",
    ")\n",
    "\n",
    "run_experiments(\n",
    "    method,\n",
    "    individuals = individuals,\n",
    "    model = model_shap,\n",
    "    output_file=f\"../results/multi_obj/lgbm/german/dice.csv\"\n",
    ");"
   ]
  },
  {
   "cell_type": "markdown",
   "metadata": {},
   "source": [
    "#### Results"
   ]
  },
  {
   "cell_type": "code",
   "execution_count": 19,
   "metadata": {},
   "outputs": [
    {
     "data": {
      "text/html": [
       "<div>\n",
       "<style scoped>\n",
       "    .dataframe tbody tr th:only-of-type {\n",
       "        vertical-align: middle;\n",
       "    }\n",
       "\n",
       "    .dataframe tbody tr th {\n",
       "        vertical-align: top;\n",
       "    }\n",
       "\n",
       "    .dataframe thead th {\n",
       "        text-align: right;\n",
       "    }\n",
       "</style>\n",
       "<table border=\"1\" class=\"dataframe\">\n",
       "  <thead>\n",
       "    <tr style=\"text-align: right;\">\n",
       "      <th></th>\n",
       "      <th>method</th>\n",
       "      <th>costs</th>\n",
       "      <th>n_changes</th>\n",
       "      <th>outlier</th>\n",
       "      <th>outliers_score</th>\n",
       "      <th>diversity</th>\n",
       "      <th>n_solutions</th>\n",
       "      <th>time</th>\n",
       "    </tr>\n",
       "  </thead>\n",
       "  <tbody>\n",
       "    <tr>\n",
       "      <th>0</th>\n",
       "      <td>dice</td>\n",
       "      <td>0.508 (+-0.123) | 0.698</td>\n",
       "      <td>1.773 (+-0.337) | 2.08</td>\n",
       "      <td>0.185 (+-0.285) | 0.843</td>\n",
       "      <td>0.508 (+-0.045) | 0.581</td>\n",
       "      <td>0.138 (+-0.184) | 0.548</td>\n",
       "      <td>22.0 (+-0.0) | 22.0</td>\n",
       "      <td>0.303 (+-0.074) | 0.435</td>\n",
       "    </tr>\n",
       "    <tr>\n",
       "      <th>1</th>\n",
       "      <td>mapocam_non_dom</td>\n",
       "      <td>0.436 (+-0.13) | 0.627</td>\n",
       "      <td>2.092 (+-0.637) | 2.841</td>\n",
       "      <td>0.213 (+-0.3) | 0.878</td>\n",
       "      <td>0.514 (+-0.043) | 0.587</td>\n",
       "      <td>0.067 (+-0.093) | 0.236</td>\n",
       "      <td>36.4 (+-26.026) | 81.05</td>\n",
       "      <td>15.135 (+-13.875) | 39.759</td>\n",
       "    </tr>\n",
       "    <tr>\n",
       "      <th>2</th>\n",
       "      <td>mapocam_percentile_change</td>\n",
       "      <td>0.112 (+-0.106) | 0.32</td>\n",
       "      <td>1.29 (+-0.392) | 2.0</td>\n",
       "      <td>0.19 (+-0.364) | 1.0</td>\n",
       "      <td>0.511 (+-0.05) | 0.597</td>\n",
       "      <td>0.434 (+-0.495) | 1.0</td>\n",
       "      <td>1.5 (+-0.614) | 2.55</td>\n",
       "      <td>0.929 (+-2.667) | 3.017</td>\n",
       "    </tr>\n",
       "    <tr>\n",
       "      <th>3</th>\n",
       "      <td>mapofcem_non_dom</td>\n",
       "      <td>0.434 (+-0.147) | 0.628</td>\n",
       "      <td>2.053 (+-0.615) | 2.821</td>\n",
       "      <td>0.069 (+-0.117) | 0.318</td>\n",
       "      <td>0.503 (+-0.032) | 0.549</td>\n",
       "      <td>0.157 (+-0.2) | 0.618</td>\n",
       "      <td>22.74 (+-18.045) | 61.85</td>\n",
       "      <td>2.12 (+-1.916) | 6.275</td>\n",
       "    </tr>\n",
       "    <tr>\n",
       "      <th>4</th>\n",
       "      <td>mapofcem_percentile_change</td>\n",
       "      <td>0.15 (+-0.146) | 0.465</td>\n",
       "      <td>1.36 (+-0.535) | 2.775</td>\n",
       "      <td>0.01 (+-0.071) | 0.0</td>\n",
       "      <td>0.496 (+-0.036) | 0.546</td>\n",
       "      <td>0.376 (+-0.485) | 1.0</td>\n",
       "      <td>1.38 (+-0.49) | 2.0</td>\n",
       "      <td>0.511 (+-0.769) | 1.772</td>\n",
       "    </tr>\n",
       "  </tbody>\n",
       "</table>\n",
       "</div>"
      ],
      "text/plain": [
       "                       method                    costs  \\\n",
       "0                        dice  0.508 (+-0.123) | 0.698   \n",
       "1             mapocam_non_dom   0.436 (+-0.13) | 0.627   \n",
       "2   mapocam_percentile_change   0.112 (+-0.106) | 0.32   \n",
       "3            mapofcem_non_dom  0.434 (+-0.147) | 0.628   \n",
       "4  mapofcem_percentile_change   0.15 (+-0.146) | 0.465   \n",
       "\n",
       "                 n_changes                  outlier           outliers_score  \\\n",
       "0   1.773 (+-0.337) | 2.08  0.185 (+-0.285) | 0.843  0.508 (+-0.045) | 0.581   \n",
       "1  2.092 (+-0.637) | 2.841    0.213 (+-0.3) | 0.878  0.514 (+-0.043) | 0.587   \n",
       "2     1.29 (+-0.392) | 2.0     0.19 (+-0.364) | 1.0   0.511 (+-0.05) | 0.597   \n",
       "3  2.053 (+-0.615) | 2.821  0.069 (+-0.117) | 0.318  0.503 (+-0.032) | 0.549   \n",
       "4   1.36 (+-0.535) | 2.775     0.01 (+-0.071) | 0.0  0.496 (+-0.036) | 0.546   \n",
       "\n",
       "                 diversity               n_solutions  \\\n",
       "0  0.138 (+-0.184) | 0.548       22.0 (+-0.0) | 22.0   \n",
       "1  0.067 (+-0.093) | 0.236   36.4 (+-26.026) | 81.05   \n",
       "2    0.434 (+-0.495) | 1.0      1.5 (+-0.614) | 2.55   \n",
       "3    0.157 (+-0.2) | 0.618  22.74 (+-18.045) | 61.85   \n",
       "4    0.376 (+-0.485) | 1.0       1.38 (+-0.49) | 2.0   \n",
       "\n",
       "                         time  \n",
       "0     0.303 (+-0.074) | 0.435  \n",
       "1  15.135 (+-13.875) | 39.759  \n",
       "2     0.929 (+-2.667) | 3.017  \n",
       "3      2.12 (+-1.916) | 6.275  \n",
       "4     0.511 (+-0.769) | 1.772  "
      ]
     },
     "execution_count": 19,
     "metadata": {},
     "output_type": "execute_result"
    }
   ],
   "source": [
    "dataset = \"german\"\n",
    "results = []\n",
    "for method in [\"mapofcem_non_dom\", \"mapofcem_percentile_change\", \"mapocam_non_dom\", \"mapocam_percentile_change\", \"dice\"]:\n",
    "    results_cur = pd.read_csv(f\"../results/multi_obj/lgbm/{dataset}/{method}.csv\")\n",
    "    results_cur = summarize_results(results_cur, dataset, 0.05)\n",
    "    results_cur[\"method\"] = method\n",
    "    results.append(results_cur)\n",
    "results = pd.concat(results)\n",
    "format_df_table(results, \"method\", results.columns.tolist()[:-1])"
   ]
  },
  {
   "cell_type": "markdown",
   "metadata": {},
   "source": [
    "### Taiwan"
   ]
  },
  {
   "cell_type": "code",
   "execution_count": 29,
   "metadata": {},
   "outputs": [],
   "source": [
    "X_train, Y_train, model, outlier_detection, individuals = get_data_model(\"taiwan\")\n",
    "individuals = individuals.sample(n = 50, random_state=SEED)"
   ]
  },
  {
   "cell_type": "code",
   "execution_count": 30,
   "metadata": {},
   "outputs": [],
   "source": [
    "not_mutable_features = ['Single', 'Age_in_25_to_40', 'Married', 'Age_lt_25', 'Age_in_40_to_59', 'Age_geq_60', 'EducationLevel']\n",
    "mutable_features = [feat for feat in X_train.columns if feat not in not_mutable_features]\n",
    "continuous_features = [\"LIMIT_BAL\", \"BILL_AMT1\", \"BILL_AMT2\", \"BILL_AMT3\",\n",
    "                       \"BILL_AMT4\", \"BILL_AMT5\", \"BILL_AMT6\", \"PAY_AMT1\",\n",
    "                       \"PAY_AMT2\", \"PAY_AMT3\", \"PAY_AMT4\", \"PAY_AMT5\",\n",
    "                       \"PAY_AMT6\", \"MaxBillAmountOverLast6Months\", \"MaxPaymentAmountOverLast6Months\",\n",
    "                       \"MostRecentBillAmount\", \"MostRecentPaymentAmount\", \"MostRecentPaymentAmount\", \"TotalMonthsOverdue\",\n",
    "                       \"MonthsWithZeroBalanceOverLast6Months\", \"MonthsWithLowSpendingOverLast6Months\", \"MonthsWithHighSpendingOverLast6Months\", \"TotalOverdueCounts\"]\n",
    "categoric_features = [col for col in X_train.columns if col not in continuous_features]\n",
    "action_set = ActionSet(X = X_train, default_step_size = 0.05, mutable_features = mutable_features)\n",
    "model_shap = GeneralClassifier_Shap(model, outlier_detection, X_train, shap_explainer=\"tree\", threshold = 0.5)"
   ]
  },
  {
   "cell_type": "markdown",
   "metadata": {},
   "source": [
    "#### MAPOFCEM"
   ]
  },
  {
   "cell_type": "code",
   "execution_count": 32,
   "metadata": {},
   "outputs": [
    {
     "name": "stderr",
     "output_type": "stream",
     "text": [
      "  0%|                                                                                                                                                                                                                        | 0/50 [00:00<?, ?it/s]"
     ]
    },
    {
     "name": "stderr",
     "output_type": "stream",
     "text": [
      "100%|████████████████████████████████████████████████████████████████████████████████████████████████████████████████████████████████████████████████████████████████████████████████████████████████████████████| 50/50 [2:01:21<00:00, 145.63s/it]\n"
     ]
    }
   ],
   "source": [
    "method = MAPOFCEM(\n",
    "    action_set = action_set,\n",
    "    classifier = model_shap,\n",
    "    compare = \"non_dom\",\n",
    "    max_changes = 3,\n",
    "    outlier_percentile = 0.01\n",
    ")\n",
    "\n",
    "results = run_experiments(\n",
    "    method,\n",
    "    individuals=individuals,\n",
    "    model=model_shap,\n",
    "    output_file=f\"../results/multi_obj/lgbm/taiwan/mapofcem_non_dom.csv\"\n",
    ");"
   ]
  },
  {
   "cell_type": "code",
   "execution_count": 42,
   "metadata": {},
   "outputs": [
    {
     "name": "stderr",
     "output_type": "stream",
     "text": [
      "100%|███████████████████████████████████████████████████████████████████████████████████████████████████████████████████████████████████████████████████████████████████████████████████████████████████████████████| 50/50 [03:48<00:00,  4.57s/it]\n"
     ]
    }
   ],
   "source": [
    "method = MAPOFCEM(\n",
    "    action_set = action_set,\n",
    "    classifier = model_shap,\n",
    "    compare = \"percentile\",\n",
    "    max_changes = 3,\n",
    "    outlier_percentile = 0.01\n",
    ")\n",
    "\n",
    "results = run_experiments(\n",
    "    method,\n",
    "    individuals=individuals,\n",
    "    model=model_shap,\n",
    "    output_file=f\"../results/multi_obj/lgbm/taiwan/mapofcem_percentile.csv\"\n",
    ");"
   ]
  },
  {
   "cell_type": "markdown",
   "metadata": {},
   "source": [
    "#### MAPOCAM"
   ]
  },
  {
   "cell_type": "code",
   "execution_count": null,
   "metadata": {},
   "outputs": [],
   "source": [
    "model_shap.use_predict_max = False # to not use max prediction\n",
    "# little fix to action set\n",
    "action_set_ = copy.deepcopy(action_set)\n",
    "for feat in action_set_:\n",
    "    feat.flip_direction = 1\n",
    "    feat.update_grid()\n",
    "\n",
    "method = MAPOCAM(\n",
    "    action_set_,\n",
    "    model_shap,\n",
    "    criteria = \"non_dom\",\n",
    "    max_changes=3\n",
    ")\n",
    "\n",
    "# did not finished running\n",
    "run_experiments(\n",
    "    method,\n",
    "    individuals=individuals.iloc[:5],\n",
    "    model=model_shap,\n",
    "    output_file=f\"../results/multi_obj/lgbm/taiwan/mapocam_non_dom.csv\"\n",
    ");"
   ]
  },
  {
   "cell_type": "code",
   "execution_count": 41,
   "metadata": {},
   "outputs": [
    {
     "name": "stderr",
     "output_type": "stream",
     "text": [
      "  0%|                                                                                                                                                                                                                        | 0/50 [00:00<?, ?it/s]"
     ]
    },
    {
     "name": "stderr",
     "output_type": "stream",
     "text": [
      "100%|███████████████████████████████████████████████████████████████████████████████████████████████████████████████████████████████████████████████████████████████████████████████████████████████████████████████| 50/50 [06:17<00:00,  7.55s/it]\n"
     ]
    }
   ],
   "source": [
    "model_shap.use_predict_max = False # to not use max prediction\n",
    "# little fix to action set\n",
    "action_set_ = copy.deepcopy(action_set)\n",
    "for feat in action_set_:\n",
    "    feat.flip_direction = 1\n",
    "    feat.update_grid()\n",
    "\n",
    "method = MAPOCAM(\n",
    "    action_set_,\n",
    "    model_shap,\n",
    "    criteria = \"percentile\",\n",
    "    max_changes=3\n",
    ")\n",
    "\n",
    "run_experiments(\n",
    "    method,\n",
    "    individuals=individuals,\n",
    "    model=model_shap,\n",
    "    output_file=f\"../results/multi_obj/lgbm/taiwan/mapocam_percentile.csv\"\n",
    ");"
   ]
  },
  {
   "cell_type": "markdown",
   "metadata": {},
   "source": [
    "#### Dice"
   ]
  },
  {
   "cell_type": "code",
   "execution_count": null,
   "metadata": {},
   "outputs": [],
   "source": [
    "# get mapofcem mean number of solutions\n",
    "results = pd.read_csv(\"../results/multi_obj/lgbm/taiwan/mapofcem_non_dom.csv\")\n",
    "n_cfs = int(results[\"n_solutions\"].mean())\n",
    "\n",
    "method = Dice(\n",
    "    X_train,\n",
    "    Y_train,\n",
    "    model_shap.clf,\n",
    "    n_cfs = n_cfs,\n",
    "    mutable_features = mutable_features,\n",
    "    continuous_features = continuous_features,\n",
    ")\n",
    "\n",
    "run_experiments(\n",
    "    method,\n",
    "    individuals = individuals,\n",
    "    model = model_shap,\n",
    "    output_file=f\"../results/multi_obj/lgbm/taiwan/dice.csv\"\n",
    ");"
   ]
  },
  {
   "cell_type": "markdown",
   "metadata": {},
   "source": [
    "#### Results"
   ]
  },
  {
   "cell_type": "code",
   "execution_count": 20,
   "metadata": {},
   "outputs": [
    {
     "data": {
      "text/html": [
       "<div>\n",
       "<style scoped>\n",
       "    .dataframe tbody tr th:only-of-type {\n",
       "        vertical-align: middle;\n",
       "    }\n",
       "\n",
       "    .dataframe tbody tr th {\n",
       "        vertical-align: top;\n",
       "    }\n",
       "\n",
       "    .dataframe thead th {\n",
       "        text-align: right;\n",
       "    }\n",
       "</style>\n",
       "<table border=\"1\" class=\"dataframe\">\n",
       "  <thead>\n",
       "    <tr style=\"text-align: right;\">\n",
       "      <th></th>\n",
       "      <th>model</th>\n",
       "      <th>costs</th>\n",
       "      <th>n_changes</th>\n",
       "      <th>outlier</th>\n",
       "      <th>outliers_score</th>\n",
       "      <th>diversity</th>\n",
       "      <th>n_solutions</th>\n",
       "      <th>time</th>\n",
       "    </tr>\n",
       "  </thead>\n",
       "  <tbody>\n",
       "    <tr>\n",
       "      <th>0</th>\n",
       "      <td>dice</td>\n",
       "      <td>0.68 (+-0.145) | 0.887</td>\n",
       "      <td>2.14 (+-1.143) | 4.963</td>\n",
       "      <td>0.259 (+-0.328) | 0.958</td>\n",
       "      <td>0.515 (+-0.047) | 0.592</td>\n",
       "      <td>0.242 (+-0.322) | 0.87</td>\n",
       "      <td>151.0 (+-0.0) | 151.0</td>\n",
       "      <td>4.118 (+-4.789) | 15.324</td>\n",
       "    </tr>\n",
       "    <tr>\n",
       "      <th>1</th>\n",
       "      <td>mapocam_percentile</td>\n",
       "      <td>0.054 (+-0.05) | 0.141</td>\n",
       "      <td>2.54 (+-0.762) | 3.0</td>\n",
       "      <td>0.06 (+-0.24) | 0.55</td>\n",
       "      <td>0.454 (+-0.053) | 0.548</td>\n",
       "      <td>0.0 (+-0.0) | 0.0</td>\n",
       "      <td>1.0 (+-0.0) | 1.0</td>\n",
       "      <td>7.542 (+-20.91) | 48.562</td>\n",
       "    </tr>\n",
       "    <tr>\n",
       "      <th>2</th>\n",
       "      <td>mapofcem_non_dom</td>\n",
       "      <td>0.38 (+-0.099) | 0.541</td>\n",
       "      <td>2.517 (+-0.468) | 2.927</td>\n",
       "      <td>0.042 (+-0.18) | 0.142</td>\n",
       "      <td>0.457 (+-0.041) | 0.534</td>\n",
       "      <td>0.447 (+-0.3) | 0.898</td>\n",
       "      <td>151.0 (+-100.66) | 359.7</td>\n",
       "      <td>145.577 (+-59.874) | 180.083</td>\n",
       "    </tr>\n",
       "    <tr>\n",
       "      <th>3</th>\n",
       "      <td>mapofcem_percentile</td>\n",
       "      <td>0.058 (+-0.051) | 0.141</td>\n",
       "      <td>2.49 (+-0.767) | 3.0</td>\n",
       "      <td>0.041 (+-0.2) | 0.0</td>\n",
       "      <td>0.448 (+-0.043) | 0.532</td>\n",
       "      <td>0.0 (+-0.0) | 0.0</td>\n",
       "      <td>0.98 (+-0.141) | 1.0</td>\n",
       "      <td>4.566 (+-25.367) | 3.593</td>\n",
       "    </tr>\n",
       "  </tbody>\n",
       "</table>\n",
       "</div>"
      ],
      "text/plain": [
       "                 model                    costs                n_changes  \\\n",
       "0                 dice   0.68 (+-0.145) | 0.887   2.14 (+-1.143) | 4.963   \n",
       "1   mapocam_percentile   0.054 (+-0.05) | 0.141     2.54 (+-0.762) | 3.0   \n",
       "2     mapofcem_non_dom   0.38 (+-0.099) | 0.541  2.517 (+-0.468) | 2.927   \n",
       "3  mapofcem_percentile  0.058 (+-0.051) | 0.141     2.49 (+-0.767) | 3.0   \n",
       "\n",
       "                   outlier           outliers_score               diversity  \\\n",
       "0  0.259 (+-0.328) | 0.958  0.515 (+-0.047) | 0.592  0.242 (+-0.322) | 0.87   \n",
       "1     0.06 (+-0.24) | 0.55  0.454 (+-0.053) | 0.548       0.0 (+-0.0) | 0.0   \n",
       "2   0.042 (+-0.18) | 0.142  0.457 (+-0.041) | 0.534   0.447 (+-0.3) | 0.898   \n",
       "3      0.041 (+-0.2) | 0.0  0.448 (+-0.043) | 0.532       0.0 (+-0.0) | 0.0   \n",
       "\n",
       "                n_solutions                          time  \n",
       "0     151.0 (+-0.0) | 151.0      4.118 (+-4.789) | 15.324  \n",
       "1         1.0 (+-0.0) | 1.0      7.542 (+-20.91) | 48.562  \n",
       "2  151.0 (+-100.66) | 359.7  145.577 (+-59.874) | 180.083  \n",
       "3      0.98 (+-0.141) | 1.0      4.566 (+-25.367) | 3.593  "
      ]
     },
     "execution_count": 20,
     "metadata": {},
     "output_type": "execute_result"
    }
   ],
   "source": [
    "dataset = \"taiwan\"\n",
    "metrics = []\n",
    "for method in [\"mapofcem_non_dom\", \"mapofcem_percentile\", \"mapocam_percentile\", \"dice\"]:\n",
    "    results = pd.read_csv(f\"../results/multi_obj/lgbm/{dataset}/{method}.csv\")\n",
    "    metrics.append(summarize_results(results, dataset))\n",
    "    metrics[-1][\"model\"] = method\n",
    "metrics = pd.concat(metrics)\n",
    "format_df_table(metrics, \"model\", metrics.columns.tolist()[:-1])"
   ]
  },
  {
   "cell_type": "markdown",
   "metadata": {},
   "source": [
    "## MLP"
   ]
  },
  {
   "cell_type": "markdown",
   "metadata": {},
   "source": [
    "### German"
   ]
  },
  {
   "cell_type": "code",
   "execution_count": 8,
   "metadata": {},
   "outputs": [],
   "source": [
    "X_train, Y_train, model, outlier_detection, individuals = get_data_model(\"german\", \"MLPClassifier\")\n",
    "individuals = individuals.sample(n = 50, random_state=SEED)"
   ]
  },
  {
   "cell_type": "code",
   "execution_count": 9,
   "metadata": {},
   "outputs": [],
   "source": [
    "not_mutable_features = ['Age', 'OwnsHouse', 'isMale', 'JobClassIsSkilled', 'Single', 'ForeignWorker', 'RentsHouse']\n",
    "mutable_features = [feat for feat in X_train.columns if feat not in not_mutable_features]\n",
    "continuous_features = ['Age', 'LoanDuration', 'LoanAmount', 'LoanRateAsPercentOfIncome','YearsAtCurrentHome', \"NumberOfLiableIndividuals\", \"NumberOfOtherLoansAtBank\"]\n",
    "categoric_features = [col for col in X_train.columns if col not in continuous_features]\n",
    "\n",
    "action_set = ActionSet(X = X_train, default_step_size = 0.05, mutable_features = mutable_features)\n",
    "model_shap = GeneralClassifier_Shap(model, outlier_detection, X_train, shap_explainer=\"permutation\", threshold = 0.5)"
   ]
  },
  {
   "cell_type": "markdown",
   "metadata": {},
   "source": [
    "#### MAPOFCEM"
   ]
  },
  {
   "cell_type": "code",
   "execution_count": 55,
   "metadata": {},
   "outputs": [
    {
     "name": "stderr",
     "output_type": "stream",
     "text": [
      "  0%|                                                                                                                                                                                                                        | 0/50 [00:00<?, ?it/s]"
     ]
    },
    {
     "name": "stderr",
     "output_type": "stream",
     "text": [
      "100%|███████████████████████████████████████████████████████████████████████████████████████████████████████████████████████████████████████████████████████████████████████████████████████████████████████████████| 50/50 [21:34<00:00, 25.90s/it]\n"
     ]
    }
   ],
   "source": [
    "method = MAPOFCEM(\n",
    "    action_set = action_set,\n",
    "    classifier = model_shap,\n",
    "    compare = \"non_dom\",\n",
    "    max_changes = 3\n",
    ")\n",
    "\n",
    "run_experiments(\n",
    "    method,\n",
    "    individuals=individuals,\n",
    "    model=model_shap,\n",
    "    output_file=f\"../results/multi_obj/mlp/german/mapofcem_non_dom.csv\"\n",
    ");"
   ]
  },
  {
   "cell_type": "code",
   "execution_count": 11,
   "metadata": {},
   "outputs": [
    {
     "name": "stderr",
     "output_type": "stream",
     "text": [
      "100%|███████████████████████████████████████████████████████████████████████████████████████████████████████████████████████████████████████████████████████████████████████████████████████████████████████████████| 50/50 [01:37<00:00,  1.95s/it]\n"
     ]
    }
   ],
   "source": [
    "method = MAPOFCEM(\n",
    "    action_set = action_set,\n",
    "    classifier = model_shap,\n",
    "    compare = \"percentile_change\",\n",
    "    max_changes = 3\n",
    ")\n",
    "\n",
    "run_experiments(\n",
    "    method,\n",
    "    individuals=individuals,\n",
    "    model=model_shap,\n",
    "    output_file=f\"../results/multi_obj/mlp/german/mapofcem_percentile_change.csv\"\n",
    ");"
   ]
  },
  {
   "cell_type": "markdown",
   "metadata": {},
   "source": [
    "#### MAPOCAM"
   ]
  },
  {
   "cell_type": "code",
   "execution_count": 47,
   "metadata": {},
   "outputs": [
    {
     "name": "stderr",
     "output_type": "stream",
     "text": [
      "100%|███████████████████████████████████████████████████████████████████████████████████████████████████████████████████████████████████████████████████████████████████████████████████████████████████████████████| 50/50 [32:29<00:00, 38.98s/it]\n"
     ]
    }
   ],
   "source": [
    "model_shap.use_predict_max = False # to not use max prediction\n",
    "# little fix to action set\n",
    "action_set_ = copy.deepcopy(action_set)\n",
    "for feat in action_set_:\n",
    "    feat.flip_direction = 1\n",
    "    feat.update_grid()\n",
    "\n",
    "method = MAPOCAM(\n",
    "    action_set_,\n",
    "    model_shap,\n",
    "    criteria = \"non_dom\",\n",
    "    max_changes=3\n",
    ")\n",
    "\n",
    "run_experiments(\n",
    "    method,\n",
    "    individuals=individuals,\n",
    "    model=model_shap,\n",
    "    output_file=f\"../results/multi_obj/mlp/german/mapocam_non_dom.csv\"\n",
    ");"
   ]
  },
  {
   "cell_type": "code",
   "execution_count": 12,
   "metadata": {},
   "outputs": [
    {
     "name": "stderr",
     "output_type": "stream",
     "text": [
      "100%|███████████████████████████████████████████████████████████████████████████████████████████████████████████████████████████████████████████████████████████████████████████████████████████████████████████████| 50/50 [01:40<00:00,  2.01s/it]\n"
     ]
    }
   ],
   "source": [
    "model_shap.use_predict_max = False # to not use max prediction\n",
    "# little fix to action set\n",
    "action_set_ = copy.deepcopy(action_set)\n",
    "for feat in action_set_:\n",
    "    feat.flip_direction = 1\n",
    "    feat.update_grid()\n",
    "\n",
    "method = MAPOCAM(\n",
    "    action_set_,\n",
    "    model_shap,\n",
    "    criteria = \"percentile_change\",\n",
    "    max_changes=3\n",
    ")\n",
    "\n",
    "run_experiments(\n",
    "    method,\n",
    "    individuals=individuals,\n",
    "    model=model_shap,\n",
    "    output_file=f\"../results/multi_obj/mlp/german/mapocam_percentile_change.csv\"\n",
    ");"
   ]
  },
  {
   "cell_type": "markdown",
   "metadata": {},
   "source": [
    "#### Dice"
   ]
  },
  {
   "cell_type": "code",
   "execution_count": null,
   "metadata": {},
   "outputs": [],
   "source": [
    "# get mapofcem mean number of solutions\n",
    "results = pd.read_csv(\"../results/multi_obj/mlp/german/mapofcem_non_dom.csv\")\n",
    "n_cfs = int(np.ceil(results[\"n_solutions\"].mean()))\n",
    "\n",
    "method = Dice(\n",
    "    X_train,\n",
    "    Y_train,\n",
    "    model_shap.clf,\n",
    "    n_cfs = n_cfs,\n",
    "    mutable_features = mutable_features,\n",
    "    continuous_features = continuous_features,\n",
    ")\n",
    "\n",
    "run_experiments(\n",
    "    method,\n",
    "    individuals = individuals,\n",
    "    model = model_shap,\n",
    "    output_file=f\"../results/multi_obj/mlp/german/dice.csv\"\n",
    ");"
   ]
  },
  {
   "cell_type": "markdown",
   "metadata": {},
   "source": [
    "#### Results"
   ]
  },
  {
   "cell_type": "code",
   "execution_count": 29,
   "metadata": {},
   "outputs": [
    {
     "data": {
      "text/html": [
       "<div>\n",
       "<style scoped>\n",
       "    .dataframe tbody tr th:only-of-type {\n",
       "        vertical-align: middle;\n",
       "    }\n",
       "\n",
       "    .dataframe tbody tr th {\n",
       "        vertical-align: top;\n",
       "    }\n",
       "\n",
       "    .dataframe thead th {\n",
       "        text-align: right;\n",
       "    }\n",
       "</style>\n",
       "<table border=\"1\" class=\"dataframe\">\n",
       "  <thead>\n",
       "    <tr style=\"text-align: right;\">\n",
       "      <th></th>\n",
       "      <th>method</th>\n",
       "      <th>costs</th>\n",
       "      <th>n_changes</th>\n",
       "      <th>outlier</th>\n",
       "      <th>outliers_score</th>\n",
       "      <th>diversity</th>\n",
       "      <th>n_solutions</th>\n",
       "      <th>time</th>\n",
       "    </tr>\n",
       "  </thead>\n",
       "  <tbody>\n",
       "    <tr>\n",
       "      <th>0</th>\n",
       "      <td>dice</td>\n",
       "      <td>0.516 (+-0.115) | 0.7</td>\n",
       "      <td>1.886 (+-0.448) | 2.512</td>\n",
       "      <td>0.184 (+-0.277) | 0.907</td>\n",
       "      <td>0.509 (+-0.044) | 0.593</td>\n",
       "      <td>0.021 (+-0.045) | 0.121</td>\n",
       "      <td>41.0 (+-0.0) | 41.0</td>\n",
       "      <td>0.415 (+-0.11) | 0.743</td>\n",
       "    </tr>\n",
       "    <tr>\n",
       "      <th>1</th>\n",
       "      <td>mapocam_non_dom</td>\n",
       "      <td>0.514 (+-0.136) | 0.678</td>\n",
       "      <td>2.292 (+-0.626) | 2.989</td>\n",
       "      <td>0.183 (+-0.291) | 0.831</td>\n",
       "      <td>0.509 (+-0.045) | 0.581</td>\n",
       "      <td>0.062 (+-0.109) | 0.243</td>\n",
       "      <td>47.34 (+-38.204) | 114.55</td>\n",
       "      <td>38.965 (+-20.562) | 65.718</td>\n",
       "    </tr>\n",
       "    <tr>\n",
       "      <th>2</th>\n",
       "      <td>mapocam_percentile_change</td>\n",
       "      <td>0.087 (+-0.124) | 0.245</td>\n",
       "      <td>1.37 (+-0.579) | 2.55</td>\n",
       "      <td>0.23 (+-0.407) | 1.0</td>\n",
       "      <td>0.524 (+-0.045) | 0.6</td>\n",
       "      <td>0.096 (+-0.291) | 0.937</td>\n",
       "      <td>1.1 (+-0.303) | 2.0</td>\n",
       "      <td>2.006 (+-6.998) | 9.34</td>\n",
       "    </tr>\n",
       "    <tr>\n",
       "      <th>3</th>\n",
       "      <td>mapofcem_non_dom</td>\n",
       "      <td>0.517 (+-0.123) | 0.664</td>\n",
       "      <td>2.304 (+-0.601) | 2.926</td>\n",
       "      <td>0.062 (+-0.123) | 0.315</td>\n",
       "      <td>0.499 (+-0.033) | 0.545</td>\n",
       "      <td>0.109 (+-0.2) | 0.439</td>\n",
       "      <td>40.1 (+-31.255) | 86.75</td>\n",
       "      <td>25.885 (+-15.407) | 48.052</td>\n",
       "    </tr>\n",
       "    <tr>\n",
       "      <th>4</th>\n",
       "      <td>mapofcem_percentile_change</td>\n",
       "      <td>0.094 (+-0.091) | 0.265</td>\n",
       "      <td>1.375 (+-0.579) | 2.5</td>\n",
       "      <td>0.135 (+-0.322) | 1.0</td>\n",
       "      <td>0.514 (+-0.037) | 0.564</td>\n",
       "      <td>0.123 (+-0.328) | 0.991</td>\n",
       "      <td>1.08 (+-0.396) | 2.0</td>\n",
       "      <td>1.944 (+-3.707) | 4.383</td>\n",
       "    </tr>\n",
       "  </tbody>\n",
       "</table>\n",
       "</div>"
      ],
      "text/plain": [
       "                       method                    costs  \\\n",
       "0                        dice    0.516 (+-0.115) | 0.7   \n",
       "1             mapocam_non_dom  0.514 (+-0.136) | 0.678   \n",
       "2   mapocam_percentile_change  0.087 (+-0.124) | 0.245   \n",
       "3            mapofcem_non_dom  0.517 (+-0.123) | 0.664   \n",
       "4  mapofcem_percentile_change  0.094 (+-0.091) | 0.265   \n",
       "\n",
       "                 n_changes                  outlier           outliers_score  \\\n",
       "0  1.886 (+-0.448) | 2.512  0.184 (+-0.277) | 0.907  0.509 (+-0.044) | 0.593   \n",
       "1  2.292 (+-0.626) | 2.989  0.183 (+-0.291) | 0.831  0.509 (+-0.045) | 0.581   \n",
       "2    1.37 (+-0.579) | 2.55     0.23 (+-0.407) | 1.0    0.524 (+-0.045) | 0.6   \n",
       "3  2.304 (+-0.601) | 2.926  0.062 (+-0.123) | 0.315  0.499 (+-0.033) | 0.545   \n",
       "4    1.375 (+-0.579) | 2.5    0.135 (+-0.322) | 1.0  0.514 (+-0.037) | 0.564   \n",
       "\n",
       "                 diversity                n_solutions  \\\n",
       "0  0.021 (+-0.045) | 0.121        41.0 (+-0.0) | 41.0   \n",
       "1  0.062 (+-0.109) | 0.243  47.34 (+-38.204) | 114.55   \n",
       "2  0.096 (+-0.291) | 0.937        1.1 (+-0.303) | 2.0   \n",
       "3    0.109 (+-0.2) | 0.439    40.1 (+-31.255) | 86.75   \n",
       "4  0.123 (+-0.328) | 0.991       1.08 (+-0.396) | 2.0   \n",
       "\n",
       "                         time  \n",
       "0      0.415 (+-0.11) | 0.743  \n",
       "1  38.965 (+-20.562) | 65.718  \n",
       "2      2.006 (+-6.998) | 9.34  \n",
       "3  25.885 (+-15.407) | 48.052  \n",
       "4     1.944 (+-3.707) | 4.383  "
      ]
     },
     "execution_count": 29,
     "metadata": {},
     "output_type": "execute_result"
    }
   ],
   "source": [
    "dataset = \"german\"\n",
    "results = []\n",
    "for method in [\"mapofcem_non_dom\", \"mapocam_non_dom\", \"mapofcem_percentile_change\",  \"mapocam_percentile_change\", \"dice\"]:\n",
    "    results_cur = pd.read_csv(f\"../results/multi_obj/mlp/{dataset}/{method}.csv\")\n",
    "    results_cur = summarize_results(results_cur, dataset, 0.05)\n",
    "    results_cur[\"method\"] = method\n",
    "    results.append(results_cur)\n",
    "results = pd.concat(results)\n",
    "format_df_table(results, \"method\", results.columns.tolist()[:-1])"
   ]
  },
  {
   "cell_type": "markdown",
   "metadata": {},
   "source": [
    "### Taiwan"
   ]
  },
  {
   "cell_type": "code",
   "execution_count": 3,
   "metadata": {},
   "outputs": [],
   "source": [
    "X_train, Y_train, model, outlier_detection, individuals = get_data_model(\"taiwan\", \"MLPClassifier\")\n",
    "individuals = individuals.sample(n = 50, random_state=SEED)"
   ]
  },
  {
   "cell_type": "code",
   "execution_count": 4,
   "metadata": {},
   "outputs": [
    {
     "name": "stderr",
     "output_type": "stream",
     "text": [
      "PermutationExplainer explainer: 1001it [00:31, 23.46it/s]                                                                                                                                   \n"
     ]
    }
   ],
   "source": [
    "not_mutable_features = ['Single', 'Age_in_25_to_40', 'Married', 'Age_lt_25', 'Age_in_40_to_59', 'Age_geq_60', 'EducationLevel']\n",
    "mutable_features = [feat for feat in X_train.columns if feat not in not_mutable_features]\n",
    "continuous_features = [\"LIMIT_BAL\", \"BILL_AMT1\", \"BILL_AMT2\", \"BILL_AMT3\",\n",
    "                       \"BILL_AMT4\", \"BILL_AMT5\", \"BILL_AMT6\", \"PAY_AMT1\",\n",
    "                       \"PAY_AMT2\", \"PAY_AMT3\", \"PAY_AMT4\", \"PAY_AMT5\",\n",
    "                       \"PAY_AMT6\", \"MaxBillAmountOverLast6Months\", \"MaxPaymentAmountOverLast6Months\",\n",
    "                       \"MostRecentBillAmount\", \"MostRecentPaymentAmount\", \"MostRecentPaymentAmount\", \"TotalMonthsOverdue\",\n",
    "                       \"MonthsWithZeroBalanceOverLast6Months\", \"MonthsWithLowSpendingOverLast6Months\", \"MonthsWithHighSpendingOverLast6Months\", \"TotalOverdueCounts\"]\n",
    "categoric_features = [col for col in X_train.columns if col not in continuous_features]\n",
    "action_set = ActionSet(X = X_train, default_step_size = 0.05, mutable_features = mutable_features)\n",
    "model_shap = GeneralClassifier_Shap(model, outlier_detection, X_train, shap_explainer=\"permutation\", threshold = 0.5)"
   ]
  },
  {
   "cell_type": "markdown",
   "metadata": {},
   "source": [
    "#### MAPOFCEM"
   ]
  },
  {
   "cell_type": "code",
   "execution_count": null,
   "metadata": {},
   "outputs": [],
   "source": [
    "method = MAPOFCEM(\n",
    "    action_set = action_set,\n",
    "    classifier = model_shap,\n",
    "    compare = \"non_dom\",\n",
    "    max_changes = 3\n",
    ")\n",
    "\n",
    "run_experiments(\n",
    "    method,\n",
    "    individuals=individuals,\n",
    "    model=model_shap,\n",
    "    output_file=f\"../results/multi_obj/mlp/taiwan/mapofcem_non_dom.csv\"\n",
    ");"
   ]
  },
  {
   "cell_type": "code",
   "execution_count": 20,
   "metadata": {},
   "outputs": [
    {
     "name": "stderr",
     "output_type": "stream",
     "text": [
      "100%|█████████████████████████████████████████████████████████████████████████████████████████████████████████████████████████████████████████████████████████████████████████████████████████████████████████████| 50/50 [1:18:11<00:00, 93.83s/it]\n"
     ]
    }
   ],
   "source": [
    "method = MAPOFCEM(\n",
    "    action_set = action_set,\n",
    "    classifier = model_shap,\n",
    "    compare = \"percentile_change\",\n",
    "    max_changes = 3\n",
    ")\n",
    "\n",
    "run_experiments(\n",
    "    method,\n",
    "    individuals=individuals,\n",
    "    model=model_shap,\n",
    "    output_file=f\"../results/multi_obj/mlp/taiwan/mapofcem_percentile_change.csv\"\n",
    ");"
   ]
  },
  {
   "cell_type": "markdown",
   "metadata": {},
   "source": [
    "#### MAPOCAM"
   ]
  },
  {
   "cell_type": "code",
   "execution_count": null,
   "metadata": {},
   "outputs": [],
   "source": [
    "model_shap.use_predict_max = False # to not use max prediction\n",
    "# little fix to action set\n",
    "action_set_ = copy.deepcopy(action_set)\n",
    "for feat in action_set_:\n",
    "    feat.flip_direction = 1\n",
    "    feat.update_grid()\n",
    "\n",
    "method = MAPOCAM(\n",
    "    action_set_,\n",
    "    model_shap,\n",
    "    criteria = \"non_dom\",\n",
    "    max_changes=3\n",
    ")\n",
    "\n",
    "run_experiments(\n",
    "    method,\n",
    "    individuals=individuals,\n",
    "    model=model_shap,\n",
    "    output_file=f\"../results/multi_obj/mlp/taiwan/mapocam_non_dom.csv\"\n",
    ");"
   ]
  },
  {
   "cell_type": "code",
   "execution_count": 5,
   "metadata": {},
   "outputs": [
    {
     "name": "stderr",
     "output_type": "stream",
     "text": [
      "  0%|                                                                                                                                                                | 0/50 [00:00<?, ?it/s]"
     ]
    },
    {
     "name": "stderr",
     "output_type": "stream",
     "text": [
      " 12%|█████████████████▉                                                                                                                                   | 6/50 [17:13<1:58:34, 161.69s/it]"
     ]
    }
   ],
   "source": [
    "model_shap.use_predict_max = False # to not use max prediction\n",
    "# little fix to action set\n",
    "action_set_ = copy.deepcopy(action_set)\n",
    "for feat in action_set_:\n",
    "    feat.flip_direction = 1\n",
    "    feat.update_grid()\n",
    "\n",
    "method = MAPOCAM(\n",
    "    action_set_,\n",
    "    model_shap,\n",
    "    criteria = \"percentile_change\",\n",
    "    max_changes=3\n",
    ")\n",
    "\n",
    "run_experiments(\n",
    "    method,\n",
    "    individuals=individuals,\n",
    "    model=model_shap,\n",
    "    output_file=f\"../results/multi_obj/mlp/taiwan/mapocam_percentile_change.csv\"\n",
    ");"
   ]
  },
  {
   "cell_type": "markdown",
   "metadata": {},
   "source": [
    "#### Dice"
   ]
  },
  {
   "cell_type": "code",
   "execution_count": null,
   "metadata": {},
   "outputs": [],
   "source": [
    "# get mapofcem mean number of solutions\n",
    "results = pd.read_csv(\"../results/multi_obj/mlp/taiwan/mapofcem_percentile_change.csv\")\n",
    "n_cfs = int(np.ceil(results[\"n_solutions\"].mean()))\n",
    "\n",
    "method = Dice(\n",
    "    X_train,\n",
    "    Y_train,\n",
    "    model_shap.clf,\n",
    "    n_cfs = n_cfs,\n",
    "    mutable_features = mutable_features,\n",
    "    continuous_features = continuous_features,\n",
    ")\n",
    "\n",
    "run_experiments(\n",
    "    method,\n",
    "    individuals = individuals,\n",
    "    model = model_shap,\n",
    "    output_file=f\"../results/multi_obj/mlp/taiwan/dice.csv\"\n",
    ");"
   ]
  },
  {
   "cell_type": "markdown",
   "metadata": {},
   "source": [
    "#### Results"
   ]
  },
  {
   "cell_type": "code",
   "execution_count": 22,
   "metadata": {},
   "outputs": [
    {
     "data": {
      "text/html": [
       "<div>\n",
       "<style scoped>\n",
       "    .dataframe tbody tr th:only-of-type {\n",
       "        vertical-align: middle;\n",
       "    }\n",
       "\n",
       "    .dataframe tbody tr th {\n",
       "        vertical-align: top;\n",
       "    }\n",
       "\n",
       "    .dataframe thead th {\n",
       "        text-align: right;\n",
       "    }\n",
       "</style>\n",
       "<table border=\"1\" class=\"dataframe\">\n",
       "  <thead>\n",
       "    <tr style=\"text-align: right;\">\n",
       "      <th></th>\n",
       "      <th>method</th>\n",
       "      <th>costs</th>\n",
       "      <th>n_changes</th>\n",
       "      <th>outlier</th>\n",
       "      <th>outliers_score</th>\n",
       "      <th>diversity</th>\n",
       "      <th>n_solutions</th>\n",
       "      <th>time</th>\n",
       "    </tr>\n",
       "  </thead>\n",
       "  <tbody>\n",
       "    <tr>\n",
       "      <th>0</th>\n",
       "      <td>dice</td>\n",
       "      <td>0.681 (+-0.18) | 0.909</td>\n",
       "      <td>1.553 (+-0.274) | 2.0</td>\n",
       "      <td>0.08 (+-0.248) | 0.7</td>\n",
       "      <td>0.486 (+-0.035) | 0.552</td>\n",
       "      <td>0.999 (+-0.004) | 1.0</td>\n",
       "      <td>3.0 (+-0.0) | 3.0</td>\n",
       "      <td>0.256 (+-0.01) | 0.272</td>\n",
       "    </tr>\n",
       "    <tr>\n",
       "      <th>1</th>\n",
       "      <td>mapocam_percentile_change</td>\n",
       "      <td>0.289 (+-0.149) | 0.514</td>\n",
       "      <td>1.87 (+-0.316) | 2.0</td>\n",
       "      <td>0.02 (+-0.141) | 0.0</td>\n",
       "      <td>0.441 (+-0.038) | 0.506</td>\n",
       "      <td>0.933 (+-0.239) | 1.0</td>\n",
       "      <td>2.62 (+-0.602) | 3.0</td>\n",
       "      <td>169.553 (+-321.136) | 795.288</td>\n",
       "    </tr>\n",
       "    <tr>\n",
       "      <th>2</th>\n",
       "      <td>mapofcem_percentile_change</td>\n",
       "      <td>0.283 (+-0.14) | 0.525</td>\n",
       "      <td>1.93 (+-0.364) | 2.5</td>\n",
       "      <td>0.01 (+-0.071) | 0.0</td>\n",
       "      <td>0.44 (+-0.036) | 0.501</td>\n",
       "      <td>0.933 (+-0.239) | 1.0</td>\n",
       "      <td>2.54 (+-0.613) | 3.0</td>\n",
       "      <td>93.804 (+-67.72) | 180.294</td>\n",
       "    </tr>\n",
       "  </tbody>\n",
       "</table>\n",
       "</div>"
      ],
      "text/plain": [
       "                       method                    costs              n_changes  \\\n",
       "0                        dice   0.681 (+-0.18) | 0.909  1.553 (+-0.274) | 2.0   \n",
       "1   mapocam_percentile_change  0.289 (+-0.149) | 0.514   1.87 (+-0.316) | 2.0   \n",
       "2  mapofcem_percentile_change   0.283 (+-0.14) | 0.525   1.93 (+-0.364) | 2.5   \n",
       "\n",
       "                outlier           outliers_score              diversity  \\\n",
       "0  0.08 (+-0.248) | 0.7  0.486 (+-0.035) | 0.552  0.999 (+-0.004) | 1.0   \n",
       "1  0.02 (+-0.141) | 0.0  0.441 (+-0.038) | 0.506  0.933 (+-0.239) | 1.0   \n",
       "2  0.01 (+-0.071) | 0.0   0.44 (+-0.036) | 0.501  0.933 (+-0.239) | 1.0   \n",
       "\n",
       "            n_solutions                           time  \n",
       "0     3.0 (+-0.0) | 3.0         0.256 (+-0.01) | 0.272  \n",
       "1  2.62 (+-0.602) | 3.0  169.553 (+-321.136) | 795.288  \n",
       "2  2.54 (+-0.613) | 3.0     93.804 (+-67.72) | 180.294  "
      ]
     },
     "execution_count": 22,
     "metadata": {},
     "output_type": "execute_result"
    }
   ],
   "source": [
    "dataset = \"taiwan\"\n",
    "results = []\n",
    "for method in [\"mapofcem_percentile_change\", \"mapocam_percentile_change\", \"dice\"]:\n",
    "    results_cur = pd.read_csv(f\"../results/multi_obj/mlp/{dataset}/{method}.csv\")\n",
    "    results_cur = summarize_results(results_cur, dataset, 0.05)\n",
    "    results_cur[\"method\"] = method\n",
    "    results.append(results_cur)\n",
    "results = pd.concat(results)\n",
    "format_df_table(results, \"method\", results.columns.tolist()[:-1])"
   ]
  }
 ],
 "metadata": {
  "kernelspec": {
   "display_name": "Python 3 (ipykernel)",
   "language": "python",
   "name": "python3"
  },
  "language_info": {
   "codemirror_mode": {
    "name": "ipython",
    "version": 3
   },
   "file_extension": ".py",
   "mimetype": "text/x-python",
   "name": "python",
   "nbconvert_exporter": "python",
   "pygments_lexer": "ipython3",
   "version": "3.10.12"
  }
 },
 "nbformat": 4,
 "nbformat_minor": 2
}
