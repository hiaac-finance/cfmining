{
 "cells": [
  {
   "cell_type": "code",
   "execution_count": 1,
   "metadata": {},
   "outputs": [],
   "source": [
    "import copy\n",
    "import numpy as np\n",
    "import pandas as pd\n",
    "from tqdm import tqdm\n",
    "import time\n",
    "import sys\n",
    "sys.path.append(\"../\")\n",
    "\n",
    "from cfmining.algorithms import MAPOFCEM\n",
    "from cfmining.predictors import GeneralClassifier_Shap\n",
    "from cfmining.action_set import ActionSet\n",
    "from cfmining.utils import get_data_model\n",
    "from cfmining.baselines import Bruteforce, MAPOCAM, Nice, Dice\n",
    "\n",
    "from experiments_helper import summarize_results, format_df_table, run_experiments\n",
    "\n",
    "%load_ext autoreload\n",
    "%autoreload 2"
   ]
  },
  {
   "cell_type": "code",
   "execution_count": 2,
   "metadata": {},
   "outputs": [],
   "source": [
    "SEED = 0"
   ]
  },
  {
   "cell_type": "markdown",
   "metadata": {},
   "source": [
    "## LGBM"
   ]
  },
  {
   "cell_type": "markdown",
   "metadata": {},
   "source": [
    "### German"
   ]
  },
  {
   "cell_type": "code",
   "execution_count": 3,
   "metadata": {},
   "outputs": [],
   "source": [
    "X_train, Y_train, model, outlier_detection, individuals = get_data_model(\"german\", \"LGBMClassifier\")\n",
    "individuals = individuals.sample(n = 50, random_state=SEED)"
   ]
  },
  {
   "cell_type": "code",
   "execution_count": 4,
   "metadata": {},
   "outputs": [],
   "source": [
    "not_mutable_features = ['Age', 'OwnsHouse', 'isMale', 'JobClassIsSkilled', 'Single', 'ForeignWorker', 'RentsHouse']\n",
    "mutable_features = [feat for feat in X_train.columns if feat not in not_mutable_features]\n",
    "continuous_features = ['Age', 'LoanDuration', 'LoanAmount', 'LoanRateAsPercentOfIncome','YearsAtCurrentHome', \"NumberOfLiableIndividuals\", \"NumberOfOtherLoansAtBank\"]\n",
    "categoric_features = [col for col in X_train.columns if col not in continuous_features]\n",
    "\n",
    "action_set = ActionSet(X = X_train, default_step_size = 0.05, mutable_features = mutable_features)\n",
    "model_shap = GeneralClassifier_Shap(model, outlier_detection, X_train, shap_explainer=\"tree\", threshold = 0.5)"
   ]
  },
  {
   "cell_type": "markdown",
   "metadata": {},
   "source": [
    "#### MAPOFCEM"
   ]
  },
  {
   "cell_type": "code",
   "execution_count": 21,
   "metadata": {},
   "outputs": [
    {
     "name": "stderr",
     "output_type": "stream",
     "text": [
      "100%|███████████████████████████████████████████████████████████████████████████████████████████████████████████████████████████████████████████████████████████████████████████████████████████████████████████████| 50/50 [01:46<00:00,  2.13s/it]\n"
     ]
    }
   ],
   "source": [
    "method = MAPOFCEM(\n",
    "    action_set = action_set,\n",
    "    classifier = model_shap,\n",
    "    compare = \"non_dom\",\n",
    "    max_changes = 3\n",
    ")\n",
    "\n",
    "run_experiments(\n",
    "    method,\n",
    "    individuals=individuals,\n",
    "    model=model_shap,\n",
    "    output_file=f\"../results/multi_obj/lgbm/german/mapofcem_non_dom.csv\"\n",
    ");"
   ]
  },
  {
   "cell_type": "code",
   "execution_count": 5,
   "metadata": {},
   "outputs": [
    {
     "name": "stderr",
     "output_type": "stream",
     "text": [
      "100%|███████████████████████████████████████████████████████████████████████████████████████████████████████████████████████████████████████████████████████████████████████████████████████████████████████████████| 50/50 [00:25<00:00,  1.95it/s]\n"
     ]
    }
   ],
   "source": [
    "method = MAPOFCEM(\n",
    "    action_set = action_set,\n",
    "    classifier = model_shap,\n",
    "    compare = \"percentile_change\",\n",
    "    max_changes = 3\n",
    ")\n",
    "\n",
    "run_experiments(\n",
    "    method,\n",
    "    individuals=individuals,\n",
    "    model=model_shap,\n",
    "    output_file=f\"../results/multi_obj/lgbm/german/mapofcem_percentile_change.csv\"\n",
    ");"
   ]
  },
  {
   "cell_type": "markdown",
   "metadata": {},
   "source": [
    "#### MAPOCAM"
   ]
  },
  {
   "cell_type": "code",
   "execution_count": 25,
   "metadata": {},
   "outputs": [
    {
     "name": "stderr",
     "output_type": "stream",
     "text": [
      "  0%|                                                                                                                                                                                                                        | 0/50 [00:00<?, ?it/s]"
     ]
    },
    {
     "name": "stderr",
     "output_type": "stream",
     "text": [
      "100%|███████████████████████████████████████████████████████████████████████████████████████████████████████████████████████████████████████████████████████████████████████████████████████████████████████████████| 50/50 [12:37<00:00, 15.15s/it]\n"
     ]
    }
   ],
   "source": [
    "model_shap.use_predict_max = False # to not use max prediction\n",
    "# little fix to action set\n",
    "action_set_ = copy.deepcopy(action_set)\n",
    "for feat in action_set_:\n",
    "    feat.flip_direction = 1\n",
    "    feat.update_grid()\n",
    "\n",
    "method = MAPOCAM(\n",
    "    action_set_,\n",
    "    model_shap,\n",
    "    criteria = \"non_dom\",\n",
    "    max_changes=3\n",
    ")\n",
    "\n",
    "run_experiments(\n",
    "    method,\n",
    "    individuals=individuals,\n",
    "    model=model_shap,\n",
    "    output_file=f\"../results/multi_obj/lgbm/german/mapocam_non_dom.csv\"\n",
    ");"
   ]
  },
  {
   "cell_type": "code",
   "execution_count": 6,
   "metadata": {},
   "outputs": [
    {
     "name": "stderr",
     "output_type": "stream",
     "text": [
      "100%|███████████████████████████████████████████████████████████████████████████████████████████████████████████████████████████████████████████████████████████████████████████████████████████████████████████████| 50/50 [00:46<00:00,  1.07it/s]\n"
     ]
    }
   ],
   "source": [
    "model_shap.use_predict_max = False # to not use max prediction\n",
    "# little fix to action set\n",
    "action_set_ = copy.deepcopy(action_set)\n",
    "for feat in action_set_:\n",
    "    feat.flip_direction = 1\n",
    "    feat.update_grid()\n",
    "\n",
    "method = MAPOCAM(\n",
    "    action_set_,\n",
    "    model_shap,\n",
    "    criteria = \"percentile_change\",\n",
    "    max_changes=3\n",
    ")\n",
    "\n",
    "run_experiments(\n",
    "    method,\n",
    "    individuals=individuals,\n",
    "    model=model_shap,\n",
    "    output_file=f\"../results/multi_obj/lgbm/german/mapocam_percentile_change.csv\"\n",
    ");"
   ]
  },
  {
   "cell_type": "markdown",
   "metadata": {},
   "source": [
    "#### DICE"
   ]
  },
  {
   "cell_type": "code",
   "execution_count": null,
   "metadata": {},
   "outputs": [],
   "source": [
    "# get mapofcem mean number of solutions\n",
    "results = pd.read_csv(\"../results/multi_obj/lgbm/german/mapofcem_non_dom.csv\")\n",
    "n_cfs = int(results[\"n_solutions\"].mean())\n",
    "\n",
    "method = Dice(\n",
    "    X_train,\n",
    "    Y_train,\n",
    "    model_shap.clf,\n",
    "    n_cfs = n_cfs,\n",
    "    mutable_features = mutable_features,\n",
    "    continuous_features = continuous_features,\n",
    ")\n",
    "\n",
    "run_experiments(\n",
    "    method,\n",
    "    individuals = individuals,\n",
    "    model = model_shap,\n",
    "    output_file=f\"../results/multi_obj/lgbm/german/dice.csv\"\n",
    ");"
   ]
  },
  {
   "cell_type": "markdown",
   "metadata": {},
   "source": [
    "#### Results"
   ]
  },
  {
   "cell_type": "code",
   "execution_count": 7,
   "metadata": {},
   "outputs": [
    {
     "data": {
      "text/html": [
       "<div>\n",
       "<style scoped>\n",
       "    .dataframe tbody tr th:only-of-type {\n",
       "        vertical-align: middle;\n",
       "    }\n",
       "\n",
       "    .dataframe tbody tr th {\n",
       "        vertical-align: top;\n",
       "    }\n",
       "\n",
       "    .dataframe thead th {\n",
       "        text-align: right;\n",
       "    }\n",
       "</style>\n",
       "<table border=\"1\" class=\"dataframe\">\n",
       "  <thead>\n",
       "    <tr style=\"text-align: right;\">\n",
       "      <th></th>\n",
       "      <th>method</th>\n",
       "      <th>costs</th>\n",
       "      <th>n_changes</th>\n",
       "      <th>outlier</th>\n",
       "      <th>outliers_score</th>\n",
       "      <th>diversity</th>\n",
       "      <th>n_solutions</th>\n",
       "      <th>time</th>\n",
       "    </tr>\n",
       "  </thead>\n",
       "  <tbody>\n",
       "    <tr>\n",
       "      <th>0</th>\n",
       "      <td>dice</td>\n",
       "      <td>0.508 (+-0.123) | 0.698</td>\n",
       "      <td>1.773 (+-0.337) | 2.08</td>\n",
       "      <td>4.08 (+-6.272) | 18.55</td>\n",
       "      <td>0.508 (+-0.045) | 0.581</td>\n",
       "      <td>0.138 (+-0.184) | 0.548</td>\n",
       "      <td>22.0 (+-0.0) | 22.0</td>\n",
       "      <td>0.303 (+-0.074) | 0.435</td>\n",
       "    </tr>\n",
       "    <tr>\n",
       "      <th>1</th>\n",
       "      <td>mapocam_non_dom</td>\n",
       "      <td>0.436 (+-0.13) | 0.627</td>\n",
       "      <td>2.092 (+-0.637) | 2.841</td>\n",
       "      <td>10.32 (+-18.098) | 43.05</td>\n",
       "      <td>0.514 (+-0.043) | 0.587</td>\n",
       "      <td>0.067 (+-0.093) | 0.236</td>\n",
       "      <td>36.4 (+-26.026) | 81.05</td>\n",
       "      <td>15.135 (+-13.875) | 39.759</td>\n",
       "    </tr>\n",
       "    <tr>\n",
       "      <th>2</th>\n",
       "      <td>mapocam_percentile_change</td>\n",
       "      <td>0.112 (+-0.106) | 0.32</td>\n",
       "      <td>1.29 (+-0.392) | 2.0</td>\n",
       "      <td>0.3 (+-0.58) | 1.55</td>\n",
       "      <td>0.511 (+-0.05) | 0.597</td>\n",
       "      <td>0.434 (+-0.495) | 1.0</td>\n",
       "      <td>1.5 (+-0.614) | 2.55</td>\n",
       "      <td>0.929 (+-2.667) | 3.017</td>\n",
       "    </tr>\n",
       "    <tr>\n",
       "      <th>3</th>\n",
       "      <td>mapofcem_non_dom</td>\n",
       "      <td>0.434 (+-0.147) | 0.628</td>\n",
       "      <td>2.053 (+-0.615) | 2.821</td>\n",
       "      <td>1.367 (+-2.243) | 6.0</td>\n",
       "      <td>0.503 (+-0.032) | 0.549</td>\n",
       "      <td>0.157 (+-0.2) | 0.618</td>\n",
       "      <td>22.74 (+-18.045) | 61.85</td>\n",
       "      <td>2.12 (+-1.916) | 6.275</td>\n",
       "    </tr>\n",
       "    <tr>\n",
       "      <th>4</th>\n",
       "      <td>mapofcem_percentile_change</td>\n",
       "      <td>0.15 (+-0.146) | 0.465</td>\n",
       "      <td>1.36 (+-0.535) | 2.775</td>\n",
       "      <td>0.02 (+-0.141) | 0.0</td>\n",
       "      <td>0.496 (+-0.036) | 0.546</td>\n",
       "      <td>0.376 (+-0.485) | 1.0</td>\n",
       "      <td>1.38 (+-0.49) | 2.0</td>\n",
       "      <td>0.511 (+-0.769) | 1.772</td>\n",
       "    </tr>\n",
       "  </tbody>\n",
       "</table>\n",
       "</div>"
      ],
      "text/plain": [
       "                       method                    costs  \\\n",
       "0                        dice  0.508 (+-0.123) | 0.698   \n",
       "1             mapocam_non_dom   0.436 (+-0.13) | 0.627   \n",
       "2   mapocam_percentile_change   0.112 (+-0.106) | 0.32   \n",
       "3            mapofcem_non_dom  0.434 (+-0.147) | 0.628   \n",
       "4  mapofcem_percentile_change   0.15 (+-0.146) | 0.465   \n",
       "\n",
       "                 n_changes                   outlier           outliers_score  \\\n",
       "0   1.773 (+-0.337) | 2.08    4.08 (+-6.272) | 18.55  0.508 (+-0.045) | 0.581   \n",
       "1  2.092 (+-0.637) | 2.841  10.32 (+-18.098) | 43.05  0.514 (+-0.043) | 0.587   \n",
       "2     1.29 (+-0.392) | 2.0       0.3 (+-0.58) | 1.55   0.511 (+-0.05) | 0.597   \n",
       "3  2.053 (+-0.615) | 2.821     1.367 (+-2.243) | 6.0  0.503 (+-0.032) | 0.549   \n",
       "4   1.36 (+-0.535) | 2.775      0.02 (+-0.141) | 0.0  0.496 (+-0.036) | 0.546   \n",
       "\n",
       "                 diversity               n_solutions  \\\n",
       "0  0.138 (+-0.184) | 0.548       22.0 (+-0.0) | 22.0   \n",
       "1  0.067 (+-0.093) | 0.236   36.4 (+-26.026) | 81.05   \n",
       "2    0.434 (+-0.495) | 1.0      1.5 (+-0.614) | 2.55   \n",
       "3    0.157 (+-0.2) | 0.618  22.74 (+-18.045) | 61.85   \n",
       "4    0.376 (+-0.485) | 1.0       1.38 (+-0.49) | 2.0   \n",
       "\n",
       "                         time  \n",
       "0     0.303 (+-0.074) | 0.435  \n",
       "1  15.135 (+-13.875) | 39.759  \n",
       "2     0.929 (+-2.667) | 3.017  \n",
       "3      2.12 (+-1.916) | 6.275  \n",
       "4     0.511 (+-0.769) | 1.772  "
      ]
     },
     "execution_count": 7,
     "metadata": {},
     "output_type": "execute_result"
    }
   ],
   "source": [
    "dataset = \"german\"\n",
    "results = []\n",
    "for method in [\"mapofcem_non_dom\", \"mapofcem_percentile_change\", \"mapocam_non_dom\", \"mapocam_percentile_change\", \"dice\"]:\n",
    "    results_cur = pd.read_csv(f\"../results/multi_obj/lgbm/{dataset}/{method}.csv\")\n",
    "    results_cur = summarize_results(results_cur, dataset, 0.05)\n",
    "    results_cur[\"method\"] = method\n",
    "    results.append(results_cur)\n",
    "results = pd.concat(results)\n",
    "format_df_table(results, \"method\", results.columns.tolist()[:-1])"
   ]
  },
  {
   "cell_type": "markdown",
   "metadata": {},
   "source": [
    "### Taiwan"
   ]
  },
  {
   "cell_type": "code",
   "execution_count": 29,
   "metadata": {},
   "outputs": [],
   "source": [
    "X_train, Y_train, model, outlier_detection, individuals = get_data_model(\"taiwan\")\n",
    "individuals = individuals.sample(n = 50, random_state=SEED)"
   ]
  },
  {
   "cell_type": "code",
   "execution_count": 30,
   "metadata": {},
   "outputs": [],
   "source": [
    "not_mutable_features = ['Single', 'Age_in_25_to_40', 'Married', 'Age_lt_25', 'Age_in_40_to_59', 'Age_geq_60', 'EducationLevel']\n",
    "mutable_features = [feat for feat in X_train.columns if feat not in not_mutable_features]\n",
    "continuous_features = [\"LIMIT_BAL\", \"BILL_AMT1\", \"BILL_AMT2\", \"BILL_AMT3\",\n",
    "                       \"BILL_AMT4\", \"BILL_AMT5\", \"BILL_AMT6\", \"PAY_AMT1\",\n",
    "                       \"PAY_AMT2\", \"PAY_AMT3\", \"PAY_AMT4\", \"PAY_AMT5\",\n",
    "                       \"PAY_AMT6\", \"MaxBillAmountOverLast6Months\", \"MaxPaymentAmountOverLast6Months\",\n",
    "                       \"MostRecentBillAmount\", \"MostRecentPaymentAmount\", \"MostRecentPaymentAmount\", \"TotalMonthsOverdue\",\n",
    "                       \"MonthsWithZeroBalanceOverLast6Months\", \"MonthsWithLowSpendingOverLast6Months\", \"MonthsWithHighSpendingOverLast6Months\", \"TotalOverdueCounts\"]\n",
    "categoric_features = [col for col in X_train.columns if col not in continuous_features]\n",
    "action_set = ActionSet(X = X_train, default_step_size = 0.05, mutable_features = mutable_features)\n",
    "model_shap = GeneralClassifier_Shap(model, outlier_detection, X_train, shap_explainer=\"tree\", threshold = 0.5)"
   ]
  },
  {
   "cell_type": "markdown",
   "metadata": {},
   "source": [
    "#### MAPOFCEM"
   ]
  },
  {
   "cell_type": "code",
   "execution_count": 32,
   "metadata": {},
   "outputs": [
    {
     "name": "stderr",
     "output_type": "stream",
     "text": [
      "  0%|                                                                                                                                                                                                                        | 0/50 [00:00<?, ?it/s]"
     ]
    },
    {
     "name": "stderr",
     "output_type": "stream",
     "text": [
      "100%|████████████████████████████████████████████████████████████████████████████████████████████████████████████████████████████████████████████████████████████████████████████████████████████████████████████| 50/50 [2:01:21<00:00, 145.63s/it]\n"
     ]
    }
   ],
   "source": [
    "method = MAPOFCEM(\n",
    "    action_set = action_set,\n",
    "    classifier = model_shap,\n",
    "    compare = \"non_dom\",\n",
    "    max_changes = 3,\n",
    "    outlier_percentile = 0.01\n",
    ")\n",
    "\n",
    "results = run_experiments(\n",
    "    method,\n",
    "    individuals=individuals,\n",
    "    model=model_shap,\n",
    "    output_file=f\"../results/multi_obj/lgbm/taiwan/mapofcem_non_dom.csv\"\n",
    ");"
   ]
  },
  {
   "cell_type": "code",
   "execution_count": 42,
   "metadata": {},
   "outputs": [
    {
     "name": "stderr",
     "output_type": "stream",
     "text": [
      "100%|███████████████████████████████████████████████████████████████████████████████████████████████████████████████████████████████████████████████████████████████████████████████████████████████████████████████| 50/50 [03:48<00:00,  4.57s/it]\n"
     ]
    }
   ],
   "source": [
    "method = MAPOFCEM(\n",
    "    action_set = action_set,\n",
    "    classifier = model_shap,\n",
    "    compare = \"percentile\",\n",
    "    max_changes = 3,\n",
    "    outlier_percentile = 0.01\n",
    ")\n",
    "\n",
    "results = run_experiments(\n",
    "    method,\n",
    "    individuals=individuals,\n",
    "    model=model_shap,\n",
    "    output_file=f\"../results/multi_obj/lgbm/taiwan/mapofcem_percentile.csv\"\n",
    ");"
   ]
  },
  {
   "cell_type": "markdown",
   "metadata": {},
   "source": [
    "#### MAPOCAM"
   ]
  },
  {
   "cell_type": "code",
   "execution_count": null,
   "metadata": {},
   "outputs": [],
   "source": [
    "model_shap.use_predict_max = False # to not use max prediction\n",
    "# little fix to action set\n",
    "action_set_ = copy.deepcopy(action_set)\n",
    "for feat in action_set_:\n",
    "    feat.flip_direction = 1\n",
    "    feat.update_grid()\n",
    "\n",
    "method = MAPOCAM(\n",
    "    action_set_,\n",
    "    model_shap,\n",
    "    criteria = \"non_dom\",\n",
    "    max_changes=3\n",
    ")\n",
    "\n",
    "# did not finished running\n",
    "run_experiments(\n",
    "    method,\n",
    "    individuals=individuals.iloc[:5],\n",
    "    model=model_shap,\n",
    "    output_file=f\"../results/multi_obj/lgbm/taiwan/mapocam_non_dom.csv\"\n",
    ");"
   ]
  },
  {
   "cell_type": "code",
   "execution_count": 41,
   "metadata": {},
   "outputs": [
    {
     "name": "stderr",
     "output_type": "stream",
     "text": [
      "  0%|                                                                                                                                                                                                                        | 0/50 [00:00<?, ?it/s]"
     ]
    },
    {
     "name": "stderr",
     "output_type": "stream",
     "text": [
      "100%|███████████████████████████████████████████████████████████████████████████████████████████████████████████████████████████████████████████████████████████████████████████████████████████████████████████████| 50/50 [06:17<00:00,  7.55s/it]\n"
     ]
    }
   ],
   "source": [
    "model_shap.use_predict_max = False # to not use max prediction\n",
    "# little fix to action set\n",
    "action_set_ = copy.deepcopy(action_set)\n",
    "for feat in action_set_:\n",
    "    feat.flip_direction = 1\n",
    "    feat.update_grid()\n",
    "\n",
    "method = MAPOCAM(\n",
    "    action_set_,\n",
    "    model_shap,\n",
    "    criteria = \"percentile\",\n",
    "    max_changes=3\n",
    ")\n",
    "\n",
    "run_experiments(\n",
    "    method,\n",
    "    individuals=individuals,\n",
    "    model=model_shap,\n",
    "    output_file=f\"../results/multi_obj/lgbm/taiwan/mapocam_percentile.csv\"\n",
    ");"
   ]
  },
  {
   "cell_type": "markdown",
   "metadata": {},
   "source": [
    "#### Dice"
   ]
  },
  {
   "cell_type": "code",
   "execution_count": null,
   "metadata": {},
   "outputs": [],
   "source": [
    "# get mapofcem mean number of solutions\n",
    "results = pd.read_csv(\"../results/multi_obj/lgbm/taiwan/mapofcem_non_dom.csv\")\n",
    "n_cfs = int(results[\"n_solutions\"].mean())\n",
    "\n",
    "method = Dice(\n",
    "    X_train,\n",
    "    Y_train,\n",
    "    model_shap.clf,\n",
    "    n_cfs = n_cfs,\n",
    "    mutable_features = mutable_features,\n",
    "    continuous_features = continuous_features,\n",
    ")\n",
    "\n",
    "run_experiments(\n",
    "    method,\n",
    "    individuals = individuals,\n",
    "    model = model_shap,\n",
    "    output_file=f\"../results/multi_obj/lgbm/taiwan/dice.csv\"\n",
    ");"
   ]
  },
  {
   "cell_type": "markdown",
   "metadata": {},
   "source": [
    "#### Results"
   ]
  },
  {
   "cell_type": "code",
   "execution_count": 43,
   "metadata": {},
   "outputs": [
    {
     "data": {
      "text/html": [
       "<div>\n",
       "<style scoped>\n",
       "    .dataframe tbody tr th:only-of-type {\n",
       "        vertical-align: middle;\n",
       "    }\n",
       "\n",
       "    .dataframe tbody tr th {\n",
       "        vertical-align: top;\n",
       "    }\n",
       "\n",
       "    .dataframe thead th {\n",
       "        text-align: right;\n",
       "    }\n",
       "</style>\n",
       "<table border=\"1\" class=\"dataframe\">\n",
       "  <thead>\n",
       "    <tr style=\"text-align: right;\">\n",
       "      <th></th>\n",
       "      <th>model</th>\n",
       "      <th>costs</th>\n",
       "      <th>n_changes</th>\n",
       "      <th>outlier</th>\n",
       "      <th>outliers_score</th>\n",
       "      <th>diversity</th>\n",
       "      <th>n_solutions</th>\n",
       "      <th>time</th>\n",
       "    </tr>\n",
       "  </thead>\n",
       "  <tbody>\n",
       "    <tr>\n",
       "      <th>0</th>\n",
       "      <td>dice</td>\n",
       "      <td>0.68 (+-0.145) | 0.887</td>\n",
       "      <td>2.14 (+-1.143) | 4.963</td>\n",
       "      <td>39.12 (+-49.596) | 144.6</td>\n",
       "      <td>0.515 (+-0.047) | 0.592</td>\n",
       "      <td>0.242 (+-0.322) | 0.87</td>\n",
       "      <td>151.0 (+-0.0) | 151.0</td>\n",
       "      <td>4.118 (+-4.789) | 15.324</td>\n",
       "    </tr>\n",
       "    <tr>\n",
       "      <th>1</th>\n",
       "      <td>mapocam_percentile</td>\n",
       "      <td>0.054 (+-0.05) | 0.141</td>\n",
       "      <td>2.54 (+-0.762) | 3.0</td>\n",
       "      <td>0.06 (+-0.24) | 0.55</td>\n",
       "      <td>0.454 (+-0.053) | 0.548</td>\n",
       "      <td>0.0 (+-0.0) | 0.0</td>\n",
       "      <td>1.0 (+-0.0) | 1.0</td>\n",
       "      <td>7.542 (+-20.91) | 48.562</td>\n",
       "    </tr>\n",
       "    <tr>\n",
       "      <th>2</th>\n",
       "      <td>mapofcem_non_dom</td>\n",
       "      <td>0.38 (+-0.099) | 0.541</td>\n",
       "      <td>2.517 (+-0.468) | 2.927</td>\n",
       "      <td>9.959 (+-43.448) | 23.2</td>\n",
       "      <td>0.457 (+-0.041) | 0.534</td>\n",
       "      <td>0.447 (+-0.3) | 0.898</td>\n",
       "      <td>151.0 (+-100.66) | 359.7</td>\n",
       "      <td>145.577 (+-59.874) | 180.083</td>\n",
       "    </tr>\n",
       "    <tr>\n",
       "      <th>3</th>\n",
       "      <td>mapofcem_percentile</td>\n",
       "      <td>0.058 (+-0.051) | 0.141</td>\n",
       "      <td>2.49 (+-0.767) | 3.0</td>\n",
       "      <td>0.041 (+-0.2) | 0.0</td>\n",
       "      <td>0.448 (+-0.043) | 0.532</td>\n",
       "      <td>0.0 (+-0.0) | 0.0</td>\n",
       "      <td>0.98 (+-0.141) | 1.0</td>\n",
       "      <td>4.566 (+-25.367) | 3.593</td>\n",
       "    </tr>\n",
       "  </tbody>\n",
       "</table>\n",
       "</div>"
      ],
      "text/plain": [
       "                 model                    costs                n_changes  \\\n",
       "0                 dice   0.68 (+-0.145) | 0.887   2.14 (+-1.143) | 4.963   \n",
       "1   mapocam_percentile   0.054 (+-0.05) | 0.141     2.54 (+-0.762) | 3.0   \n",
       "2     mapofcem_non_dom   0.38 (+-0.099) | 0.541  2.517 (+-0.468) | 2.927   \n",
       "3  mapofcem_percentile  0.058 (+-0.051) | 0.141     2.49 (+-0.767) | 3.0   \n",
       "\n",
       "                    outlier           outliers_score               diversity  \\\n",
       "0  39.12 (+-49.596) | 144.6  0.515 (+-0.047) | 0.592  0.242 (+-0.322) | 0.87   \n",
       "1      0.06 (+-0.24) | 0.55  0.454 (+-0.053) | 0.548       0.0 (+-0.0) | 0.0   \n",
       "2   9.959 (+-43.448) | 23.2  0.457 (+-0.041) | 0.534   0.447 (+-0.3) | 0.898   \n",
       "3       0.041 (+-0.2) | 0.0  0.448 (+-0.043) | 0.532       0.0 (+-0.0) | 0.0   \n",
       "\n",
       "                n_solutions                          time  \n",
       "0     151.0 (+-0.0) | 151.0      4.118 (+-4.789) | 15.324  \n",
       "1         1.0 (+-0.0) | 1.0      7.542 (+-20.91) | 48.562  \n",
       "2  151.0 (+-100.66) | 359.7  145.577 (+-59.874) | 180.083  \n",
       "3      0.98 (+-0.141) | 1.0      4.566 (+-25.367) | 3.593  "
      ]
     },
     "execution_count": 43,
     "metadata": {},
     "output_type": "execute_result"
    }
   ],
   "source": [
    "dataset = \"taiwan\"\n",
    "metrics = []\n",
    "for method in [\"mapofcem_non_dom\", \"mapofcem_percentile\", \"mapocam_percentile\", \"dice\"]:\n",
    "    results = pd.read_csv(f\"../results/multi_obj/lgbm/{dataset}/{method}.csv\")\n",
    "    metrics.append(summarize_results(results, dataset))\n",
    "    metrics[-1][\"model\"] = method\n",
    "metrics = pd.concat(metrics)\n",
    "format_df_table(metrics, \"model\", metrics.columns.tolist()[:-1])"
   ]
  },
  {
   "cell_type": "markdown",
   "metadata": {},
   "source": [
    "## MLP"
   ]
  },
  {
   "cell_type": "markdown",
   "metadata": {},
   "source": [
    "### German"
   ]
  },
  {
   "cell_type": "code",
   "execution_count": 8,
   "metadata": {},
   "outputs": [],
   "source": [
    "X_train, Y_train, model, outlier_detection, individuals = get_data_model(\"german\", \"MLPClassifier\")\n",
    "individuals = individuals.sample(n = 50, random_state=SEED)"
   ]
  },
  {
   "cell_type": "code",
   "execution_count": 9,
   "metadata": {},
   "outputs": [],
   "source": [
    "not_mutable_features = ['Age', 'OwnsHouse', 'isMale', 'JobClassIsSkilled', 'Single', 'ForeignWorker', 'RentsHouse']\n",
    "mutable_features = [feat for feat in X_train.columns if feat not in not_mutable_features]\n",
    "continuous_features = ['Age', 'LoanDuration', 'LoanAmount', 'LoanRateAsPercentOfIncome','YearsAtCurrentHome', \"NumberOfLiableIndividuals\", \"NumberOfOtherLoansAtBank\"]\n",
    "categoric_features = [col for col in X_train.columns if col not in continuous_features]\n",
    "\n",
    "action_set = ActionSet(X = X_train, default_step_size = 0.05, mutable_features = mutable_features)\n",
    "model_shap = GeneralClassifier_Shap(model, outlier_detection, X_train, shap_explainer=\"permutation\", threshold = 0.5)"
   ]
  },
  {
   "cell_type": "markdown",
   "metadata": {},
   "source": [
    "#### MAPOFCEM"
   ]
  },
  {
   "cell_type": "code",
   "execution_count": 55,
   "metadata": {},
   "outputs": [
    {
     "name": "stderr",
     "output_type": "stream",
     "text": [
      "  0%|                                                                                                                                                                                                                        | 0/50 [00:00<?, ?it/s]"
     ]
    },
    {
     "name": "stderr",
     "output_type": "stream",
     "text": [
      "100%|███████████████████████████████████████████████████████████████████████████████████████████████████████████████████████████████████████████████████████████████████████████████████████████████████████████████| 50/50 [21:34<00:00, 25.90s/it]\n"
     ]
    }
   ],
   "source": [
    "method = MAPOFCEM(\n",
    "    action_set = action_set,\n",
    "    classifier = model_shap,\n",
    "    compare = \"non_dom\",\n",
    "    max_changes = 3\n",
    ")\n",
    "\n",
    "run_experiments(\n",
    "    method,\n",
    "    individuals=individuals,\n",
    "    model=model_shap,\n",
    "    output_file=f\"../results/multi_obj/mlp/german/mapofcem_non_dom.csv\"\n",
    ");"
   ]
  },
  {
   "cell_type": "code",
   "execution_count": 11,
   "metadata": {},
   "outputs": [
    {
     "name": "stderr",
     "output_type": "stream",
     "text": [
      "100%|███████████████████████████████████████████████████████████████████████████████████████████████████████████████████████████████████████████████████████████████████████████████████████████████████████████████| 50/50 [01:37<00:00,  1.95s/it]\n"
     ]
    }
   ],
   "source": [
    "method = MAPOFCEM(\n",
    "    action_set = action_set,\n",
    "    classifier = model_shap,\n",
    "    compare = \"percentile_change\",\n",
    "    max_changes = 3\n",
    ")\n",
    "\n",
    "run_experiments(\n",
    "    method,\n",
    "    individuals=individuals,\n",
    "    model=model_shap,\n",
    "    output_file=f\"../results/multi_obj/mlp/german/mapofcem_percentile_change.csv\"\n",
    ");"
   ]
  },
  {
   "cell_type": "markdown",
   "metadata": {},
   "source": [
    "#### MAPOCAM"
   ]
  },
  {
   "cell_type": "code",
   "execution_count": 47,
   "metadata": {},
   "outputs": [
    {
     "name": "stderr",
     "output_type": "stream",
     "text": [
      "100%|███████████████████████████████████████████████████████████████████████████████████████████████████████████████████████████████████████████████████████████████████████████████████████████████████████████████| 50/50 [32:29<00:00, 38.98s/it]\n"
     ]
    }
   ],
   "source": [
    "model_shap.use_predict_max = False # to not use max prediction\n",
    "# little fix to action set\n",
    "action_set_ = copy.deepcopy(action_set)\n",
    "for feat in action_set_:\n",
    "    feat.flip_direction = 1\n",
    "    feat.update_grid()\n",
    "\n",
    "method = MAPOCAM(\n",
    "    action_set_,\n",
    "    model_shap,\n",
    "    criteria = \"non_dom\",\n",
    "    max_changes=3\n",
    ")\n",
    "\n",
    "run_experiments(\n",
    "    method,\n",
    "    individuals=individuals,\n",
    "    model=model_shap,\n",
    "    output_file=f\"../results/multi_obj/mlp/german/mapocam_non_dom.csv\"\n",
    ");"
   ]
  },
  {
   "cell_type": "code",
   "execution_count": 12,
   "metadata": {},
   "outputs": [
    {
     "name": "stderr",
     "output_type": "stream",
     "text": [
      "100%|███████████████████████████████████████████████████████████████████████████████████████████████████████████████████████████████████████████████████████████████████████████████████████████████████████████████| 50/50 [01:40<00:00,  2.01s/it]\n"
     ]
    }
   ],
   "source": [
    "model_shap.use_predict_max = False # to not use max prediction\n",
    "# little fix to action set\n",
    "action_set_ = copy.deepcopy(action_set)\n",
    "for feat in action_set_:\n",
    "    feat.flip_direction = 1\n",
    "    feat.update_grid()\n",
    "\n",
    "method = MAPOCAM(\n",
    "    action_set_,\n",
    "    model_shap,\n",
    "    criteria = \"percentile_change\",\n",
    "    max_changes=3\n",
    ")\n",
    "\n",
    "run_experiments(\n",
    "    method,\n",
    "    individuals=individuals,\n",
    "    model=model_shap,\n",
    "    output_file=f\"../results/multi_obj/mlp/german/mapocam_percentile_change.csv\"\n",
    ");"
   ]
  },
  {
   "cell_type": "markdown",
   "metadata": {},
   "source": [
    "#### Dice"
   ]
  },
  {
   "cell_type": "code",
   "execution_count": null,
   "metadata": {},
   "outputs": [],
   "source": [
    "# get mapofcem mean number of solutions\n",
    "results = pd.read_csv(\"../results/multi_obj/mlp/german/mapofcem_non_dom.csv\")\n",
    "n_cfs = int(np.ceil(results[\"n_solutions\"].mean()))\n",
    "\n",
    "method = Dice(\n",
    "    X_train,\n",
    "    Y_train,\n",
    "    model_shap.clf,\n",
    "    n_cfs = n_cfs,\n",
    "    mutable_features = mutable_features,\n",
    "    continuous_features = continuous_features,\n",
    ")\n",
    "\n",
    "run_experiments(\n",
    "    method,\n",
    "    individuals = individuals,\n",
    "    model = model_shap,\n",
    "    output_file=f\"../results/multi_obj/mlp/german/dice.csv\"\n",
    ");"
   ]
  },
  {
   "cell_type": "markdown",
   "metadata": {},
   "source": [
    "#### Results"
   ]
  },
  {
   "cell_type": "code",
   "execution_count": 16,
   "metadata": {},
   "outputs": [
    {
     "data": {
      "text/html": [
       "<div>\n",
       "<style scoped>\n",
       "    .dataframe tbody tr th:only-of-type {\n",
       "        vertical-align: middle;\n",
       "    }\n",
       "\n",
       "    .dataframe tbody tr th {\n",
       "        vertical-align: top;\n",
       "    }\n",
       "\n",
       "    .dataframe thead th {\n",
       "        text-align: right;\n",
       "    }\n",
       "</style>\n",
       "<table border=\"1\" class=\"dataframe\">\n",
       "  <thead>\n",
       "    <tr style=\"text-align: right;\">\n",
       "      <th></th>\n",
       "      <th>method</th>\n",
       "      <th>costs</th>\n",
       "      <th>n_changes</th>\n",
       "      <th>outlier</th>\n",
       "      <th>outliers_score</th>\n",
       "      <th>diversity</th>\n",
       "      <th>n_solutions</th>\n",
       "      <th>time</th>\n",
       "    </tr>\n",
       "  </thead>\n",
       "  <tbody>\n",
       "    <tr>\n",
       "      <th>0</th>\n",
       "      <td>dice</td>\n",
       "      <td>0.513 (+-0.118) | 0.74</td>\n",
       "      <td>2.372 (+-1.131) | 4.582</td>\n",
       "      <td>9.56 (+-12.221) | 37.55</td>\n",
       "      <td>0.52 (+-0.045) | 0.598</td>\n",
       "      <td>0.003 (+-0.008) | 0.016</td>\n",
       "      <td>41.0 (+-0.0) | 41.0</td>\n",
       "      <td>0.531 (+-0.212) | 1.018</td>\n",
       "    </tr>\n",
       "    <tr>\n",
       "      <th>1</th>\n",
       "      <td>mapocam_non_dom</td>\n",
       "      <td>0.514 (+-0.136) | 0.678</td>\n",
       "      <td>2.292 (+-0.626) | 2.989</td>\n",
       "      <td>5.9 (+-10.622) | 29.1</td>\n",
       "      <td>0.509 (+-0.045) | 0.581</td>\n",
       "      <td>0.062 (+-0.109) | 0.243</td>\n",
       "      <td>47.34 (+-38.204) | 114.55</td>\n",
       "      <td>38.965 (+-20.562) | 65.718</td>\n",
       "    </tr>\n",
       "    <tr>\n",
       "      <th>2</th>\n",
       "      <td>mapocam_percentile_change</td>\n",
       "      <td>0.087 (+-0.124) | 0.245</td>\n",
       "      <td>1.37 (+-0.579) | 2.55</td>\n",
       "      <td>0.26 (+-0.443) | 1.0</td>\n",
       "      <td>0.524 (+-0.045) | 0.6</td>\n",
       "      <td>0.096 (+-0.291) | 0.937</td>\n",
       "      <td>1.1 (+-0.303) | 2.0</td>\n",
       "      <td>2.006 (+-6.998) | 9.34</td>\n",
       "    </tr>\n",
       "    <tr>\n",
       "      <th>3</th>\n",
       "      <td>mapofcem_non_dom</td>\n",
       "      <td>0.517 (+-0.123) | 0.664</td>\n",
       "      <td>2.304 (+-0.601) | 2.926</td>\n",
       "      <td>1.771 (+-3.639) | 10.95</td>\n",
       "      <td>0.499 (+-0.033) | 0.545</td>\n",
       "      <td>0.109 (+-0.2) | 0.439</td>\n",
       "      <td>40.1 (+-31.255) | 86.75</td>\n",
       "      <td>25.885 (+-15.407) | 48.052</td>\n",
       "    </tr>\n",
       "    <tr>\n",
       "      <th>4</th>\n",
       "      <td>mapofcem_percentile_change</td>\n",
       "      <td>0.094 (+-0.091) | 0.265</td>\n",
       "      <td>1.375 (+-0.579) | 2.5</td>\n",
       "      <td>0.167 (+-0.377) | 1.0</td>\n",
       "      <td>0.514 (+-0.037) | 0.564</td>\n",
       "      <td>0.123 (+-0.328) | 0.991</td>\n",
       "      <td>1.08 (+-0.396) | 2.0</td>\n",
       "      <td>1.944 (+-3.707) | 4.383</td>\n",
       "    </tr>\n",
       "  </tbody>\n",
       "</table>\n",
       "</div>"
      ],
      "text/plain": [
       "                       method                    costs  \\\n",
       "0                        dice   0.513 (+-0.118) | 0.74   \n",
       "1             mapocam_non_dom  0.514 (+-0.136) | 0.678   \n",
       "2   mapocam_percentile_change  0.087 (+-0.124) | 0.245   \n",
       "3            mapofcem_non_dom  0.517 (+-0.123) | 0.664   \n",
       "4  mapofcem_percentile_change  0.094 (+-0.091) | 0.265   \n",
       "\n",
       "                 n_changes                  outlier           outliers_score  \\\n",
       "0  2.372 (+-1.131) | 4.582  9.56 (+-12.221) | 37.55   0.52 (+-0.045) | 0.598   \n",
       "1  2.292 (+-0.626) | 2.989    5.9 (+-10.622) | 29.1  0.509 (+-0.045) | 0.581   \n",
       "2    1.37 (+-0.579) | 2.55     0.26 (+-0.443) | 1.0    0.524 (+-0.045) | 0.6   \n",
       "3  2.304 (+-0.601) | 2.926  1.771 (+-3.639) | 10.95  0.499 (+-0.033) | 0.545   \n",
       "4    1.375 (+-0.579) | 2.5    0.167 (+-0.377) | 1.0  0.514 (+-0.037) | 0.564   \n",
       "\n",
       "                 diversity                n_solutions  \\\n",
       "0  0.003 (+-0.008) | 0.016        41.0 (+-0.0) | 41.0   \n",
       "1  0.062 (+-0.109) | 0.243  47.34 (+-38.204) | 114.55   \n",
       "2  0.096 (+-0.291) | 0.937        1.1 (+-0.303) | 2.0   \n",
       "3    0.109 (+-0.2) | 0.439    40.1 (+-31.255) | 86.75   \n",
       "4  0.123 (+-0.328) | 0.991       1.08 (+-0.396) | 2.0   \n",
       "\n",
       "                         time  \n",
       "0     0.531 (+-0.212) | 1.018  \n",
       "1  38.965 (+-20.562) | 65.718  \n",
       "2      2.006 (+-6.998) | 9.34  \n",
       "3  25.885 (+-15.407) | 48.052  \n",
       "4     1.944 (+-3.707) | 4.383  "
      ]
     },
     "execution_count": 16,
     "metadata": {},
     "output_type": "execute_result"
    }
   ],
   "source": [
    "dataset = \"german\"\n",
    "results = []\n",
    "for method in [\"mapofcem_non_dom\", \"mapocam_non_dom\", \"mapofcem_percentile_change\",  \"mapocam_percentile_change\", \"dice\"]:\n",
    "    results_cur = pd.read_csv(f\"../results/multi_obj/mlp/{dataset}/{method}.csv\")\n",
    "    results_cur = summarize_results(results_cur, dataset, 0.05)\n",
    "    results_cur[\"method\"] = method\n",
    "    results.append(results_cur)\n",
    "results = pd.concat(results)\n",
    "format_df_table(results, \"method\", results.columns.tolist()[:-1])"
   ]
  },
  {
   "cell_type": "markdown",
   "metadata": {},
   "source": [
    "### Taiwan"
   ]
  },
  {
   "cell_type": "code",
   "execution_count": 17,
   "metadata": {},
   "outputs": [],
   "source": [
    "X_train, Y_train, model, outlier_detection, individuals = get_data_model(\"taiwan\", \"MLPClassifier\")\n",
    "individuals = individuals.sample(n = 50, random_state=SEED)"
   ]
  },
  {
   "cell_type": "code",
   "execution_count": 18,
   "metadata": {},
   "outputs": [
    {
     "name": "stderr",
     "output_type": "stream",
     "text": [
      "PermutationExplainer explainer: 1001it [00:29, 23.56it/s]                                                                                                                                                                                           \n"
     ]
    }
   ],
   "source": [
    "not_mutable_features = ['Single', 'Age_in_25_to_40', 'Married', 'Age_lt_25', 'Age_in_40_to_59', 'Age_geq_60', 'EducationLevel']\n",
    "mutable_features = [feat for feat in X_train.columns if feat not in not_mutable_features]\n",
    "continuous_features = [\"LIMIT_BAL\", \"BILL_AMT1\", \"BILL_AMT2\", \"BILL_AMT3\",\n",
    "                       \"BILL_AMT4\", \"BILL_AMT5\", \"BILL_AMT6\", \"PAY_AMT1\",\n",
    "                       \"PAY_AMT2\", \"PAY_AMT3\", \"PAY_AMT4\", \"PAY_AMT5\",\n",
    "                       \"PAY_AMT6\", \"MaxBillAmountOverLast6Months\", \"MaxPaymentAmountOverLast6Months\",\n",
    "                       \"MostRecentBillAmount\", \"MostRecentPaymentAmount\", \"MostRecentPaymentAmount\", \"TotalMonthsOverdue\",\n",
    "                       \"MonthsWithZeroBalanceOverLast6Months\", \"MonthsWithLowSpendingOverLast6Months\", \"MonthsWithHighSpendingOverLast6Months\", \"TotalOverdueCounts\"]\n",
    "categoric_features = [col for col in X_train.columns if col not in continuous_features]\n",
    "action_set = ActionSet(X = X_train, default_step_size = 0.05, mutable_features = mutable_features)\n",
    "model_shap = GeneralClassifier_Shap(model, outlier_detection, X_train, shap_explainer=\"permutation\", threshold = 0.5)"
   ]
  },
  {
   "cell_type": "markdown",
   "metadata": {},
   "source": [
    "#### MAPOFCEM"
   ]
  },
  {
   "cell_type": "code",
   "execution_count": null,
   "metadata": {},
   "outputs": [],
   "source": [
    "method = MAPOFCEM(\n",
    "    action_set = action_set,\n",
    "    classifier = model_shap,\n",
    "    compare = \"non_dom\",\n",
    "    max_changes = 3\n",
    ")\n",
    "\n",
    "run_experiments(\n",
    "    method,\n",
    "    individuals=individuals,\n",
    "    model=model_shap,\n",
    "    output_file=f\"../results/multi_obj/mlp/taiwan/mapofcem_non_dom.csv\"\n",
    ");"
   ]
  },
  {
   "cell_type": "code",
   "execution_count": 20,
   "metadata": {},
   "outputs": [
    {
     "name": "stderr",
     "output_type": "stream",
     "text": [
      "100%|█████████████████████████████████████████████████████████████████████████████████████████████████████████████████████████████████████████████████████████████████████████████████████████████████████████████| 50/50 [1:18:11<00:00, 93.83s/it]\n"
     ]
    }
   ],
   "source": [
    "method = MAPOFCEM(\n",
    "    action_set = action_set,\n",
    "    classifier = model_shap,\n",
    "    compare = \"percentile_change\",\n",
    "    max_changes = 3\n",
    ")\n",
    "\n",
    "run_experiments(\n",
    "    method,\n",
    "    individuals=individuals,\n",
    "    model=model_shap,\n",
    "    output_file=f\"../results/multi_obj/mlp/taiwan/mapofcem_percentile_change.csv\"\n",
    ");"
   ]
  },
  {
   "cell_type": "markdown",
   "metadata": {},
   "source": [
    "#### MAPOCAM"
   ]
  },
  {
   "cell_type": "code",
   "execution_count": null,
   "metadata": {},
   "outputs": [],
   "source": [
    "model_shap.use_predict_max = False # to not use max prediction\n",
    "# little fix to action set\n",
    "action_set_ = copy.deepcopy(action_set)\n",
    "for feat in action_set_:\n",
    "    feat.flip_direction = 1\n",
    "    feat.update_grid()\n",
    "\n",
    "method = MAPOCAM(\n",
    "    action_set_,\n",
    "    model_shap,\n",
    "    criteria = \"non_dom\",\n",
    "    max_changes=3\n",
    ")\n",
    "\n",
    "run_experiments(\n",
    "    method,\n",
    "    individuals=individuals,\n",
    "    model=model_shap,\n",
    "    output_file=f\"../results/multi_obj/mlp/taiwan/mapocam_non_dom.csv\"\n",
    ");"
   ]
  },
  {
   "cell_type": "code",
   "execution_count": 21,
   "metadata": {},
   "outputs": [
    {
     "name": "stderr",
     "output_type": "stream",
     "text": [
      " 54%|█████████████████████████████████████████████████████████████████████████████████████████████████████████████                                                                                             | 27/50 [1:35:12<1:21:05, 211.56s/it]\n"
     ]
    },
    {
     "ename": "KeyboardInterrupt",
     "evalue": "",
     "output_type": "error",
     "traceback": [
      "\u001b[0;31m---------------------------------------------------------------------------\u001b[0m",
      "\u001b[0;31mKeyboardInterrupt\u001b[0m                         Traceback (most recent call last)",
      "Cell \u001b[0;32mIn[21], line 15\u001b[0m\n\u001b[1;32m      6\u001b[0m     feat\u001b[38;5;241m.\u001b[39mupdate_grid()\n\u001b[1;32m      8\u001b[0m method \u001b[38;5;241m=\u001b[39m MAPOCAM(\n\u001b[1;32m      9\u001b[0m     action_set_,\n\u001b[1;32m     10\u001b[0m     model_shap,\n\u001b[1;32m     11\u001b[0m     criteria \u001b[38;5;241m=\u001b[39m \u001b[38;5;124m\"\u001b[39m\u001b[38;5;124mpercentile_change\u001b[39m\u001b[38;5;124m\"\u001b[39m,\n\u001b[1;32m     12\u001b[0m     max_changes\u001b[38;5;241m=\u001b[39m\u001b[38;5;241m3\u001b[39m\n\u001b[1;32m     13\u001b[0m )\n\u001b[0;32m---> 15\u001b[0m \u001b[43mrun_experiments\u001b[49m\u001b[43m(\u001b[49m\n\u001b[1;32m     16\u001b[0m \u001b[43m    \u001b[49m\u001b[43mmethod\u001b[49m\u001b[43m,\u001b[49m\n\u001b[1;32m     17\u001b[0m \u001b[43m    \u001b[49m\u001b[43mindividuals\u001b[49m\u001b[38;5;241;43m=\u001b[39;49m\u001b[43mindividuals\u001b[49m\u001b[43m,\u001b[49m\n\u001b[1;32m     18\u001b[0m \u001b[43m    \u001b[49m\u001b[43mmodel\u001b[49m\u001b[38;5;241;43m=\u001b[39;49m\u001b[43mmodel_shap\u001b[49m\u001b[43m,\u001b[49m\n\u001b[1;32m     19\u001b[0m \u001b[43m    \u001b[49m\u001b[43moutput_file\u001b[49m\u001b[38;5;241;43m=\u001b[39;49m\u001b[38;5;124;43mf\u001b[39;49m\u001b[38;5;124;43m\"\u001b[39;49m\u001b[38;5;124;43m../results/multi_obj/mlp/taiwan/mapocam_percentile_change.csv\u001b[39;49m\u001b[38;5;124;43m\"\u001b[39;49m\n\u001b[1;32m     20\u001b[0m \u001b[43m)\u001b[49m;\n",
      "File \u001b[0;32m/work/giovani.valdrighi/cfmining/notebooks/experiments_helper.py:35\u001b[0m, in \u001b[0;36mrun_experiments\u001b[0;34m(method, individuals, model, output_file)\u001b[0m\n\u001b[1;32m     33\u001b[0m     \u001b[38;5;28;01mpass\u001b[39;00m\n\u001b[1;32m     34\u001b[0m start \u001b[38;5;241m=\u001b[39m time\u001b[38;5;241m.\u001b[39mtime()\n\u001b[0;32m---> 35\u001b[0m \u001b[43mmethod\u001b[49m\u001b[38;5;241;43m.\u001b[39;49m\u001b[43mfit\u001b[49m\u001b[43m(\u001b[49m\u001b[43mindividual\u001b[49m\u001b[38;5;241;43m.\u001b[39;49m\u001b[43mvalues\u001b[49m\u001b[43m)\u001b[49m\n\u001b[1;32m     36\u001b[0m end \u001b[38;5;241m=\u001b[39m time\u001b[38;5;241m.\u001b[39mtime()\n\u001b[1;32m     38\u001b[0m solutions \u001b[38;5;241m=\u001b[39m method\u001b[38;5;241m.\u001b[39msolutions\n",
      "File \u001b[0;32m/work/giovani.valdrighi/cfmining/notebooks/../cfmining/baselines.py:104\u001b[0m, in \u001b[0;36mMAPOCAM.fit\u001b[0;34m(self, individual)\u001b[0m\n\u001b[1;32m     96\u001b[0m \u001b[38;5;28;01mdef\u001b[39;00m \u001b[38;5;21mfit\u001b[39m(\u001b[38;5;28mself\u001b[39m, individual):\n\u001b[1;32m     97\u001b[0m     m \u001b[38;5;241m=\u001b[39m alg\u001b[38;5;241m.\u001b[39mMAPOCAM(\n\u001b[1;32m     98\u001b[0m         \u001b[38;5;28mself\u001b[39m\u001b[38;5;241m.\u001b[39maction_set,\n\u001b[1;32m     99\u001b[0m         individual,\n\u001b[0;32m   (...)\u001b[0m\n\u001b[1;32m    102\u001b[0m         compare\u001b[38;5;241m=\u001b[39m\u001b[38;5;28mself\u001b[39m\u001b[38;5;241m.\u001b[39mcompare(individual),\n\u001b[1;32m    103\u001b[0m     )\n\u001b[0;32m--> 104\u001b[0m     \u001b[43mm\u001b[49m\u001b[38;5;241;43m.\u001b[39;49m\u001b[43mfit\u001b[49m\u001b[43m(\u001b[49m\u001b[43m)\u001b[49m\n\u001b[1;32m    105\u001b[0m     \u001b[38;5;28mself\u001b[39m\u001b[38;5;241m.\u001b[39msolutions \u001b[38;5;241m=\u001b[39m m\u001b[38;5;241m.\u001b[39msolutions\n\u001b[1;32m    106\u001b[0m     \u001b[38;5;28;01mif\u001b[39;00m \u001b[38;5;28mlen\u001b[39m(\u001b[38;5;28mself\u001b[39m\u001b[38;5;241m.\u001b[39msolutions) \u001b[38;5;241m>\u001b[39m \u001b[38;5;241m0\u001b[39m:\n",
      "File \u001b[0;32m/work/giovani.valdrighi/cfmining/notebooks/../cfmining/algorithms.py:224\u001b[0m, in \u001b[0;36mMAPOCAM.fit\u001b[0;34m(self)\u001b[0m\n\u001b[1;32m    221\u001b[0m     \u001b[38;5;28;01mwhile\u001b[39;00m \u001b[38;5;28mlen\u001b[39m(\u001b[38;5;28mself\u001b[39m\u001b[38;5;241m.\u001b[39mcalls) \u001b[38;5;241m>\u001b[39m \u001b[38;5;241m0\u001b[39m:\n\u001b[1;32m    222\u001b[0m         \u001b[38;5;66;03m# print([key[0] for key in self.calls])\u001b[39;00m\n\u001b[1;32m    223\u001b[0m         _, call \u001b[38;5;241m=\u001b[39m \u001b[38;5;28mself\u001b[39m\u001b[38;5;241m.\u001b[39mcalls\u001b[38;5;241m.\u001b[39mpopitem()\n\u001b[0;32m--> 224\u001b[0m         \u001b[38;5;28;43mself\u001b[39;49m\u001b[38;5;241;43m.\u001b[39;49m\u001b[43mfind_candidates\u001b[49m\u001b[43m(\u001b[49m\u001b[38;5;241;43m*\u001b[39;49m\u001b[43mcall\u001b[49m\u001b[43m)\u001b[49m\n\u001b[1;32m    226\u001b[0m \u001b[38;5;28;01mif\u001b[39;00m \u001b[38;5;129;01mnot\u001b[39;00m \u001b[38;5;28mself\u001b[39m\u001b[38;5;241m.\u001b[39mclean_suboptimal:\n\u001b[1;32m    227\u001b[0m     solutions \u001b[38;5;241m=\u001b[39m []\n",
      "File \u001b[0;32m/work/giovani.valdrighi/cfmining/notebooks/../cfmining/algorithms.py:174\u001b[0m, in \u001b[0;36mMAPOCAM.find_candidates\u001b[0;34m(self, solution, size, changes)\u001b[0m\n\u001b[1;32m    171\u001b[0m     \u001b[38;5;28;01mif\u001b[39;00m \u001b[38;5;28mself\u001b[39m\u001b[38;5;241m.\u001b[39mcompare\u001b[38;5;241m.\u001b[39mgreater_than(new_solution, old_sol):\n\u001b[1;32m    172\u001b[0m         \u001b[38;5;28;01mreturn\u001b[39;00m\n\u001b[0;32m--> 174\u001b[0m new_proba \u001b[38;5;241m=\u001b[39m \u001b[38;5;28;43mself\u001b[39;49m\u001b[38;5;241;43m.\u001b[39;49m\u001b[43mclf\u001b[49m\u001b[38;5;241;43m.\u001b[39;49m\u001b[43mpredict_proba\u001b[49m\u001b[43m(\u001b[49m\u001b[43mnew_solution\u001b[49m\u001b[43m)\u001b[49m\n\u001b[1;32m    176\u001b[0m \u001b[38;5;28;01mif\u001b[39;00m new_proba \u001b[38;5;241m>\u001b[39m\u001b[38;5;241m=\u001b[39m \u001b[38;5;28mself\u001b[39m\u001b[38;5;241m.\u001b[39mclf\u001b[38;5;241m.\u001b[39mthreshold \u001b[38;5;241m-\u001b[39m \u001b[38;5;28mself\u001b[39m\u001b[38;5;241m.\u001b[39meps:\n\u001b[1;32m    177\u001b[0m     \u001b[38;5;28mself\u001b[39m\u001b[38;5;241m.\u001b[39mupdate_solutions(new_solution)\n",
      "File \u001b[0;32m/work/giovani.valdrighi/cfmining/notebooks/../cfmining/predictors.py:249\u001b[0m, in \u001b[0;36mGeneralClassifier_Shap.predict_proba\u001b[0;34m(self, value)\u001b[0m\n\u001b[1;32m    247\u001b[0m \u001b[38;5;28;01mif\u001b[39;00m \u001b[38;5;28misinstance\u001b[39m(value, pd\u001b[38;5;241m.\u001b[39mDataFrame):\n\u001b[1;32m    248\u001b[0m     value \u001b[38;5;241m=\u001b[39m value\u001b[38;5;241m.\u001b[39mvalues\u001b[38;5;241m.\u001b[39mflatten()\n\u001b[0;32m--> 249\u001b[0m \u001b[38;5;28;01mreturn\u001b[39;00m \u001b[38;5;28;43mself\u001b[39;49m\u001b[38;5;241;43m.\u001b[39;49m\u001b[43m_predict_proba\u001b[49m\u001b[43m(\u001b[49m\u001b[38;5;28;43mtuple\u001b[39;49m\u001b[43m(\u001b[49m\u001b[43mvalue\u001b[49m\u001b[43m)\u001b[49m\u001b[43m)\u001b[49m\n",
      "File \u001b[0;32m/work/giovani.valdrighi/cfmining/notebooks/../cfmining/predictors.py:243\u001b[0m, in \u001b[0;36mGeneralClassifier_Shap._predict_proba\u001b[0;34m(self, value)\u001b[0m\n\u001b[1;32m    238\u001b[0m \u001b[38;5;250m\u001b[39m\u001b[38;5;124;03m\"\"\"Cached function to calculate the probability.\"\"\"\u001b[39;00m\n\u001b[1;32m    239\u001b[0m value \u001b[38;5;241m=\u001b[39m pd\u001b[38;5;241m.\u001b[39mDataFrame(\n\u001b[1;32m    240\u001b[0m     data \u001b[38;5;241m=\u001b[39m [value],\n\u001b[1;32m    241\u001b[0m     columns \u001b[38;5;241m=\u001b[39m \u001b[38;5;28mself\u001b[39m\u001b[38;5;241m.\u001b[39mfeature_names\n\u001b[1;32m    242\u001b[0m )\n\u001b[0;32m--> 243\u001b[0m \u001b[38;5;28;01mreturn\u001b[39;00m \u001b[38;5;28;43mself\u001b[39;49m\u001b[38;5;241;43m.\u001b[39;49m\u001b[43mclf\u001b[49m\u001b[38;5;241;43m.\u001b[39;49m\u001b[43mpredict_proba\u001b[49m\u001b[43m(\u001b[49m\u001b[43mvalue\u001b[49m\u001b[43m)\u001b[49m[\u001b[38;5;241m0\u001b[39m, \u001b[38;5;241m1\u001b[39m]\n",
      "File \u001b[0;32m/usr/local/lib/python3.10/dist-packages/sklearn/pipeline.py:546\u001b[0m, in \u001b[0;36mPipeline.predict_proba\u001b[0;34m(self, X, **predict_proba_params)\u001b[0m\n\u001b[1;32m    544\u001b[0m Xt \u001b[38;5;241m=\u001b[39m X\n\u001b[1;32m    545\u001b[0m \u001b[38;5;28;01mfor\u001b[39;00m _, name, transform \u001b[38;5;129;01min\u001b[39;00m \u001b[38;5;28mself\u001b[39m\u001b[38;5;241m.\u001b[39m_iter(with_final\u001b[38;5;241m=\u001b[39m\u001b[38;5;28;01mFalse\u001b[39;00m):\n\u001b[0;32m--> 546\u001b[0m     Xt \u001b[38;5;241m=\u001b[39m \u001b[43mtransform\u001b[49m\u001b[38;5;241;43m.\u001b[39;49m\u001b[43mtransform\u001b[49m\u001b[43m(\u001b[49m\u001b[43mXt\u001b[49m\u001b[43m)\u001b[49m\n\u001b[1;32m    547\u001b[0m \u001b[38;5;28;01mreturn\u001b[39;00m \u001b[38;5;28mself\u001b[39m\u001b[38;5;241m.\u001b[39msteps[\u001b[38;5;241m-\u001b[39m\u001b[38;5;241m1\u001b[39m][\u001b[38;5;241m1\u001b[39m]\u001b[38;5;241m.\u001b[39mpredict_proba(Xt, \u001b[38;5;241m*\u001b[39m\u001b[38;5;241m*\u001b[39mpredict_proba_params)\n",
      "File \u001b[0;32m/usr/local/lib/python3.10/dist-packages/sklearn/utils/_set_output.py:140\u001b[0m, in \u001b[0;36m_wrap_method_output.<locals>.wrapped\u001b[0;34m(self, X, *args, **kwargs)\u001b[0m\n\u001b[1;32m    138\u001b[0m \u001b[38;5;129m@wraps\u001b[39m(f)\n\u001b[1;32m    139\u001b[0m \u001b[38;5;28;01mdef\u001b[39;00m \u001b[38;5;21mwrapped\u001b[39m(\u001b[38;5;28mself\u001b[39m, X, \u001b[38;5;241m*\u001b[39margs, \u001b[38;5;241m*\u001b[39m\u001b[38;5;241m*\u001b[39mkwargs):\n\u001b[0;32m--> 140\u001b[0m     data_to_wrap \u001b[38;5;241m=\u001b[39m \u001b[43mf\u001b[49m\u001b[43m(\u001b[49m\u001b[38;5;28;43mself\u001b[39;49m\u001b[43m,\u001b[49m\u001b[43m \u001b[49m\u001b[43mX\u001b[49m\u001b[43m,\u001b[49m\u001b[43m \u001b[49m\u001b[38;5;241;43m*\u001b[39;49m\u001b[43margs\u001b[49m\u001b[43m,\u001b[49m\u001b[43m \u001b[49m\u001b[38;5;241;43m*\u001b[39;49m\u001b[38;5;241;43m*\u001b[39;49m\u001b[43mkwargs\u001b[49m\u001b[43m)\u001b[49m\n\u001b[1;32m    141\u001b[0m     \u001b[38;5;28;01mif\u001b[39;00m \u001b[38;5;28misinstance\u001b[39m(data_to_wrap, \u001b[38;5;28mtuple\u001b[39m):\n\u001b[1;32m    142\u001b[0m         \u001b[38;5;66;03m# only wrap the first output for cross decomposition\u001b[39;00m\n\u001b[1;32m    143\u001b[0m         \u001b[38;5;28;01mreturn\u001b[39;00m (\n\u001b[1;32m    144\u001b[0m             _wrap_data_with_container(method, data_to_wrap[\u001b[38;5;241m0\u001b[39m], X, \u001b[38;5;28mself\u001b[39m),\n\u001b[1;32m    145\u001b[0m             \u001b[38;5;241m*\u001b[39mdata_to_wrap[\u001b[38;5;241m1\u001b[39m:],\n\u001b[1;32m    146\u001b[0m         )\n",
      "File \u001b[0;32m/usr/local/lib/python3.10/dist-packages/sklearn/preprocessing/_data.py:992\u001b[0m, in \u001b[0;36mStandardScaler.transform\u001b[0;34m(self, X, copy)\u001b[0m\n\u001b[1;32m    989\u001b[0m check_is_fitted(\u001b[38;5;28mself\u001b[39m)\n\u001b[1;32m    991\u001b[0m copy \u001b[38;5;241m=\u001b[39m copy \u001b[38;5;28;01mif\u001b[39;00m copy \u001b[38;5;129;01mis\u001b[39;00m \u001b[38;5;129;01mnot\u001b[39;00m \u001b[38;5;28;01mNone\u001b[39;00m \u001b[38;5;28;01melse\u001b[39;00m \u001b[38;5;28mself\u001b[39m\u001b[38;5;241m.\u001b[39mcopy\n\u001b[0;32m--> 992\u001b[0m X \u001b[38;5;241m=\u001b[39m \u001b[38;5;28;43mself\u001b[39;49m\u001b[38;5;241;43m.\u001b[39;49m\u001b[43m_validate_data\u001b[49m\u001b[43m(\u001b[49m\n\u001b[1;32m    993\u001b[0m \u001b[43m    \u001b[49m\u001b[43mX\u001b[49m\u001b[43m,\u001b[49m\n\u001b[1;32m    994\u001b[0m \u001b[43m    \u001b[49m\u001b[43mreset\u001b[49m\u001b[38;5;241;43m=\u001b[39;49m\u001b[38;5;28;43;01mFalse\u001b[39;49;00m\u001b[43m,\u001b[49m\n\u001b[1;32m    995\u001b[0m \u001b[43m    \u001b[49m\u001b[43maccept_sparse\u001b[49m\u001b[38;5;241;43m=\u001b[39;49m\u001b[38;5;124;43m\"\u001b[39;49m\u001b[38;5;124;43mcsr\u001b[39;49m\u001b[38;5;124;43m\"\u001b[39;49m\u001b[43m,\u001b[49m\n\u001b[1;32m    996\u001b[0m \u001b[43m    \u001b[49m\u001b[43mcopy\u001b[49m\u001b[38;5;241;43m=\u001b[39;49m\u001b[43mcopy\u001b[49m\u001b[43m,\u001b[49m\n\u001b[1;32m    997\u001b[0m \u001b[43m    \u001b[49m\u001b[43mdtype\u001b[49m\u001b[38;5;241;43m=\u001b[39;49m\u001b[43mFLOAT_DTYPES\u001b[49m\u001b[43m,\u001b[49m\n\u001b[1;32m    998\u001b[0m \u001b[43m    \u001b[49m\u001b[43mforce_all_finite\u001b[49m\u001b[38;5;241;43m=\u001b[39;49m\u001b[38;5;124;43m\"\u001b[39;49m\u001b[38;5;124;43mallow-nan\u001b[39;49m\u001b[38;5;124;43m\"\u001b[39;49m\u001b[43m,\u001b[49m\n\u001b[1;32m    999\u001b[0m \u001b[43m\u001b[49m\u001b[43m)\u001b[49m\n\u001b[1;32m   1001\u001b[0m \u001b[38;5;28;01mif\u001b[39;00m sparse\u001b[38;5;241m.\u001b[39missparse(X):\n\u001b[1;32m   1002\u001b[0m     \u001b[38;5;28;01mif\u001b[39;00m \u001b[38;5;28mself\u001b[39m\u001b[38;5;241m.\u001b[39mwith_mean:\n",
      "File \u001b[0;32m/usr/local/lib/python3.10/dist-packages/sklearn/base.py:548\u001b[0m, in \u001b[0;36mBaseEstimator._validate_data\u001b[0;34m(self, X, y, reset, validate_separately, **check_params)\u001b[0m\n\u001b[1;32m    483\u001b[0m \u001b[38;5;28;01mdef\u001b[39;00m \u001b[38;5;21m_validate_data\u001b[39m(\n\u001b[1;32m    484\u001b[0m     \u001b[38;5;28mself\u001b[39m,\n\u001b[1;32m    485\u001b[0m     X\u001b[38;5;241m=\u001b[39m\u001b[38;5;124m\"\u001b[39m\u001b[38;5;124mno_validation\u001b[39m\u001b[38;5;124m\"\u001b[39m,\n\u001b[0;32m   (...)\u001b[0m\n\u001b[1;32m    489\u001b[0m     \u001b[38;5;241m*\u001b[39m\u001b[38;5;241m*\u001b[39mcheck_params,\n\u001b[1;32m    490\u001b[0m ):\n\u001b[1;32m    491\u001b[0m \u001b[38;5;250m    \u001b[39m\u001b[38;5;124;03m\"\"\"Validate input data and set or check the `n_features_in_` attribute.\u001b[39;00m\n\u001b[1;32m    492\u001b[0m \n\u001b[1;32m    493\u001b[0m \u001b[38;5;124;03m    Parameters\u001b[39;00m\n\u001b[0;32m   (...)\u001b[0m\n\u001b[1;32m    546\u001b[0m \u001b[38;5;124;03m        validated.\u001b[39;00m\n\u001b[1;32m    547\u001b[0m \u001b[38;5;124;03m    \"\"\"\u001b[39;00m\n\u001b[0;32m--> 548\u001b[0m     \u001b[38;5;28;43mself\u001b[39;49m\u001b[38;5;241;43m.\u001b[39;49m\u001b[43m_check_feature_names\u001b[49m\u001b[43m(\u001b[49m\u001b[43mX\u001b[49m\u001b[43m,\u001b[49m\u001b[43m \u001b[49m\u001b[43mreset\u001b[49m\u001b[38;5;241;43m=\u001b[39;49m\u001b[43mreset\u001b[49m\u001b[43m)\u001b[49m\n\u001b[1;32m    550\u001b[0m     \u001b[38;5;28;01mif\u001b[39;00m y \u001b[38;5;129;01mis\u001b[39;00m \u001b[38;5;28;01mNone\u001b[39;00m \u001b[38;5;129;01mand\u001b[39;00m \u001b[38;5;28mself\u001b[39m\u001b[38;5;241m.\u001b[39m_get_tags()[\u001b[38;5;124m\"\u001b[39m\u001b[38;5;124mrequires_y\u001b[39m\u001b[38;5;124m\"\u001b[39m]:\n\u001b[1;32m    551\u001b[0m         \u001b[38;5;28;01mraise\u001b[39;00m \u001b[38;5;167;01mValueError\u001b[39;00m(\n\u001b[1;32m    552\u001b[0m             \u001b[38;5;124mf\u001b[39m\u001b[38;5;124m\"\u001b[39m\u001b[38;5;124mThis \u001b[39m\u001b[38;5;132;01m{\u001b[39;00m\u001b[38;5;28mself\u001b[39m\u001b[38;5;241m.\u001b[39m\u001b[38;5;18m__class__\u001b[39m\u001b[38;5;241m.\u001b[39m\u001b[38;5;18m__name__\u001b[39m\u001b[38;5;132;01m}\u001b[39;00m\u001b[38;5;124m estimator \u001b[39m\u001b[38;5;124m\"\u001b[39m\n\u001b[1;32m    553\u001b[0m             \u001b[38;5;124m\"\u001b[39m\u001b[38;5;124mrequires y to be passed, but the target y is None.\u001b[39m\u001b[38;5;124m\"\u001b[39m\n\u001b[1;32m    554\u001b[0m         )\n",
      "File \u001b[0;32m/usr/local/lib/python3.10/dist-packages/sklearn/base.py:425\u001b[0m, in \u001b[0;36mBaseEstimator._check_feature_names\u001b[0;34m(self, X, reset)\u001b[0m\n\u001b[1;32m    422\u001b[0m     \u001b[38;5;28;01mreturn\u001b[39;00m\n\u001b[1;32m    424\u001b[0m fitted_feature_names \u001b[38;5;241m=\u001b[39m \u001b[38;5;28mgetattr\u001b[39m(\u001b[38;5;28mself\u001b[39m, \u001b[38;5;124m\"\u001b[39m\u001b[38;5;124mfeature_names_in_\u001b[39m\u001b[38;5;124m\"\u001b[39m, \u001b[38;5;28;01mNone\u001b[39;00m)\n\u001b[0;32m--> 425\u001b[0m X_feature_names \u001b[38;5;241m=\u001b[39m \u001b[43m_get_feature_names\u001b[49m\u001b[43m(\u001b[49m\u001b[43mX\u001b[49m\u001b[43m)\u001b[49m\n\u001b[1;32m    427\u001b[0m \u001b[38;5;28;01mif\u001b[39;00m fitted_feature_names \u001b[38;5;129;01mis\u001b[39;00m \u001b[38;5;28;01mNone\u001b[39;00m \u001b[38;5;129;01mand\u001b[39;00m X_feature_names \u001b[38;5;129;01mis\u001b[39;00m \u001b[38;5;28;01mNone\u001b[39;00m:\n\u001b[1;32m    428\u001b[0m     \u001b[38;5;66;03m# no feature names seen in fit and in X\u001b[39;00m\n\u001b[1;32m    429\u001b[0m     \u001b[38;5;28;01mreturn\u001b[39;00m\n",
      "\u001b[0;31mKeyboardInterrupt\u001b[0m: "
     ]
    }
   ],
   "source": [
    "model_shap.use_predict_max = False # to not use max prediction\n",
    "# little fix to action set\n",
    "action_set_ = copy.deepcopy(action_set)\n",
    "for feat in action_set_:\n",
    "    feat.flip_direction = 1\n",
    "    feat.update_grid()\n",
    "\n",
    "method = MAPOCAM(\n",
    "    action_set_,\n",
    "    model_shap,\n",
    "    criteria = \"percentile_change\",\n",
    "    max_changes=3\n",
    ")\n",
    "\n",
    "run_experiments(\n",
    "    method,\n",
    "    individuals=individuals,\n",
    "    model=model_shap,\n",
    "    output_file=f\"../results/multi_obj/mlp/taiwan/mapocam_percentile_change.csv\"\n",
    ");"
   ]
  },
  {
   "cell_type": "markdown",
   "metadata": {},
   "source": [
    "#### Dice"
   ]
  },
  {
   "cell_type": "code",
   "execution_count": null,
   "metadata": {},
   "outputs": [],
   "source": [
    "# get mapofcem mean number of solutions\n",
    "results = pd.read_csv(\"../results/multi_obj/mlp/taiwan/mapofcem_percentile_change.csv\")\n",
    "n_cfs = int(np.ceil(results[\"n_solutions\"].mean()))\n",
    "\n",
    "method = Dice(\n",
    "    X_train,\n",
    "    Y_train,\n",
    "    model_shap.clf,\n",
    "    n_cfs = n_cfs,\n",
    "    mutable_features = mutable_features,\n",
    "    continuous_features = continuous_features,\n",
    ")\n",
    "\n",
    "run_experiments(\n",
    "    method,\n",
    "    individuals = individuals,\n",
    "    model = model_shap,\n",
    "    output_file=f\"../results/multi_obj/mlp/german/dice.csv\"\n",
    ");"
   ]
  },
  {
   "cell_type": "markdown",
   "metadata": {},
   "source": [
    "#### Results"
   ]
  },
  {
   "cell_type": "code",
   "execution_count": null,
   "metadata": {},
   "outputs": [],
   "source": [
    "dataset = \"german\"\n",
    "results = []\n",
    "for method in [\"mapofcem_non_dom\", \"mapocam_non_dom\", \"dice\"]:\n",
    "    results_cur = pd.read_csv(f\"../results/multi_obj/mlp/{dataset}/{method}.csv\")\n",
    "    results_cur = summarize_results(results_cur, dataset, 0.05)\n",
    "    results_cur[\"method\"] = method\n",
    "    results.append(results_cur)\n",
    "results = pd.concat(results)\n",
    "format_df_table(results, \"method\", results.columns.tolist()[:-1])"
   ]
  }
 ],
 "metadata": {
  "kernelspec": {
   "display_name": "Python 3 (ipykernel)",
   "language": "python",
   "name": "python3"
  },
  "language_info": {
   "codemirror_mode": {
    "name": "ipython",
    "version": 3
   },
   "file_extension": ".py",
   "mimetype": "text/x-python",
   "name": "python",
   "nbconvert_exporter": "python",
   "pygments_lexer": "ipython3",
   "version": "3.10.12"
  }
 },
 "nbformat": 4,
 "nbformat_minor": 2
}
