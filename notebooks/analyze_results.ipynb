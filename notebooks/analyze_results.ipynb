{
 "cells": [
  {
   "cell_type": "code",
   "execution_count": 9,
   "metadata": {},
   "outputs": [
    {
     "name": "stdout",
     "output_type": "stream",
     "text": [
      "The autoreload extension is already loaded. To reload it, use:\n",
      "  %reload_ext autoreload\n"
     ]
    }
   ],
   "source": [
    "import pandas as pd\n",
    "import matplotlib.pyplot as plt\n",
    "import numpy as np\n",
    "from ast import literal_eval\n",
    "from sklearn.model_selection import train_test_split\n",
    "import sys\n",
    "sys.path.append(\"../\")\n",
    "\n",
    "from cfmining.algorithms import MAPOFCEM\n",
    "from cfmining.criteria import PercentileCalculator, PercentileCriterion, PercentileChangesCriterion, NonDomCriterion\n",
    "from cfmining.predictors import GeneralClassifier_Shap\n",
    "from cfmining.action_set import ActionSet\n",
    "\n",
    "import dice_ml\n",
    "\n",
    "\n",
    "%load_ext autoreload\n",
    "%autoreload 2\n"
   ]
  },
  {
   "cell_type": "code",
   "execution_count": 6,
   "metadata": {},
   "outputs": [],
   "source": [
    "VAL_RATIO = 1/7\n",
    "TEST_RATIO = 0.3\n",
    "SEED = 0\n",
    "\n",
    "df = pd.read_csv(\"../data/german.csv\")\n",
    "X = df.drop(\"GoodCustomer\", axis=1)\n",
    "Y = df[\"GoodCustomer\"]\n",
    "\n",
    "X_train, X_test, Y_train, Y_test = train_test_split(X, Y, test_size=TEST_RATIO, random_state=SEED, shuffle=True)\n",
    "X_train, X_val, Y_train, Y_val = train_test_split(X_train, Y_train, test_size=VAL_RATIO, random_state=SEED, shuffle=True)"
   ]
  },
  {
   "cell_type": "code",
   "execution_count": 8,
   "metadata": {},
   "outputs": [],
   "source": [
    "action_set = ActionSet(X = X_train)\n",
    "not_mutable_features = ['Age', 'OwnsHouse', 'isMale', 'JobClassIsSkilled', 'Single', 'ForeignWorker', 'RentsHouse']\n",
    "mutable_features = [feat for feat in X_train.columns if feat not in not_mutable_features]\n",
    "continuous_features = ['Age', 'LoanDuration', 'LoanAmount', 'LoanRateAsPercentOfIncome','YearsAtCurrentHome']\n",
    "for feat in action_set:\n",
    "    if feat.name in not_mutable_features:\n",
    "        feat.mutable = False\n",
    "    if not feat.name in not_mutable_features:\n",
    "        feat.mutable = True\n",
    "\n",
    "    feat.step_direction = 0\n",
    "    feat.update_grid()\n",
    "percCalc = PercentileCalculator(action_set = action_set)"
   ]
  },
  {
   "cell_type": "code",
   "execution_count": 3,
   "metadata": {},
   "outputs": [],
   "source": [
    "dice = pd.read_csv(\"../results/german/dice_best_sol_0.csv\")"
   ]
  },
  {
   "cell_type": "code",
   "execution_count": 11,
   "metadata": {},
   "outputs": [
    {
     "data": {
      "text/plain": [
       "0     [[,,0,, 1,,42,,60 10366,, 2,, 4,, 1,, 1,, 1,, ...\n",
       "1     [[, 0,,1, 43, 24 7393,,1,,4,,1,,2,,0,,0,,0,,0,...\n",
       "2     [[,0, 0,42,12 409, 3, 3, 2, 1, 0, 1, 1, 1, 1, ...\n",
       "3     [[, 0,,1, 24, 48 6560,,3,,2,,1,,1,,0,,1,,0,,1,...\n",
       "4     [[, 0,,1, 29, 36 9034,,4,,1,,1,,1,,1,,1,,0,,1,...\n",
       "                            ...                        \n",
       "73    [[,0, 1,30,12 707, 4, 2, 2, 1, 0, 0, 0, 0, 0, ...\n",
       "74    [[, 0,,1, 38, 15 1308,,4,,4,,2,,1,,0,,1,,0,,0,...\n",
       "75    [[, 0,,0, 20, 11 1577,,4,,1,,1,,1,,0,,1,,0,,1,...\n",
       "76    [[, 0,,1, 23, 45 1845,,4,,4,,1,,1,,1,,0,,0,,0,...\n",
       "77    [[, 0,,0, 25, 12 1295,,3,,1,,1,,1,,0,,1,,0,,0,...\n",
       "Name: individual, Length: 78, dtype: object"
      ]
     },
     "execution_count": 11,
     "metadata": {},
     "output_type": "execute_result"
    }
   ],
   "source": [
    "dice[\"individual\"].apply(lambda x : x.replace(\"  \", \",\"))"
   ]
  }
 ],
 "metadata": {
  "kernelspec": {
   "display_name": "cfmining",
   "language": "python",
   "name": "python3"
  },
  "language_info": {
   "codemirror_mode": {
    "name": "ipython",
    "version": 3
   },
   "file_extension": ".py",
   "mimetype": "text/x-python",
   "name": "python",
   "nbconvert_exporter": "python",
   "pygments_lexer": "ipython3",
   "version": "3.10.13"
  }
 },
 "nbformat": 4,
 "nbformat_minor": 2
}
