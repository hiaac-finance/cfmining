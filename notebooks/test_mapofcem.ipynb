{
 "cells": [
  {
   "cell_type": "code",
   "execution_count": 15,
   "metadata": {},
   "outputs": [
    {
     "name": "stdout",
     "output_type": "stream",
     "text": [
      "The autoreload extension is already loaded. To reload it, use:\n",
      "  %reload_ext autoreload\n"
     ]
    }
   ],
   "source": [
    "import json\n",
    "import os\n",
    "import numpy as np\n",
    "import pandas as pd\n",
    "from sklearn.model_selection import train_test_split\n",
    "from tqdm import tqdm\n",
    "import joblib\n",
    "import time\n",
    "import sys\n",
    "sys.path.append(\"../\")\n",
    "\n",
    "from cfmining.algorithms import MAPOFCEM\n",
    "from cfmining.criteria import PercentileCalculator, PercentileCriterion, PercentileChangesCriterion, NonDomCriterion\n",
    "from cfmining.predictors import GeneralClassifier_Shap\n",
    "from cfmining.action_set import ActionSet\n",
    "from cfmining.utils import get_data_model\n",
    "\n",
    "import dice_ml\n",
    "\n",
    "\n",
    "%load_ext autoreload\n",
    "%autoreload 2"
   ]
  },
  {
   "cell_type": "code",
   "execution_count": 36,
   "metadata": {},
   "outputs": [],
   "source": [
    "def get_mapofcem_results(\n",
    "        mapofcem_setter,\n",
    "        individuals, \n",
    "        model, \n",
    "        outlier_detection, \n",
    "        output_file = None,\n",
    "    ):\n",
    "    results = []\n",
    "\n",
    "    for i in tqdm(range(len(individuals))):\n",
    "        individual = individuals.iloc[i]\n",
    "        \n",
    "        mapofcem = mapofcem_setter(individual.values, model)\n",
    "        start = time.time()\n",
    "        mapofcem.fit()\n",
    "        end = time.time()\n",
    "\n",
    "        solutions = mapofcem.solutions\n",
    "        solutions = [s.tolist() for s in solutions]\n",
    "        is_outlier = sum([outlier_detection.predict(np.array(solution)[None, :]) == -1 for solution in solutions], 0)\n",
    "        \n",
    "        results.append({\n",
    "            \"individual\" : individual.values.tolist(),\n",
    "            \"prob\" : model.predict_proba(individual.values),\n",
    "            \"time\" : end - start,\n",
    "            \"n_solutions\" : len(mapofcem.solutions),\n",
    "            \"solutions\" : solutions,\n",
    "            \"outlier\" : is_outlier,\n",
    "        })\n",
    "\n",
    "        if output_file is not None:\n",
    "            pd.DataFrame(results).to_csv(output_file, index=False)\n",
    "\n",
    "    results = pd.DataFrame(results)\n",
    "    if output_file is not None:\n",
    "        results.to_csv(output_file, index=False)\n",
    "    else:\n",
    "        return results"
   ]
  },
  {
   "cell_type": "code",
   "execution_count": 25,
   "metadata": {},
   "outputs": [],
   "source": [
    "def get_dice_results(\n",
    "    dice_model,\n",
    "    dice_data,\n",
    "    individuals,\n",
    "    mutable_features,\n",
    "    outlier_detection,\n",
    "    total_CFs,\n",
    "    sparsity_weight = 0.2,\n",
    "    output_file = None,\n",
    "):\n",
    "    exp = dice_ml.Dice(dice_data, dice_model)\n",
    "    results = []\n",
    "    \n",
    "    for i in tqdm(range(len(individuals))):\n",
    "        individual = individuals.iloc[[i]]\n",
    "        start = time.time()\n",
    "        \n",
    "        start = time.time()\n",
    "        dice_exp = exp.generate_counterfactuals(\n",
    "            individual,\n",
    "            total_CFs = total_CFs,\n",
    "            desired_class = \"opposite\",\n",
    "            sparsity_weight = sparsity_weight,\n",
    "            features_to_vary=mutable_features,\n",
    "        )\n",
    "        end = time.time()\n",
    "\n",
    "        # convert dice solutions to an adequated format\n",
    "        solutions = json.loads(dice_exp.to_json())[\"cfs_list\"][0]\n",
    "\n",
    "        # remove last element of all solutions\n",
    "        solutions = [solution[:-1] for solution in solutions]\n",
    "        is_outlier = sum([outlier_detection.predict(np.array(solution)[None, :]) == -1 for solution in solutions], 0)\n",
    "\n",
    "        results.append({\n",
    "            \"individual\" : individual.values.tolist(),\n",
    "            \"prob\" : dice_model.model.predict_proba(individual.values)[0, 1],\n",
    "            \"time\" : end - start,\n",
    "            \"n_solutions\" : len(solutions),\n",
    "            \"solutions\" : solutions,\n",
    "            \"outlier\" : is_outlier,\n",
    "        })\n",
    "    results = pd.DataFrame(results)\n",
    "    if output_file is not None:\n",
    "        results.to_csv(output_file, index=False)\n",
    "    else:\n",
    "        return results"
   ]
  },
  {
   "cell_type": "code",
   "execution_count": 37,
   "metadata": {},
   "outputs": [],
   "source": [
    "def mapofcem_wrapper(\n",
    "        action_set,\n",
    "        criteria,\n",
    "        criteria_param,\n",
    "        outlier_detection,\n",
    "        estimate_outlier,\n",
    "        total_CFs,\n",
    "        max_changes\n",
    "):  \n",
    "    def f_(ind, model):\n",
    "        if criteria == \"Percentile\":\n",
    "            compare = PercentileCriterion(ind, criteria_param)\n",
    "        elif criteria == \"NonDom\":\n",
    "            compare = NonDomCriterion(criteria_param)\n",
    "        elif criteria == \"PercentileChanges\":\n",
    "            compare = PercentileChangesCriterion(ind, criteria_param)\n",
    "\n",
    "        return MAPOFCEM(\n",
    "            action_set,\n",
    "            ind,\n",
    "            model,\n",
    "            outlier_detection=outlier_detection,\n",
    "            estimate_outlier=estimate_outlier,\n",
    "            total_CFs=total_CFs,\n",
    "            max_changes=max_changes,\n",
    "            compare = compare\n",
    "        )\n",
    "    return f_"
   ]
  },
  {
   "cell_type": "markdown",
   "metadata": {},
   "source": [
    "## German"
   ]
  },
  {
   "cell_type": "code",
   "execution_count": 18,
   "metadata": {},
   "outputs": [],
   "source": [
    "X_train, Y_train, model, outlier_detection, individuals = get_data_model(\"german\")"
   ]
  },
  {
   "cell_type": "code",
   "execution_count": 19,
   "metadata": {},
   "outputs": [],
   "source": [
    "action_set = ActionSet(X = X_train)\n",
    "not_mutable_features = ['Age', 'OwnsHouse', 'isMale', 'JobClassIsSkilled', 'Single', 'ForeignWorker', 'RentsHouse']\n",
    "mutable_features = [feat for feat in X_train.columns if feat not in not_mutable_features]\n",
    "continuous_features = ['Age', 'LoanDuration', 'LoanAmount', 'LoanRateAsPercentOfIncome','YearsAtCurrentHome']\n",
    "for feat in action_set:\n",
    "    if feat.name in not_mutable_features:\n",
    "        feat.mutable = False\n",
    "    if not feat.name in not_mutable_features:\n",
    "        feat.mutable = True\n",
    "\n",
    "    feat.step_direction = 0\n",
    "    feat.update_grid()"
   ]
  },
  {
   "cell_type": "code",
   "execution_count": 20,
   "metadata": {},
   "outputs": [],
   "source": [
    "extra_not_mutable_features = [\n",
    "    'LoanRateAsPercentOfIncome', \n",
    "    'NumberOfOtherLoansAtBank', \n",
    "    'NumberOfLiableIndividuals', \n",
    "    'HasTelephone',\n",
    "    'CheckingAccountBalance_geq_0', \n",
    "    'CheckingAccountBalance_geq_200',\n",
    "    'SavingsAccountBalance_geq_100', \n",
    "    'SavingsAccountBalance_geq_500',\n",
    "    'MissedPayments', \n",
    "    'CriticalAccountOrLoansElsewhere', \n",
    "    'HasCoapplicant', \n",
    "    'HasGuarantor',\n",
    "]"
   ]
  },
  {
   "cell_type": "markdown",
   "metadata": {},
   "source": [
    "## mapofcem"
   ]
  },
  {
   "cell_type": "code",
   "execution_count": 29,
   "metadata": {},
   "outputs": [],
   "source": [
    "percCalc = PercentileCalculator(action_set = action_set)\n",
    "model_shap = GeneralClassifier_Shap(model, X_train, tree = True)"
   ]
  },
  {
   "cell_type": "markdown",
   "metadata": {},
   "source": [
    "experiment to fint the best solution"
   ]
  },
  {
   "cell_type": "code",
   "execution_count": 38,
   "metadata": {},
   "outputs": [
    {
     "name": "stderr",
     "output_type": "stream",
     "text": [
      "  0%|                                                                                                                      | 0/72 [00:00<?, ?it/s]"
     ]
    },
    {
     "name": "stderr",
     "output_type": "stream",
     "text": [
      "100%|█████████████████████████████████████████████████████████████████████████████████████████████████████████████| 72/72 [28:18<00:00, 23.59s/it]\n"
     ]
    }
   ],
   "source": [
    "for (i, n_extra_not_mutable) in enumerate([0, 4, 8, 12]):\n",
    "    if n_extra_not_mutable != 8:\n",
    "        continue\n",
    "\n",
    "    extra_not_mut = extra_not_mutable_features[:n_extra_not_mutable]\n",
    "\n",
    "    not_mut = not_mutable_features + extra_not_mut\n",
    "    mut = [feat for feat in X_train.columns if feat not in not_mut]\n",
    "    for feat in action_set:\n",
    "        if feat.name in not_mut:\n",
    "            feat.mutable = False\n",
    "        if not feat.name in not_mut:\n",
    "            feat.mutable = True\n",
    "\n",
    "        feat.step_direction = 0\n",
    "        feat.update_grid()\n",
    "    \n",
    "\n",
    "    mapofcem_setter = mapofcem_wrapper(\n",
    "        action_set=action_set,\n",
    "        criteria=\"Percentile\",\n",
    "        criteria_param=percCalc,\n",
    "        outlier_detection=outlier_detection,\n",
    "        estimate_outlier=True,\n",
    "        total_CFs=np.inf,\n",
    "        max_changes=3\n",
    "    )\n",
    "\n",
    "    get_mapofcem_results(\n",
    "        mapofcem_setter=mapofcem_setter,\n",
    "        individuals=individuals,\n",
    "        model=model_shap,\n",
    "        outlier_detection=outlier_detection,\n",
    "        output_file=f\"../results/german/mapofcem_best_sol_{i}.csv\"\n",
    "    )"
   ]
  },
  {
   "cell_type": "markdown",
   "metadata": {},
   "source": [
    "experiment to find solutions in the pareto front"
   ]
  },
  {
   "cell_type": "code",
   "execution_count": null,
   "metadata": {},
   "outputs": [],
   "source": [
    "for (i, n_extra_not_mutable) in enumerate([0]): #, 4, 8, 12]):\n",
    "    extra_not_mut = extra_not_mutable_features[:n_extra_not_mutable]\n",
    "\n",
    "    not_mut = not_mutable_features + extra_not_mut\n",
    "    mut = [feat for feat in X_train.columns if feat not in not_mut]\n",
    "    for feat in action_set:\n",
    "        if feat.name in not_mut:\n",
    "            feat.mutable = False\n",
    "        if not feat.name in not_mut:\n",
    "            feat.mutable = True\n",
    "\n",
    "        feat.step_direction = 0\n",
    "        feat.update_grid()\n",
    "    \n",
    "\n",
    "    mapofcem_setter = mapofcem_wrapper(\n",
    "        action_set=action_set,\n",
    "        criteria=\"PercentileChanges\",\n",
    "        criteria_param=percCalc,\n",
    "        outlier_detection=outlier_detection,\n",
    "        estimate_outlier=True,\n",
    "        total_CFs=np.inf,\n",
    "        max_changes=4\n",
    "    )\n",
    "\n",
    "    get_mapofcem_results(\n",
    "        mapofcem_setter=mapofcem_setter,\n",
    "        individuals=individuals,\n",
    "        model=model_shap,\n",
    "        outlier_detection=outlier_detection,\n",
    "        output_file=f\"../results/german/mapofcem_pareto_{i}.csv\"\n",
    "    )"
   ]
  },
  {
   "cell_type": "markdown",
   "metadata": {},
   "source": [
    "## dice"
   ]
  },
  {
   "cell_type": "code",
   "execution_count": 27,
   "metadata": {},
   "outputs": [],
   "source": [
    "dice_model = dice_ml.Model(\n",
    "    model = model,\n",
    "    backend = \"sklearn\",\n",
    "    model_type = \"classifier\"\n",
    ")\n",
    "X_train_extended = X_train.copy()\n",
    "X_train_extended[\"target\"] = Y_train\n",
    "dice_data = dice_ml.Data(\n",
    "    dataframe = X_train_extended,\n",
    "    continuous_features = X_train.columns.tolist(),#continuous_features,\n",
    "    outcome_name = \"target\",\n",
    ")\n"
   ]
  },
  {
   "cell_type": "markdown",
   "metadata": {},
   "source": [
    "experiment to find the best solution"
   ]
  },
  {
   "cell_type": "code",
   "execution_count": null,
   "metadata": {},
   "outputs": [],
   "source": [
    "for (i, n_extra_not_mutable) in enumerate([0, 4, 8, 12]):\n",
    "    extra_not_mut = extra_not_mutable_features[:n_extra_not_mutable]\n",
    "\n",
    "    not_mut = not_mutable_features + extra_not_mut\n",
    "    mut = [feat for feat in X_train.columns if feat not in not_mut]\n",
    "    \n",
    "    get_dice_results(\n",
    "        dice_model = dice_model,\n",
    "        dice_data = dice_data,\n",
    "        individuals = individuals,\n",
    "        mutable_features = mut, \n",
    "        outlier_detection=outlier_detection,\n",
    "        total_CFs=1,\n",
    "        sparsity_weight=0.2,\n",
    "        output_file=f\"../results/german/dice_best_sol_{i}.csv\"\n",
    "    )"
   ]
  }
 ],
 "metadata": {
  "kernelspec": {
   "display_name": "Python 3 (ipykernel)",
   "language": "python",
   "name": "python3"
  },
  "language_info": {
   "codemirror_mode": {
    "name": "ipython",
    "version": 3
   },
   "file_extension": ".py",
   "mimetype": "text/x-python",
   "name": "python",
   "nbconvert_exporter": "python",
   "pygments_lexer": "ipython3",
   "version": "3.10.12"
  }
 },
 "nbformat": 4,
 "nbformat_minor": 2
}
