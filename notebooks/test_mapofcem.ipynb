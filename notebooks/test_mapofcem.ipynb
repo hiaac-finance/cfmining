{
 "cells": [
  {
   "cell_type": "code",
   "execution_count": 24,
   "metadata": {},
   "outputs": [
    {
     "name": "stdout",
     "output_type": "stream",
     "text": [
      "The autoreload extension is already loaded. To reload it, use:\n",
      "  %reload_ext autoreload\n"
     ]
    }
   ],
   "source": [
    "import json\n",
    "import numpy as np\n",
    "import pandas as pd\n",
    "from sklearn.model_selection import train_test_split\n",
    "import joblib\n",
    "import time\n",
    "import sys\n",
    "sys.path.append(\"../\")\n",
    "\n",
    "from cfmining.algorithms import MAPOFCEM\n",
    "from cfmining.criteria import PercentileCalculator, PercentileCriterion, NonDomCriterion\n",
    "from cfmining.predictors import GeneralClassifier_Shap\n",
    "from cfmining.action_set import ActionSet\n",
    "\n",
    "import dice_ml\n",
    "\n",
    "\n",
    "%load_ext autoreload\n",
    "%autoreload 2"
   ]
  },
  {
   "cell_type": "code",
   "execution_count": 2,
   "metadata": {},
   "outputs": [],
   "source": [
    "def get_mapofcem_results(action_set, individuals, model, outlier_detection, criteria_type = \"Percentile\", criteria = None, percCalc = None):\n",
    "    results = []\n",
    "\n",
    "    for i in range(len(individuals)):\n",
    "        individual = individuals.iloc[i]\n",
    "        start = time.time()\n",
    "        if criteria_type == \"Percentile\":\n",
    "            criteria = PercentileCriterion(individual, percCalc)\n",
    "        \n",
    "        start = time.time()\n",
    "        mapofcem = MAPOFCEM(\n",
    "            action_set, \n",
    "            individual.values, \n",
    "            model, \n",
    "            outlier_detection=outlier_detection,\n",
    "            estimate_outlier=True,\n",
    "            max_changes=3, \n",
    "            compare = criteria\n",
    "        )\n",
    "        mapofcem.fit()\n",
    "        end = time.time()\n",
    "\n",
    "        results.append({\n",
    "            \"individual\" : i,\n",
    "            \"time\" : end - start,\n",
    "            \"n_solutions\" : len(mapofcem.solutions),\n",
    "            \"solutions\" : mapofcem.solutions,\n",
    "            \"cost\" : criteria.f(mapofcem.solutions[0]) if len(mapofcem.solutions) > 0 else np.inf\n",
    "        })\n",
    "\n",
    "    return results"
   ]
  },
  {
   "cell_type": "code",
   "execution_count": 30,
   "metadata": {},
   "outputs": [],
   "source": [
    "def get_dice_results(\n",
    "    dice_model,\n",
    "    dice_data,\n",
    "    individuals,\n",
    "    mutable_features,\n",
    "    outlier_detection,\n",
    "    criteria_type = \"Percentile\",\n",
    "    criteria = None,\n",
    "    percCalc = None,\n",
    "):\n",
    "    exp = dice_ml.Dice(dice_data, dice_model)\n",
    "    results = []\n",
    "    \n",
    "    for i in range(len(individuals)):\n",
    "        individual = individuals.iloc[[i]]\n",
    "        start = time.time()\n",
    "        if criteria_type == \"Percentile\":\n",
    "            criteria = PercentileCriterion(individual.iloc[0], percCalc)\n",
    "        \n",
    "        start = time.time()\n",
    "        dice_exp = exp.generate_counterfactuals(\n",
    "            individual,\n",
    "            total_CFs = 3,\n",
    "            desired_class = \"opposite\",\n",
    "        )\n",
    "        end = time.time()\n",
    "\n",
    "        # convert dice solutions to an adequated format\n",
    "        solutions = json.loads(dice_exp.to_json())[\"cfs_list\"][0]\n",
    "\n",
    "        results.append({\n",
    "            \"individual\" : i,\n",
    "            \"time\" : end - start,\n",
    "            \"n_solutions\" : len(solutions),\n",
    "            \"solutions\" : solutions,\n",
    "            \"cost\" : criteria.f(solutions[0]) if len(solutions) > 0 else np.inf\n",
    "        })\n",
    "    results = pd.DataFrame(results)\n",
    "    return results"
   ]
  },
  {
   "cell_type": "markdown",
   "metadata": {},
   "source": [
    "## German"
   ]
  },
  {
   "cell_type": "code",
   "execution_count": 4,
   "metadata": {},
   "outputs": [],
   "source": [
    "VAL_RATIO = 1/7\n",
    "TEST_RATIO = 0.3\n",
    "SEED = 0\n",
    "\n",
    "df = pd.read_csv(\"../data/german.csv\")\n",
    "X = df.drop(\"GoodCustomer\", axis=1)\n",
    "Y = df[\"GoodCustomer\"]\n",
    "\n",
    "X_train, X_test, Y_train, Y_test = train_test_split(X, Y, test_size=TEST_RATIO, random_state=SEED, shuffle=True)\n",
    "X_train, X_val, Y_train, Y_val = train_test_split(X_train, Y_train, test_size=VAL_RATIO, random_state=SEED, shuffle=True)\n",
    "\n",
    "model = joblib.load(\"../models/german/LGBMClassifier.pkl\")\n",
    "isolation_tree = joblib.load(\"../models/german/IsolationForest.pkl\")\n",
    "\n",
    "denied_individ = model.predict(X_test) == 0\n",
    "individuals = X_test.iloc[denied_individ].reset_index(drop = True)"
   ]
  },
  {
   "cell_type": "code",
   "execution_count": 5,
   "metadata": {},
   "outputs": [],
   "source": [
    "action_set = ActionSet(X = X_train)\n",
    "not_mutable_features = ['Age', 'JobClassIsSkilled', 'OwnsHouse', 'isMale', 'JobClassIsSkilled', 'Single', 'ForeignWorker', 'RentsHouse']\n",
    "mutable_features = [feat for feat in X_train.columns if feat not in not_mutable_features]\n",
    "continuous_features = ['Age', 'LoanDuration', 'LoanAmount', 'LoanRateAsPercentOfIncome','YearsAtCurrentHome']\n",
    "for feat in action_set:\n",
    "    if feat.name in not_mutable_features:\n",
    "        feat.mutable = False\n",
    "    if not feat.name in not_mutable_features:\n",
    "        feat.mutable = True\n",
    "\n",
    "    feat.step_direction = 0\n",
    "    feat.update_grid()"
   ]
  },
  {
   "cell_type": "code",
   "execution_count": 10,
   "metadata": {},
   "outputs": [],
   "source": [
    "dice_model = dice_ml.Model(\n",
    "    model = model,\n",
    "    backend = \"sklearn\",\n",
    "    model_type = \"classifier\"\n",
    ")\n",
    "X_train_extended = X_train.copy()\n",
    "X_train_extended[\"target\"] = Y_train\n",
    "dice_data = dice_ml.Data(\n",
    "    dataframe = X_train_extended,\n",
    "    continuous_features = X_train.columns.tolist(),#continuous_features,\n",
    "    outcome_name = \"target\",\n",
    ")\n"
   ]
  },
  {
   "cell_type": "markdown",
   "metadata": {},
   "source": [
    "## mapofcem"
   ]
  },
  {
   "cell_type": "code",
   "execution_count": 7,
   "metadata": {},
   "outputs": [],
   "source": [
    "percCalc = PercentileCalculator(action_set = action_set)\n",
    "model_shap = GeneralClassifier_Shap(model, X_train, Y_train, tree = True)"
   ]
  },
  {
   "cell_type": "code",
   "execution_count": null,
   "metadata": {},
   "outputs": [],
   "source": [
    "results_mapofcem = get_mapofcem_results(\n",
    "    action_set, \n",
    "    individuals, \n",
    "    model_shap, \n",
    "    isolation_tree, \n",
    "    criteria_type = \"Percentile\", \n",
    "    criteria = None, \n",
    "    percCalc = percCalc\n",
    ")"
   ]
  },
  {
   "cell_type": "markdown",
   "metadata": {},
   "source": [
    "## dice"
   ]
  },
  {
   "cell_type": "code",
   "execution_count": 31,
   "metadata": {},
   "outputs": [
    {
     "name": "stderr",
     "output_type": "stream",
     "text": [
      "  0%|          | 0/1 [00:00<?, ?it/s]"
     ]
    },
    {
     "name": "stderr",
     "output_type": "stream",
     "text": [
      "100%|██████████| 1/1 [00:00<00:00,  2.60it/s]\n",
      "100%|██████████| 1/1 [00:00<00:00,  6.13it/s]\n",
      "100%|██████████| 1/1 [00:00<00:00,  9.74it/s]\n",
      "100%|██████████| 1/1 [00:00<00:00,  8.24it/s]\n",
      "100%|██████████| 1/1 [00:00<00:00,  9.12it/s]\n",
      "100%|██████████| 1/1 [00:00<00:00,  9.25it/s]\n",
      "100%|██████████| 1/1 [00:00<00:00,  9.23it/s]\n",
      "100%|██████████| 1/1 [00:00<00:00,  9.37it/s]\n",
      "100%|██████████| 1/1 [00:00<00:00,  8.36it/s]\n",
      "100%|██████████| 1/1 [00:00<00:00,  8.70it/s]\n",
      "100%|██████████| 1/1 [00:00<00:00,  9.47it/s]\n",
      "100%|██████████| 1/1 [00:00<00:00, 10.77it/s]\n",
      "100%|██████████| 1/1 [00:00<00:00,  9.15it/s]\n",
      "100%|██████████| 1/1 [00:00<00:00,  8.44it/s]\n",
      "100%|██████████| 1/1 [00:00<00:00,  9.01it/s]\n",
      "100%|██████████| 1/1 [00:00<00:00,  5.22it/s]\n",
      "100%|██████████| 1/1 [00:00<00:00,  7.71it/s]\n",
      "100%|██████████| 1/1 [00:00<00:00,  6.28it/s]\n",
      "100%|██████████| 1/1 [00:00<00:00,  4.06it/s]\n",
      "100%|██████████| 1/1 [00:00<00:00,  6.77it/s]\n",
      "100%|██████████| 1/1 [00:00<00:00,  6.18it/s]\n",
      "100%|██████████| 1/1 [00:00<00:00,  6.54it/s]\n",
      "100%|██████████| 1/1 [00:00<00:00,  1.53it/s]\n",
      "100%|██████████| 1/1 [00:00<00:00,  8.18it/s]\n",
      "100%|██████████| 1/1 [00:00<00:00,  6.51it/s]\n",
      "100%|██████████| 1/1 [00:00<00:00,  8.39it/s]\n",
      "100%|██████████| 1/1 [00:00<00:00,  7.51it/s]\n",
      "100%|██████████| 1/1 [00:00<00:00,  7.44it/s]\n",
      "100%|██████████| 1/1 [00:00<00:00,  7.06it/s]\n",
      "100%|██████████| 1/1 [00:00<00:00,  6.56it/s]\n",
      "100%|██████████| 1/1 [00:00<00:00,  6.82it/s]\n",
      "100%|██████████| 1/1 [00:00<00:00,  8.57it/s]\n",
      "100%|██████████| 1/1 [00:00<00:00,  9.73it/s]\n",
      "100%|██████████| 1/1 [00:00<00:00,  8.11it/s]\n",
      "100%|██████████| 1/1 [00:00<00:00,  4.25it/s]\n",
      "100%|██████████| 1/1 [00:00<00:00,  6.60it/s]\n",
      "100%|██████████| 1/1 [00:00<00:00,  5.74it/s]\n",
      "100%|██████████| 1/1 [00:00<00:00,  6.96it/s]\n",
      "100%|██████████| 1/1 [00:00<00:00,  6.94it/s]\n",
      "100%|██████████| 1/1 [00:00<00:00,  6.48it/s]\n",
      "100%|██████████| 1/1 [00:00<00:00,  5.74it/s]\n",
      "100%|██████████| 1/1 [00:00<00:00,  3.75it/s]\n",
      "100%|██████████| 1/1 [00:00<00:00,  7.79it/s]\n",
      "100%|██████████| 1/1 [00:00<00:00,  8.51it/s]\n",
      "100%|██████████| 1/1 [00:00<00:00,  8.42it/s]\n",
      "100%|██████████| 1/1 [00:00<00:00,  9.03it/s]\n",
      "100%|██████████| 1/1 [00:00<00:00,  8.32it/s]\n",
      "100%|██████████| 1/1 [00:00<00:00,  3.65it/s]\n",
      "100%|██████████| 1/1 [00:00<00:00, 10.41it/s]\n",
      "100%|██████████| 1/1 [00:00<00:00,  1.91it/s]\n",
      "100%|██████████| 1/1 [00:00<00:00,  9.85it/s]\n",
      "100%|██████████| 1/1 [00:00<00:00, 10.07it/s]\n",
      "100%|██████████| 1/1 [00:00<00:00, 10.08it/s]\n",
      "100%|██████████| 1/1 [00:00<00:00, 11.25it/s]\n",
      "100%|██████████| 1/1 [00:00<00:00, 12.17it/s]\n",
      "100%|██████████| 1/1 [00:00<00:00, 10.91it/s]\n",
      "100%|██████████| 1/1 [00:00<00:00, 11.12it/s]\n",
      "100%|██████████| 1/1 [00:00<00:00, 11.91it/s]\n",
      "100%|██████████| 1/1 [00:00<00:00,  9.67it/s]\n",
      "100%|██████████| 1/1 [00:00<00:00, 10.31it/s]\n",
      "100%|██████████| 1/1 [00:00<00:00, 12.31it/s]\n",
      "100%|██████████| 1/1 [00:00<00:00, 11.18it/s]\n",
      "100%|██████████| 1/1 [00:00<00:00, 11.02it/s]\n",
      "100%|██████████| 1/1 [00:00<00:00,  7.69it/s]\n",
      "100%|██████████| 1/1 [00:00<00:00,  8.16it/s]\n",
      "100%|██████████| 1/1 [00:00<00:00,  7.29it/s]\n"
     ]
    }
   ],
   "source": [
    "results_dice = get_dice_results(\n",
    "    dice_model,\n",
    "    dice_data,\n",
    "    individuals,\n",
    "    mutable_features,\n",
    "    outlier_detection = isolation_tree,\n",
    "    criteria_type = \"Percentile\",\n",
    "    criteria = None,\n",
    "    percCalc = percCalc,\n",
    ")\n"
   ]
  },
  {
   "cell_type": "code",
   "execution_count": 34,
   "metadata": {},
   "outputs": [
    {
     "data": {
      "text/plain": [
       "(0.15655408122322775, 0.42598865329531416)"
      ]
     },
     "execution_count": 34,
     "metadata": {},
     "output_type": "execute_result"
    }
   ],
   "source": [
    "results_dice.time.mean(), results_dice.cost.mean()"
   ]
  }
 ],
 "metadata": {
  "kernelspec": {
   "display_name": "cfmining",
   "language": "python",
   "name": "python3"
  },
  "language_info": {
   "codemirror_mode": {
    "name": "ipython",
    "version": 3
   },
   "file_extension": ".py",
   "mimetype": "text/x-python",
   "name": "python",
   "nbconvert_exporter": "python",
   "pygments_lexer": "ipython3",
   "version": "3.10.13"
  }
 },
 "nbformat": 4,
 "nbformat_minor": 2
}
