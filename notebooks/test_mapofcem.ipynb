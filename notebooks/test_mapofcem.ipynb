{
 "cells": [
  {
   "cell_type": "code",
   "execution_count": 3,
   "metadata": {},
   "outputs": [
    {
     "name": "stderr",
     "output_type": "stream",
     "text": [
      "IProgress not found. Please update jupyter and ipywidgets. See https://ipywidgets.readthedocs.io/en/stable/user_install.html\n"
     ]
    }
   ],
   "source": [
    "import numpy as np\n",
    "import pandas as pd\n",
    "from sklearn.model_selection import train_test_split\n",
    "import joblib\n",
    "import sys\n",
    "sys.path.append(\"../\")\n",
    "\n",
    "from cfmining.algorithms import MAPOFCEM\n",
    "from cfmining.criteria import PercentileCalculator, PercentileCriterion, NonDomCriterion\n",
    "from cfmining.predictors import GeneralClassifier_Shap\n",
    "from cfmining.action_set import ActionSet\n",
    "\n",
    "%load_ext autoreload\n",
    "%autoreload 2"
   ]
  },
  {
   "cell_type": "code",
   "execution_count": 4,
   "metadata": {},
   "outputs": [],
   "source": [
    "VAL_RATIO = 1/7\n",
    "TEST_RATIO = 0.3\n",
    "SEED = 0\n",
    "\n",
    "df = pd.read_csv(\"../data/german.csv\")\n",
    "X = df.drop(\"GoodCustomer\", axis=1)\n",
    "Y = df[\"GoodCustomer\"]\n",
    "\n",
    "X_train, X_test, Y_train, Y_test = train_test_split(X, Y, test_size=TEST_RATIO, random_state=SEED, shuffle=True)\n",
    "X_train, X_val, Y_train, Y_val = train_test_split(X_train, Y_train, test_size=VAL_RATIO, random_state=SEED, shuffle=True)\n",
    "\n",
    "model = joblib.load(\"../models/german/LGBMClassifier.pkl\")\n",
    "isolation_tree = joblib.load(\"../models/german/IsolationForest.pkl\")"
   ]
  },
  {
   "cell_type": "code",
   "execution_count": 5,
   "metadata": {},
   "outputs": [],
   "source": [
    "action_set = ActionSet(X = X_train)\n",
    "for feat in action_set:\n",
    "    if feat.name in ['Age', 'JobClassIsSkilled', 'OwnsHouse', 'isMale', 'JobClassIsSkilled']:\n",
    "        feat.mutable = False\n",
    "    if feat.name in ['Single', 'ForeignWorker', 'RentsHouse']:\n",
    "        feat.mutable = False\n",
    "    if feat.name in ['LoanDuration', 'LoanAmount', 'LoanRateAsPercentOfIncome', 'NumberOfOtherLoansAtBank', 'MissedPayments', 'CriticalAccountOrLoansElsewhere', 'OtherLoansAtBank', 'Unemployed', 'YearsAtCurrentJob_lt_1']:\n",
    "        feat.mutable = True\n",
    "    if feat.name in ['YearsAtCurrentHome', 'NumberOfLiableIndividuals', 'HasTelephone', 'CheckingAccountBalance_geq_0','CheckingAccountBalance_geq_200', 'SavingsAccountBalance_geq_100', 'SavingsAccountBalance_geq_500', 'NoCurrentLoan', 'HasCoapplicant', 'HasGuarantor', 'YearsAtCurrentJob_geq_4']:\n",
    "        feat.mutable = True\n",
    "    \n",
    "    if feat.name == \"LoanDuration\":\n",
    "        feat.step_type = \"absolute\"\n",
    "        feat.step_size = 6\n",
    "    \n",
    "    #if feat.name == \"LoanAmount\":\n",
    "    #    feat.step_size = 0.1\n",
    "        \n",
    "    if feat.name == \"LoanAmount\":\n",
    "        feat.mutable = False\n",
    "\n",
    "    feat.step_direction = 0\n",
    "    feat.update_grid()"
   ]
  },
  {
   "cell_type": "code",
   "execution_count": 6,
   "metadata": {},
   "outputs": [],
   "source": [
    "percCalc = PercentileCalculator(action_set = action_set)"
   ]
  },
  {
   "cell_type": "code",
   "execution_count": 51,
   "metadata": {},
   "outputs": [
    {
     "name": "stdout",
     "output_type": "stream",
     "text": [
      "entrou aqui\n"
     ]
    }
   ],
   "source": [
    "model_shap = GeneralClassifier_Shap(model, X_train, Y_train, tree = True)"
   ]
  },
  {
   "cell_type": "code",
   "execution_count": 8,
   "metadata": {},
   "outputs": [],
   "source": [
    "denied_individ = model.predict(X_test) == 0\n",
    "individual = X_test.iloc[denied_individ]"
   ]
  },
  {
   "cell_type": "code",
   "execution_count": 9,
   "metadata": {},
   "outputs": [],
   "source": [
    "direc = [0, 0, 1, -1, -1, -1, 1, -1, 0, 1, 1, 1, 1, 1, -1, -1, -1, -1, 1, 1, 1, -1, -1, 1, 1, 1, 0]\n",
    "criteria = NonDomCriterion(direc)"
   ]
  },
  {
   "cell_type": "code",
   "execution_count": 19,
   "metadata": {},
   "outputs": [],
   "source": [
    "def get_solutions_mapocam2(individual):\n",
    "    #percCalc = PercentileCalculator(action_set=action_set)\n",
    "    #criteria = PercentileCriterion(individual, percCalc)\n",
    "    mapocam = MAPOCAM2(action_set, individual.values, model_shap, max_changes=3, compare = criteria, clean_suboptimal=False)#, recursive=True)\n",
    "    mapocam.fit()\n",
    "    return mapocam.solutions"
   ]
  },
  {
   "cell_type": "code",
   "execution_count": 59,
   "metadata": {},
   "outputs": [
    {
     "data": {
      "text/plain": [
       "<cfmining.algorithms.MAPOFCEM at 0x7f9218b3c6a0>"
      ]
     },
     "execution_count": 59,
     "metadata": {},
     "output_type": "execute_result"
    }
   ],
   "source": [
    "#percCalc = PercentileCalculator(action_set=action_set)\n",
    "#criteria = PercentileCriterion(individual.iloc[0], percCalc)\n",
    "mapocam = MAPOFCEM(action_set, individual.iloc[0].values, model_shap, max_changes=3, compare = criteria) #, recursive=True)\n",
    "mapocam.fit()"
   ]
  },
  {
   "cell_type": "code",
   "execution_count": 60,
   "metadata": {},
   "outputs": [
    {
     "data": {
      "text/plain": [
       "[array([   0,    1,   30,   47, 3959,    4,    3,    1,    1,    1,    0,\n",
       "           0,    0,    0,    1,    0,    1,    0,    0,    0,    1,    0,\n",
       "           1,    0,    0,    1,    1])]"
      ]
     },
     "execution_count": 60,
     "metadata": {},
     "output_type": "execute_result"
    }
   ],
   "source": [
    "mapocam.solutions"
   ]
  },
  {
   "cell_type": "code",
   "execution_count": 54,
   "metadata": {},
   "outputs": [
    {
     "data": {
      "text/plain": [
       "array([[0.45981401, 0.54018599]])"
      ]
     },
     "execution_count": 54,
     "metadata": {},
     "output_type": "execute_result"
    }
   ],
   "source": [
    "model.predict_proba(mapocam.solutions[0].reshape(1, -1))"
   ]
  },
  {
   "cell_type": "code",
   "execution_count": 49,
   "metadata": {},
   "outputs": [
    {
     "data": {
      "text/plain": [
       "0"
      ]
     },
     "execution_count": 49,
     "metadata": {},
     "output_type": "execute_result"
    }
   ],
   "source": [
    "mapocam.outlier_detection_counter"
   ]
  }
 ],
 "metadata": {
  "kernelspec": {
   "display_name": "cfmining",
   "language": "python",
   "name": "python3"
  },
  "language_info": {
   "codemirror_mode": {
    "name": "ipython",
    "version": 3
   },
   "file_extension": ".py",
   "mimetype": "text/x-python",
   "name": "python",
   "nbconvert_exporter": "python",
   "pygments_lexer": "ipython3",
   "version": "3.10.13"
  }
 },
 "nbformat": 4,
 "nbformat_minor": 2
}
