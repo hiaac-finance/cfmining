{
 "cells": [
  {
   "cell_type": "code",
   "execution_count": 43,
   "metadata": {},
   "outputs": [
    {
     "name": "stdout",
     "output_type": "stream",
     "text": [
      "The autoreload extension is already loaded. To reload it, use:\n",
      "  %reload_ext autoreload\n"
     ]
    }
   ],
   "source": [
    "import json\n",
    "import numpy as np\n",
    "import pandas as pd\n",
    "from sklearn.model_selection import train_test_split\n",
    "from tqdm import tqdm\n",
    "import joblib\n",
    "import time\n",
    "import sys\n",
    "sys.path.append(\"../\")\n",
    "\n",
    "from cfmining.algorithms import MAPOFCEM\n",
    "from cfmining.criteria import PercentileCalculator, PercentileCriterion, PercentileChangesCriterion, NonDomCriterion\n",
    "from cfmining.predictors import GeneralClassifier_Shap\n",
    "from cfmining.action_set import ActionSet\n",
    "\n",
    "import dice_ml\n",
    "\n",
    "\n",
    "%load_ext autoreload\n",
    "%autoreload 2"
   ]
  },
  {
   "cell_type": "code",
   "execution_count": 46,
   "metadata": {},
   "outputs": [],
   "source": [
    "def get_mapofcem_results(action_set, individuals, model, outlier_detection, criteria_type = \"Percentile\", criteria = None, percCalc = None):\n",
    "    results = []\n",
    "\n",
    "    for i in tqdm(range(len(individuals))):\n",
    "        individual = individuals.iloc[i]\n",
    "        start = time.time()\n",
    "        if criteria_type == \"Percentile\":\n",
    "            criteria = PercentileChangesCriterion(individual, percCalc)\n",
    "        \n",
    "        start = time.time()\n",
    "        mapofcem = MAPOFCEM(\n",
    "            action_set, \n",
    "            individual.values, \n",
    "            model, \n",
    "            outlier_detection=outlier_detection,\n",
    "            estimate_outlier=True,\n",
    "            total_CFs = 3,\n",
    "            max_changes= 3, \n",
    "            compare = criteria,\n",
    "        )\n",
    "        mapofcem.fit()\n",
    "        end = time.time()\n",
    "\n",
    "        solutions = mapofcem.solutions\n",
    "        if len(solutions) > 0:\n",
    "            costs = [criteria.f(solution) for solution in solutions]\n",
    "        else:\n",
    "            costs = [np.inf]\n",
    "\n",
    "        results.append({\n",
    "            \"individual\" : individual.values,\n",
    "            \"prob\" : model.predict_proba(individual.values),\n",
    "            \"time\" : end - start,\n",
    "            \"n_solutions\" : len(mapofcem.solutions),\n",
    "            \"solutions\" : mapofcem.solutions,\n",
    "            \"costs\" : costs,\n",
    "            \"min_cost\" : np.min(costs),\n",
    "            \"mean_cost\" : np.mean(costs),\n",
    "        })\n",
    "\n",
    "    results = pd.DataFrame(results)\n",
    "    return results"
   ]
  },
  {
   "cell_type": "code",
   "execution_count": 76,
   "metadata": {},
   "outputs": [],
   "source": [
    "def get_dice_results(\n",
    "    dice_model,\n",
    "    dice_data,\n",
    "    individuals,\n",
    "    mutable_features,\n",
    "    outlier_detection,\n",
    "    criteria_type = \"Percentile\",\n",
    "    criteria = None,\n",
    "    percCalc = None,\n",
    "):\n",
    "    exp = dice_ml.Dice(dice_data, dice_model)\n",
    "    results = []\n",
    "    \n",
    "    for i in tqdm(range(len(individuals))):\n",
    "        individual = individuals.iloc[[i]]\n",
    "        start = time.time()\n",
    "        if criteria_type == \"Percentile\":\n",
    "            criteria = PercentileChangesCriterion(individual.iloc[0], percCalc)\n",
    "        \n",
    "        start = time.time()\n",
    "        dice_exp = exp.generate_counterfactuals(\n",
    "            individual,\n",
    "            total_CFs = 3,\n",
    "            desired_class = \"opposite\",\n",
    "        )\n",
    "        end = time.time()\n",
    "\n",
    "        # convert dice solutions to an adequated format\n",
    "        solutions = json.loads(dice_exp.to_json())[\"cfs_list\"][0]\n",
    "\n",
    "        # remove last element of all solutions\n",
    "        solutions = [solution[:-1] for solution in solutions]\n",
    "\n",
    "        if len(solutions) > 0:\n",
    "            costs = [criteria.f(solution) for solution in solutions]\n",
    "        else:\n",
    "            costs = [np.inf]\n",
    "\n",
    "        results.append({\n",
    "            \"individual\" : individual.values,\n",
    "            \"prob\" : dice_model.model.predict_proba(individual.values)[0, 1],\n",
    "            \"time\" : end - start,\n",
    "            \"n_solutions\" : len(solutions),\n",
    "            \"solutions\" : solutions,\n",
    "            \"cost\" : costs,\n",
    "            \"min_cost\" : np.min(costs),\n",
    "            \"mean_cost\" : np.mean(costs),\n",
    "        })\n",
    "    results = pd.DataFrame(results)\n",
    "    return results"
   ]
  },
  {
   "cell_type": "markdown",
   "metadata": {},
   "source": [
    "## German"
   ]
  },
  {
   "cell_type": "code",
   "execution_count": 48,
   "metadata": {},
   "outputs": [],
   "source": [
    "VAL_RATIO = 1/7\n",
    "TEST_RATIO = 0.3\n",
    "SEED = 0\n",
    "\n",
    "df = pd.read_csv(\"../data/german.csv\")\n",
    "X = df.drop(\"GoodCustomer\", axis=1)\n",
    "Y = df[\"GoodCustomer\"]\n",
    "\n",
    "X_train, X_test, Y_train, Y_test = train_test_split(X, Y, test_size=TEST_RATIO, random_state=SEED, shuffle=True)\n",
    "X_train, X_val, Y_train, Y_val = train_test_split(X_train, Y_train, test_size=VAL_RATIO, random_state=SEED, shuffle=True)\n",
    "\n",
    "model = joblib.load(\"../models/german/LGBMClassifier.pkl\")\n",
    "isolation_tree = joblib.load(\"../models/german/IsolationForest.pkl\")\n",
    "\n",
    "denied_individ = model.predict(X_test) == 0\n",
    "individuals = X_test.iloc[denied_individ].reset_index(drop = True)"
   ]
  },
  {
   "cell_type": "code",
   "execution_count": 49,
   "metadata": {},
   "outputs": [],
   "source": [
    "action_set = ActionSet(X = X_train)\n",
    "not_mutable_features = ['Age', 'JobClassIsSkilled', 'OwnsHouse', 'isMale', 'JobClassIsSkilled', 'Single', 'ForeignWorker', 'RentsHouse']\n",
    "mutable_features = [feat for feat in X_train.columns if feat not in not_mutable_features]\n",
    "continuous_features = ['Age', 'LoanDuration', 'LoanAmount', 'LoanRateAsPercentOfIncome','YearsAtCurrentHome']\n",
    "for feat in action_set:\n",
    "    if feat.name in not_mutable_features:\n",
    "        feat.mutable = False\n",
    "    if not feat.name in not_mutable_features:\n",
    "        feat.mutable = True\n",
    "\n",
    "    feat.step_direction = 0\n",
    "    feat.update_grid()"
   ]
  },
  {
   "cell_type": "markdown",
   "metadata": {},
   "source": [
    "## mapofcem"
   ]
  },
  {
   "cell_type": "code",
   "execution_count": 50,
   "metadata": {},
   "outputs": [],
   "source": [
    "percCalc = PercentileCalculator(action_set = action_set)\n",
    "model_shap = GeneralClassifier_Shap(model, X_train, ['ForeignWorker', 'Single'], tree = True)"
   ]
  },
  {
   "cell_type": "code",
   "execution_count": 51,
   "metadata": {},
   "outputs": [
    {
     "name": "stderr",
     "output_type": "stream",
     "text": [
      "  0%|          | 0/66 [00:00<?, ?it/s]"
     ]
    },
    {
     "name": "stderr",
     "output_type": "stream",
     "text": [
      "  5%|▍         | 3/66 [00:04<01:26,  1.38s/it]"
     ]
    },
    {
     "name": "stdout",
     "output_type": "stream",
     "text": [
      "Stoped due to maximum CFs\n"
     ]
    },
    {
     "name": "stderr",
     "output_type": "stream",
     "text": [
      "  9%|▉         | 6/66 [03:38<50:30, 50.51s/it]  "
     ]
    },
    {
     "name": "stdout",
     "output_type": "stream",
     "text": [
      "Stoped due to maximum CFs\n"
     ]
    },
    {
     "name": "stderr",
     "output_type": "stream",
     "text": [
      " 11%|█         | 7/66 [04:03<41:33, 42.26s/it]"
     ]
    },
    {
     "name": "stdout",
     "output_type": "stream",
     "text": [
      "Stoped due to maximum CFs\n"
     ]
    },
    {
     "name": "stderr",
     "output_type": "stream",
     "text": [
      " 29%|██▉       | 19/66 [08:18<14:56, 19.07s/it]"
     ]
    },
    {
     "name": "stdout",
     "output_type": "stream",
     "text": [
      "Stoped due to maximum CFs\n"
     ]
    },
    {
     "name": "stderr",
     "output_type": "stream",
     "text": [
      " 30%|███       | 20/66 [08:48<17:06, 22.33s/it]"
     ]
    },
    {
     "name": "stdout",
     "output_type": "stream",
     "text": [
      "Stoped due to maximum CFs\n"
     ]
    },
    {
     "name": "stderr",
     "output_type": "stream",
     "text": [
      " 32%|███▏      | 21/66 [08:50<12:06, 16.14s/it]"
     ]
    },
    {
     "name": "stdout",
     "output_type": "stream",
     "text": [
      "Stoped due to maximum CFs\n"
     ]
    },
    {
     "name": "stderr",
     "output_type": "stream",
     "text": [
      " 44%|████▍     | 29/66 [15:19<35:39, 57.83s/it]   "
     ]
    },
    {
     "name": "stdout",
     "output_type": "stream",
     "text": [
      "Stoped due to maximum CFs\n"
     ]
    },
    {
     "name": "stderr",
     "output_type": "stream",
     "text": [
      " 48%|████▊     | 32/66 [15:21<11:26, 20.19s/it]"
     ]
    },
    {
     "name": "stdout",
     "output_type": "stream",
     "text": [
      "Stoped due to maximum CFs\n"
     ]
    },
    {
     "name": "stderr",
     "output_type": "stream",
     "text": [
      " 53%|█████▎    | 35/66 [16:05<08:04, 15.61s/it]"
     ]
    },
    {
     "name": "stdout",
     "output_type": "stream",
     "text": [
      "Stoped due to maximum CFs\n"
     ]
    },
    {
     "name": "stderr",
     "output_type": "stream",
     "text": [
      " 56%|█████▌    | 37/66 [16:07<03:58,  8.24s/it]"
     ]
    },
    {
     "name": "stdout",
     "output_type": "stream",
     "text": [
      "Stoped due to maximum CFs\n"
     ]
    },
    {
     "name": "stderr",
     "output_type": "stream",
     "text": [
      " 65%|██████▌   | 43/66 [17:18<06:26, 16.81s/it]"
     ]
    },
    {
     "name": "stdout",
     "output_type": "stream",
     "text": [
      "Stoped due to maximum CFs\n"
     ]
    },
    {
     "name": "stderr",
     "output_type": "stream",
     "text": [
      " 70%|██████▉   | 46/66 [17:30<02:33,  7.69s/it]"
     ]
    },
    {
     "name": "stdout",
     "output_type": "stream",
     "text": [
      "Stoped due to maximum CFs\n"
     ]
    },
    {
     "name": "stderr",
     "output_type": "stream",
     "text": [
      " 71%|███████   | 47/66 [19:06<10:50, 34.23s/it]"
     ]
    },
    {
     "name": "stdout",
     "output_type": "stream",
     "text": [
      "Stoped due to maximum CFs\n"
     ]
    },
    {
     "name": "stderr",
     "output_type": "stream",
     "text": [
      " 79%|███████▉  | 52/66 [19:29<02:01,  8.68s/it]"
     ]
    },
    {
     "name": "stdout",
     "output_type": "stream",
     "text": [
      "Stoped due to maximum CFs\n"
     ]
    },
    {
     "name": "stderr",
     "output_type": "stream",
     "text": [
      " 86%|████████▋ | 57/66 [22:07<02:07, 14.17s/it]"
     ]
    },
    {
     "name": "stdout",
     "output_type": "stream",
     "text": [
      "Stoped due to maximum CFs\n"
     ]
    },
    {
     "name": "stderr",
     "output_type": "stream",
     "text": [
      " 92%|█████████▏| 61/66 [25:49<04:06, 49.37s/it]"
     ]
    },
    {
     "name": "stdout",
     "output_type": "stream",
     "text": [
      "Stoped due to maximum CFs\n"
     ]
    },
    {
     "name": "stderr",
     "output_type": "stream",
     "text": [
      "100%|██████████| 66/66 [25:54<00:00, 23.55s/it]\n"
     ]
    }
   ],
   "source": [
    "results_mapofcem = get_mapofcem_results(\n",
    "    action_set, \n",
    "    individuals, \n",
    "    model_shap, \n",
    "    isolation_tree, \n",
    "    criteria_type = \"Percentile\", \n",
    "    criteria = None, \n",
    "    percCalc = percCalc\n",
    ")"
   ]
  },
  {
   "cell_type": "code",
   "execution_count": 67,
   "metadata": {},
   "outputs": [
    {
     "data": {
      "text/plain": [
       "prob            0.319699\n",
       "time           23.548833\n",
       "n_solutions     1.666667\n",
       "min_cost        0.052203\n",
       "mean_cost       0.758347\n",
       "dtype: float64"
      ]
     },
     "execution_count": 67,
     "metadata": {},
     "output_type": "execute_result"
    }
   ],
   "source": [
    "results_mapofcem[[\"prob\", \"time\", \"n_solutions\", \"min_cost\", \"mean_cost\"]].mean()"
   ]
  },
  {
   "cell_type": "code",
   "execution_count": 22,
   "metadata": {},
   "outputs": [
    {
     "data": {
      "text/plain": [
       "((       time  n_solutions      cost\n",
       "  0  0.957373          2.4  0.352023,),\n",
       "        time  n_solutions      cost\n",
       " 0  0.743886     0.894427  0.368422)"
      ]
     },
     "execution_count": 22,
     "metadata": {},
     "output_type": "execute_result"
    }
   ],
   "source": [
    "r_ = results_mapofcem[[\"time\", \"n_solutions\", \"cost\"]] \n",
    "r_mean = r_.mean().to_frame().T,\n",
    "r_std = r_.std().to_frame().T\n",
    "r_mean, r_std"
   ]
  },
  {
   "cell_type": "markdown",
   "metadata": {},
   "source": [
    "## dice"
   ]
  },
  {
   "cell_type": "code",
   "execution_count": 54,
   "metadata": {},
   "outputs": [],
   "source": [
    "dice_model = dice_ml.Model(\n",
    "    model = model,\n",
    "    backend = \"sklearn\",\n",
    "    model_type = \"classifier\"\n",
    ")\n",
    "X_train_extended = X_train.copy()\n",
    "X_train_extended[\"target\"] = Y_train\n",
    "dice_data = dice_ml.Data(\n",
    "    dataframe = X_train_extended,\n",
    "    continuous_features = X_train.columns.tolist(),#continuous_features,\n",
    "    outcome_name = \"target\",\n",
    ")\n"
   ]
  },
  {
   "cell_type": "code",
   "execution_count": 77,
   "metadata": {},
   "outputs": [
    {
     "name": "stderr",
     "output_type": "stream",
     "text": [
      "  0%|          | 0/66 [00:00<?, ?it/s]"
     ]
    },
    {
     "name": "stderr",
     "output_type": "stream",
     "text": [
      "100%|██████████| 1/1 [00:00<00:00,  9.64it/s]\n",
      "100%|██████████| 1/1 [00:00<00:00, 10.92it/s]]\n",
      "100%|██████████| 1/1 [00:00<00:00, 10.76it/s]]\n",
      "100%|██████████| 1/1 [00:00<00:00, 10.55it/s]]\n",
      "100%|██████████| 1/1 [00:00<00:00, 11.65it/s]]\n",
      "100%|██████████| 1/1 [00:00<00:00, 12.33it/s]\n",
      "100%|██████████| 1/1 [00:00<00:00,  9.75it/s]]\n",
      "100%|██████████| 1/1 [00:00<00:00, 10.52it/s]]\n",
      "100%|██████████| 1/1 [00:00<00:00,  9.05it/s]]\n",
      "100%|██████████| 1/1 [00:00<00:00, 10.40it/s]]\n",
      "100%|██████████| 1/1 [00:00<00:00,  4.80it/s]s]\n",
      "100%|██████████| 1/1 [00:00<00:00, 10.98it/s]s]\n",
      "100%|██████████| 1/1 [00:00<00:00, 12.11it/s]s]\n",
      "100%|██████████| 1/1 [00:00<00:00, 13.64it/s]\n",
      "100%|██████████| 1/1 [00:00<00:00, 13.51it/s]s]\n",
      "100%|██████████| 1/1 [00:00<00:00, 14.02it/s]\n",
      "100%|██████████| 1/1 [00:00<00:00, 10.84it/s]s]\n",
      "100%|██████████| 1/1 [00:00<00:00, 12.73it/s]s]\n",
      "100%|██████████| 1/1 [00:00<00:00, 13.36it/s]\n",
      "100%|██████████| 1/1 [00:00<00:00, 12.40it/s]s]\n",
      "100%|██████████| 1/1 [00:00<00:00, 13.36it/s]\n",
      "100%|██████████| 1/1 [00:00<00:00, 13.46it/s]s]\n",
      "100%|██████████| 1/1 [00:00<00:00,  3.40it/s]\n",
      "100%|██████████| 1/1 [00:00<00:00, 12.42it/s]s]\n",
      "100%|██████████| 1/1 [00:00<00:00, 11.36it/s]\n",
      "100%|██████████| 1/1 [00:00<00:00, 11.24it/s]s]\n",
      "100%|██████████| 1/1 [00:00<00:00, 12.42it/s]s]\n",
      "100%|██████████| 1/1 [00:00<00:00, 11.38it/s]\n",
      "100%|██████████| 1/1 [00:00<00:00, 12.39it/s]s]\n",
      "100%|██████████| 1/1 [00:00<00:00, 11.61it/s]\n",
      "100%|██████████| 1/1 [00:00<00:00, 10.26it/s]s]\n",
      "100%|██████████| 1/1 [00:00<00:00, 10.25it/s]\n",
      "100%|██████████| 1/1 [00:00<00:00, 11.84it/s]s]\n",
      "100%|██████████| 1/1 [00:00<00:00, 12.96it/s]\n",
      "100%|██████████| 1/1 [00:00<00:00, 12.87it/s]s]\n",
      "100%|██████████| 1/1 [00:00<00:00, 13.55it/s]\n",
      "100%|██████████| 1/1 [00:00<00:00, 12.83it/s]s]\n",
      "100%|██████████| 1/1 [00:00<00:00,  1.47it/s]\n",
      "100%|██████████| 1/1 [00:00<00:00, 11.19it/s]s]\n",
      "100%|██████████| 1/1 [00:00<00:00, 12.60it/s]s]\n",
      "100%|██████████| 1/1 [00:00<00:00, 12.74it/s]\n",
      "100%|██████████| 1/1 [00:00<00:00, 13.31it/s]s]\n",
      "100%|██████████| 1/1 [00:00<00:00, 12.37it/s]\n",
      "100%|██████████| 1/1 [00:00<00:00, 11.10it/s]s]\n",
      "100%|██████████| 1/1 [00:00<00:00, 12.01it/s]s]\n",
      "100%|██████████| 1/1 [00:00<00:00, 12.51it/s]\n",
      "100%|██████████| 1/1 [00:00<00:00,  9.57it/s]s]\n",
      "100%|██████████| 1/1 [00:00<00:00,  8.47it/s]\n",
      "100%|██████████| 1/1 [00:00<00:00, 11.99it/s]s]\n",
      "100%|██████████| 1/1 [00:00<00:00, 12.15it/s]\n",
      "100%|██████████| 1/1 [00:00<00:00, 11.88it/s]s]\n",
      "100%|██████████| 1/1 [00:00<00:00, 11.77it/s]\n",
      "100%|██████████| 1/1 [00:00<00:00, 12.30it/s]s]\n",
      "100%|██████████| 1/1 [00:00<00:00, 11.19it/s]\n",
      "100%|██████████| 1/1 [00:00<00:00, 11.90it/s]s]\n",
      "100%|██████████| 1/1 [00:00<00:00, 11.52it/s]\n",
      "100%|██████████| 1/1 [00:00<00:00, 13.67it/s]s]\n",
      "100%|██████████| 1/1 [00:00<00:00, 12.69it/s]\n",
      "100%|██████████| 1/1 [00:00<00:00,  7.27it/s]s]\n",
      "100%|██████████| 1/1 [00:00<00:00, 10.32it/s]\n",
      "100%|██████████| 1/1 [00:00<00:00, 12.04it/s]s]\n",
      "100%|██████████| 1/1 [00:00<00:00, 12.41it/s]\n",
      "100%|██████████| 1/1 [00:00<00:00, 10.55it/s]s]\n",
      "100%|██████████| 1/1 [00:00<00:00,  8.95it/s]\n",
      "100%|██████████| 1/1 [00:00<00:00,  6.39it/s]s]\n",
      "100%|██████████| 1/1 [00:00<00:00, 10.12it/s]s]\n",
      "100%|██████████| 66/66 [00:07<00:00,  8.78it/s]\n"
     ]
    }
   ],
   "source": [
    "results_dice = get_dice_results(\n",
    "    dice_model,\n",
    "    dice_data,\n",
    "    individuals,\n",
    "    mutable_features,\n",
    "    outlier_detection = isolation_tree,\n",
    "    criteria_type = \"Percentile\",\n",
    "    criteria = None,\n",
    "    percCalc = percCalc,\n",
    ")\n"
   ]
  },
  {
   "cell_type": "code",
   "execution_count": 78,
   "metadata": {},
   "outputs": [
    {
     "data": {
      "text/plain": [
       "prob           0.319699\n",
       "time           0.108277\n",
       "n_solutions    3.000000\n",
       "min_cost       0.265085\n",
       "mean_cost      1.127524\n",
       "dtype: float64"
      ]
     },
     "execution_count": 78,
     "metadata": {},
     "output_type": "execute_result"
    }
   ],
   "source": [
    "results_dice[[\"prob\", \"time\", \"n_solutions\", \"min_cost\", \"mean_cost\"]].mean()"
   ]
  },
  {
   "cell_type": "code",
   "execution_count": 51,
   "metadata": {},
   "outputs": [
    {
     "data": {
      "text/plain": [
       "((       time  n_solutions      cost\n",
       "  0  0.108025          3.0  0.430318,),\n",
       "        time  n_solutions      cost\n",
       " 0  0.070547          0.0  0.300087)"
      ]
     },
     "execution_count": 51,
     "metadata": {},
     "output_type": "execute_result"
    }
   ],
   "source": [
    "r_ = results_dice[[\"time\", \"n_solutions\", \"cost\"]] \n",
    "r_mean = r_.mean().to_frame().T,\n",
    "r_std = r_.std().to_frame().T\n",
    "r_mean, r_std"
   ]
  }
 ],
 "metadata": {
  "kernelspec": {
   "display_name": "cfmining",
   "language": "python",
   "name": "python3"
  },
  "language_info": {
   "codemirror_mode": {
    "name": "ipython",
    "version": 3
   },
   "file_extension": ".py",
   "mimetype": "text/x-python",
   "name": "python",
   "nbconvert_exporter": "python",
   "pygments_lexer": "ipython3",
   "version": "3.10.13"
  }
 },
 "nbformat": 4,
 "nbformat_minor": 2
}
