{
 "cells": [
  {
   "cell_type": "code",
   "execution_count": 1,
   "metadata": {},
   "outputs": [],
   "source": [
    "import json\n",
    "import os\n",
    "import copy\n",
    "import numpy as np\n",
    "import pandas as pd\n",
    "from tqdm import tqdm\n",
    "import time\n",
    "import sys\n",
    "sys.path.append(\"../\")\n",
    "\n",
    "from cfmining.algorithms import MAPOFCEM, BruteForce, MAPOCAM\n",
    "from cfmining.criteria import PercentileCalculator, PercentileCriterion, PercentileChangesCriterion, NonDomCriterion\n",
    "from cfmining.predictors import GeneralClassifier_Shap, GeneralClassifier\n",
    "from cfmining.action_set import ActionSet\n",
    "from cfmining.utils import get_data_model\n",
    "\n",
    "import dice_ml\n",
    "from nice import NICE\n",
    "\n",
    "\n",
    "%load_ext autoreload\n",
    "%autoreload 2"
   ]
  },
  {
   "cell_type": "code",
   "execution_count": 2,
   "metadata": {},
   "outputs": [],
   "source": [
    "SEED = 0"
   ]
  },
  {
   "cell_type": "markdown",
   "metadata": {},
   "source": [
    "## Helper"
   ]
  },
  {
   "cell_type": "code",
   "execution_count": 3,
   "metadata": {},
   "outputs": [],
   "source": [
    "class DiCE_wrapper:\n",
    "    def __init__(self, dice_data, dice_model, total_CFs, mutable_features, sparsity_weight = 0.2):\n",
    "        self.total_CFs = total_CFs\n",
    "        self.sparsity_weight = sparsity_weight\n",
    "        self.mutable_features = mutable_features\n",
    "        self.exp = dice_ml.Dice(dice_data, dice_model)\n",
    "\n",
    "\n",
    "    def fit(self, individual):\n",
    "        dice_exp = self.exp.generate_counterfactuals(\n",
    "            individual,\n",
    "            total_CFs = self.total_CFs,\n",
    "            desired_class = \"opposite\",\n",
    "            sparsity_weight = self.sparsity_weight,\n",
    "            features_to_vary= self.mutable_features,\n",
    "        )\n",
    "        solutions  = json.loads(dice_exp.to_json())[\"cfs_list\"][0]\n",
    "        self.solutions = [solution[:-1] for solution in solutions]\n",
    "        return self\n",
    "\n",
    "\n",
    "def get_dice_results(\n",
    "    method,\n",
    "    model,\n",
    "    individuals,\n",
    "    output_file = None,\n",
    "):\n",
    "    results = []\n",
    "    \n",
    "    for i in tqdm(range(len(individuals))):\n",
    "        individual = individuals.iloc[[i]]\n",
    "        model.clear_cache()\n",
    "        start = time.time()\n",
    "        method.fit(individual)\n",
    "        end = time.time()\n",
    "\n",
    "        results.append({\n",
    "            \"individual\" : individual.values.tolist()[0],\n",
    "            \"prob\" : model.predict_proba(individual.values[0]),\n",
    "            \"time\" : end - start,\n",
    "            \"n_solutions\" : len(method.solutions),\n",
    "            \"solutions\" : method.solutions,\n",
    "        })\n",
    "    results = pd.DataFrame(results)\n",
    "    if output_file is not None:\n",
    "        results.to_csv(output_file, index=False)\n",
    "    else:\n",
    "        return results"
   ]
  },
  {
   "cell_type": "code",
   "execution_count": 4,
   "metadata": {},
   "outputs": [],
   "source": [
    "def get_nice_results(\n",
    "    method,\n",
    "    model,\n",
    "    individuals,\n",
    "    output_file=None,\n",
    "   \n",
    "):\n",
    "    \n",
    "\n",
    "    results = []\n",
    "\n",
    "    for i in tqdm(range(len(individuals))):\n",
    "        individual = individuals.iloc[[i]]\n",
    "        start = time.time()\n",
    "\n",
    "        # Generate counterfactuals using NICE\n",
    "        cf = method.explain(individual.values).tolist()\n",
    "\n",
    "        end = time.time()\n",
    "\n",
    "        results.append({\n",
    "            \"individual\": individual.values.tolist()[0],\n",
    "            \"prob\": model.predict_proba(individual.values[0]),\n",
    "            \"time\": end - start,\n",
    "            \"n_solutions\": len(cf),\n",
    "            \"solutions\": cf,\n",
    "        })\n",
    "\n",
    "    results = pd.DataFrame(results)\n",
    "    if output_file is not None:\n",
    "        results.to_csv(output_file, index=False)\n",
    "    else:\n",
    "        return results\n"
   ]
  },
  {
   "cell_type": "code",
   "execution_count": 5,
   "metadata": {},
   "outputs": [],
   "source": [
    "class MAPOCAM_wrapper:\n",
    "    def __init__(self, action_set, model, criteria, max_changes):\n",
    "        self.action_set = action_set\n",
    "        self.model = model\n",
    "        if criteria == \"percentile\":\n",
    "            perc_calc = PercentileCalculator(action_set = action_set)\n",
    "            self.compare = lambda ind : PercentileCriterion(ind, perc_calc)\n",
    "        elif criteria == \"percentile_changes\":\n",
    "            perc_calc = PercentileCalculator(action_set = action_set)\n",
    "            self.compare = lambda ind : PercentileChangesCriterion(ind, perc_calc)\n",
    "        elif criteria == \"nom_dom\":\n",
    "            self.compare = lambda ind : NonDomCriterion(ind)\n",
    "            \n",
    "        self.max_changes = max_changes\n",
    "\n",
    "    def fit(self, individual):\n",
    "        m = MAPOCAM(\n",
    "            self.action_set,\n",
    "            individual,\n",
    "            self.model, \n",
    "            max_changes = self.max_changes,\n",
    "            compare = self.compare(individual)\n",
    "        )\n",
    "        m.fit()\n",
    "        self.solutions = m.solutions\n",
    "        return self\n"
   ]
  },
  {
   "cell_type": "code",
   "execution_count": 6,
   "metadata": {},
   "outputs": [],
   "source": [
    "class BruteForce_wrapper:\n",
    "    def __init__(self, action_set, model, criteria, max_changes):\n",
    "        self.action_set = action_set\n",
    "        self.model = model\n",
    "        if criteria == \"percentile\":\n",
    "            perc_calc = PercentileCalculator(action_set = action_set)\n",
    "            self.compare = lambda ind : PercentileCriterion(ind, perc_calc)\n",
    "        elif criteria == \"percentile_changes\":\n",
    "            perc_calc = PercentileCalculator(action_set = action_set)\n",
    "            self.compare = lambda ind : PercentileChangesCriterion(ind, perc_calc)\n",
    "        elif criteria == \"nom_dom\":\n",
    "            self.compare = lambda ind : NonDomCriterion(ind)\n",
    "            \n",
    "        self.max_changes = max_changes\n",
    "\n",
    "    def fit(self, individual):\n",
    "        m = BruteForce(\n",
    "            self.action_set,\n",
    "            individual,\n",
    "            self.model, \n",
    "            max_changes = self.max_changes,\n",
    "            compare = self.compare(individual)\n",
    "        )\n",
    "        m.fit()\n",
    "        self.solutions = m.solutions\n",
    "        return self"
   ]
  },
  {
   "cell_type": "code",
   "execution_count": 7,
   "metadata": {},
   "outputs": [],
   "source": [
    "def get_mapofcem_results(\n",
    "        method,\n",
    "        individuals, \n",
    "        model, \n",
    "        output_file = None,\n",
    "    ):\n",
    "    results = []\n",
    "\n",
    "    for i in tqdm(range(len(individuals))):\n",
    "        individual = individuals.iloc[i]\n",
    "        model.clear_cache()\n",
    "        start = time.time()\n",
    "        method.fit(individual.values)\n",
    "        end = time.time()\n",
    "\n",
    "        solutions = method.solutions\n",
    "        solutions = [s.tolist() for s in solutions]\n",
    "        \n",
    "        results.append({\n",
    "            \"individual\" : individual.values.tolist(),\n",
    "            \"prob\" : model.predict_proba(individual.values),\n",
    "            \"time\" : end - start,\n",
    "            \"n_solutions\" : len(method.solutions),\n",
    "            \"solutions\" : solutions,\n",
    "        })\n",
    "\n",
    "        if output_file is not None:\n",
    "            pd.DataFrame(results).to_csv(output_file, index=False)\n",
    "\n",
    "        \n",
    "\n",
    "    results = pd.DataFrame(results)\n",
    "    if output_file is not None:\n",
    "        results.to_csv(output_file, index=False)\n",
    "    else:\n",
    "        return results"
   ]
  },
  {
   "cell_type": "code",
   "execution_count": 8,
   "metadata": {},
   "outputs": [],
   "source": [
    "def run_all_mapofcem_variations(\n",
    "    dataset_name,\n",
    "    action_set,\n",
    "    individuals,\n",
    "    model_shap,\n",
    "    outlier_percentile,\n",
    "):\n",
    "    # MAPOFCEM\n",
    "\n",
    "    ## MPC\n",
    "\n",
    "    method = MAPOFCEM(\n",
    "        action_set,\n",
    "        model_shap,\n",
    "        compare = \"percentile\",\n",
    "        estimate_prob_max=True,\n",
    "        estimate_outlier=False,\n",
    "        max_changes = 3,\n",
    "        outlier_percentile = outlier_percentile\n",
    "    )\n",
    "    \n",
    "\n",
    "    get_mapofcem_results(\n",
    "        method=method,\n",
    "        individuals=individuals,\n",
    "        model=model_shap,\n",
    "        output_file=f\"../results/{dataset_name}/mapofcem_percentile_outlier_{outlier_percentile}.csv\"\n",
    "    )\n",
    "\n",
    "\n",
    "    method = MAPOFCEM(\n",
    "        action_set,\n",
    "        model_shap,\n",
    "        compare = \"percentile\",\n",
    "        estimate_prob_max=True,\n",
    "        estimate_outlier=True,\n",
    "        max_changes = 3,\n",
    "        outlier_percentile = outlier_percentile\n",
    "    )\n",
    "\n",
    "    get_mapofcem_results(\n",
    "        method=method,\n",
    "        individuals=individuals,\n",
    "        model=model_shap,\n",
    "        output_file=f\"../results/{dataset_name}/mapofcem_v2_percentile_outlier_{outlier_percentile}.csv\"\n",
    "    )\n",
    "\n",
    "\n",
    "    return"
   ]
  },
  {
   "cell_type": "markdown",
   "metadata": {},
   "source": [
    "## German"
   ]
  },
  {
   "cell_type": "code",
   "execution_count": 9,
   "metadata": {},
   "outputs": [],
   "source": [
    "X_train, Y_train, model, outlier_detection, individuals = get_data_model(\"german\", \"LGBMClassifier\")\n",
    "individuals = individuals.sample(n = 50, random_state=SEED)"
   ]
  },
  {
   "cell_type": "code",
   "execution_count": 10,
   "metadata": {},
   "outputs": [],
   "source": [
    "not_mutable_features = ['Age', 'OwnsHouse', 'isMale', 'JobClassIsSkilled', 'Single', 'ForeignWorker', 'RentsHouse']\n",
    "mutable_features = [feat for feat in X_train.columns if feat not in not_mutable_features]\n",
    "continuous_features = ['Age', 'LoanDuration', 'LoanAmount', 'LoanRateAsPercentOfIncome','YearsAtCurrentHome']\n",
    "categoric_features = [col for col in X_train.columns if col not in continuous_features]\n",
    "\n",
    "action_set = ActionSet(X = X_train, default_step_size = 0.05, mutable_features = mutable_features)"
   ]
  },
  {
   "cell_type": "code",
   "execution_count": 11,
   "metadata": {},
   "outputs": [],
   "source": [
    "model_shap = GeneralClassifier_Shap(model, outlier_detection, X_train, shap_explainer=\"tree\", threshold = 0.5)"
   ]
  },
  {
   "cell_type": "markdown",
   "metadata": {},
   "source": [
    "### MAPOFCEM"
   ]
  },
  {
   "cell_type": "code",
   "execution_count": 12,
   "metadata": {},
   "outputs": [
    {
     "name": "stderr",
     "output_type": "stream",
     "text": [
      "100%|███████████████████████████████████████████| 50/50 [00:24<00:00,  2.05it/s]\n",
      "100%|███████████████████████████████████████████| 50/50 [00:35<00:00,  1.42it/s]\n",
      "100%|███████████████████████████████████████████| 50/50 [00:24<00:00,  2.03it/s]\n",
      "100%|███████████████████████████████████████████| 50/50 [00:35<00:00,  1.42it/s]\n",
      "100%|███████████████████████████████████████████| 50/50 [00:38<00:00,  1.30it/s]\n",
      "100%|███████████████████████████████████████████| 50/50 [00:53<00:00,  1.08s/it]\n",
      "100%|███████████████████████████████████████████| 50/50 [00:49<00:00,  1.00it/s]\n",
      "100%|███████████████████████████████████████████| 50/50 [01:08<00:00,  1.36s/it]\n",
      "100%|███████████████████████████████████████████| 50/50 [00:52<00:00,  1.05s/it]\n",
      "100%|███████████████████████████████████████████| 50/50 [01:13<00:00,  1.46s/it]\n"
     ]
    }
   ],
   "source": [
    "for outlier_percentile in [0.005, 0.01, 0.05, 0.075, 0.1]:\n",
    "    run_all_mapofcem_variations(\n",
    "        dataset_name=\"german\",\n",
    "        action_set=action_set,\n",
    "        individuals=individuals,\n",
    "        model_shap=model_shap,\n",
    "        outlier_percentile=outlier_percentile,\n",
    "    )"
   ]
  },
  {
   "cell_type": "markdown",
   "metadata": {},
   "source": [
    "## Taiwan"
   ]
  },
  {
   "cell_type": "code",
   "execution_count": 13,
   "metadata": {},
   "outputs": [],
   "source": [
    "X_train, Y_train, model, outlier_detection, individuals = get_data_model(\"taiwan\")\n",
    "#convert bools to int\n",
    "X_train = X_train.astype(int)\n",
    "individuals = individuals.astype(int)\n",
    "individuals = individuals.sample(n = 50, random_state=SEED)"
   ]
  },
  {
   "cell_type": "code",
   "execution_count": 14,
   "metadata": {},
   "outputs": [],
   "source": [
    "not_mutable_features = ['Single', 'Age_in_25_to_40', 'Married', 'Age_lt_25', 'Age_in_40_to_59', 'Age_geq_60', 'EducationLevel']\n",
    "mutable_features = [feat for feat in X_train.columns if feat not in not_mutable_features]\n",
    "continuous_features = [\"LIMIT_BAL\", \"BILL_AMT1\", \"BILL_AMT2\", \"BILL_AMT3\",\n",
    "                       \"BILL_AMT4\", \"BILL_AMT5\", \"BILL_AMT6\", \"PAY_AMT1\",\n",
    "                       \"PAY_AMT2\", \"PAY_AMT3\", \"PAY_AMT4\", \"PAY_AMT5\",\n",
    "                       \"PAY_AMT6\", \"MaxBillAmountOverLast6Months\", \"MaxPaymentAmountOverLast6Months\",\n",
    "                       \"MostRecentBillAmount\", \"MostRecentPaymentAmount\", \"MostRecentPaymentAmount\", \"TotalMonthsOverdue\"]\n",
    "categoric_features = [col for col in X_train.columns if col not in continuous_features]\n",
    "action_set = ActionSet(X = X_train, default_step_size = 0.1, mutable_features = mutable_features)"
   ]
  },
  {
   "cell_type": "markdown",
   "metadata": {},
   "source": [
    "### MAPOFCEM"
   ]
  },
  {
   "cell_type": "code",
   "execution_count": 15,
   "metadata": {},
   "outputs": [],
   "source": [
    "model_shap = GeneralClassifier_Shap(model, outlier_detection, X_train, shap_explainer=\"tree\", threshold = 0.5)"
   ]
  },
  {
   "cell_type": "code",
   "execution_count": 16,
   "metadata": {},
   "outputs": [
    {
     "name": "stderr",
     "output_type": "stream",
     "text": [
      "100%|███████████████████████████████████████████| 50/50 [00:59<00:00,  1.19s/it]\n",
      "100%|███████████████████████████████████████████| 50/50 [01:07<00:00,  1.36s/it]\n",
      "100%|███████████████████████████████████████████| 50/50 [00:59<00:00,  1.18s/it]\n",
      "100%|███████████████████████████████████████████| 50/50 [01:06<00:00,  1.33s/it]\n",
      "100%|███████████████████████████████████████████| 50/50 [11:12<00:00, 13.44s/it]\n",
      "100%|███████████████████████████████████████████| 50/50 [11:56<00:00, 14.33s/it]\n",
      "100%|███████████████████████████████████████████| 50/50 [15:05<00:00, 18.10s/it]\n",
      "100%|███████████████████████████████████████████| 50/50 [16:08<00:00, 19.37s/it]\n",
      "100%|███████████████████████████████████████████| 50/50 [24:38<00:00, 29.57s/it]\n",
      "100%|███████████████████████████████████████████| 50/50 [26:18<00:00, 31.56s/it]\n"
     ]
    }
   ],
   "source": [
    "for outlier_percentile in [0.005, 0.01, 0.05, 0.075, 0.1]:\n",
    "    run_all_mapofcem_variations(\n",
    "        dataset_name=\"taiwan\",\n",
    "        action_set=action_set,\n",
    "        individuals=individuals,\n",
    "        model_shap=model_shap,\n",
    "        outlier_percentile=outlier_percentile,\n",
    "    )"
   ]
  }
 ],
 "metadata": {
  "kernelspec": {
   "display_name": "Python 3 (ipykernel)",
   "language": "python",
   "name": "python3"
  }
 },
 "nbformat": 4,
 "nbformat_minor": 2
}
