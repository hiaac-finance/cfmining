{
 "cells": [
  {
   "cell_type": "markdown",
   "metadata": {},
   "source": [
    "# Training Classifier Models and Outlier Detection"
   ]
  },
  {
   "cell_type": "code",
   "execution_count": 1,
   "metadata": {},
   "outputs": [],
   "source": [
    "import numpy as np\n",
    "import pandas as pd\n",
    "from sklearn.model_selection import train_test_split\n",
    "import optuna\n",
    "from sklearn.linear_model import LogisticRegression\n",
    "from lightgbm import LGBMClassifier\n",
    "from isotree import IsolationForest\n",
    "from sklearn.metrics import balanced_accuracy_score\n",
    "from sklearn.pipeline import Pipeline\n",
    "from sklearn.compose import ColumnTransformer\n",
    "from sklearn.preprocessing import StandardScaler, OneHotEncoder\n",
    "import sys\n",
    "sys.path.append(\"../\")\n",
    "\n",
    "import cfmining.models as models\n",
    "from cfmining.utils import OutlierWrap\n",
    "import matplotlib.pyplot as plt\n",
    "\n",
    "import os\n",
    "import joblib\n",
    "\n",
    "%load_ext autoreload\n",
    "%autoreload 2"
   ]
  },
  {
   "cell_type": "markdown",
   "metadata": {},
   "source": [
    "## General Configs"
   ]
  },
  {
   "cell_type": "code",
   "execution_count": 2,
   "metadata": {},
   "outputs": [],
   "source": [
    "VAL_RATIO = 1/10\n",
    "TEST_RATIO = 0.5\n",
    "SEED = 0\n",
    "n_jobs = 6"
   ]
  },
  {
   "cell_type": "code",
   "execution_count": 3,
   "metadata": {},
   "outputs": [],
   "source": [
    "hyperparam_spaces = {\n",
    "    \"LogisticRegression\" : {\n",
    "        \"C\": {\"low\": 1e-3, \"high\": 1e3, \"log\": True, \"type\": \"float\"},\n",
    "        \"class_weight\": {\"choices\": [\"balanced\"], \"type\": \"categorical\"},\n",
    "        \"random_state\" : {\"choices\": [SEED], \"type\": \"categorical\"},\n",
    "        \"max_iter\" : {\"low\" : 1000, \"high\" : 1000, \"type\" : \"int\"},\n",
    "    },\n",
    "    \"LGBMClassifier\": {\n",
    "        \"n_estimators\": {\"low\": 5, \"high\": 250, \"type\": \"int\"},\n",
    "        \"learning_rate\": {\"low\": 0.05, \"high\": 1.0, \"type\": \"float\"},\n",
    "        \"max_depth\": {\"low\": 2, \"high\": 12, \"type\": \"int\"},\n",
    "        \"colsample_bytree\": {\"low\": 0.1, \"high\": 1.0, \"type\": \"float\"},\n",
    "        \"reg_alpha\": {\"low\": 1e-3, \"high\": 1e3, \"log\": True, \"type\": \"float\"},\n",
    "        \"verbose\": {\"choices\": [-1], \"type\": \"categorical\"},\n",
    "        \"random_state\" : {\"choices\": [SEED], \"type\": \"categorical\"},\n",
    "    },\n",
    "    \"MLPClassifier\": {\n",
    "        \"hidden_layer_sizes\": {\n",
    "            \"choices\": [\n",
    "                [30],\n",
    "                [30, 30],\n",
    "                [30, 30, 30],\n",
    "                [64],\n",
    "                [30, 64],\n",
    "            ],\n",
    "            \"type\": \"categorical\",\n",
    "        },\n",
    "        \"learning_rate_init\": {\"low\": 1e-5, \"high\": 1e-3, \"type\": \"float\", \"log\": True},\n",
    "        \"epochs\": {\"low\": 10, \"high\": 100, \"type\": \"int\", \"step\": 10},\n",
    "        \"class_weight\": {\"choices\": [\"balanced\"], \"type\": \"categorical\"},\n",
    "        \"batch_size\" : {\"low\" : 128, \"high\" : 128, \"type\" : \"int\"},\n",
    "        \"random_state\" : {\"choices\": [SEED], \"type\": \"categorical\"},\n",
    "    },\n",
    "}"
   ]
  },
  {
   "cell_type": "code",
   "execution_count": 4,
   "metadata": {},
   "outputs": [],
   "source": [
    "optuna.logging.set_verbosity(optuna.logging.WARNING)\n",
    "\n",
    "def get_model(X, model_name, categorical_features, params):\n",
    "    if categorical_features is None:\n",
    "        categorical_features = []\n",
    "    num_features = [col for col in X.columns if col not in categorical_features]\n",
    "    model = [\n",
    "        (\"preprocess\", ColumnTransformer([\n",
    "            (\"num\", StandardScaler(), num_features),\n",
    "            (\"cat\", OneHotEncoder(), categorical_features)\n",
    "        ])),\n",
    "    ]   \n",
    "    if model_name == \"LGBMClassifier\":\n",
    "        model.append((\"classifier\", LGBMClassifier(**params)))\n",
    "    elif model_name == \"MLPClassifier\":\n",
    "        model.append((\"classifier\", models.MLPClassifier(**params)))\n",
    "    elif model_name == \"LogisticRegression\":\n",
    "        model.append((\"classifier\", LogisticRegression(**params)))    \n",
    "    model = Pipeline(model)\n",
    "    return model\n",
    "\n",
    "\n",
    "def objective(\n",
    "    trial,\n",
    "    hyperparams,\n",
    "    X_train,\n",
    "    Y_train,\n",
    "    X_val,\n",
    "    Y_val,\n",
    "    model_name = \"LGBMClassifier\",\n",
    "    categorical_features = None,\n",
    "    ):\n",
    "    params = {}\n",
    "    for k, v in hyperparams.items():\n",
    "        if v[\"type\"] == \"categorical\":\n",
    "            params[k] = trial.suggest_categorical(k, v[\"choices\"])\n",
    "        elif v[\"type\"] == \"int\":\n",
    "            params[k] = trial.suggest_int(k, v[\"low\"], v[\"high\"])\n",
    "        elif v[\"type\"] == \"float\":\n",
    "            params[k] = trial.suggest_float(k, v[\"low\"], v[\"high\"], log=v.get(\"log\", False))\n",
    "\n",
    "    model = get_model(X_train, model_name, categorical_features, params)\n",
    "    model.fit(X_train, Y_train)\n",
    "\n",
    "    Y_val_pred = model.predict(X_val)\n",
    "    score = balanced_accuracy_score(Y_val, Y_val_pred)\n",
    "\n",
    "    return score"
   ]
  },
  {
   "cell_type": "markdown",
   "metadata": {},
   "source": [
    "## German"
   ]
  },
  {
   "cell_type": "code",
   "execution_count": 5,
   "metadata": {},
   "outputs": [],
   "source": [
    "os.makedirs(\"../models/german\", exist_ok=True)"
   ]
  },
  {
   "cell_type": "code",
   "execution_count": 6,
   "metadata": {},
   "outputs": [],
   "source": [
    "df = pd.read_csv(\"../data/german.csv\")\n",
    "X = df.drop(\"GoodCustomer\", axis=1)\n",
    "Y = df[\"GoodCustomer\"]\n",
    "\n",
    "X_train, X_test, Y_train, Y_test = train_test_split(X, Y, test_size=TEST_RATIO, random_state=SEED, shuffle=True)\n",
    "X_train, X_val, Y_train, Y_val = train_test_split(X_train, Y_train, test_size=VAL_RATIO, random_state=SEED, shuffle=True)\n",
    "\n",
    "# reset index\n",
    "X_train = X_train.reset_index(drop=True)\n",
    "X_val = X_val.reset_index(drop=True)\n",
    "X_test = X_test.reset_index(drop=True)\n",
    "Y_train = Y_train.reset_index(drop=True)\n",
    "Y_val = Y_val.reset_index(drop=True)\n",
    "Y_test = Y_test.reset_index(drop=True)"
   ]
  },
  {
   "cell_type": "code",
   "execution_count": null,
   "metadata": {},
   "outputs": [],
   "source": [
    "for model_name in [\n",
    "    \"LogisticRegression\",\n",
    "    \"LGBMClassifier\", \n",
    "    \"MLPClassifier\"\n",
    "    ]:\n",
    "    study = optuna.create_study(\n",
    "       direction=\"maximize\",\n",
    "    )\n",
    "    study.optimize(\n",
    "        lambda trial: objective(trial, hyperparam_spaces[model_name], X_train, Y_train, X_val, Y_val, model_name),\n",
    "        n_trials=50,\n",
    "        n_jobs=n_jobs if model_name != \"MLPClassifier\" else 1,\n",
    "        show_progress_bar=True,\n",
    "    )\n",
    "\n",
    "    params = study.best_params\n",
    "    model = get_model(X_train, model_name, None, params)\n",
    "    \n",
    "    model.fit(X_train, Y_train)\n",
    "    Y_train_pred = model.predict(X_train)\n",
    "    Y_test_pred = model.predict(X_test)\n",
    "\n",
    "    print(f\"Number of denied samples from test: {(1 - Y_test_pred).sum():d}\")\n",
    "    print(f\"Score  training: {balanced_accuracy_score(Y_train, Y_train_pred):.3f}\")\n",
    "    print(f\"Score validation: {study.best_value:.3f}\")\n",
    "    print(f\"Score test: {balanced_accuracy_score(Y_test, Y_test_pred):.3f}\")\n",
    "\n",
    "    joblib.dump(model, f\"../models/german/{model_name}.pkl\")"
   ]
  },
  {
   "cell_type": "code",
   "execution_count": 8,
   "metadata": {},
   "outputs": [
    {
     "data": {
      "image/png": "[encoded data removed]",
      "text/plain": [
       "<Figure size 640x480 with 1 Axes>"
      ]
     },
     "metadata": {},
     "output_type": "display_data"
    },
    {
     "data": {
      "text/plain": [
       "['../models/german/IsolationForest_test.pkl']"
      ]
     },
     "execution_count": 8,
     "metadata": {},
     "output_type": "execute_result"
    }
   ],
   "source": [
    "outlier_detection = IsolationForest(ndim=1, sample_size=256, max_depth=8, ntrees=100, missing_action=\"divide\")\n",
    "outlier_detection.fit(X_train);\n",
    "\n",
    "scores = outlier_detection.predict(X_train)\n",
    "plt.hist(scores, bins=100);\n",
    "plt.xlabel(\"Anomaly Score\")\n",
    "plt.ylabel(\"Frequency\")\n",
    "plt.show()\n",
    "\n",
    "outlier_detection = OutlierWrap(X_train, outlier_detection, 0.05)\n",
    "joblib.dump(outlier_detection, \"../models/german/IsolationForest.pkl\")\n",
    "\n",
    "outlier_detection = IsolationForest(ndim=1, sample_size=256, max_depth=8, ntrees=100, missing_action=\"divide\")\n",
    "outlier_detection.fit(X_test);\n",
    "outlier_detection = OutlierWrap(X_train, outlier_detection, 0.05)\n",
    "joblib.dump(outlier_detection, \"../models/german/IsolationForest_test.pkl\")"
   ]
  },
  {
   "cell_type": "markdown",
   "metadata": {},
   "source": [
    "## German categorical"
   ]
  },
  {
   "cell_type": "code",
   "execution_count": 5,
   "metadata": {},
   "outputs": [],
   "source": [
    "os.makedirs(\"../models/german_cat\", exist_ok=True)"
   ]
  },
  {
   "cell_type": "code",
   "execution_count": 9,
   "metadata": {},
   "outputs": [],
   "source": [
    "df = pd.read_csv(\"../data/german_cat.csv\")\n",
    "X = df.drop(\"GoodCustomer\", axis=1)\n",
    "Y = df[\"GoodCustomer\"]\n",
    "\n",
    "X_train, X_test, Y_train, Y_test = train_test_split(X, Y, test_size=TEST_RATIO, random_state=SEED, shuffle=True)\n",
    "X_train, X_val, Y_train, Y_val = train_test_split(X_train, Y_train, test_size=VAL_RATIO, random_state=SEED, shuffle=True)\n",
    "\n",
    "# reset index\n",
    "X_train = X_train.reset_index(drop=True)\n",
    "X_val = X_val.reset_index(drop=True)\n",
    "X_test = X_test.reset_index(drop=True)\n",
    "Y_train = Y_train.reset_index(drop=True)\n",
    "Y_val = Y_val.reset_index(drop=True)\n",
    "Y_test = Y_test.reset_index(drop=True)\n",
    "\n",
    "cat_features = [\"PurposeOfLoan\"]"
   ]
  },
  {
   "cell_type": "code",
   "execution_count": null,
   "metadata": {},
   "outputs": [],
   "source": [
    "for model_name in [\n",
    "    \"LogisticRegression\",\n",
    "    \"LGBMClassifier\", \n",
    "    \"MLPClassifier\"\n",
    "    ]:\n",
    "    study = optuna.create_study(\n",
    "       direction=\"maximize\",\n",
    "    )\n",
    "    study.optimize(\n",
    "        lambda trial: objective(trial, hyperparam_spaces[model_name], X_train, Y_train, X_val, Y_val, model_name, cat_features),\n",
    "        n_trials=50,\n",
    "        n_jobs=n_jobs if model_name != \"MLPClassifier\" else 1,\n",
    "        show_progress_bar=True,\n",
    "    )\n",
    "\n",
    "    params = study.best_params\n",
    "    model = get_model(X_train, model_name, cat_features, params)\n",
    "    \n",
    "    model.fit(X_train, Y_train)\n",
    "    Y_train_pred = model.predict(X_train)\n",
    "    Y_test_pred = model.predict(X_test)\n",
    "\n",
    "    print(f\"Number of denied samples from test: {(1 - Y_test_pred).sum():d}\")\n",
    "    print(f\"Score  training: {balanced_accuracy_score(Y_train, Y_train_pred):.3f}\")\n",
    "    print(f\"Score validation: {study.best_value:.3f}\")\n",
    "    print(f\"Score test: {balanced_accuracy_score(Y_test, Y_test_pred):.3f}\")\n",
    "\n",
    "    joblib.dump(model, f\"../models/german_cat/{model_name}.pkl\")"
   ]
  },
  {
   "cell_type": "code",
   "execution_count": 11,
   "metadata": {},
   "outputs": [
    {
     "data": {
      "image/png": "[encoded data removed]",
      "text/plain": [
       "<Figure size 640x480 with 1 Axes>"
      ]
     },
     "metadata": {},
     "output_type": "display_data"
    },
    {
     "data": {
      "text/plain": [
       "['../models/german_cat/IsolationForest_test.pkl']"
      ]
     },
     "execution_count": 11,
     "metadata": {},
     "output_type": "execute_result"
    }
   ],
   "source": [
    "outlier_detection = IsolationForest(ndim=1, sample_size=256, max_depth=8, ntrees=100, missing_action=\"divide\")\n",
    "outlier_detection.fit(X_train);\n",
    "\n",
    "scores = outlier_detection.predict(X_train)\n",
    "plt.hist(scores, bins=100);\n",
    "plt.xlabel(\"Anomaly Score\")\n",
    "plt.ylabel(\"Frequency\")\n",
    "plt.show()\n",
    "\n",
    "outlier_detection = OutlierWrap(X_train, outlier_detection, 0.05)\n",
    "joblib.dump(outlier_detection, \"../models/german_cat/IsolationForest.pkl\")\n",
    "\n",
    "outlier_detection = IsolationForest(ndim=1, sample_size=256, max_depth=8, ntrees=100, missing_action=\"divide\")\n",
    "outlier_detection.fit(X_test);\n",
    "outlier_detection = OutlierWrap(X_train, outlier_detection, 0.05)\n",
    "joblib.dump(outlier_detection, \"../models/german_cat/IsolationForest_test.pkl\")"
   ]
  },
  {
   "cell_type": "markdown",
   "metadata": {},
   "source": [
    "## Taiwan"
   ]
  },
  {
   "cell_type": "code",
   "execution_count": 12,
   "metadata": {},
   "outputs": [],
   "source": [
    "os.makedirs(\"../models/taiwan\", exist_ok=True)"
   ]
  },
  {
   "cell_type": "code",
   "execution_count": 13,
   "metadata": {},
   "outputs": [],
   "source": [
    "df = pd.read_csv(\"../data/taiwan.csv\")\n",
    "X = df.drop(\"NoDefaultNextMonth\", axis=1)\n",
    "X = X.astype(int)\n",
    "Y = df[\"NoDefaultNextMonth\"]\n",
    "\n",
    "X_train, X_test, Y_train, Y_test = train_test_split(X, Y, test_size=TEST_RATIO, random_state=SEED, shuffle=True)\n",
    "X_train, X_val, Y_train, Y_val = train_test_split(X_train, Y_train, test_size=VAL_RATIO, random_state=SEED, shuffle=True)"
   ]
  },
  {
   "cell_type": "code",
   "execution_count": null,
   "metadata": {},
   "outputs": [],
   "source": [
    "for model_name in [\n",
    "    \"LogisticRegression\",\n",
    "    \"LGBMClassifier\", \n",
    "    \"MLPClassifier\"\n",
    "    ]:\n",
    "    study = optuna.create_study(\n",
    "       direction=\"maximize\",\n",
    "    )\n",
    "    study.optimize(\n",
    "        lambda trial: objective(trial, hyperparam_spaces[model_name], X_train, Y_train, X_val, Y_val, model_name),\n",
    "        n_trials=50,\n",
    "        n_jobs=n_jobs if model_name != \"MLPClassifier\" else 1,\n",
    "        show_progress_bar=True,\n",
    "    )\n",
    "\n",
    "    params = study.best_params\n",
    "    model = get_model(X_train, model_name, None, params)\n",
    "    model.fit(X_train, Y_train)\n",
    "    Y_train_pred = model.predict(X_train)\n",
    "    Y_test_pred = model.predict(X_test)\n",
    "    print(f\"Number of denied samples from test: {(1 - Y_test_pred).sum():1f}\")\n",
    "    print(f\"Score  training: {balanced_accuracy_score(Y_train, Y_train_pred):.3f}\")\n",
    "    print(f\"Score validation: {balanced_accuracy_score(Y_val, model.predict(X_val)):.3f}\")\n",
    "    print(f\"Score  test: {balanced_accuracy_score(Y_test, Y_test_pred):.3f}\")\n",
    "\n",
    "    joblib.dump(model, f\"../models/taiwan/{model_name}.pkl\")"
   ]
  },
  {
   "cell_type": "code",
   "execution_count": 15,
   "metadata": {},
   "outputs": [
    {
     "data": {
      "image/png": "[encoded data removed]",
      "text/plain": [
       "<Figure size 640x480 with 1 Axes>"
      ]
     },
     "metadata": {},
     "output_type": "display_data"
    },
    {
     "data": {
      "text/plain": [
       "['../models/taiwan/IsolationForest_test.pkl']"
      ]
     },
     "execution_count": 15,
     "metadata": {},
     "output_type": "execute_result"
    }
   ],
   "source": [
    "outlier_detection = IsolationForest(ndim=1, sample_size=256, max_depth=8, ntrees=100, missing_action=\"divide\")\n",
    "outlier_detection.fit(X_train);\n",
    "\n",
    "scores = outlier_detection.predict(X_train)\n",
    "plt.hist(scores, bins=100);\n",
    "plt.xlabel(\"Anomaly Score\")\n",
    "plt.ylabel(\"Frequency\")\n",
    "plt.show()\n",
    "\n",
    "\n",
    "outlier_detection = OutlierWrap(X_train, outlier_detection, 0.05)\n",
    "joblib.dump(outlier_detection, \"../models/taiwan/IsolationForest.pkl\")\n",
    "\n",
    "outlier_detection = IsolationForest(ndim=1, sample_size=256, max_depth=8, ntrees=100, missing_action=\"divide\")\n",
    "outlier_detection.fit(X_test);\n",
    "outlier_detection = OutlierWrap(X_train, outlier_detection, 0.05)\n",
    "joblib.dump(outlier_detection, \"../models/taiwan/IsolationForest_test.pkl\")"
   ]
  },
  {
   "cell_type": "markdown",
   "metadata": {},
   "source": [
    "## Taiwan cat"
   ]
  },
  {
   "cell_type": "code",
   "execution_count": 16,
   "metadata": {},
   "outputs": [],
   "source": [
    "os.makedirs(\"../models/taiwan_cat\", exist_ok=True)"
   ]
  },
  {
   "cell_type": "code",
   "execution_count": 17,
   "metadata": {},
   "outputs": [],
   "source": [
    "df = pd.read_csv(\"../data/taiwan_cat.csv\")\n",
    "X = df.drop(\"NoDefaultNextMonth\", axis=1)\n",
    "X = X.astype(int)\n",
    "Y = df[\"NoDefaultNextMonth\"]\n",
    "\n",
    "X_train, X_test, Y_train, Y_test = train_test_split(X, Y, test_size=TEST_RATIO, random_state=SEED, shuffle=True)\n",
    "X_train, X_val, Y_train, Y_val = train_test_split(X_train, Y_train, test_size=VAL_RATIO, random_state=SEED, shuffle=True)\n",
    "\n",
    "cat_features = [\"EDUCATION\", \"MARRIAGE\"]"
   ]
  },
  {
   "cell_type": "code",
   "execution_count": null,
   "metadata": {},
   "outputs": [],
   "source": [
    "for model_name in [\n",
    "    \"LogisticRegression\",\n",
    "    \"LGBMClassifier\", \n",
    "    \"MLPClassifier\"\n",
    "    ]:\n",
    "    study = optuna.create_study(\n",
    "       direction=\"maximize\",\n",
    "    )\n",
    "    study.optimize(\n",
    "        lambda trial: objective(trial, hyperparam_spaces[model_name], X_train, Y_train, X_val, Y_val, model_name, cat_features),\n",
    "        n_trials=50,\n",
    "        n_jobs=n_jobs if model_name != \"MLPClassifier\" else 1,\n",
    "        show_progress_bar=True,\n",
    "    )\n",
    "\n",
    "    params = study.best_params\n",
    "    model = get_model(X_train, model_name, cat_features, params)\n",
    "    \n",
    "    model.fit(X_train, Y_train)\n",
    "    Y_train_pred = model.predict(X_train)\n",
    "    Y_test_pred = model.predict(X_test)\n",
    "\n",
    "    print(f\"Number of denied samples from test: {(1 - Y_test_pred).sum():.1f}\")\n",
    "    print(f\"Score  training: {balanced_accuracy_score(Y_train, Y_train_pred):.3f}\")\n",
    "    print(f\"Score validation: {study.best_value:.3f}\")\n",
    "    print(f\"Score test: {balanced_accuracy_score(Y_test, Y_test_pred):.3f}\")\n",
    "\n",
    "    joblib.dump(model, f\"../models/taiwan_cat/{model_name}.pkl\")"
   ]
  },
  {
   "cell_type": "code",
   "execution_count": 21,
   "metadata": {},
   "outputs": [
    {
     "data": {
      "image/png": "[encoded data removed]",
      "text/plain": [
       "<Figure size 640x480 with 1 Axes>"
      ]
     },
     "metadata": {},
     "output_type": "display_data"
    },
    {
     "data": {
      "text/plain": [
       "['../models/taiwan_cat/IsolationForest_test.pkl']"
      ]
     },
     "execution_count": 21,
     "metadata": {},
     "output_type": "execute_result"
    }
   ],
   "source": [
    "outlier_detection = IsolationForest(ndim=1, sample_size=256, max_depth=8, ntrees=100, missing_action=\"divide\")\n",
    "outlier_detection.fit(X_train);\n",
    "\n",
    "scores = outlier_detection.predict(X_train)\n",
    "plt.hist(scores, bins=100);\n",
    "plt.xlabel(\"Anomaly Score\")\n",
    "plt.ylabel(\"Frequency\")\n",
    "plt.show()\n",
    "\n",
    "outlier_detection = OutlierWrap(X_train, outlier_detection, 0.05)\n",
    "joblib.dump(outlier_detection, \"../models/taiwan_cat/IsolationForest.pkl\")\n",
    "\n",
    "outlier_detection = IsolationForest(ndim=1, sample_size=256, max_depth=8, ntrees=100, missing_action=\"divide\")\n",
    "outlier_detection.fit(X_test);\n",
    "outlier_detection = OutlierWrap(X_train, outlier_detection, 0.05)\n",
    "joblib.dump(outlier_detection, \"../models/taiwan_cat/IsolationForest_test.pkl\")"
   ]
  }
 ],
 "metadata": {
  "kernelspec": {
   "display_name": "Python 3 (ipykernel)",
   "language": "python",
   "name": "python3"
  },
  "language_info": {
   "codemirror_mode": {
    "name": "ipython",
    "version": 3
   },
   "file_extension": ".py",
   "mimetype": "text/x-python",
   "name": "python",
   "nbconvert_exporter": "python",
   "pygments_lexer": "ipython3",
   "version": "3.10.12"
  }
 },
 "nbformat": 4,
 "nbformat_minor": 2
}
