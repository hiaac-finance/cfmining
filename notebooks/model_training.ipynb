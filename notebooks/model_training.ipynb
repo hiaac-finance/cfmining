{
 "cells": [
  {
   "cell_type": "code",
   "execution_count": 1,
   "metadata": {},
   "outputs": [
    {
     "name": "stderr",
     "output_type": "stream",
     "text": [
      "/home/giovani/anaconda3/envs/cfmining/lib/python3.10/site-packages/tqdm/auto.py:21: TqdmWarning: IProgress not found. Please update jupyter and ipywidgets. See https://ipywidgets.readthedocs.io/en/stable/user_install.html\n",
      "  from .autonotebook import tqdm as notebook_tqdm\n"
     ]
    }
   ],
   "source": [
    "import numpy as np\n",
    "import pandas as pd\n",
    "from sklearn.model_selection import train_test_split\n",
    "import optuna\n",
    "from lightgbm import LGBMClassifier\n",
    "from isotree import IsolationForest\n",
    "import sys\n",
    "sys.path.append(\"../\")\n",
    "\n",
    "from cfmining.utils import OutlierWrap\n",
    "\n",
    "import os\n",
    "import joblib\n",
    "\n",
    "%load_ext autoreload\n",
    "%autoreload 2"
   ]
  },
  {
   "cell_type": "code",
   "execution_count": 2,
   "metadata": {},
   "outputs": [],
   "source": [
    "VAL_RATIO = 1/7\n",
    "TEST_RATIO = 0.3\n",
    "SEED = 0"
   ]
  },
  {
   "cell_type": "code",
   "execution_count": 3,
   "metadata": {},
   "outputs": [],
   "source": [
    "hyperparam_spaces = {\n",
    "    \"LGBMClassifier\": {\n",
    "        \"n_estimators\": {\"low\": 5, \"high\": 250, \"type\": \"int\"},\n",
    "        \"learning_rate\": {\"low\": 0.05, \"high\": 1.0, \"type\": \"float\"},\n",
    "        \"max_depth\": {\"low\": 2, \"high\": 12, \"type\": \"int\"},\n",
    "        \"colsample_bytree\": {\"low\": 0.1, \"high\": 1.0, \"type\": \"float\"},\n",
    "        \"reg_alpha\": {\"low\": 1e-3, \"high\": 1e3, \"log\": True, \"type\": \"float\"},\n",
    "        \"verbose\": {\"choices\": [-1], \"type\": \"categorical\"},\n",
    "        \"random_state\" : {\"choices\": [SEED], \"type\": \"categorical\"},\n",
    "    }\n",
    "}"
   ]
  },
  {
   "cell_type": "code",
   "execution_count": 4,
   "metadata": {},
   "outputs": [],
   "source": [
    "optuna.logging.set_verbosity(optuna.logging.WARNING)\n",
    "\n",
    "def objective(\n",
    "    trial,\n",
    "    hyperparams,\n",
    "    X_train,\n",
    "    Y_train,\n",
    "    X_val,\n",
    "    Y_val\n",
    "    ):\n",
    "    params = {}\n",
    "    for k, v in hyperparams.items():\n",
    "        if \"choices\" in v:\n",
    "            params[k] = trial.suggest_categorical(k, v[\"choices\"])\n",
    "        elif v[\"type\"] == \"int\":\n",
    "            params[k] = trial.suggest_int(k, v[\"low\"], v[\"high\"])\n",
    "        elif v[\"type\"] == \"float\":\n",
    "            params[k] = trial.suggest_float(k, v[\"low\"], v[\"high\"], log=v.get(\"log\", False))\n",
    "\n",
    "    model = LGBMClassifier(**params)\n",
    "    model.fit(X_train, Y_train)\n",
    "    score = model.score(X_val, Y_val)\n",
    "    return score"
   ]
  },
  {
   "cell_type": "markdown",
   "metadata": {},
   "source": [
    "## German"
   ]
  },
  {
   "cell_type": "code",
   "execution_count": 5,
   "metadata": {},
   "outputs": [],
   "source": [
    "os.makedirs(\"../models/german\", exist_ok=True)"
   ]
  },
  {
   "cell_type": "code",
   "execution_count": 6,
   "metadata": {},
   "outputs": [],
   "source": [
    "df = pd.read_csv(\"../data/german.csv\")\n",
    "X = df.drop(\"GoodCustomer\", axis=1)\n",
    "Y = df[\"GoodCustomer\"]\n",
    "\n",
    "X_train, X_test, Y_train, Y_test = train_test_split(X, Y, test_size=TEST_RATIO, random_state=SEED, shuffle=True)\n",
    "X_train, X_val, Y_train, Y_val = train_test_split(X_train, Y_train, test_size=VAL_RATIO, random_state=SEED, shuffle=True)"
   ]
  },
  {
   "cell_type": "code",
   "execution_count": 7,
   "metadata": {},
   "outputs": [
    {
     "name": "stderr",
     "output_type": "stream",
     "text": [
      "  0%|          | 0/100 [00:00<?, ?it/s]"
     ]
    },
    {
     "name": "stderr",
     "output_type": "stream",
     "text": [
      "Best trial: 45. Best value: 0.74: 100%|██████████| 100/100 [00:03<00:00, 25.17it/s]\n"
     ]
    },
    {
     "name": "stdout",
     "output_type": "stream",
     "text": [
      "Score  training: 0.877 test: 0.693\n"
     ]
    },
    {
     "data": {
      "text/plain": [
       "['../models/german/LGBMClassifier.pkl']"
      ]
     },
     "execution_count": 7,
     "metadata": {},
     "output_type": "execute_result"
    }
   ],
   "source": [
    "study = optuna.create_study(\n",
    "    direction=\"maximize\",\n",
    ")\n",
    "\n",
    "study.optimize(\n",
    "    lambda trial: objective(trial, hyperparam_spaces[\"LGBMClassifier\"], X_train, Y_train, X_val, Y_val),\n",
    "    n_trials=100,\n",
    "    n_jobs=1,\n",
    "    show_progress_bar=True,\n",
    ")\n",
    "\n",
    "params = study.best_params\n",
    "model = LGBMClassifier(**params)\n",
    "model.fit(X_train, Y_train)\n",
    "print(f\"Score  training: {model.score(X_train, Y_train):.3f} test: {model.score(X_test, Y_test):.3f}\")\n",
    "\n",
    "joblib.dump(model, \"../models/german/LGBMClassifier.pkl\")"
   ]
  },
  {
   "cell_type": "code",
   "execution_count": 8,
   "metadata": {},
   "outputs": [
    {
     "data": {
      "text/plain": [
       "['../models/german/IsolationForest.pkl']"
      ]
     },
     "execution_count": 8,
     "metadata": {},
     "output_type": "execute_result"
    }
   ],
   "source": [
    "outlier_detection = IsolationForest(ndim=1, sample_size=256, max_depth=8, ntrees=100, missing_action=\"divide\")\n",
    "outlier_detection.fit(X_train);\n",
    "outlier_detection = OutlierWrap(outlier_detection, 0.6)\n",
    "\n",
    "joblib.dump(outlier_detection, \"../models/german/IsolationForest.pkl\")"
   ]
  }
 ],
 "metadata": {
  "kernelspec": {
   "display_name": "cfmining",
   "language": "python",
   "name": "python3"
  },
  "language_info": {
   "codemirror_mode": {
    "name": "ipython",
    "version": 3
   },
   "file_extension": ".py",
   "mimetype": "text/x-python",
   "name": "python",
   "nbconvert_exporter": "python",
   "pygments_lexer": "ipython3",
   "version": "3.10.13"
  }
 },
 "nbformat": 4,
 "nbformat_minor": 2
}
