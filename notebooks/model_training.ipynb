{
 "cells": [
  {
   "cell_type": "code",
   "execution_count": 127,
   "metadata": {},
   "outputs": [
    {
     "name": "stdout",
     "output_type": "stream",
     "text": [
      "The autoreload extension is already loaded. To reload it, use:\n",
      "  %reload_ext autoreload\n"
     ]
    }
   ],
   "source": [
    "import numpy as np\n",
    "import pandas as pd\n",
    "from sklearn.model_selection import train_test_split\n",
    "import optuna\n",
    "from lightgbm import LGBMClassifier\n",
    "from isotree import IsolationForest\n",
    "from sklearn.metrics import balanced_accuracy_score\n",
    "import sys\n",
    "sys.path.append(\"../\")\n",
    "\n",
    "from cfmining.utils import OutlierWrap\n",
    "\n",
    "import os\n",
    "import joblib\n",
    "\n",
    "%load_ext autoreload\n",
    "%autoreload 2"
   ]
  },
  {
   "cell_type": "code",
   "execution_count": 128,
   "metadata": {},
   "outputs": [],
   "source": [
    "VAL_RATIO = 1/10\n",
    "TEST_RATIO = 0.5\n",
    "SEED = 0"
   ]
  },
  {
   "cell_type": "code",
   "execution_count": 129,
   "metadata": {},
   "outputs": [],
   "source": [
    "hyperparam_spaces = {\n",
    "    \"LGBMClassifier\": {\n",
    "        \"n_estimators\": {\"low\": 5, \"high\": 250, \"type\": \"int\"},\n",
    "        \"learning_rate\": {\"low\": 0.05, \"high\": 1.0, \"type\": \"float\"},\n",
    "        \"max_depth\": {\"low\": 2, \"high\": 12, \"type\": \"int\"},\n",
    "        \"colsample_bytree\": {\"low\": 0.1, \"high\": 1.0, \"type\": \"float\"},\n",
    "        \"reg_alpha\": {\"low\": 1e-3, \"high\": 1e3, \"log\": True, \"type\": \"float\"},\n",
    "        \"verbose\": {\"choices\": [-1], \"type\": \"categorical\"},\n",
    "        \"random_state\" : {\"choices\": [SEED], \"type\": \"categorical\"},\n",
    "    }\n",
    "}"
   ]
  },
  {
   "cell_type": "code",
   "execution_count": 130,
   "metadata": {},
   "outputs": [],
   "source": [
    "optuna.logging.set_verbosity(optuna.logging.WARNING)\n",
    "\n",
    "def objective(\n",
    "    trial,\n",
    "    hyperparams,\n",
    "    X_train,\n",
    "    Y_train,\n",
    "    X_val,\n",
    "    Y_val\n",
    "    ):\n",
    "    params = {}\n",
    "    for k, v in hyperparams.items():\n",
    "        if \"choices\" in v:\n",
    "            params[k] = trial.suggest_categorical(k, v[\"choices\"])\n",
    "        elif v[\"type\"] == \"int\":\n",
    "            params[k] = trial.suggest_int(k, v[\"low\"], v[\"high\"])\n",
    "        elif v[\"type\"] == \"float\":\n",
    "            params[k] = trial.suggest_float(k, v[\"low\"], v[\"high\"], log=v.get(\"log\", False))\n",
    "\n",
    "    model = LGBMClassifier(**params)\n",
    "    model.fit(X_train, Y_train)\n",
    "    Y_val_pred = model.predict(X_val)\n",
    "    score = balanced_accuracy_score(Y_val, Y_val_pred)\n",
    "    return score"
   ]
  },
  {
   "cell_type": "markdown",
   "metadata": {},
   "source": [
    "## German"
   ]
  },
  {
   "cell_type": "code",
   "execution_count": 131,
   "metadata": {},
   "outputs": [],
   "source": [
    "os.makedirs(\"../models/german\", exist_ok=True)"
   ]
  },
  {
   "cell_type": "code",
   "execution_count": 132,
   "metadata": {},
   "outputs": [],
   "source": [
    "df = pd.read_csv(\"../data/german.csv\")\n",
    "X = df.drop(\"GoodCustomer\", axis=1)\n",
    "Y = df[\"GoodCustomer\"]\n",
    "\n",
    "X_train, X_test, Y_train, Y_test = train_test_split(X, Y, test_size=TEST_RATIO, random_state=SEED, shuffle=True)\n",
    "X_train, X_val, Y_train, Y_val = train_test_split(X_train, Y_train, test_size=VAL_RATIO, random_state=SEED, shuffle=True)"
   ]
  },
  {
   "cell_type": "code",
   "execution_count": 133,
   "metadata": {},
   "outputs": [
    {
     "data": {
      "application/vnd.jupyter.widget-view+json": {
       "model_id": "5155ca7511e3450291bdb8c951331185",
       "version_major": 2,
       "version_minor": 0
      },
      "text/plain": [
       "  0%|          | 0/50 [00:00<?, ?it/s]"
      ]
     },
     "metadata": {},
     "output_type": "display_data"
    },
    {
     "name": "stdout",
     "output_type": "stream",
     "text": [
      "Score  training: 1.000 test: 0.585\n"
     ]
    },
    {
     "data": {
      "text/plain": [
       "['../models/german/LGBMClassifier.pkl']"
      ]
     },
     "execution_count": 133,
     "metadata": {},
     "output_type": "execute_result"
    }
   ],
   "source": [
    "study = optuna.create_study(\n",
    "    direction=\"maximize\",\n",
    ")\n",
    "\n",
    "study.optimize(\n",
    "    lambda trial: objective(trial, hyperparam_spaces[\"LGBMClassifier\"], X_train, Y_train, X_val, Y_val),\n",
    "    n_trials=50,\n",
    "    n_jobs=1,\n",
    "    show_progress_bar=True,\n",
    ")\n",
    "\n",
    "params = study.best_params\n",
    "model = LGBMClassifier(**params)\n",
    "model.fit(X_train, Y_train)\n",
    "Y_train_pred = model.predict(X_train)\n",
    "Y_test_pred = model.predict(X_test)\n",
    "print(f\"Score  training: {balanced_accuracy_score(Y_train, Y_train_pred):.3f} test: {balanced_accuracy_score(Y_test, Y_test_pred):.3f}\")\n",
    "\n",
    "joblib.dump(model, \"../models/german/LGBMClassifier.pkl\")"
   ]
  },
  {
   "cell_type": "code",
   "execution_count": 134,
   "metadata": {},
   "outputs": [
    {
     "data": {
      "text/plain": [
       "['../models/german/IsolationForest_test.pkl']"
      ]
     },
     "execution_count": 134,
     "metadata": {},
     "output_type": "execute_result"
    }
   ],
   "source": [
    "outlier_detection = IsolationForest(ndim=1, sample_size=256, max_depth=8, ntrees=100, missing_action=\"divide\")\n",
    "outlier_detection.fit(X_train);\n",
    "outlier_detection = OutlierWrap(outlier_detection, 0.6)\n",
    "joblib.dump(outlier_detection, \"../models/german/IsolationForest.pkl\")\n",
    "\n",
    "outlier_detection = IsolationForest(ndim=1, sample_size=256, max_depth=8, ntrees=100, missing_action=\"divide\")\n",
    "outlier_detection.fit(X_test);\n",
    "outlier_detection = OutlierWrap(outlier_detection, 0.6)\n",
    "joblib.dump(outlier_detection, \"../models/german/IsolationForest_test.pkl\")"
   ]
  },
  {
   "cell_type": "markdown",
   "metadata": {},
   "source": [
    "## Taiwan"
   ]
  },
  {
   "cell_type": "code",
   "execution_count": 135,
   "metadata": {},
   "outputs": [],
   "source": [
    "os.makedirs(\"../models/taiwan\", exist_ok=True)"
   ]
  },
  {
   "cell_type": "code",
   "execution_count": 136,
   "metadata": {},
   "outputs": [],
   "source": [
    "df = pd.read_csv(\"../data/taiwan.csv\")\n",
    "X = df.drop(\"NoDefaultNextMonth\", axis=1)\n",
    "Y = df[\"NoDefaultNextMonth\"]\n",
    "\n",
    "X_train, X_test, Y_train, Y_test = train_test_split(X, Y, test_size=TEST_RATIO, random_state=SEED, shuffle=True)\n",
    "X_train, X_val, Y_train, Y_val = train_test_split(X_train, Y_train, test_size=VAL_RATIO, random_state=SEED, shuffle=True)"
   ]
  },
  {
   "cell_type": "code",
   "execution_count": 138,
   "metadata": {},
   "outputs": [
    {
     "data": {
      "application/vnd.jupyter.widget-view+json": {
       "model_id": "93e32dc7a4644863a417a30335285a95",
       "version_major": 2,
       "version_minor": 0
      },
      "text/plain": [
       "  0%|          | 0/50 [00:00<?, ?it/s]"
      ]
     },
     "metadata": {},
     "output_type": "display_data"
    },
    {
     "name": "stdout",
     "output_type": "stream",
     "text": [
      "Score  training: 0.702 test: 0.637\n"
     ]
    },
    {
     "data": {
      "text/plain": [
       "['../models/taiwan/LGBMClassifier.pkl']"
      ]
     },
     "execution_count": 138,
     "metadata": {},
     "output_type": "execute_result"
    }
   ],
   "source": [
    "study = optuna.create_study(\n",
    "    direction=\"maximize\",\n",
    ")\n",
    "\n",
    "study.optimize(\n",
    "    lambda trial: objective(trial, hyperparam_spaces[\"LGBMClassifier\"], X_train, Y_train, X_val, Y_val),\n",
    "    n_trials=50,\n",
    "    n_jobs=1,\n",
    "    show_progress_bar=True,\n",
    ")\n",
    "\n",
    "params = study.best_params\n",
    "model = LGBMClassifier(**params)\n",
    "model.fit(X_train, Y_train)\n",
    "Y_train_pred = model.predict(X_train)\n",
    "Y_test_pred = model.predict(X_test)\n",
    "print(f\"Score  training: {balanced_accuracy_score(Y_train, Y_train_pred):.3f} test: {balanced_accuracy_score(Y_test, Y_test_pred):.3f}\")\n",
    "\n",
    "joblib.dump(model, \"../models/taiwan/LGBMClassifier.pkl\")"
   ]
  },
  {
   "cell_type": "code",
   "execution_count": 139,
   "metadata": {},
   "outputs": [
    {
     "data": {
      "text/plain": [
       "['../models/taiwan/IsolationForest_test.pkl']"
      ]
     },
     "execution_count": 139,
     "metadata": {},
     "output_type": "execute_result"
    }
   ],
   "source": [
    "outlier_detection = IsolationForest(ndim=1, sample_size=256, max_depth=8, ntrees=100, missing_action=\"divide\")\n",
    "outlier_detection.fit(X_train);\n",
    "outlier_detection = OutlierWrap(outlier_detection, 0.6)\n",
    "joblib.dump(outlier_detection, \"../models/taiwan/IsolationForest.pkl\")\n",
    "\n",
    "outlier_detection = IsolationForest(ndim=1, sample_size=256, max_depth=8, ntrees=100, missing_action=\"divide\")\n",
    "outlier_detection.fit(X_test);\n",
    "outlier_detection = OutlierWrap(outlier_detection, 0.6)\n",
    "joblib.dump(outlier_detection, \"../models/taiwan/IsolationForest_test.pkl\")"
   ]
  }
 ],
 "metadata": {
  "kernelspec": {
   "display_name": "Python 3 (ipykernel)",
   "language": "python",
   "name": "python3"
  },
  "language_info": {
   "codemirror_mode": {
    "name": "ipython",
    "version": 3
   },
   "file_extension": ".py",
   "mimetype": "text/x-python",
   "name": "python",
   "nbconvert_exporter": "python",
   "pygments_lexer": "ipython3",
   "version": "3.10.12"
  }
 },
 "nbformat": 4,
 "nbformat_minor": 2
}
