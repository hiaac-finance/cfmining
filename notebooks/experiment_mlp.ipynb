{
 "cells": [
  {
   "cell_type": "code",
   "execution_count": 1,
   "metadata": {},
   "outputs": [],
   "source": [
    "import copy\n",
    "import pandas as pd\n",
    "import sys\n",
    "sys.path.append(\"../\")\n",
    "\n",
    "from cfmining.algorithms import MAPOFCEM\n",
    "from cfmining.predictors import GeneralClassifier_Shap\n",
    "from cfmining.action_set import ActionSet\n",
    "from cfmining.utils import get_data_model, DeepPipeExplainer\n",
    "from cfmining.baselines import Bruteforce, MAPOCAM, Nice, Dice\n",
    "\n",
    "from experiments_helper import run_experiments, format_df_table, summarize_results\n",
    "\n",
    "\n",
    "%load_ext autoreload\n",
    "%autoreload 2"
   ]
  },
  {
   "cell_type": "code",
   "execution_count": 2,
   "metadata": {},
   "outputs": [],
   "source": [
    "SEED = 0"
   ]
  },
  {
   "cell_type": "markdown",
   "metadata": {},
   "source": [
    "## German"
   ]
  },
  {
   "cell_type": "code",
   "execution_count": 3,
   "metadata": {},
   "outputs": [],
   "source": [
    "X_train, Y_train, model, outlier_detection, individuals = get_data_model(\"german\", \"MLPClassifier\")\n",
    "individuals = individuals.sample(n = 50, random_state=SEED)"
   ]
  },
  {
   "cell_type": "code",
   "execution_count": 4,
   "metadata": {},
   "outputs": [],
   "source": [
    "not_mutable_features = ['Age', 'OwnsHouse', 'isMale', 'JobClassIsSkilled', 'Single', 'ForeignWorker', 'RentsHouse']\n",
    "mutable_features = [feat for feat in X_train.columns if feat not in not_mutable_features]\n",
    "continuous_features = ['Age', 'LoanDuration', 'LoanAmount', 'LoanRateAsPercentOfIncome','YearsAtCurrentHome', \"NumberOfLiableIndividuals\", \"NumberOfOtherLoansAtBank\"]\n",
    "categoric_features = [col for col in X_train.columns if col not in continuous_features]\n",
    "\n",
    "action_set = ActionSet(X = X_train, default_step_size = 0.05, mutable_features = mutable_features)\n",
    "deep_pipe_explainer = DeepPipeExplainer(model, X_train.sample(100))\n",
    "model_shap = GeneralClassifier_Shap(model, outlier_detection, X_train, shap_explainer=\"custom\", threshold = 0.5, explainer = deep_pipe_explainer)\n",
    "model_shap_simple = GeneralClassifier_Shap(model, outlier_detection, X_train)"
   ]
  },
  {
   "cell_type": "markdown",
   "metadata": {},
   "source": [
    "### MAPOFCEM"
   ]
  },
  {
   "cell_type": "code",
   "execution_count": null,
   "metadata": {},
   "outputs": [],
   "source": [
    "method = MAPOFCEM(\n",
    "    action_set = action_set,\n",
    "    classifier = model_shap,\n",
    "    compare = \"percentile\",\n",
    "    max_changes = 3\n",
    ")\n",
    "\n",
    "run_experiments(\n",
    "    method,\n",
    "    individuals=individuals,\n",
    "    model=model_shap,\n",
    "    output_file=f\"../results/mlp/german/mapofcem_percentile.csv\"\n",
    ");"
   ]
  },
  {
   "cell_type": "code",
   "execution_count": null,
   "metadata": {},
   "outputs": [],
   "source": [
    "method = MAPOFCEM(\n",
    "    action_set = action_set,\n",
    "    classifier = model_shap_simple,\n",
    "    compare = \"percentile\",\n",
    "    max_changes = 3\n",
    ")\n",
    "\n",
    "run_experiments(\n",
    "    method,\n",
    "    individuals=individuals,\n",
    "    model=model_shap,\n",
    "    output_file=f\"../results/mlp/german/mapofcem_perm_percentile.csv\"\n",
    ");"
   ]
  },
  {
   "cell_type": "markdown",
   "metadata": {},
   "source": [
    "### MAPOCAM"
   ]
  },
  {
   "cell_type": "code",
   "execution_count": null,
   "metadata": {},
   "outputs": [],
   "source": [
    "model_shap.use_predict_max = False # to not use max prediction\n",
    "# little fix to action set\n",
    "action_set_ = copy.deepcopy(action_set)\n",
    "for feat in action_set_:\n",
    "    feat.flip_direction = 1\n",
    "    feat.update_grid()\n",
    "\n",
    "method = MAPOCAM(\n",
    "    action_set_,\n",
    "    model_shap,\n",
    "    criteria = \"percentile\",\n",
    "    max_changes=3\n",
    ")\n",
    "\n",
    "run_experiments(\n",
    "    method,\n",
    "    individuals=individuals,\n",
    "    model=model_shap,\n",
    "    output_file=f\"../results/mlp/german/mapocam_percentile.csv\"\n",
    ");"
   ]
  },
  {
   "cell_type": "markdown",
   "metadata": {},
   "source": [
    "### Bruteforce"
   ]
  },
  {
   "cell_type": "code",
   "execution_count": 5,
   "metadata": {},
   "outputs": [
    {
     "name": "stderr",
     "output_type": "stream",
     "text": [
      "  6%|█████████                                                                                                                                               | 3/50 [02:52<44:52, 57.29s/it]"
     ]
    }
   ],
   "source": [
    "model_shap.use_predict_max = False # to not use prediction max\n",
    "# little fix to action set\n",
    "action_set_ = copy.deepcopy(action_set)\n",
    "for feat in action_set_:\n",
    "    feat.flip_direction = 1\n",
    "    feat.update_grid()\n",
    "\n",
    "\n",
    "method = Bruteforce(\n",
    "    action_set_,\n",
    "    model_shap,\n",
    "    criteria = \"percentile\",\n",
    "    max_changes=3\n",
    ")\n",
    "\n",
    "run_experiments(\n",
    "    method,\n",
    "    individuals=individuals,\n",
    "    model=model_shap,\n",
    "    output_file=f\"../results/mlp/german/bruteforce_percentile.csv\"\n",
    ")"
   ]
  },
  {
   "cell_type": "markdown",
   "metadata": {},
   "source": [
    "### DICE"
   ]
  },
  {
   "cell_type": "code",
   "execution_count": null,
   "metadata": {},
   "outputs": [],
   "source": [
    "method = Dice(\n",
    "    X_train,\n",
    "    Y_train,\n",
    "    model_shap.clf,\n",
    "    n_cfs = 1,\n",
    "    mutable_features = mutable_features,\n",
    "    continuous_features = continuous_features,\n",
    ")\n",
    "\n",
    "run_experiments(\n",
    "    method,\n",
    "    individuals = individuals,\n",
    "    model = model_shap,\n",
    "    output_file=f\"../results/mlp/german/dice.csv\"\n",
    ");"
   ]
  },
  {
   "cell_type": "markdown",
   "metadata": {},
   "source": [
    "### NICE"
   ]
  },
  {
   "cell_type": "code",
   "execution_count": null,
   "metadata": {},
   "outputs": [],
   "source": [
    "method = Nice(\n",
    "    X_train,\n",
    "    Y_train,\n",
    "    model = model,\n",
    "    cat_features = categoric_features,\n",
    ")\n",
    "\n",
    "run_experiments(\n",
    "    method,\n",
    "    individuals = individuals,\n",
    "    model = model_shap,\n",
    "    output_file=f\"../results/mlp/german/nice.csv\"\n",
    ");"
   ]
  },
  {
   "cell_type": "markdown",
   "metadata": {},
   "source": [
    "### Results"
   ]
  },
  {
   "cell_type": "code",
   "execution_count": 8,
   "metadata": {},
   "outputs": [
    {
     "data": {
      "text/html": [
       "<div>\n",
       "<style scoped>\n",
       "    .dataframe tbody tr th:only-of-type {\n",
       "        vertical-align: middle;\n",
       "    }\n",
       "\n",
       "    .dataframe tbody tr th {\n",
       "        vertical-align: top;\n",
       "    }\n",
       "\n",
       "    .dataframe thead th {\n",
       "        text-align: right;\n",
       "    }\n",
       "</style>\n",
       "<table border=\"1\" class=\"dataframe\">\n",
       "  <thead>\n",
       "    <tr style=\"text-align: right;\">\n",
       "      <th></th>\n",
       "      <th>method</th>\n",
       "      <th>costs</th>\n",
       "      <th>n_changes</th>\n",
       "      <th>outlier</th>\n",
       "      <th>outliers_score</th>\n",
       "      <th>diversity</th>\n",
       "      <th>n_solutions</th>\n",
       "      <th>time</th>\n",
       "    </tr>\n",
       "  </thead>\n",
       "  <tbody>\n",
       "    <tr>\n",
       "      <th>0</th>\n",
       "      <td>bruteforce_percentile</td>\n",
       "      <td>0.082 (+-0.123) | 0.23</td>\n",
       "      <td>1.42 (+-0.609) | 2.55</td>\n",
       "      <td>0.24 (+-0.431) | 1.0</td>\n",
       "      <td>0.526 (+-0.047) | 0.603</td>\n",
       "      <td>0.0 (+-0.0) | 0.0</td>\n",
       "      <td>1.0 (+-0.0) | 1.0</td>\n",
       "      <td>57.597 (+-0.834) | 59.299</td>\n",
       "    </tr>\n",
       "    <tr>\n",
       "      <th>1</th>\n",
       "      <td>dice</td>\n",
       "      <td>0.46 (+-0.276) | 0.91</td>\n",
       "      <td>2.04 (+-0.727) | 2.55</td>\n",
       "      <td>0.2 (+-0.404) | 1.0</td>\n",
       "      <td>0.519 (+-0.055) | 0.605</td>\n",
       "      <td>0.0 (+-0.0) | 0.0</td>\n",
       "      <td>1.0 (+-0.0) | 1.0</td>\n",
       "      <td>0.208 (+-0.043) | 0.251</td>\n",
       "    </tr>\n",
       "    <tr>\n",
       "      <th>2</th>\n",
       "      <td>mapocam_percentile</td>\n",
       "      <td>0.082 (+-0.123) | 0.23</td>\n",
       "      <td>1.78 (+-0.815) | 3.0</td>\n",
       "      <td>0.24 (+-0.431) | 1.0</td>\n",
       "      <td>0.524 (+-0.046) | 0.596</td>\n",
       "      <td>0.0 (+-0.0) | 0.0</td>\n",
       "      <td>1.0 (+-0.0) | 1.0</td>\n",
       "      <td>1.438 (+-6.382) | 4.702</td>\n",
       "    </tr>\n",
       "    <tr>\n",
       "      <th>3</th>\n",
       "      <td>mapofcem_percentile</td>\n",
       "      <td>0.081 (+-0.085) | 0.249</td>\n",
       "      <td>1.729 (+-0.765) | 3.0</td>\n",
       "      <td>0.146 (+-0.357) | 1.0</td>\n",
       "      <td>0.514 (+-0.037) | 0.567</td>\n",
       "      <td>0.0 (+-0.0) | 0.0</td>\n",
       "      <td>0.96 (+-0.198) | 1.0</td>\n",
       "      <td>0.414 (+-0.626) | 0.985</td>\n",
       "    </tr>\n",
       "    <tr>\n",
       "      <th>4</th>\n",
       "      <td>mapofcem_perm_percentile</td>\n",
       "      <td>0.081 (+-0.085) | 0.249</td>\n",
       "      <td>1.75 (+-0.758) | 3.0</td>\n",
       "      <td>0.146 (+-0.357) | 1.0</td>\n",
       "      <td>0.514 (+-0.037) | 0.567</td>\n",
       "      <td>0.0 (+-0.0) | 0.0</td>\n",
       "      <td>0.96 (+-0.198) | 1.0</td>\n",
       "      <td>0.745 (+-1.02) | 2.081</td>\n",
       "    </tr>\n",
       "    <tr>\n",
       "      <th>5</th>\n",
       "      <td>nice</td>\n",
       "      <td>0.486 (+-0.251) | 0.868</td>\n",
       "      <td>2.1 (+-1.568) | 5.1</td>\n",
       "      <td>0.04 (+-0.198) | 0.0</td>\n",
       "      <td>0.468 (+-0.054) | 0.554</td>\n",
       "      <td>0.0 (+-0.0) | 0.0</td>\n",
       "      <td>1.0 (+-0.0) | 1.0</td>\n",
       "      <td>0.005 (+-0.003) | 0.011</td>\n",
       "    </tr>\n",
       "  </tbody>\n",
       "</table>\n",
       "</div>"
      ],
      "text/plain": [
       "                     method                    costs              n_changes  \\\n",
       "0     bruteforce_percentile   0.082 (+-0.123) | 0.23  1.42 (+-0.609) | 2.55   \n",
       "1                      dice    0.46 (+-0.276) | 0.91  2.04 (+-0.727) | 2.55   \n",
       "2        mapocam_percentile   0.082 (+-0.123) | 0.23   1.78 (+-0.815) | 3.0   \n",
       "3       mapofcem_percentile  0.081 (+-0.085) | 0.249  1.729 (+-0.765) | 3.0   \n",
       "4  mapofcem_perm_percentile  0.081 (+-0.085) | 0.249   1.75 (+-0.758) | 3.0   \n",
       "5                      nice  0.486 (+-0.251) | 0.868    2.1 (+-1.568) | 5.1   \n",
       "\n",
       "                 outlier           outliers_score          diversity  \\\n",
       "0   0.24 (+-0.431) | 1.0  0.526 (+-0.047) | 0.603  0.0 (+-0.0) | 0.0   \n",
       "1    0.2 (+-0.404) | 1.0  0.519 (+-0.055) | 0.605  0.0 (+-0.0) | 0.0   \n",
       "2   0.24 (+-0.431) | 1.0  0.524 (+-0.046) | 0.596  0.0 (+-0.0) | 0.0   \n",
       "3  0.146 (+-0.357) | 1.0  0.514 (+-0.037) | 0.567  0.0 (+-0.0) | 0.0   \n",
       "4  0.146 (+-0.357) | 1.0  0.514 (+-0.037) | 0.567  0.0 (+-0.0) | 0.0   \n",
       "5   0.04 (+-0.198) | 0.0  0.468 (+-0.054) | 0.554  0.0 (+-0.0) | 0.0   \n",
       "\n",
       "            n_solutions                       time  \n",
       "0     1.0 (+-0.0) | 1.0  57.597 (+-0.834) | 59.299  \n",
       "1     1.0 (+-0.0) | 1.0    0.208 (+-0.043) | 0.251  \n",
       "2     1.0 (+-0.0) | 1.0    1.438 (+-6.382) | 4.702  \n",
       "3  0.96 (+-0.198) | 1.0    0.414 (+-0.626) | 0.985  \n",
       "4  0.96 (+-0.198) | 1.0     0.745 (+-1.02) | 2.081  \n",
       "5     1.0 (+-0.0) | 1.0    0.005 (+-0.003) | 0.011  "
      ]
     },
     "execution_count": 8,
     "metadata": {},
     "output_type": "execute_result"
    }
   ],
   "source": [
    "dataset = \"german\"\n",
    "results = []\n",
    "for method in [\"mapofcem_percentile\", \"mapofcem_perm_percentile\", \"bruteforce_percentile\", \"mapocam_percentile\", \"dice\", \"nice\"]:\n",
    "    results_cur = pd.read_csv(f\"../results/mlp/{dataset}/{method}.csv\")\n",
    "    results_cur = summarize_results(results_cur, dataset, 0.05)\n",
    "    results_cur[\"method\"] = method\n",
    "    results.append(results_cur)\n",
    "results = pd.concat(results)\n",
    "format_df_table(results, \"method\", results.columns.tolist()[:-1])"
   ]
  },
  {
   "cell_type": "markdown",
   "metadata": {},
   "source": [
    "## Taiwan"
   ]
  },
  {
   "cell_type": "code",
   "execution_count": null,
   "metadata": {},
   "outputs": [],
   "source": [
    "X_train, Y_train, model, outlier_detection, individuals = get_data_model(\"taiwan\", \"MLPClassifier\")\n",
    "individuals = individuals.sample(n = 50, random_state=SEED)"
   ]
  },
  {
   "cell_type": "code",
   "execution_count": null,
   "metadata": {},
   "outputs": [
    {
     "name": "stderr",
     "output_type": "stream",
     "text": [
      "PermutationExplainer explainer: 1001it [00:29, 23.46it/s]                                                                                                                                                                                           \n"
     ]
    }
   ],
   "source": [
    "not_mutable_features = ['Single', 'Age_in_25_to_40', 'Married', 'Age_lt_25', 'Age_in_40_to_59', 'Age_geq_60', 'EducationLevel']\n",
    "mutable_features = [feat for feat in X_train.columns if feat not in not_mutable_features]\n",
    "continuous_features = [\"LIMIT_BAL\", \"BILL_AMT1\", \"BILL_AMT2\", \"BILL_AMT3\",\n",
    "                       \"BILL_AMT4\", \"BILL_AMT5\", \"BILL_AMT6\", \"PAY_AMT1\",\n",
    "                       \"PAY_AMT2\", \"PAY_AMT3\", \"PAY_AMT4\", \"PAY_AMT5\",\n",
    "                       \"PAY_AMT6\", \"MaxBillAmountOverLast6Months\", \"MaxPaymentAmountOverLast6Months\",\n",
    "                       \"MostRecentBillAmount\", \"MostRecentPaymentAmount\", \"MostRecentPaymentAmount\", \"TotalMonthsOverdue\",\n",
    "                       \"MonthsWithZeroBalanceOverLast6Months\", \"MonthsWithLowSpendingOverLast6Months\", \"MonthsWithHighSpendingOverLast6Months\", \"TotalOverdueCounts\"]\n",
    "categoric_features = [col for col in X_train.columns if col not in continuous_features]\n",
    "action_set = ActionSet(X = X_train, default_step_size = 0.05, mutable_features = mutable_features)\n",
    "deep_pipe_explainer = DeepPipeExplainer(model, X_train.sample(100))\n",
    "model_shap = GeneralClassifier_Shap(model, outlier_detection, X_train, shap_explainer=\"custom\", threshold = 0.5, explainer = deep_pipe_explainer)\n",
    "model_shap_simple = GeneralClassifier_Shap(model, outlier_detection, X_train)"
   ]
  },
  {
   "cell_type": "markdown",
   "metadata": {},
   "source": [
    "### MAPOFCEM"
   ]
  },
  {
   "cell_type": "code",
   "execution_count": 13,
   "metadata": {},
   "outputs": [
    {
     "name": "stderr",
     "output_type": "stream",
     "text": [
      "100%|███████████████████████████████████████████████████████████████████████████████████████████████████████████████████████████████████████████████████████████████████████████████████████████████████████████████| 50/50 [50:12<00:00, 60.25s/it]\n"
     ]
    }
   ],
   "source": [
    "method = MAPOFCEM(\n",
    "    action_set = action_set,\n",
    "    classifier = model_shap,\n",
    "    compare = \"percentile\",\n",
    "    max_changes = 3,\n",
    "    outlier_percentile = 0.01\n",
    ")\n",
    "\n",
    "run_experiments(\n",
    "    method,\n",
    "    individuals=individuals,\n",
    "    model=model_shap,\n",
    "    output_file=f\"../results/mlp/taiwan/mapofcem_percentile.csv\"\n",
    ");"
   ]
  },
  {
   "cell_type": "code",
   "execution_count": 14,
   "metadata": {},
   "outputs": [
    {
     "name": "stderr",
     "output_type": "stream",
     "text": [
      " 76%|█████████████████████████████████████████████████████████████████████████████████████████████████████████████████████████████████████████████████████████████▎                                                 | 38/50 [52:12<19:14, 96.18s/it]"
     ]
    }
   ],
   "source": [
    "method = MAPOFCEM(\n",
    "    action_set = action_set,\n",
    "    classifier = model_shap_simple,\n",
    "    compare = \"percentile\",\n",
    "    max_changes = 3,\n",
    "    outlier_percentile=0.01\n",
    ")\n",
    "\n",
    "run_experiments(\n",
    "    method,\n",
    "    individuals=individuals,\n",
    "    model=model_shap,\n",
    "    output_file=f\"../results/mlp/taiwan/mapofcem_perm_percentile.csv\"\n",
    ");"
   ]
  },
  {
   "cell_type": "markdown",
   "metadata": {},
   "source": [
    "### MAPOCAM"
   ]
  },
  {
   "cell_type": "code",
   "execution_count": null,
   "metadata": {},
   "outputs": [
    {
     "name": "stderr",
     "output_type": "stream",
     "text": [
      "  0%|                                                                                                                                   | 0/50 [00:00<?, ?it/s]"
     ]
    },
    {
     "name": "stderr",
     "output_type": "stream",
     "text": [
      "100%|██████████████████████████████████████████████████████████████████████████████████████████████████████████████████████████| 50/50 [26:51<00:00, 32.22s/it]\n"
     ]
    }
   ],
   "source": [
    "model_shap.use_predict_max = False # to not use max prediction\n",
    "# little fix to action set\n",
    "action_set_ = copy.deepcopy(action_set)\n",
    "for feat in action_set_:\n",
    "    feat.flip_direction = 1\n",
    "    feat.update_grid()\n",
    "\n",
    "method = MAPOCAM(\n",
    "    action_set_,\n",
    "    model_shap,\n",
    "    criteria = \"percentile\",\n",
    "    max_changes=3\n",
    ")\n",
    "\n",
    "run_experiments(\n",
    "    method,\n",
    "    individuals=individuals,\n",
    "    model=model_shap,\n",
    "    output_file=f\"../results/mlp/taiwan/mapocam_percentile.csv\"\n",
    ");"
   ]
  },
  {
   "cell_type": "markdown",
   "metadata": {},
   "source": [
    "### Bruteforce"
   ]
  },
  {
   "cell_type": "code",
   "execution_count": null,
   "metadata": {},
   "outputs": [],
   "source": [
    "model_shap.use_predict_max = False # to not use prediction max\n",
    "# little fix to action set\n",
    "action_set_ = copy.deepcopy(action_set)\n",
    "for feat in action_set_:\n",
    "    feat.flip_direction = 1\n",
    "    feat.step_size = 0.25\n",
    "    feat.update_grid()\n",
    "\n",
    "\n",
    "method = Bruteforce(\n",
    "    action_set_,\n",
    "    model_shap,\n",
    "    criteria = \"percentile\",\n",
    "    max_changes=3\n",
    ")\n",
    "\n",
    "run_experiments(\n",
    "    method,\n",
    "    individuals=individuals,\n",
    "    model=model_shap,\n",
    "    output_file=f\"../results/mlp/taiwan/bruteforce_percentile.csv\"\n",
    ")"
   ]
  },
  {
   "cell_type": "markdown",
   "metadata": {},
   "source": [
    "### DICE"
   ]
  },
  {
   "cell_type": "code",
   "execution_count": null,
   "metadata": {},
   "outputs": [],
   "source": [
    "method = Dice(\n",
    "    X_train,\n",
    "    Y_train,\n",
    "    model_shap.clf,\n",
    "    n_cfs = 1,\n",
    "    mutable_features = mutable_features,\n",
    "    continuous_features = continuous_features,\n",
    ")\n",
    "\n",
    "run_experiments(\n",
    "    method,\n",
    "    individuals = individuals,\n",
    "    model = model_shap,\n",
    "    output_file=f\"../results/mlp/taiwan/dice.csv\"\n",
    ")"
   ]
  },
  {
   "cell_type": "markdown",
   "metadata": {},
   "source": [
    "### NICE"
   ]
  },
  {
   "cell_type": "code",
   "execution_count": null,
   "metadata": {},
   "outputs": [],
   "source": [
    "method = Nice(\n",
    "    X_train,\n",
    "    Y_train,\n",
    "    model = model,\n",
    "    cat_features = categoric_features,\n",
    ")\n",
    "\n",
    "run_experiments(\n",
    "    method,\n",
    "    individuals = individuals,\n",
    "    model = model_shap,\n",
    "    output_file=f\"../results/mlp/taiwan/nice.csv\"\n",
    ")"
   ]
  },
  {
   "cell_type": "markdown",
   "metadata": {},
   "source": [
    "### Results"
   ]
  },
  {
   "cell_type": "code",
   "execution_count": 11,
   "metadata": {},
   "outputs": [
    {
     "data": {
      "text/html": [
       "<div>\n",
       "<style scoped>\n",
       "    .dataframe tbody tr th:only-of-type {\n",
       "        vertical-align: middle;\n",
       "    }\n",
       "\n",
       "    .dataframe tbody tr th {\n",
       "        vertical-align: top;\n",
       "    }\n",
       "\n",
       "    .dataframe thead th {\n",
       "        text-align: right;\n",
       "    }\n",
       "</style>\n",
       "<table border=\"1\" class=\"dataframe\">\n",
       "  <thead>\n",
       "    <tr style=\"text-align: right;\">\n",
       "      <th></th>\n",
       "      <th>method</th>\n",
       "      <th>costs</th>\n",
       "      <th>n_changes</th>\n",
       "      <th>outlier</th>\n",
       "      <th>outliers_score</th>\n",
       "      <th>diversity</th>\n",
       "      <th>n_solutions</th>\n",
       "      <th>time</th>\n",
       "    </tr>\n",
       "  </thead>\n",
       "  <tbody>\n",
       "    <tr>\n",
       "      <th>0</th>\n",
       "      <td>bruteforce_percentile</td>\n",
       "      <td>0.674 (+-0.24) | 0.884</td>\n",
       "      <td>2.06 (+-0.867) | 3.0</td>\n",
       "      <td>0.04 (+-0.198) | 0.0</td>\n",
       "      <td>0.462 (+-0.041) | 0.521</td>\n",
       "      <td>0.0 (+-0.0) | 0.0</td>\n",
       "      <td>1.0 (+-0.0) | 1.0</td>\n",
       "      <td>381.807 (+-32.806) | 419.816</td>\n",
       "    </tr>\n",
       "    <tr>\n",
       "      <th>1</th>\n",
       "      <td>dice</td>\n",
       "      <td>0.662 (+-0.255) | 0.931</td>\n",
       "      <td>1.48 (+-0.544) | 2.0</td>\n",
       "      <td>0.04 (+-0.198) | 0.0</td>\n",
       "      <td>0.483 (+-0.04) | 0.542</td>\n",
       "      <td>0.0 (+-0.0) | 0.0</td>\n",
       "      <td>1.0 (+-0.0) | 1.0</td>\n",
       "      <td>0.265 (+-0.183) | 0.258</td>\n",
       "    </tr>\n",
       "    <tr>\n",
       "      <th>2</th>\n",
       "      <td>mapocam_percentile</td>\n",
       "      <td>0.202 (+-0.107) | 0.409</td>\n",
       "      <td>2.96 (+-0.283) | 3.0</td>\n",
       "      <td>0.02 (+-0.141) | 0.0</td>\n",
       "      <td>0.437 (+-0.038) | 0.503</td>\n",
       "      <td>0.0 (+-0.0) | 0.0</td>\n",
       "      <td>1.0 (+-0.0) | 1.0</td>\n",
       "      <td>121.675 (+-275.435) | 525.857</td>\n",
       "    </tr>\n",
       "    <tr>\n",
       "      <th>3</th>\n",
       "      <td>mapofcem_percentile</td>\n",
       "      <td>0.204 (+-0.111) | 0.409</td>\n",
       "      <td>2.96 (+-0.283) | 3.0</td>\n",
       "      <td>0.02 (+-0.141) | 0.0</td>\n",
       "      <td>0.437 (+-0.038) | 0.503</td>\n",
       "      <td>0.0 (+-0.0) | 0.0</td>\n",
       "      <td>1.0 (+-0.0) | 1.0</td>\n",
       "      <td>60.227 (+-60.41) | 180.038</td>\n",
       "    </tr>\n",
       "    <tr>\n",
       "      <th>4</th>\n",
       "      <td>mapofcem_perm_percentile</td>\n",
       "      <td>0.2 (+-0.106) | 0.409</td>\n",
       "      <td>2.98 (+-0.141) | 3.0</td>\n",
       "      <td>0.02 (+-0.141) | 0.0</td>\n",
       "      <td>0.437 (+-0.038) | 0.503</td>\n",
       "      <td>0.0 (+-0.0) | 0.0</td>\n",
       "      <td>1.0 (+-0.0) | 1.0</td>\n",
       "      <td>73.722 (+-63.901) | 180.108</td>\n",
       "    </tr>\n",
       "    <tr>\n",
       "      <th>5</th>\n",
       "      <td>nice</td>\n",
       "      <td>0.51 (+-0.24) | 0.848</td>\n",
       "      <td>5.48 (+-3.052) | 10.0</td>\n",
       "      <td>0.0 (+-0.0) | 0.0</td>\n",
       "      <td>0.441 (+-0.036) | 0.494</td>\n",
       "      <td>0.0 (+-0.0) | 0.0</td>\n",
       "      <td>1.0 (+-0.0) | 1.0</td>\n",
       "      <td>0.019 (+-0.005) | 0.028</td>\n",
       "    </tr>\n",
       "  </tbody>\n",
       "</table>\n",
       "</div>"
      ],
      "text/plain": [
       "                     method                    costs              n_changes  \\\n",
       "0     bruteforce_percentile   0.674 (+-0.24) | 0.884   2.06 (+-0.867) | 3.0   \n",
       "1                      dice  0.662 (+-0.255) | 0.931   1.48 (+-0.544) | 2.0   \n",
       "2        mapocam_percentile  0.202 (+-0.107) | 0.409   2.96 (+-0.283) | 3.0   \n",
       "3       mapofcem_percentile  0.204 (+-0.111) | 0.409   2.96 (+-0.283) | 3.0   \n",
       "4  mapofcem_perm_percentile    0.2 (+-0.106) | 0.409   2.98 (+-0.141) | 3.0   \n",
       "5                      nice    0.51 (+-0.24) | 0.848  5.48 (+-3.052) | 10.0   \n",
       "\n",
       "                outlier           outliers_score          diversity  \\\n",
       "0  0.04 (+-0.198) | 0.0  0.462 (+-0.041) | 0.521  0.0 (+-0.0) | 0.0   \n",
       "1  0.04 (+-0.198) | 0.0   0.483 (+-0.04) | 0.542  0.0 (+-0.0) | 0.0   \n",
       "2  0.02 (+-0.141) | 0.0  0.437 (+-0.038) | 0.503  0.0 (+-0.0) | 0.0   \n",
       "3  0.02 (+-0.141) | 0.0  0.437 (+-0.038) | 0.503  0.0 (+-0.0) | 0.0   \n",
       "4  0.02 (+-0.141) | 0.0  0.437 (+-0.038) | 0.503  0.0 (+-0.0) | 0.0   \n",
       "5     0.0 (+-0.0) | 0.0  0.441 (+-0.036) | 0.494  0.0 (+-0.0) | 0.0   \n",
       "\n",
       "         n_solutions                           time  \n",
       "0  1.0 (+-0.0) | 1.0   381.807 (+-32.806) | 419.816  \n",
       "1  1.0 (+-0.0) | 1.0        0.265 (+-0.183) | 0.258  \n",
       "2  1.0 (+-0.0) | 1.0  121.675 (+-275.435) | 525.857  \n",
       "3  1.0 (+-0.0) | 1.0     60.227 (+-60.41) | 180.038  \n",
       "4  1.0 (+-0.0) | 1.0    73.722 (+-63.901) | 180.108  \n",
       "5  1.0 (+-0.0) | 1.0        0.019 (+-0.005) | 0.028  "
      ]
     },
     "execution_count": 11,
     "metadata": {},
     "output_type": "execute_result"
    }
   ],
   "source": [
    "dataset = \"taiwan\"\n",
    "results = []\n",
    "for method in [\"mapofcem_percentile\", \"mapofcem_perm_percentile\", \"bruteforce_percentile\", \"mapocam_percentile\", \"dice\", \"nice\"]:\n",
    "    results_cur = pd.read_csv(f\"../results/mlp/{dataset}/{method}.csv\")\n",
    "    results_cur = summarize_results(results_cur, dataset, 0.05)\n",
    "    results_cur[\"method\"] = method\n",
    "    results.append(results_cur)\n",
    "results = pd.concat(results)\n",
    "format_df_table(results, \"method\", results.columns.tolist()[:-1])"
   ]
  }
 ],
 "metadata": {
  "kernelspec": {
   "display_name": "Python 3 (ipykernel)",
   "language": "python",
   "name": "python3"
  }
 },
 "nbformat": 4,
 "nbformat_minor": 2
}
